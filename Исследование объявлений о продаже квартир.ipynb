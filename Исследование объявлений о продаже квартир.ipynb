{
 "cells": [
  {
   "cell_type": "markdown",
   "metadata": {
    "toc": true
   },
   "source": [
    "<h1>Содержание<span class=\"tocSkip\"></span></h1>\n",
    "<div class=\"toc\"><ul class=\"toc-item\"><li><span><a href=\"#Изучение-данных-из-файла\" data-toc-modified-id=\"Изучение-данных-из-файла-1\"><span class=\"toc-item-num\">1&nbsp;&nbsp;</span>Изучение данных из файла</a></span><ul class=\"toc-item\"><li><span><a href=\"#Вывод\" data-toc-modified-id=\"Вывод-1.1\"><span class=\"toc-item-num\">1.1&nbsp;&nbsp;</span>Вывод</a></span></li></ul></li><li><span><a href=\"#Предобработка-данных\" data-toc-modified-id=\"Предобработка-данных-2\"><span class=\"toc-item-num\">2&nbsp;&nbsp;</span>Предобработка данных</a></span><ul class=\"toc-item\"><li><span><a href=\"#Вывод\" data-toc-modified-id=\"Вывод-2.1\"><span class=\"toc-item-num\">2.1&nbsp;&nbsp;</span>Вывод</a></span></li></ul></li><li><span><a href=\"#Расчёты-и-добавление-результатов-в-таблицу\" data-toc-modified-id=\"Расчёты-и-добавление-результатов-в-таблицу-3\"><span class=\"toc-item-num\">3&nbsp;&nbsp;</span>Расчёты и добавление результатов в таблицу</a></span><ul class=\"toc-item\"><li><span><a href=\"#Добавление-столбца-с-ценой-квадратного-метра\" data-toc-modified-id=\"Добавление-столбца-с-ценой-квадратного-метра-3.1\"><span class=\"toc-item-num\">3.1&nbsp;&nbsp;</span>Добавление столбца с ценой квадратного метра</a></span></li><li><span><a href=\"#Добавление-столбцов-с-днем-недели,-месяцем-и-годом-публикации-объявления\" data-toc-modified-id=\"Добавление-столбцов-с-днем-недели,-месяцем-и-годом-публикации-объявления-3.2\"><span class=\"toc-item-num\">3.2&nbsp;&nbsp;</span>Добавление столбцов с днем недели, месяцем и годом публикации объявления</a></span></li><li><span><a href=\"#Добавление-столбцов-с-этажом-квартиры\" data-toc-modified-id=\"Добавление-столбцов-с-этажом-квартиры-3.3\"><span class=\"toc-item-num\">3.3&nbsp;&nbsp;</span>Добавление столбцов с этажом квартиры</a></span></li><li><span><a href=\"#Добавление-столбцов-с-соотношением-жилой-и-общей-площади,-а-также-отношением-площади-кухни-к-общей\" data-toc-modified-id=\"Добавление-столбцов-с-соотношением-жилой-и-общей-площади,-а-также-отношением-площади-кухни-к-общей-3.4\"><span class=\"toc-item-num\">3.4&nbsp;&nbsp;</span>Добавление столбцов с соотношением жилой и общей площади, а также отношением площади кухни к общей</a></span></li><li><span><a href=\"#Вывод\" data-toc-modified-id=\"Вывод-3.5\"><span class=\"toc-item-num\">3.5&nbsp;&nbsp;</span>Вывод</a></span></li></ul></li><li><span><a href=\"#Исследовательский-анализ-данных\" data-toc-modified-id=\"Исследовательский-анализ-данных-4\"><span class=\"toc-item-num\">4&nbsp;&nbsp;</span>Исследовательский анализ данных</a></span><ul class=\"toc-item\"><li><span><a href=\"#Построение-гистограмм-по-площади,-цене,-числу-комнат,-высоте-потолков.\" data-toc-modified-id=\"Построение-гистограмм-по-площади,-цене,-числу-комнат,-высоте-потолков.-4.1\"><span class=\"toc-item-num\">4.1&nbsp;&nbsp;</span>Построение гистограмм по площади, цене, числу комнат, высоте потолков.</a></span></li><li><span><a href=\"#Изучение-времени-продажи-квартиры\" data-toc-modified-id=\"Изучение-времени-продажи-квартиры-4.2\"><span class=\"toc-item-num\">4.2&nbsp;&nbsp;</span>Изучение времени продажи квартиры</a></span></li><li><span><a href=\"#Отбраковка-редких-и-выбивающихся-значений\" data-toc-modified-id=\"Отбраковка-редких-и-выбивающихся-значений-4.3\"><span class=\"toc-item-num\">4.3&nbsp;&nbsp;</span>Отбраковка редких и выбивающихся значений</a></span></li><li><span><a href=\"#Какие-факторы-больше-всего-влияют-на-стоимость-квартиры\" data-toc-modified-id=\"Какие-факторы-больше-всего-влияют-на-стоимость-квартиры-4.4\"><span class=\"toc-item-num\">4.4&nbsp;&nbsp;</span>Какие факторы больше всего влияют на стоимость квартиры</a></span></li><li><span><a href=\"#Найдём-населенные-пункты-с-самой-высокой-и-самой-низкой-стоимостью-жилья\" data-toc-modified-id=\"Найдём-населенные-пункты-с-самой-высокой-и-самой-низкой-стоимостью-жилья-4.5\"><span class=\"toc-item-num\">4.5&nbsp;&nbsp;</span>Найдём населенные пункты с самой высокой и самой низкой стоимостью жилья</a></span></li><li><span><a href=\"#Выясним,-какая-область-является-центром-города\" data-toc-modified-id=\"Выясним,-какая-область-является-центром-города-4.6\"><span class=\"toc-item-num\">4.6&nbsp;&nbsp;</span>Выясним, какая область является центром города</a></span></li><li><span><a href=\"#Сравнение-выводов-по-квартирам-в-центре-и-общих-выводов-по-всему-городу\" data-toc-modified-id=\"Сравнение-выводов-по-квартирам-в-центре-и-общих-выводов-по-всему-городу-4.7\"><span class=\"toc-item-num\">4.7&nbsp;&nbsp;</span>Сравнение выводов по квартирам в центре и общих выводов по всему городу</a></span></li><li><span><a href=\"#Вывод\" data-toc-modified-id=\"Вывод-4.8\"><span class=\"toc-item-num\">4.8&nbsp;&nbsp;</span>Вывод</a></span></li></ul></li><li><span><a href=\"#Общий-вывод\" data-toc-modified-id=\"Общий-вывод-5\"><span class=\"toc-item-num\">5&nbsp;&nbsp;</span>Общий вывод</a></span></li></ul></div>"
   ]
  },
  {
   "cell_type": "markdown",
   "metadata": {},
   "source": [
    "# Исследование объявлений о продаже квартир\n",
    "\n",
    "Есть данные сервиса Яндекc Недвижимость — архив объявлений о продаже квартир в Санкт-Петербурге и соседних населённых пунктах за несколько лет. \n",
    "\n",
    "По каждой квартире на продажу доступны два вида данных. Первые вписаны пользователем, вторые получены автоматически на основе картографических данных. Например, расстояние до центра, аэропорта, ближайшего парка и водоёма. "
   ]
  },
  {
   "cell_type": "markdown",
   "metadata": {},
   "source": [
    "**Цель исследования** : \n",
    "Выяснить, как различные параметры влияют на стоимость недвижимости в Санкт-Петербурги и Лен области. Это позволит построить автоматизированную систему: она отследит аномалии и мошенническую деятельность. \n",
    "\n",
    "\n",
    "**Ход исследования**\n",
    "\n",
    "Данные о квартирах хранятся в следующем файле: `real_estate_data.csv`. О качестве данных ничего не известно. Поэтому перед проверкой гипотез понадобится обзор данных и устранение проблем (пропусков, ошибок, дубликатов), если такие имеются .\n",
    "\n",
    "\n",
    "Таким образом, исследование пройдёт в три этапа:\n",
    " 1. Обзор данных.\n",
    " 2. Предобработка данных.\n",
    " 3. Исследовательский анализ данных.\n"
   ]
  },
  {
   "cell_type": "markdown",
   "metadata": {},
   "source": [
    "## Изучение данных из файла"
   ]
  },
  {
   "cell_type": "code",
   "execution_count": 1,
   "metadata": {},
   "outputs": [],
   "source": [
    "import pandas as pd #импорт библиотеки pandas\n",
    "import seaborn as sns #импорт библиотеки seaborn\n",
    "import matplotlib.pyplot as plt #импорт библиотеки matplotlib\n",
    "\n",
    "\n",
    "from io import BytesIO\n",
    "import requests"
   ]
  },
  {
   "cell_type": "code",
   "execution_count": 2,
   "metadata": {},
   "outputs": [
    {
     "data": {
      "text/html": [
       "<div>\n",
       "<style scoped>\n",
       "    .dataframe tbody tr th:only-of-type {\n",
       "        vertical-align: middle;\n",
       "    }\n",
       "\n",
       "    .dataframe tbody tr th {\n",
       "        vertical-align: top;\n",
       "    }\n",
       "\n",
       "    .dataframe thead th {\n",
       "        text-align: right;\n",
       "    }\n",
       "</style>\n",
       "<table border=\"1\" class=\"dataframe\">\n",
       "  <thead>\n",
       "    <tr style=\"text-align: right;\">\n",
       "      <th></th>\n",
       "      <th>total_images</th>\n",
       "      <th>last_price</th>\n",
       "      <th>total_area</th>\n",
       "      <th>first_day_exposition</th>\n",
       "      <th>rooms</th>\n",
       "      <th>ceiling_height</th>\n",
       "      <th>floors_total</th>\n",
       "      <th>living_area</th>\n",
       "      <th>floor</th>\n",
       "      <th>is_apartment</th>\n",
       "      <th>studio</th>\n",
       "      <th>open_plan</th>\n",
       "      <th>kitchen_area</th>\n",
       "      <th>balcony</th>\n",
       "      <th>locality_name</th>\n",
       "      <th>airports_nearest</th>\n",
       "      <th>cityCenters_nearest</th>\n",
       "      <th>parks_around3000</th>\n",
       "      <th>parks_nearest</th>\n",
       "      <th>ponds_around3000</th>\n",
       "      <th>ponds_nearest</th>\n",
       "      <th>days_exposition</th>\n",
       "    </tr>\n",
       "  </thead>\n",
       "  <tbody>\n",
       "    <tr>\n",
       "      <th>0</th>\n",
       "      <td>20</td>\n",
       "      <td>13000000.0</td>\n",
       "      <td>108.00</td>\n",
       "      <td>2019-03-07T00:00:00</td>\n",
       "      <td>3</td>\n",
       "      <td>2.70</td>\n",
       "      <td>16.0</td>\n",
       "      <td>51.0</td>\n",
       "      <td>8</td>\n",
       "      <td>NaN</td>\n",
       "      <td>False</td>\n",
       "      <td>False</td>\n",
       "      <td>25.00</td>\n",
       "      <td>NaN</td>\n",
       "      <td>Санкт-Петербург</td>\n",
       "      <td>18863.0</td>\n",
       "      <td>16028.0</td>\n",
       "      <td>1.0</td>\n",
       "      <td>482.0</td>\n",
       "      <td>2.0</td>\n",
       "      <td>755.0</td>\n",
       "      <td>NaN</td>\n",
       "    </tr>\n",
       "    <tr>\n",
       "      <th>1</th>\n",
       "      <td>7</td>\n",
       "      <td>3350000.0</td>\n",
       "      <td>40.40</td>\n",
       "      <td>2018-12-04T00:00:00</td>\n",
       "      <td>1</td>\n",
       "      <td>NaN</td>\n",
       "      <td>11.0</td>\n",
       "      <td>18.6</td>\n",
       "      <td>1</td>\n",
       "      <td>NaN</td>\n",
       "      <td>False</td>\n",
       "      <td>False</td>\n",
       "      <td>11.00</td>\n",
       "      <td>2.0</td>\n",
       "      <td>посёлок Шушары</td>\n",
       "      <td>12817.0</td>\n",
       "      <td>18603.0</td>\n",
       "      <td>0.0</td>\n",
       "      <td>NaN</td>\n",
       "      <td>0.0</td>\n",
       "      <td>NaN</td>\n",
       "      <td>81.0</td>\n",
       "    </tr>\n",
       "    <tr>\n",
       "      <th>2</th>\n",
       "      <td>10</td>\n",
       "      <td>5196000.0</td>\n",
       "      <td>56.00</td>\n",
       "      <td>2015-08-20T00:00:00</td>\n",
       "      <td>2</td>\n",
       "      <td>NaN</td>\n",
       "      <td>5.0</td>\n",
       "      <td>34.3</td>\n",
       "      <td>4</td>\n",
       "      <td>NaN</td>\n",
       "      <td>False</td>\n",
       "      <td>False</td>\n",
       "      <td>8.30</td>\n",
       "      <td>0.0</td>\n",
       "      <td>Санкт-Петербург</td>\n",
       "      <td>21741.0</td>\n",
       "      <td>13933.0</td>\n",
       "      <td>1.0</td>\n",
       "      <td>90.0</td>\n",
       "      <td>2.0</td>\n",
       "      <td>574.0</td>\n",
       "      <td>558.0</td>\n",
       "    </tr>\n",
       "    <tr>\n",
       "      <th>3</th>\n",
       "      <td>0</td>\n",
       "      <td>64900000.0</td>\n",
       "      <td>159.00</td>\n",
       "      <td>2015-07-24T00:00:00</td>\n",
       "      <td>3</td>\n",
       "      <td>NaN</td>\n",
       "      <td>14.0</td>\n",
       "      <td>NaN</td>\n",
       "      <td>9</td>\n",
       "      <td>NaN</td>\n",
       "      <td>False</td>\n",
       "      <td>False</td>\n",
       "      <td>NaN</td>\n",
       "      <td>0.0</td>\n",
       "      <td>Санкт-Петербург</td>\n",
       "      <td>28098.0</td>\n",
       "      <td>6800.0</td>\n",
       "      <td>2.0</td>\n",
       "      <td>84.0</td>\n",
       "      <td>3.0</td>\n",
       "      <td>234.0</td>\n",
       "      <td>424.0</td>\n",
       "    </tr>\n",
       "    <tr>\n",
       "      <th>4</th>\n",
       "      <td>2</td>\n",
       "      <td>10000000.0</td>\n",
       "      <td>100.00</td>\n",
       "      <td>2018-06-19T00:00:00</td>\n",
       "      <td>2</td>\n",
       "      <td>3.03</td>\n",
       "      <td>14.0</td>\n",
       "      <td>32.0</td>\n",
       "      <td>13</td>\n",
       "      <td>NaN</td>\n",
       "      <td>False</td>\n",
       "      <td>False</td>\n",
       "      <td>41.00</td>\n",
       "      <td>NaN</td>\n",
       "      <td>Санкт-Петербург</td>\n",
       "      <td>31856.0</td>\n",
       "      <td>8098.0</td>\n",
       "      <td>2.0</td>\n",
       "      <td>112.0</td>\n",
       "      <td>1.0</td>\n",
       "      <td>48.0</td>\n",
       "      <td>121.0</td>\n",
       "    </tr>\n",
       "    <tr>\n",
       "      <th>...</th>\n",
       "      <td>...</td>\n",
       "      <td>...</td>\n",
       "      <td>...</td>\n",
       "      <td>...</td>\n",
       "      <td>...</td>\n",
       "      <td>...</td>\n",
       "      <td>...</td>\n",
       "      <td>...</td>\n",
       "      <td>...</td>\n",
       "      <td>...</td>\n",
       "      <td>...</td>\n",
       "      <td>...</td>\n",
       "      <td>...</td>\n",
       "      <td>...</td>\n",
       "      <td>...</td>\n",
       "      <td>...</td>\n",
       "      <td>...</td>\n",
       "      <td>...</td>\n",
       "      <td>...</td>\n",
       "      <td>...</td>\n",
       "      <td>...</td>\n",
       "      <td>...</td>\n",
       "    </tr>\n",
       "    <tr>\n",
       "      <th>23694</th>\n",
       "      <td>9</td>\n",
       "      <td>9700000.0</td>\n",
       "      <td>133.81</td>\n",
       "      <td>2017-03-21T00:00:00</td>\n",
       "      <td>3</td>\n",
       "      <td>3.70</td>\n",
       "      <td>5.0</td>\n",
       "      <td>73.3</td>\n",
       "      <td>3</td>\n",
       "      <td>NaN</td>\n",
       "      <td>False</td>\n",
       "      <td>False</td>\n",
       "      <td>13.83</td>\n",
       "      <td>NaN</td>\n",
       "      <td>Санкт-Петербург</td>\n",
       "      <td>24665.0</td>\n",
       "      <td>4232.0</td>\n",
       "      <td>1.0</td>\n",
       "      <td>796.0</td>\n",
       "      <td>3.0</td>\n",
       "      <td>381.0</td>\n",
       "      <td>NaN</td>\n",
       "    </tr>\n",
       "    <tr>\n",
       "      <th>23695</th>\n",
       "      <td>14</td>\n",
       "      <td>3100000.0</td>\n",
       "      <td>59.00</td>\n",
       "      <td>2018-01-15T00:00:00</td>\n",
       "      <td>3</td>\n",
       "      <td>NaN</td>\n",
       "      <td>5.0</td>\n",
       "      <td>38.0</td>\n",
       "      <td>4</td>\n",
       "      <td>NaN</td>\n",
       "      <td>False</td>\n",
       "      <td>False</td>\n",
       "      <td>8.50</td>\n",
       "      <td>NaN</td>\n",
       "      <td>Тосно</td>\n",
       "      <td>NaN</td>\n",
       "      <td>NaN</td>\n",
       "      <td>NaN</td>\n",
       "      <td>NaN</td>\n",
       "      <td>NaN</td>\n",
       "      <td>NaN</td>\n",
       "      <td>45.0</td>\n",
       "    </tr>\n",
       "    <tr>\n",
       "      <th>23696</th>\n",
       "      <td>18</td>\n",
       "      <td>2500000.0</td>\n",
       "      <td>56.70</td>\n",
       "      <td>2018-02-11T00:00:00</td>\n",
       "      <td>2</td>\n",
       "      <td>NaN</td>\n",
       "      <td>3.0</td>\n",
       "      <td>29.7</td>\n",
       "      <td>1</td>\n",
       "      <td>NaN</td>\n",
       "      <td>False</td>\n",
       "      <td>False</td>\n",
       "      <td>NaN</td>\n",
       "      <td>NaN</td>\n",
       "      <td>село Рождествено</td>\n",
       "      <td>NaN</td>\n",
       "      <td>NaN</td>\n",
       "      <td>NaN</td>\n",
       "      <td>NaN</td>\n",
       "      <td>NaN</td>\n",
       "      <td>NaN</td>\n",
       "      <td>NaN</td>\n",
       "    </tr>\n",
       "    <tr>\n",
       "      <th>23697</th>\n",
       "      <td>13</td>\n",
       "      <td>11475000.0</td>\n",
       "      <td>76.75</td>\n",
       "      <td>2017-03-28T00:00:00</td>\n",
       "      <td>2</td>\n",
       "      <td>3.00</td>\n",
       "      <td>17.0</td>\n",
       "      <td>NaN</td>\n",
       "      <td>12</td>\n",
       "      <td>NaN</td>\n",
       "      <td>False</td>\n",
       "      <td>False</td>\n",
       "      <td>23.30</td>\n",
       "      <td>2.0</td>\n",
       "      <td>Санкт-Петербург</td>\n",
       "      <td>39140.0</td>\n",
       "      <td>10364.0</td>\n",
       "      <td>2.0</td>\n",
       "      <td>173.0</td>\n",
       "      <td>3.0</td>\n",
       "      <td>196.0</td>\n",
       "      <td>602.0</td>\n",
       "    </tr>\n",
       "    <tr>\n",
       "      <th>23698</th>\n",
       "      <td>4</td>\n",
       "      <td>1350000.0</td>\n",
       "      <td>32.30</td>\n",
       "      <td>2017-07-21T00:00:00</td>\n",
       "      <td>1</td>\n",
       "      <td>2.50</td>\n",
       "      <td>5.0</td>\n",
       "      <td>12.3</td>\n",
       "      <td>1</td>\n",
       "      <td>NaN</td>\n",
       "      <td>False</td>\n",
       "      <td>False</td>\n",
       "      <td>9.00</td>\n",
       "      <td>NaN</td>\n",
       "      <td>поселок Новый Учхоз</td>\n",
       "      <td>NaN</td>\n",
       "      <td>NaN</td>\n",
       "      <td>NaN</td>\n",
       "      <td>NaN</td>\n",
       "      <td>NaN</td>\n",
       "      <td>NaN</td>\n",
       "      <td>NaN</td>\n",
       "    </tr>\n",
       "  </tbody>\n",
       "</table>\n",
       "<p>23699 rows × 22 columns</p>\n",
       "</div>"
      ],
      "text/plain": [
       "       total_images  last_price  total_area first_day_exposition  rooms  \\\n",
       "0                20  13000000.0      108.00  2019-03-07T00:00:00      3   \n",
       "1                 7   3350000.0       40.40  2018-12-04T00:00:00      1   \n",
       "2                10   5196000.0       56.00  2015-08-20T00:00:00      2   \n",
       "3                 0  64900000.0      159.00  2015-07-24T00:00:00      3   \n",
       "4                 2  10000000.0      100.00  2018-06-19T00:00:00      2   \n",
       "...             ...         ...         ...                  ...    ...   \n",
       "23694             9   9700000.0      133.81  2017-03-21T00:00:00      3   \n",
       "23695            14   3100000.0       59.00  2018-01-15T00:00:00      3   \n",
       "23696            18   2500000.0       56.70  2018-02-11T00:00:00      2   \n",
       "23697            13  11475000.0       76.75  2017-03-28T00:00:00      2   \n",
       "23698             4   1350000.0       32.30  2017-07-21T00:00:00      1   \n",
       "\n",
       "       ceiling_height  floors_total  living_area  floor is_apartment  studio  \\\n",
       "0                2.70          16.0         51.0      8          NaN   False   \n",
       "1                 NaN          11.0         18.6      1          NaN   False   \n",
       "2                 NaN           5.0         34.3      4          NaN   False   \n",
       "3                 NaN          14.0          NaN      9          NaN   False   \n",
       "4                3.03          14.0         32.0     13          NaN   False   \n",
       "...               ...           ...          ...    ...          ...     ...   \n",
       "23694            3.70           5.0         73.3      3          NaN   False   \n",
       "23695             NaN           5.0         38.0      4          NaN   False   \n",
       "23696             NaN           3.0         29.7      1          NaN   False   \n",
       "23697            3.00          17.0          NaN     12          NaN   False   \n",
       "23698            2.50           5.0         12.3      1          NaN   False   \n",
       "\n",
       "       open_plan  kitchen_area  balcony        locality_name  \\\n",
       "0          False         25.00      NaN      Санкт-Петербург   \n",
       "1          False         11.00      2.0       посёлок Шушары   \n",
       "2          False          8.30      0.0      Санкт-Петербург   \n",
       "3          False           NaN      0.0      Санкт-Петербург   \n",
       "4          False         41.00      NaN      Санкт-Петербург   \n",
       "...          ...           ...      ...                  ...   \n",
       "23694      False         13.83      NaN      Санкт-Петербург   \n",
       "23695      False          8.50      NaN                Тосно   \n",
       "23696      False           NaN      NaN     село Рождествено   \n",
       "23697      False         23.30      2.0      Санкт-Петербург   \n",
       "23698      False          9.00      NaN  поселок Новый Учхоз   \n",
       "\n",
       "       airports_nearest  cityCenters_nearest  parks_around3000  parks_nearest  \\\n",
       "0               18863.0              16028.0               1.0          482.0   \n",
       "1               12817.0              18603.0               0.0            NaN   \n",
       "2               21741.0              13933.0               1.0           90.0   \n",
       "3               28098.0               6800.0               2.0           84.0   \n",
       "4               31856.0               8098.0               2.0          112.0   \n",
       "...                 ...                  ...               ...            ...   \n",
       "23694           24665.0               4232.0               1.0          796.0   \n",
       "23695               NaN                  NaN               NaN            NaN   \n",
       "23696               NaN                  NaN               NaN            NaN   \n",
       "23697           39140.0              10364.0               2.0          173.0   \n",
       "23698               NaN                  NaN               NaN            NaN   \n",
       "\n",
       "       ponds_around3000  ponds_nearest  days_exposition  \n",
       "0                   2.0          755.0              NaN  \n",
       "1                   0.0            NaN             81.0  \n",
       "2                   2.0          574.0            558.0  \n",
       "3                   3.0          234.0            424.0  \n",
       "4                   1.0           48.0            121.0  \n",
       "...                 ...            ...              ...  \n",
       "23694               3.0          381.0              NaN  \n",
       "23695               NaN            NaN             45.0  \n",
       "23696               NaN            NaN              NaN  \n",
       "23697               3.0          196.0            602.0  \n",
       "23698               NaN            NaN              NaN  \n",
       "\n",
       "[23699 rows x 22 columns]"
      ]
     },
     "execution_count": 2,
     "metadata": {},
     "output_type": "execute_result"
    }
   ],
   "source": [
    "#встраиваю сторонний файл с данными в проект\n",
    "spreadsheet_id = '1NT7ASTOjTOLGas6a78VklCcppKp4YWNmKbjbfTXAbg0'\n",
    "file_name = 'https://docs.google.com/spreadsheets/d/{}/export?format=csv'.format(spreadsheet_id)\n",
    "r = requests.get(file_name)\n",
    "df = pd.read_csv(BytesIO(r.content))\n",
    "pd.set_option('display.max_columns', None)\n",
    "df"
   ]
  },
  {
   "cell_type": "markdown",
   "metadata": {},
   "source": [
    "В каждой строке таблицы — данные об объекте недвижимости:\n",
    "* расстояние до ближайшего аэропорта в метрах (м)<br>\n",
    "* число балконов<br>\n",
    "* высота потолков (м)<br>\n",
    "* расстояние до центра города (м)<br>\n",
    "* сколько дней было размещено объявление (от публикации до снятия)<br>\n",
    "* дата публикации<br>\n",
    "* этаж<br>\n",
    "* всего этажей в доме<br>\n",
    "* апартаменты (булев тип)<br>\n",
    "* площадь кухни в квадратных метрах (м²)<br>\n",
    "* цена на момент снятия с публикации<br>\n",
    "* жилая площадь в квадратных метрах (м²)<br>\n",
    "* название населённого пункта<br>\n",
    "* свободная планировка <br>\n",
    "* число парков в радиусе 3 км<br>\n",
    "* расстояние до ближайшего парка (м)<br>\n",
    "* число водоёмов в радиусе 3 км<br>\n",
    "* расстояние до ближайшего водоёма (м)<br>\n",
    "* число комнат<br>\n",
    "* квартира-студия (булев тип)<br>\n",
    "* площадь квартиры в квадратных метрах (м²)<br>\n",
    "* число фотографий квартиры в объявлении<br>"
   ]
  },
  {
   "cell_type": "code",
   "execution_count": 3,
   "metadata": {},
   "outputs": [
    {
     "data": {
      "text/plain": [
       "(23699, 22)"
      ]
     },
     "execution_count": 3,
     "metadata": {},
     "output_type": "execute_result"
    }
   ],
   "source": [
    "#смотрим на размер данных\n",
    "df.shape"
   ]
  },
  {
   "cell_type": "markdown",
   "metadata": {},
   "source": [
    "В датафрейме 23699 строк и 22 столбца"
   ]
  },
  {
   "cell_type": "code",
   "execution_count": 4,
   "metadata": {},
   "outputs": [
    {
     "name": "stdout",
     "output_type": "stream",
     "text": [
      "<class 'pandas.core.frame.DataFrame'>\n",
      "RangeIndex: 23699 entries, 0 to 23698\n",
      "Data columns (total 22 columns):\n",
      " #   Column                Non-Null Count  Dtype  \n",
      "---  ------                --------------  -----  \n",
      " 0   total_images          23699 non-null  int64  \n",
      " 1   last_price            23699 non-null  float64\n",
      " 2   total_area            23699 non-null  float64\n",
      " 3   first_day_exposition  23699 non-null  object \n",
      " 4   rooms                 23699 non-null  int64  \n",
      " 5   ceiling_height        14504 non-null  float64\n",
      " 6   floors_total          23613 non-null  float64\n",
      " 7   living_area           21796 non-null  float64\n",
      " 8   floor                 23699 non-null  int64  \n",
      " 9   is_apartment          2775 non-null   object \n",
      " 10  studio                23699 non-null  bool   \n",
      " 11  open_plan             23699 non-null  bool   \n",
      " 12  kitchen_area          21421 non-null  float64\n",
      " 13  balcony               12180 non-null  float64\n",
      " 14  locality_name         23650 non-null  object \n",
      " 15  airports_nearest      18157 non-null  float64\n",
      " 16  cityCenters_nearest   18180 non-null  float64\n",
      " 17  parks_around3000      18181 non-null  float64\n",
      " 18  parks_nearest         8079 non-null   float64\n",
      " 19  ponds_around3000      18181 non-null  float64\n",
      " 20  ponds_nearest         9110 non-null   float64\n",
      " 21  days_exposition       20518 non-null  float64\n",
      "dtypes: bool(2), float64(14), int64(3), object(3)\n",
      "memory usage: 3.7+ MB\n"
     ]
    }
   ],
   "source": [
    "#смотрю на общую информацию по датафрейму\n",
    "df.info()"
   ]
  },
  {
   "cell_type": "code",
   "execution_count": 5,
   "metadata": {},
   "outputs": [],
   "source": [
    "#запишем в переменную количество строк в датафрейме.Это понадобится позже\n",
    "amount_of_data_initial = len(df)"
   ]
  },
  {
   "cell_type": "markdown",
   "metadata": {},
   "source": [
    "В колонках `ceiling_height` , `floors_total`, `living_area`,   `is_apartment`, `kitchen_area`, `balcony`, `locality_name`, `airports_nearest`,  `cityCenters_nearest`, `parks_around3000`, `parks_nearest`,  `ponds_around3000`, `ponds_neares` и `days_exposition` есть пропуски. С ними нужно будет поработать"
   ]
  },
  {
   "cell_type": "markdown",
   "metadata": {},
   "source": [
    "Узнаю долю пропущенных значений в датафрейме"
   ]
  },
  {
   "cell_type": "code",
   "execution_count": 6,
   "metadata": {},
   "outputs": [
    {
     "data": {
      "text/plain": [
       "total_images            0.000000\n",
       "open_plan               0.000000\n",
       "floor                   0.000000\n",
       "rooms                   0.000000\n",
       "studio                  0.000000\n",
       "total_area              0.000000\n",
       "last_price              0.000000\n",
       "first_day_exposition    0.000000\n",
       "locality_name           0.002068\n",
       "floors_total            0.003629\n",
       "living_area             0.080299\n",
       "kitchen_area            0.096122\n",
       "days_exposition         0.134225\n",
       "ponds_around3000        0.232837\n",
       "parks_around3000        0.232837\n",
       "cityCenters_nearest     0.232879\n",
       "airports_nearest        0.233850\n",
       "ceiling_height          0.387991\n",
       "balcony                 0.486054\n",
       "ponds_nearest           0.615596\n",
       "parks_nearest           0.659100\n",
       "is_apartment            0.882906\n",
       "dtype: float64"
      ]
     },
     "execution_count": 6,
     "metadata": {},
     "output_type": "execute_result"
    }
   ],
   "source": [
    "df.isna().mean().sort_values()"
   ]
  },
  {
   "cell_type": "code",
   "execution_count": 7,
   "metadata": {},
   "outputs": [
    {
     "data": {
      "text/html": [
       "<div>\n",
       "<style scoped>\n",
       "    .dataframe tbody tr th:only-of-type {\n",
       "        vertical-align: middle;\n",
       "    }\n",
       "\n",
       "    .dataframe tbody tr th {\n",
       "        vertical-align: top;\n",
       "    }\n",
       "\n",
       "    .dataframe thead th {\n",
       "        text-align: right;\n",
       "    }\n",
       "</style>\n",
       "<table border=\"1\" class=\"dataframe\">\n",
       "  <thead>\n",
       "    <tr style=\"text-align: right;\">\n",
       "      <th></th>\n",
       "      <th>total_images</th>\n",
       "      <th>last_price</th>\n",
       "      <th>total_area</th>\n",
       "      <th>rooms</th>\n",
       "      <th>ceiling_height</th>\n",
       "      <th>floors_total</th>\n",
       "      <th>living_area</th>\n",
       "      <th>floor</th>\n",
       "      <th>kitchen_area</th>\n",
       "      <th>balcony</th>\n",
       "      <th>airports_nearest</th>\n",
       "      <th>cityCenters_nearest</th>\n",
       "      <th>parks_around3000</th>\n",
       "      <th>parks_nearest</th>\n",
       "      <th>ponds_around3000</th>\n",
       "      <th>ponds_nearest</th>\n",
       "      <th>days_exposition</th>\n",
       "    </tr>\n",
       "  </thead>\n",
       "  <tbody>\n",
       "    <tr>\n",
       "      <th>count</th>\n",
       "      <td>23,699.0</td>\n",
       "      <td>23,699.0</td>\n",
       "      <td>23,699.0</td>\n",
       "      <td>23,699.0</td>\n",
       "      <td>14,504.0</td>\n",
       "      <td>23,613.0</td>\n",
       "      <td>21,796.0</td>\n",
       "      <td>23,699.0</td>\n",
       "      <td>21,421.0</td>\n",
       "      <td>12,180.0</td>\n",
       "      <td>18,157.0</td>\n",
       "      <td>18,180.0</td>\n",
       "      <td>18,181.0</td>\n",
       "      <td>8,079.0</td>\n",
       "      <td>18,181.0</td>\n",
       "      <td>9,110.0</td>\n",
       "      <td>20,518.0</td>\n",
       "    </tr>\n",
       "    <tr>\n",
       "      <th>mean</th>\n",
       "      <td>9.9</td>\n",
       "      <td>6,541,548.8</td>\n",
       "      <td>60.3</td>\n",
       "      <td>2.1</td>\n",
       "      <td>2.8</td>\n",
       "      <td>10.7</td>\n",
       "      <td>34.5</td>\n",
       "      <td>5.9</td>\n",
       "      <td>10.6</td>\n",
       "      <td>1.2</td>\n",
       "      <td>28,793.7</td>\n",
       "      <td>14,191.3</td>\n",
       "      <td>0.6</td>\n",
       "      <td>490.8</td>\n",
       "      <td>0.8</td>\n",
       "      <td>518.0</td>\n",
       "      <td>180.9</td>\n",
       "    </tr>\n",
       "    <tr>\n",
       "      <th>std</th>\n",
       "      <td>5.7</td>\n",
       "      <td>10,887,013.3</td>\n",
       "      <td>35.7</td>\n",
       "      <td>1.1</td>\n",
       "      <td>1.3</td>\n",
       "      <td>6.6</td>\n",
       "      <td>22.0</td>\n",
       "      <td>4.9</td>\n",
       "      <td>5.9</td>\n",
       "      <td>1.1</td>\n",
       "      <td>12,630.9</td>\n",
       "      <td>8,608.4</td>\n",
       "      <td>0.8</td>\n",
       "      <td>342.3</td>\n",
       "      <td>0.9</td>\n",
       "      <td>277.7</td>\n",
       "      <td>219.7</td>\n",
       "    </tr>\n",
       "    <tr>\n",
       "      <th>min</th>\n",
       "      <td>0.0</td>\n",
       "      <td>12,190.0</td>\n",
       "      <td>12.0</td>\n",
       "      <td>0.0</td>\n",
       "      <td>1.0</td>\n",
       "      <td>1.0</td>\n",
       "      <td>2.0</td>\n",
       "      <td>1.0</td>\n",
       "      <td>1.3</td>\n",
       "      <td>0.0</td>\n",
       "      <td>0.0</td>\n",
       "      <td>181.0</td>\n",
       "      <td>0.0</td>\n",
       "      <td>1.0</td>\n",
       "      <td>0.0</td>\n",
       "      <td>13.0</td>\n",
       "      <td>1.0</td>\n",
       "    </tr>\n",
       "    <tr>\n",
       "      <th>25%</th>\n",
       "      <td>6.0</td>\n",
       "      <td>3,400,000.0</td>\n",
       "      <td>40.0</td>\n",
       "      <td>1.0</td>\n",
       "      <td>2.5</td>\n",
       "      <td>5.0</td>\n",
       "      <td>18.6</td>\n",
       "      <td>2.0</td>\n",
       "      <td>7.0</td>\n",
       "      <td>0.0</td>\n",
       "      <td>18,585.0</td>\n",
       "      <td>9,238.0</td>\n",
       "      <td>0.0</td>\n",
       "      <td>288.0</td>\n",
       "      <td>0.0</td>\n",
       "      <td>294.0</td>\n",
       "      <td>45.0</td>\n",
       "    </tr>\n",
       "    <tr>\n",
       "      <th>50%</th>\n",
       "      <td>9.0</td>\n",
       "      <td>4,650,000.0</td>\n",
       "      <td>52.0</td>\n",
       "      <td>2.0</td>\n",
       "      <td>2.6</td>\n",
       "      <td>9.0</td>\n",
       "      <td>30.0</td>\n",
       "      <td>4.0</td>\n",
       "      <td>9.1</td>\n",
       "      <td>1.0</td>\n",
       "      <td>26,726.0</td>\n",
       "      <td>13,098.5</td>\n",
       "      <td>0.0</td>\n",
       "      <td>455.0</td>\n",
       "      <td>1.0</td>\n",
       "      <td>502.0</td>\n",
       "      <td>95.0</td>\n",
       "    </tr>\n",
       "    <tr>\n",
       "      <th>75%</th>\n",
       "      <td>14.0</td>\n",
       "      <td>6,800,000.0</td>\n",
       "      <td>69.9</td>\n",
       "      <td>3.0</td>\n",
       "      <td>2.8</td>\n",
       "      <td>16.0</td>\n",
       "      <td>42.3</td>\n",
       "      <td>8.0</td>\n",
       "      <td>12.0</td>\n",
       "      <td>2.0</td>\n",
       "      <td>37,273.0</td>\n",
       "      <td>16,293.0</td>\n",
       "      <td>1.0</td>\n",
       "      <td>612.0</td>\n",
       "      <td>1.0</td>\n",
       "      <td>729.0</td>\n",
       "      <td>232.0</td>\n",
       "    </tr>\n",
       "    <tr>\n",
       "      <th>max</th>\n",
       "      <td>50.0</td>\n",
       "      <td>763,000,000.0</td>\n",
       "      <td>900.0</td>\n",
       "      <td>19.0</td>\n",
       "      <td>100.0</td>\n",
       "      <td>60.0</td>\n",
       "      <td>409.7</td>\n",
       "      <td>33.0</td>\n",
       "      <td>112.0</td>\n",
       "      <td>5.0</td>\n",
       "      <td>84,869.0</td>\n",
       "      <td>65,968.0</td>\n",
       "      <td>3.0</td>\n",
       "      <td>3,190.0</td>\n",
       "      <td>3.0</td>\n",
       "      <td>1,344.0</td>\n",
       "      <td>1,580.0</td>\n",
       "    </tr>\n",
       "  </tbody>\n",
       "</table>\n",
       "</div>"
      ],
      "text/plain": [
       "       total_images    last_price  total_area    rooms  ceiling_height  \\\n",
       "count      23,699.0      23,699.0    23,699.0 23,699.0        14,504.0   \n",
       "mean            9.9   6,541,548.8        60.3      2.1             2.8   \n",
       "std             5.7  10,887,013.3        35.7      1.1             1.3   \n",
       "min             0.0      12,190.0        12.0      0.0             1.0   \n",
       "25%             6.0   3,400,000.0        40.0      1.0             2.5   \n",
       "50%             9.0   4,650,000.0        52.0      2.0             2.6   \n",
       "75%            14.0   6,800,000.0        69.9      3.0             2.8   \n",
       "max            50.0 763,000,000.0       900.0     19.0           100.0   \n",
       "\n",
       "       floors_total  living_area    floor  kitchen_area  balcony  \\\n",
       "count      23,613.0     21,796.0 23,699.0      21,421.0 12,180.0   \n",
       "mean           10.7         34.5      5.9          10.6      1.2   \n",
       "std             6.6         22.0      4.9           5.9      1.1   \n",
       "min             1.0          2.0      1.0           1.3      0.0   \n",
       "25%             5.0         18.6      2.0           7.0      0.0   \n",
       "50%             9.0         30.0      4.0           9.1      1.0   \n",
       "75%            16.0         42.3      8.0          12.0      2.0   \n",
       "max            60.0        409.7     33.0         112.0      5.0   \n",
       "\n",
       "       airports_nearest  cityCenters_nearest  parks_around3000  parks_nearest  \\\n",
       "count          18,157.0             18,180.0          18,181.0        8,079.0   \n",
       "mean           28,793.7             14,191.3               0.6          490.8   \n",
       "std            12,630.9              8,608.4               0.8          342.3   \n",
       "min                 0.0                181.0               0.0            1.0   \n",
       "25%            18,585.0              9,238.0               0.0          288.0   \n",
       "50%            26,726.0             13,098.5               0.0          455.0   \n",
       "75%            37,273.0             16,293.0               1.0          612.0   \n",
       "max            84,869.0             65,968.0               3.0        3,190.0   \n",
       "\n",
       "       ponds_around3000  ponds_nearest  days_exposition  \n",
       "count          18,181.0        9,110.0         20,518.0  \n",
       "mean                0.8          518.0            180.9  \n",
       "std                 0.9          277.7            219.7  \n",
       "min                 0.0           13.0              1.0  \n",
       "25%                 0.0          294.0             45.0  \n",
       "50%                 1.0          502.0             95.0  \n",
       "75%                 1.0          729.0            232.0  \n",
       "max                 3.0        1,344.0          1,580.0  "
      ]
     },
     "execution_count": 7,
     "metadata": {},
     "output_type": "execute_result"
    }
   ],
   "source": [
    "#посмотрю на основные статистические характеристики данных\n",
    "pd.options.display.float_format = '{:,.1f}'.format #использую этот код, чтобы данные не выводились в формате 3.514284e+05 \n",
    "df.describe()"
   ]
  },
  {
   "cell_type": "markdown",
   "metadata": {},
   "source": [
    "Максимальная высота потолков 100 м? Этого не может быть. Высота 5-этажки 20 м. Или это какое-то производственное здание? Минимальное значение жилой площади 2 м2? Это кладовка на лестничной площадке? Максимальная площадь кухни 112 м2? Это как целый дом! Максимальная цена квартиры 763 миллиона рублей? Это какая-то заоблачная цена. Минимальная цена квартиры 12191 рубль? Таких цен не бывает.<br>\n",
    "Надо будет разобраться со всеми этими аномальными значениями."
   ]
  },
  {
   "cell_type": "markdown",
   "metadata": {},
   "source": [
    "Проверю наличие дубликатов в данных"
   ]
  },
  {
   "cell_type": "code",
   "execution_count": 8,
   "metadata": {},
   "outputs": [
    {
     "data": {
      "text/plain": [
       "0"
      ]
     },
     "execution_count": 8,
     "metadata": {},
     "output_type": "execute_result"
    }
   ],
   "source": [
    "df.duplicated().sum()"
   ]
  },
  {
   "cell_type": "markdown",
   "metadata": {},
   "source": [
    "### Вывод"
   ]
  },
  {
   "cell_type": "markdown",
   "metadata": {},
   "source": [
    "Предварительно можно утверждать, что, данных достаточно для формирования выводов. Но встречаются пропуски в данных и аномально отклоняющиеся данные.\n",
    "\n",
    "Чтобы двигаться дальше, нужно устранить проблемы в данных."
   ]
  },
  {
   "cell_type": "markdown",
   "metadata": {},
   "source": [
    "## Предобработка данных"
   ]
  },
  {
   "cell_type": "markdown",
   "metadata": {},
   "source": [
    "Узнаю, сколько есть пропусков значений в каждом из столбцов"
   ]
  },
  {
   "cell_type": "code",
   "execution_count": 9,
   "metadata": {},
   "outputs": [
    {
     "data": {
      "text/plain": [
       "total_images                0\n",
       "last_price                  0\n",
       "total_area                  0\n",
       "first_day_exposition        0\n",
       "rooms                       0\n",
       "ceiling_height           9195\n",
       "floors_total               86\n",
       "living_area              1903\n",
       "floor                       0\n",
       "is_apartment            20924\n",
       "studio                      0\n",
       "open_plan                   0\n",
       "kitchen_area             2278\n",
       "balcony                 11519\n",
       "locality_name              49\n",
       "airports_nearest         5542\n",
       "cityCenters_nearest      5519\n",
       "parks_around3000         5518\n",
       "parks_nearest           15620\n",
       "ponds_around3000         5518\n",
       "ponds_nearest           14589\n",
       "days_exposition          3181\n",
       "dtype: int64"
      ]
     },
     "execution_count": 9,
     "metadata": {},
     "output_type": "execute_result"
    }
   ],
   "source": [
    "# подсчёт пропусков\n",
    "df.isna().sum()"
   ]
  },
  {
   "cell_type": "markdown",
   "metadata": {},
   "source": [
    "Мои предложения по заполнению пропусков:<br>\n",
    "* ceiling_height - высота потолков. Если пропущенные значения есть, это может быть связано с тем, что человек просто не знает высоту и ему, например, нечем её измерить. Мы не можем здесь поставить 0, т.к. это означало бы, что высота потолка  =0. То есть это якобы какое-то очень низкое помещение. Я бы оставила эти пропуски и ничем бы их не заменяла. Тип данных в столбце float64. Заменять не нужно.<br>\n",
    "* floors_total - всего этажей в доме. Пропущенные значения могут быть связаны с тем, что человек опять-таки не знает, сколько этажей в доме, где продаётся недвижимость. Мы не можем заменить NaNы на 0 или среднее/медианное значение. Потому как этажность застройки влияет на рейтинг недвижимости. Врать и придумывать мы не будем, поэтому пропущенные значения заменять не буду. Тип данных в столбце float64. Этажей не может быть 5,5 или 10,5. Это всегда целое число. Данные float занимают больше памяти. Поэтому я бы перевела этот тип данных в integer. Но с пропущенными значениями это невозможно сделать. <br>\n",
    "* living_area - жилая площадь. Пропущенные значения могут быть связаны с тем, что жилая площадь просто не измерена. Я пропуски заменю на результат такого выражения: вычту из общай площади площадь кухни. Тип данных float, Менять не буду, т.к. для площади такой тип данных подходит. <br>\n",
    "* is_apartment - апартамены. Пропуски могут быть связаны с тем, что человек просто не указал категорию квартиры. Здесь тип данных object. Менять ничего не буду  <br>\n",
    "* kitchen_area - пропущенные значения могут быть связаны с тем, что кухни вообще нет (особая планировка квартиры). Заменяю все пропущенные значения на 0. Тип данных float. Это нормально для данных о площади. Оставлю.\n",
    "* balcony - число балконов. Здесь уже либо есть балкон, либо его нет. Если нет информации, значит балконов нет. Заменим все пропуски на число 0. Тип данных в этом столбце float64. Заменю на integer,для экономия памяти. <br>\n",
    "* locality_name -  название населённого пункта. Думаю, что пропуски могут быть связаны с тем, что продаваемая недвижимость не находится ни в каком населенном пункте. Например, это дом вдоль трассы, где ничего вокруг нет. Пустые значения оставим. Тип данных object не нужно ничем заменять. <br>\n",
    "* days_exposition - сколько дней было размещено объявление. Пропуски могут быть связаны с тем, что при выгрузке файла данных полных дней прошло ещё 0 (например, объявление разместили в 20.02.2022 в 20:00, а выгрузили данные 20.02.2022 в 21:00). Я бы заменила пропущенные значения на 0. Думаю, что число дней, прошедших с размещения объявления, не сильно сказывается на рейтинге этой недвижимости. Гораздо более важными характеристиками являются площади, цена, этаж и т.д. <br><br>\n",
    "Следующие столбцы получены на основе картографических данных\n",
    "* airports_nearest<br>\n",
    "* cityCenters_nearest<br>\n",
    "* parks_around3000<br>\n",
    "* ponds_nearest<br>\n",
    "\n",
    "Пропуски могут связаны с несовершенством математических вычислений на основе карт и планов. Пропуски оставлю."
   ]
  },
  {
   "cell_type": "code",
   "execution_count": 10,
   "metadata": {},
   "outputs": [],
   "source": [
    "#заполним значения NaN в выбранных мною столбцах нулями. Обоснование представлено выше\n",
    "df['balcony'] = df['balcony'].fillna(0)\n",
    "df['kitchen_area'] = df['kitchen_area'].fillna(0)"
   ]
  },
  {
   "cell_type": "code",
   "execution_count": 11,
   "metadata": {},
   "outputs": [],
   "source": [
    "df['living_area'] = df['living_area'].fillna(df['total_area'] - df['kitchen_area'])"
   ]
  },
  {
   "cell_type": "code",
   "execution_count": 12,
   "metadata": {},
   "outputs": [
    {
     "data": {
      "text/plain": [
       "0        0\n",
       "1        2\n",
       "2        0\n",
       "3        0\n",
       "4        0\n",
       "        ..\n",
       "23694    0\n",
       "23695    0\n",
       "23696    0\n",
       "23697    2\n",
       "23698    0\n",
       "Name: balcony, Length: 23699, dtype: int32"
      ]
     },
     "execution_count": 12,
     "metadata": {},
     "output_type": "execute_result"
    }
   ],
   "source": [
    "#заменяю значения на тип integer\n",
    "df['balcony'].astype('int')"
   ]
  },
  {
   "cell_type": "code",
   "execution_count": 13,
   "metadata": {},
   "outputs": [
    {
     "data": {
      "text/plain": [
       "count   23,699.0\n",
       "mean         0.6\n",
       "std          1.0\n",
       "min          0.0\n",
       "25%          0.0\n",
       "50%          0.0\n",
       "75%          1.0\n",
       "max          5.0\n",
       "Name: balcony, dtype: float64"
      ]
     },
     "execution_count": 13,
     "metadata": {},
     "output_type": "execute_result"
    }
   ],
   "source": [
    "df['balcony'].describe()"
   ]
  },
  {
   "attachments": {
    "image.png": {
     "image/png": "[encoded data removed]"
    }
   },
   "cell_type": "markdown",
   "metadata": {},
   "source": [
    "![image.png](attachment:image.png)"
   ]
  },
  {
   "cell_type": "markdown",
   "metadata": {},
   "source": [
    "По сравнению с первоначальной статистической информацией, есть существенные изменения. Стандартное отклонение уменьшилось. Среднее значение уменьшилось."
   ]
  },
  {
   "cell_type": "markdown",
   "metadata": {},
   "source": [
    "Преобразуем данные из столбца first_day_exposition к типу datetime для того, чтобы данные было легче воспринимать"
   ]
  },
  {
   "cell_type": "code",
   "execution_count": 14,
   "metadata": {},
   "outputs": [],
   "source": [
    "#преобразуем данные к типу datetime\n",
    "df['first_day_exposition'] = pd.to_datetime(\n",
    "    df['first_day_exposition'], format='%Y-%m-%dT%H:%M:%S'\n",
    ")"
   ]
  },
  {
   "cell_type": "markdown",
   "metadata": {},
   "source": [
    "### Вывод"
   ]
  },
  {
   "cell_type": "markdown",
   "metadata": {},
   "source": [
    "Те пропуски, от которых было возможно аргументированно избавиться, были убраны из датафрейма. Типы данных приведены к удобному для восприятия виду и к занимающему максимально маленькое место в памяти."
   ]
  },
  {
   "cell_type": "markdown",
   "metadata": {},
   "source": [
    "## Расчёты и добавление результатов в таблицу"
   ]
  },
  {
   "cell_type": "markdown",
   "metadata": {},
   "source": [
    "### Добавление столбца с ценой квадратного метра"
   ]
  },
  {
   "cell_type": "code",
   "execution_count": 15,
   "metadata": {},
   "outputs": [],
   "source": [
    "#чтобы получить необходимое значение, делим цену недвижимости на её общую площадь:\n",
    "# здесь не стала применять метод try, except, т.к. минимальное значение площади 12 кв.м., что не равно нулю.\n",
    "df = df.assign(price_for_1_sq_m=lambda x: (x['last_price'] / x['total_area']))"
   ]
  },
  {
   "cell_type": "markdown",
   "metadata": {},
   "source": [
    "### Добавление столбцов с днем недели, месяцем и годом публикации объявления"
   ]
  },
  {
   "cell_type": "code",
   "execution_count": 16,
   "metadata": {},
   "outputs": [],
   "source": [
    "#добавляем столбец с номером дня недели\n",
    "df['weekday'] = df['first_day_exposition'].dt.weekday"
   ]
  },
  {
   "cell_type": "code",
   "execution_count": 17,
   "metadata": {},
   "outputs": [],
   "source": [
    "#добавим столбец с номером месяца\n",
    "df['month'] = df['first_day_exposition'].dt.month"
   ]
  },
  {
   "cell_type": "code",
   "execution_count": 18,
   "metadata": {},
   "outputs": [],
   "source": [
    "#добавим столбец с годом публикации объявления\n",
    "df['year'] = df['first_day_exposition'].dt.year"
   ]
  },
  {
   "cell_type": "markdown",
   "metadata": {},
   "source": [
    "### Добавление столбцов с этажом квартиры"
   ]
  },
  {
   "cell_type": "markdown",
   "metadata": {},
   "source": [
    "Оставим только 3 возможных варианта для этого столбца: первый этаж, последний этаж, другой. Для этого нам сначала нужно разделить данные из столбца floor на 3 группы. "
   ]
  },
  {
   "cell_type": "code",
   "execution_count": 19,
   "metadata": {},
   "outputs": [
    {
     "name": "stdout",
     "output_type": "stream",
     "text": [
      "Последний этаж\n"
     ]
    }
   ],
   "source": [
    "# функция find_floor_category, которая присваивает категорию в зависимости от этажа недвижимости\n",
    "# вот такие категории:  первый, последний, другой.\n",
    "# Для того, чтобы проверить, в какой категории приравнять этаж, \n",
    "# будем сравнивать значения из столбцов floors_total и floor\n",
    "# Обозначим строку переменной row, а в коде функции обратимся к конкретным значениям столбцов df['floors_total']\n",
    "# и df['floor'].\n",
    "\n",
    "def find_floor_category(df):\n",
    "    total = df['floors_total']\n",
    "    floor = df['floor']\n",
    "    \n",
    "    if floor < 2:\n",
    "        return 'Первый этаж'\n",
    "    \n",
    "    if floor == total:\n",
    "        return 'Последний этаж'\n",
    "    \n",
    "    return 'Другой этаж'\n",
    "\n",
    "#создадим два списка. В одном — значения, в другом — названия столбцов датафрейма.\n",
    "row_values = [2, 2] #значения общего количества этажей и номер этажа\n",
    "row_columns = ['floor', 'floors_total'] #названия столбцов \n",
    "\n",
    "#формируем строку\n",
    "a = pd.Series(data=row_values, index=row_columns)\n",
    "\n",
    "#передаем строку в качестве аргумента функции для тестирования:\n",
    "print(find_floor_category(a))"
   ]
  },
  {
   "cell_type": "code",
   "execution_count": 20,
   "metadata": {},
   "outputs": [],
   "source": [
    "#создаем новый столбец df['floor_category'] со значениями-результатами работы функции find_floor_category\n",
    "df['floor_category'] = df.apply(find_floor_category, axis=1)"
   ]
  },
  {
   "cell_type": "markdown",
   "metadata": {},
   "source": [
    "### Добавление столбцов с соотношением жилой и общей площади, а также отношением площади кухни к общей"
   ]
  },
  {
   "cell_type": "code",
   "execution_count": 21,
   "metadata": {},
   "outputs": [],
   "source": [
    "df['living_to_total_area'] = df['living_area'] / df ['total_area']"
   ]
  },
  {
   "cell_type": "code",
   "execution_count": 22,
   "metadata": {},
   "outputs": [],
   "source": [
    "df['kitchen_to_total_area'] = df['kitchen_area'] / df ['total_area']"
   ]
  },
  {
   "cell_type": "code",
   "execution_count": 23,
   "metadata": {},
   "outputs": [
    {
     "data": {
      "text/html": [
       "<div>\n",
       "<style scoped>\n",
       "    .dataframe tbody tr th:only-of-type {\n",
       "        vertical-align: middle;\n",
       "    }\n",
       "\n",
       "    .dataframe tbody tr th {\n",
       "        vertical-align: top;\n",
       "    }\n",
       "\n",
       "    .dataframe thead th {\n",
       "        text-align: right;\n",
       "    }\n",
       "</style>\n",
       "<table border=\"1\" class=\"dataframe\">\n",
       "  <thead>\n",
       "    <tr style=\"text-align: right;\">\n",
       "      <th></th>\n",
       "      <th>total_images</th>\n",
       "      <th>last_price</th>\n",
       "      <th>total_area</th>\n",
       "      <th>first_day_exposition</th>\n",
       "      <th>rooms</th>\n",
       "      <th>ceiling_height</th>\n",
       "      <th>floors_total</th>\n",
       "      <th>living_area</th>\n",
       "      <th>floor</th>\n",
       "      <th>is_apartment</th>\n",
       "      <th>studio</th>\n",
       "      <th>open_plan</th>\n",
       "      <th>kitchen_area</th>\n",
       "      <th>balcony</th>\n",
       "      <th>locality_name</th>\n",
       "      <th>airports_nearest</th>\n",
       "      <th>cityCenters_nearest</th>\n",
       "      <th>parks_around3000</th>\n",
       "      <th>parks_nearest</th>\n",
       "      <th>ponds_around3000</th>\n",
       "      <th>ponds_nearest</th>\n",
       "      <th>days_exposition</th>\n",
       "      <th>price_for_1_sq_m</th>\n",
       "      <th>weekday</th>\n",
       "      <th>month</th>\n",
       "      <th>year</th>\n",
       "      <th>floor_category</th>\n",
       "      <th>living_to_total_area</th>\n",
       "      <th>kitchen_to_total_area</th>\n",
       "    </tr>\n",
       "  </thead>\n",
       "  <tbody>\n",
       "    <tr>\n",
       "      <th>0</th>\n",
       "      <td>20</td>\n",
       "      <td>13,000,000.0</td>\n",
       "      <td>108.0</td>\n",
       "      <td>2019-03-07</td>\n",
       "      <td>3</td>\n",
       "      <td>2.7</td>\n",
       "      <td>16.0</td>\n",
       "      <td>51.0</td>\n",
       "      <td>8</td>\n",
       "      <td>NaN</td>\n",
       "      <td>False</td>\n",
       "      <td>False</td>\n",
       "      <td>25.0</td>\n",
       "      <td>0.0</td>\n",
       "      <td>Санкт-Петербург</td>\n",
       "      <td>18,863.0</td>\n",
       "      <td>16,028.0</td>\n",
       "      <td>1.0</td>\n",
       "      <td>482.0</td>\n",
       "      <td>2.0</td>\n",
       "      <td>755.0</td>\n",
       "      <td>NaN</td>\n",
       "      <td>120,370.4</td>\n",
       "      <td>3</td>\n",
       "      <td>3</td>\n",
       "      <td>2019</td>\n",
       "      <td>Другой этаж</td>\n",
       "      <td>0.5</td>\n",
       "      <td>0.2</td>\n",
       "    </tr>\n",
       "    <tr>\n",
       "      <th>1</th>\n",
       "      <td>7</td>\n",
       "      <td>3,350,000.0</td>\n",
       "      <td>40.4</td>\n",
       "      <td>2018-12-04</td>\n",
       "      <td>1</td>\n",
       "      <td>NaN</td>\n",
       "      <td>11.0</td>\n",
       "      <td>18.6</td>\n",
       "      <td>1</td>\n",
       "      <td>NaN</td>\n",
       "      <td>False</td>\n",
       "      <td>False</td>\n",
       "      <td>11.0</td>\n",
       "      <td>2.0</td>\n",
       "      <td>посёлок Шушары</td>\n",
       "      <td>12,817.0</td>\n",
       "      <td>18,603.0</td>\n",
       "      <td>0.0</td>\n",
       "      <td>NaN</td>\n",
       "      <td>0.0</td>\n",
       "      <td>NaN</td>\n",
       "      <td>81.0</td>\n",
       "      <td>82,920.8</td>\n",
       "      <td>1</td>\n",
       "      <td>12</td>\n",
       "      <td>2018</td>\n",
       "      <td>Первый этаж</td>\n",
       "      <td>0.5</td>\n",
       "      <td>0.3</td>\n",
       "    </tr>\n",
       "    <tr>\n",
       "      <th>2</th>\n",
       "      <td>10</td>\n",
       "      <td>5,196,000.0</td>\n",
       "      <td>56.0</td>\n",
       "      <td>2015-08-20</td>\n",
       "      <td>2</td>\n",
       "      <td>NaN</td>\n",
       "      <td>5.0</td>\n",
       "      <td>34.3</td>\n",
       "      <td>4</td>\n",
       "      <td>NaN</td>\n",
       "      <td>False</td>\n",
       "      <td>False</td>\n",
       "      <td>8.3</td>\n",
       "      <td>0.0</td>\n",
       "      <td>Санкт-Петербург</td>\n",
       "      <td>21,741.0</td>\n",
       "      <td>13,933.0</td>\n",
       "      <td>1.0</td>\n",
       "      <td>90.0</td>\n",
       "      <td>2.0</td>\n",
       "      <td>574.0</td>\n",
       "      <td>558.0</td>\n",
       "      <td>92,785.7</td>\n",
       "      <td>3</td>\n",
       "      <td>8</td>\n",
       "      <td>2015</td>\n",
       "      <td>Другой этаж</td>\n",
       "      <td>0.6</td>\n",
       "      <td>0.1</td>\n",
       "    </tr>\n",
       "    <tr>\n",
       "      <th>3</th>\n",
       "      <td>0</td>\n",
       "      <td>64,900,000.0</td>\n",
       "      <td>159.0</td>\n",
       "      <td>2015-07-24</td>\n",
       "      <td>3</td>\n",
       "      <td>NaN</td>\n",
       "      <td>14.0</td>\n",
       "      <td>159.0</td>\n",
       "      <td>9</td>\n",
       "      <td>NaN</td>\n",
       "      <td>False</td>\n",
       "      <td>False</td>\n",
       "      <td>0.0</td>\n",
       "      <td>0.0</td>\n",
       "      <td>Санкт-Петербург</td>\n",
       "      <td>28,098.0</td>\n",
       "      <td>6,800.0</td>\n",
       "      <td>2.0</td>\n",
       "      <td>84.0</td>\n",
       "      <td>3.0</td>\n",
       "      <td>234.0</td>\n",
       "      <td>424.0</td>\n",
       "      <td>408,176.1</td>\n",
       "      <td>4</td>\n",
       "      <td>7</td>\n",
       "      <td>2015</td>\n",
       "      <td>Другой этаж</td>\n",
       "      <td>1.0</td>\n",
       "      <td>0.0</td>\n",
       "    </tr>\n",
       "    <tr>\n",
       "      <th>4</th>\n",
       "      <td>2</td>\n",
       "      <td>10,000,000.0</td>\n",
       "      <td>100.0</td>\n",
       "      <td>2018-06-19</td>\n",
       "      <td>2</td>\n",
       "      <td>3.0</td>\n",
       "      <td>14.0</td>\n",
       "      <td>32.0</td>\n",
       "      <td>13</td>\n",
       "      <td>NaN</td>\n",
       "      <td>False</td>\n",
       "      <td>False</td>\n",
       "      <td>41.0</td>\n",
       "      <td>0.0</td>\n",
       "      <td>Санкт-Петербург</td>\n",
       "      <td>31,856.0</td>\n",
       "      <td>8,098.0</td>\n",
       "      <td>2.0</td>\n",
       "      <td>112.0</td>\n",
       "      <td>1.0</td>\n",
       "      <td>48.0</td>\n",
       "      <td>121.0</td>\n",
       "      <td>100,000.0</td>\n",
       "      <td>1</td>\n",
       "      <td>6</td>\n",
       "      <td>2018</td>\n",
       "      <td>Другой этаж</td>\n",
       "      <td>0.3</td>\n",
       "      <td>0.4</td>\n",
       "    </tr>\n",
       "    <tr>\n",
       "      <th>5</th>\n",
       "      <td>10</td>\n",
       "      <td>2,890,000.0</td>\n",
       "      <td>30.4</td>\n",
       "      <td>2018-09-10</td>\n",
       "      <td>1</td>\n",
       "      <td>NaN</td>\n",
       "      <td>12.0</td>\n",
       "      <td>14.4</td>\n",
       "      <td>5</td>\n",
       "      <td>NaN</td>\n",
       "      <td>False</td>\n",
       "      <td>False</td>\n",
       "      <td>9.1</td>\n",
       "      <td>0.0</td>\n",
       "      <td>городской посёлок Янино-1</td>\n",
       "      <td>NaN</td>\n",
       "      <td>NaN</td>\n",
       "      <td>NaN</td>\n",
       "      <td>NaN</td>\n",
       "      <td>NaN</td>\n",
       "      <td>NaN</td>\n",
       "      <td>55.0</td>\n",
       "      <td>95,065.8</td>\n",
       "      <td>0</td>\n",
       "      <td>9</td>\n",
       "      <td>2018</td>\n",
       "      <td>Другой этаж</td>\n",
       "      <td>0.5</td>\n",
       "      <td>0.3</td>\n",
       "    </tr>\n",
       "    <tr>\n",
       "      <th>6</th>\n",
       "      <td>6</td>\n",
       "      <td>3,700,000.0</td>\n",
       "      <td>37.3</td>\n",
       "      <td>2017-11-02</td>\n",
       "      <td>1</td>\n",
       "      <td>NaN</td>\n",
       "      <td>26.0</td>\n",
       "      <td>10.6</td>\n",
       "      <td>6</td>\n",
       "      <td>NaN</td>\n",
       "      <td>False</td>\n",
       "      <td>False</td>\n",
       "      <td>14.4</td>\n",
       "      <td>1.0</td>\n",
       "      <td>посёлок Парголово</td>\n",
       "      <td>52,996.0</td>\n",
       "      <td>19,143.0</td>\n",
       "      <td>0.0</td>\n",
       "      <td>NaN</td>\n",
       "      <td>0.0</td>\n",
       "      <td>NaN</td>\n",
       "      <td>155.0</td>\n",
       "      <td>99,195.7</td>\n",
       "      <td>3</td>\n",
       "      <td>11</td>\n",
       "      <td>2017</td>\n",
       "      <td>Другой этаж</td>\n",
       "      <td>0.3</td>\n",
       "      <td>0.4</td>\n",
       "    </tr>\n",
       "    <tr>\n",
       "      <th>7</th>\n",
       "      <td>5</td>\n",
       "      <td>7,915,000.0</td>\n",
       "      <td>71.6</td>\n",
       "      <td>2019-04-18</td>\n",
       "      <td>2</td>\n",
       "      <td>NaN</td>\n",
       "      <td>24.0</td>\n",
       "      <td>52.7</td>\n",
       "      <td>22</td>\n",
       "      <td>NaN</td>\n",
       "      <td>False</td>\n",
       "      <td>False</td>\n",
       "      <td>18.9</td>\n",
       "      <td>2.0</td>\n",
       "      <td>Санкт-Петербург</td>\n",
       "      <td>23,982.0</td>\n",
       "      <td>11,634.0</td>\n",
       "      <td>0.0</td>\n",
       "      <td>NaN</td>\n",
       "      <td>0.0</td>\n",
       "      <td>NaN</td>\n",
       "      <td>NaN</td>\n",
       "      <td>110,544.7</td>\n",
       "      <td>3</td>\n",
       "      <td>4</td>\n",
       "      <td>2019</td>\n",
       "      <td>Другой этаж</td>\n",
       "      <td>0.7</td>\n",
       "      <td>0.3</td>\n",
       "    </tr>\n",
       "    <tr>\n",
       "      <th>8</th>\n",
       "      <td>20</td>\n",
       "      <td>2,900,000.0</td>\n",
       "      <td>33.2</td>\n",
       "      <td>2018-05-23</td>\n",
       "      <td>1</td>\n",
       "      <td>NaN</td>\n",
       "      <td>27.0</td>\n",
       "      <td>15.4</td>\n",
       "      <td>26</td>\n",
       "      <td>NaN</td>\n",
       "      <td>False</td>\n",
       "      <td>False</td>\n",
       "      <td>8.8</td>\n",
       "      <td>0.0</td>\n",
       "      <td>посёлок Мурино</td>\n",
       "      <td>NaN</td>\n",
       "      <td>NaN</td>\n",
       "      <td>NaN</td>\n",
       "      <td>NaN</td>\n",
       "      <td>NaN</td>\n",
       "      <td>NaN</td>\n",
       "      <td>189.0</td>\n",
       "      <td>87,454.8</td>\n",
       "      <td>2</td>\n",
       "      <td>5</td>\n",
       "      <td>2018</td>\n",
       "      <td>Другой этаж</td>\n",
       "      <td>0.5</td>\n",
       "      <td>0.3</td>\n",
       "    </tr>\n",
       "    <tr>\n",
       "      <th>9</th>\n",
       "      <td>18</td>\n",
       "      <td>5,400,000.0</td>\n",
       "      <td>61.0</td>\n",
       "      <td>2017-02-26</td>\n",
       "      <td>3</td>\n",
       "      <td>2.5</td>\n",
       "      <td>9.0</td>\n",
       "      <td>43.6</td>\n",
       "      <td>7</td>\n",
       "      <td>NaN</td>\n",
       "      <td>False</td>\n",
       "      <td>False</td>\n",
       "      <td>6.5</td>\n",
       "      <td>2.0</td>\n",
       "      <td>Санкт-Петербург</td>\n",
       "      <td>50,898.0</td>\n",
       "      <td>15,008.0</td>\n",
       "      <td>0.0</td>\n",
       "      <td>NaN</td>\n",
       "      <td>0.0</td>\n",
       "      <td>NaN</td>\n",
       "      <td>289.0</td>\n",
       "      <td>88,524.6</td>\n",
       "      <td>6</td>\n",
       "      <td>2</td>\n",
       "      <td>2017</td>\n",
       "      <td>Другой этаж</td>\n",
       "      <td>0.7</td>\n",
       "      <td>0.1</td>\n",
       "    </tr>\n",
       "  </tbody>\n",
       "</table>\n",
       "</div>"
      ],
      "text/plain": [
       "   total_images   last_price  total_area first_day_exposition  rooms  \\\n",
       "0            20 13,000,000.0       108.0           2019-03-07      3   \n",
       "1             7  3,350,000.0        40.4           2018-12-04      1   \n",
       "2            10  5,196,000.0        56.0           2015-08-20      2   \n",
       "3             0 64,900,000.0       159.0           2015-07-24      3   \n",
       "4             2 10,000,000.0       100.0           2018-06-19      2   \n",
       "5            10  2,890,000.0        30.4           2018-09-10      1   \n",
       "6             6  3,700,000.0        37.3           2017-11-02      1   \n",
       "7             5  7,915,000.0        71.6           2019-04-18      2   \n",
       "8            20  2,900,000.0        33.2           2018-05-23      1   \n",
       "9            18  5,400,000.0        61.0           2017-02-26      3   \n",
       "\n",
       "   ceiling_height  floors_total  living_area  floor is_apartment  studio  \\\n",
       "0             2.7          16.0         51.0      8          NaN   False   \n",
       "1             NaN          11.0         18.6      1          NaN   False   \n",
       "2             NaN           5.0         34.3      4          NaN   False   \n",
       "3             NaN          14.0        159.0      9          NaN   False   \n",
       "4             3.0          14.0         32.0     13          NaN   False   \n",
       "5             NaN          12.0         14.4      5          NaN   False   \n",
       "6             NaN          26.0         10.6      6          NaN   False   \n",
       "7             NaN          24.0         52.7     22          NaN   False   \n",
       "8             NaN          27.0         15.4     26          NaN   False   \n",
       "9             2.5           9.0         43.6      7          NaN   False   \n",
       "\n",
       "   open_plan  kitchen_area  balcony              locality_name  \\\n",
       "0      False          25.0      0.0            Санкт-Петербург   \n",
       "1      False          11.0      2.0             посёлок Шушары   \n",
       "2      False           8.3      0.0            Санкт-Петербург   \n",
       "3      False           0.0      0.0            Санкт-Петербург   \n",
       "4      False          41.0      0.0            Санкт-Петербург   \n",
       "5      False           9.1      0.0  городской посёлок Янино-1   \n",
       "6      False          14.4      1.0          посёлок Парголово   \n",
       "7      False          18.9      2.0            Санкт-Петербург   \n",
       "8      False           8.8      0.0             посёлок Мурино   \n",
       "9      False           6.5      2.0            Санкт-Петербург   \n",
       "\n",
       "   airports_nearest  cityCenters_nearest  parks_around3000  parks_nearest  \\\n",
       "0          18,863.0             16,028.0               1.0          482.0   \n",
       "1          12,817.0             18,603.0               0.0            NaN   \n",
       "2          21,741.0             13,933.0               1.0           90.0   \n",
       "3          28,098.0              6,800.0               2.0           84.0   \n",
       "4          31,856.0              8,098.0               2.0          112.0   \n",
       "5               NaN                  NaN               NaN            NaN   \n",
       "6          52,996.0             19,143.0               0.0            NaN   \n",
       "7          23,982.0             11,634.0               0.0            NaN   \n",
       "8               NaN                  NaN               NaN            NaN   \n",
       "9          50,898.0             15,008.0               0.0            NaN   \n",
       "\n",
       "   ponds_around3000  ponds_nearest  days_exposition  price_for_1_sq_m  \\\n",
       "0               2.0          755.0              NaN         120,370.4   \n",
       "1               0.0            NaN             81.0          82,920.8   \n",
       "2               2.0          574.0            558.0          92,785.7   \n",
       "3               3.0          234.0            424.0         408,176.1   \n",
       "4               1.0           48.0            121.0         100,000.0   \n",
       "5               NaN            NaN             55.0          95,065.8   \n",
       "6               0.0            NaN            155.0          99,195.7   \n",
       "7               0.0            NaN              NaN         110,544.7   \n",
       "8               NaN            NaN            189.0          87,454.8   \n",
       "9               0.0            NaN            289.0          88,524.6   \n",
       "\n",
       "   weekday  month  year floor_category  living_to_total_area  \\\n",
       "0        3      3  2019    Другой этаж                   0.5   \n",
       "1        1     12  2018    Первый этаж                   0.5   \n",
       "2        3      8  2015    Другой этаж                   0.6   \n",
       "3        4      7  2015    Другой этаж                   1.0   \n",
       "4        1      6  2018    Другой этаж                   0.3   \n",
       "5        0      9  2018    Другой этаж                   0.5   \n",
       "6        3     11  2017    Другой этаж                   0.3   \n",
       "7        3      4  2019    Другой этаж                   0.7   \n",
       "8        2      5  2018    Другой этаж                   0.5   \n",
       "9        6      2  2017    Другой этаж                   0.7   \n",
       "\n",
       "   kitchen_to_total_area  \n",
       "0                    0.2  \n",
       "1                    0.3  \n",
       "2                    0.1  \n",
       "3                    0.0  \n",
       "4                    0.4  \n",
       "5                    0.3  \n",
       "6                    0.4  \n",
       "7                    0.3  \n",
       "8                    0.3  \n",
       "9                    0.1  "
      ]
     },
     "execution_count": 23,
     "metadata": {},
     "output_type": "execute_result"
    }
   ],
   "source": [
    "#проверяем, что нужные столбцы добавлены\n",
    "df.head(10)"
   ]
  },
  {
   "cell_type": "markdown",
   "metadata": {},
   "source": [
    "### Вывод"
   ]
  },
  {
   "cell_type": "markdown",
   "metadata": {},
   "source": [
    "Необходимые расчёты завершены. В исходный датафрейм добавлены столбцы: price_for_1_sq_m,\tweekday,\tmonth,\tyear,\tliving_to_total_area,\tkitchen_to_total_area,\tfloor_category."
   ]
  },
  {
   "cell_type": "markdown",
   "metadata": {},
   "source": [
    "## Исследовательский анализ данных"
   ]
  },
  {
   "cell_type": "markdown",
   "metadata": {},
   "source": [
    "### Построение гистограмм по площади, цене, числу комнат, высоте потолков."
   ]
  },
  {
   "cell_type": "markdown",
   "metadata": {},
   "source": [
    "Изучу площади квартир"
   ]
  },
  {
   "cell_type": "code",
   "execution_count": 24,
   "metadata": {},
   "outputs": [
    {
     "data": {
      "text/plain": [
       "count   23,699.0\n",
       "mean        60.3\n",
       "std         35.7\n",
       "min         12.0\n",
       "25%         40.0\n",
       "50%         52.0\n",
       "75%         69.9\n",
       "max        900.0\n",
       "Name: total_area, dtype: float64"
      ]
     },
     "execution_count": 24,
     "metadata": {},
     "output_type": "execute_result"
    }
   ],
   "source": [
    "df['total_area'].describe()"
   ]
  },
  {
   "cell_type": "markdown",
   "metadata": {},
   "source": [
    "Среднее значение около 60 кв.м. Максимальное значение -  900. Такое максимальное значение либо ошибка, либо намеренно внесены неверные данные. Нужно отбраковать это значение. Минимальное значение 12 кв м может быть. Это может быть студия. Оставлю."
   ]
  },
  {
   "cell_type": "markdown",
   "metadata": {},
   "source": [
    "Построим гистограмму для площадей квартир."
   ]
  },
  {
   "cell_type": "code",
   "execution_count": 25,
   "metadata": {},
   "outputs": [
    {
     "data": {
      "text/plain": [
       "<AxesSubplot:>"
      ]
     },
     "execution_count": 25,
     "metadata": {},
     "output_type": "execute_result"
    },
    {
     "data": {
      "image/png": "[encoded data removed]",
      "text/plain": [
       "<Figure size 432x288 with 1 Axes>"
      ]
     },
     "metadata": {
      "needs_background": "light"
     },
     "output_type": "display_data"
    }
   ],
   "source": [
    "df['total_area'].hist(bins=70, range=(10,901))"
   ]
  },
  {
   "cell_type": "markdown",
   "metadata": {},
   "source": [
    "Замечаю высокую концентрацию значений близко к 50. Также вижу, что распредение по форме похоже на экспотенциальное распределение."
   ]
  },
  {
   "cell_type": "markdown",
   "metadata": {},
   "source": [
    "Изучу цены на квартиры."
   ]
  },
  {
   "cell_type": "code",
   "execution_count": 26,
   "metadata": {},
   "outputs": [
    {
     "data": {
      "text/plain": [
       "count        23,699.0\n",
       "mean      6,541,548.8\n",
       "std      10,887,013.3\n",
       "min          12,190.0\n",
       "25%       3,400,000.0\n",
       "50%       4,650,000.0\n",
       "75%       6,800,000.0\n",
       "max     763,000,000.0\n",
       "Name: last_price, dtype: float64"
      ]
     },
     "execution_count": 26,
     "metadata": {},
     "output_type": "execute_result"
    }
   ],
   "source": [
    "pd.options.display.float_format = '{:,.1f}'.format\n",
    "df['last_price'].describe()"
   ]
  },
  {
   "cell_type": "markdown",
   "metadata": {},
   "source": [
    "Максимальная цена квартиры 763 миллиона рублей. Минимальная цена квартиры 12191 рубль. Это опять-таки значения, которыми можно будет принебречь. Среднее значение около 6 миллионов рублей. Стандартное отклонение 10 миллионов! Такое стандартное отклонение скорее всего из-за того, что присутствуют значения, которых не должно быть. "
   ]
  },
  {
   "cell_type": "markdown",
   "metadata": {},
   "source": [
    "Построим гистограмму для цен квартир."
   ]
  },
  {
   "cell_type": "code",
   "execution_count": 27,
   "metadata": {},
   "outputs": [
    {
     "data": {
      "image/png": "[encoded data removed]",
      "text/plain": [
       "<Figure size 432x288 with 1 Axes>"
      ]
     },
     "metadata": {
      "needs_background": "light"
     },
     "output_type": "display_data"
    }
   ],
   "source": [
    "df.hist('last_price', bins=100, range=(0, df['last_price'].median()*3));"
   ]
  },
  {
   "cell_type": "markdown",
   "metadata": {},
   "source": [
    "Изучу число комнат в квартирах."
   ]
  },
  {
   "cell_type": "code",
   "execution_count": 28,
   "metadata": {},
   "outputs": [
    {
     "data": {
      "text/plain": [
       "count   23,699.0\n",
       "mean         2.1\n",
       "std          1.1\n",
       "min          0.0\n",
       "25%          1.0\n",
       "50%          2.0\n",
       "75%          3.0\n",
       "max         19.0\n",
       "Name: rooms, dtype: float64"
      ]
     },
     "execution_count": 28,
     "metadata": {},
     "output_type": "execute_result"
    }
   ],
   "source": [
    "df['rooms'].describe()"
   ]
  },
  {
   "cell_type": "markdown",
   "metadata": {},
   "source": [
    "Все значения в норме, кроме максимального - 19 комнат. Это прям какой-то дворец. Скорее всего это значение попало в данные по ошибке."
   ]
  },
  {
   "cell_type": "markdown",
   "metadata": {},
   "source": [
    "Построим гистограмму для чила комнат"
   ]
  },
  {
   "cell_type": "code",
   "execution_count": 29,
   "metadata": {},
   "outputs": [
    {
     "data": {
      "text/plain": [
       "<AxesSubplot:>"
      ]
     },
     "execution_count": 29,
     "metadata": {},
     "output_type": "execute_result"
    },
    {
     "data": {
      "image/png": "[encoded data removed]",
      "text/plain": [
       "<Figure size 432x288 with 1 Axes>"
      ]
     },
     "metadata": {
      "needs_background": "light"
     },
     "output_type": "display_data"
    }
   ],
   "source": [
    "df['rooms'].hist(bins=25)"
   ]
  },
  {
   "cell_type": "markdown",
   "metadata": {},
   "source": [
    "Число комнат принимает фиксированное значение: 1, 2, 3. Больше всего квартир с числом комнат около 2-х. Это нормально. "
   ]
  },
  {
   "cell_type": "markdown",
   "metadata": {},
   "source": [
    "Изучу высоту потолков в квартирах"
   ]
  },
  {
   "cell_type": "code",
   "execution_count": 30,
   "metadata": {},
   "outputs": [
    {
     "data": {
      "text/plain": [
       "count   14,504.0\n",
       "mean         2.8\n",
       "std          1.3\n",
       "min          1.0\n",
       "25%          2.5\n",
       "50%          2.6\n",
       "75%          2.8\n",
       "max        100.0\n",
       "Name: ceiling_height, dtype: float64"
      ]
     },
     "execution_count": 30,
     "metadata": {},
     "output_type": "execute_result"
    }
   ],
   "source": [
    "df['ceiling_height'].describe()"
   ]
  },
  {
   "cell_type": "markdown",
   "metadata": {},
   "source": [
    "Здесь тоже все значения в пределах нормы, кроме как максимального. Это однозначно неверное значение, от которого смеломожно будет избавиться"
   ]
  },
  {
   "cell_type": "markdown",
   "metadata": {},
   "source": [
    "Построю гистограмму для высоты потолков в квартирах"
   ]
  },
  {
   "cell_type": "code",
   "execution_count": 31,
   "metadata": {},
   "outputs": [
    {
     "data": {
      "text/plain": [
       "<AxesSubplot:>"
      ]
     },
     "execution_count": 31,
     "metadata": {},
     "output_type": "execute_result"
    },
    {
     "data": {
      "image/png": "[encoded data removed]",
      "text/plain": [
       "<Figure size 432x288 with 1 Axes>"
      ]
     },
     "metadata": {
      "needs_background": "light"
     },
     "output_type": "display_data"
    }
   ],
   "source": [
    "df['ceiling_height'].hist(bins=100)"
   ]
  },
  {
   "cell_type": "markdown",
   "metadata": {},
   "source": [
    "Тяжело читать гистограмму из-за выбивающегося значения в 100 м."
   ]
  },
  {
   "cell_type": "code",
   "execution_count": 32,
   "metadata": {},
   "outputs": [
    {
     "data": {
      "image/png": "[encoded data removed]",
      "text/plain": [
       "<Figure size 432x288 with 1 Axes>"
      ]
     },
     "metadata": {
      "needs_background": "light"
     },
     "output_type": "display_data"
    }
   ],
   "source": [
    "df.hist('ceiling_height', bins=100, range=(1, df['ceiling_height'].median()*2));"
   ]
  },
  {
   "cell_type": "markdown",
   "metadata": {},
   "source": [
    "### Изучение времени продажи квартиры"
   ]
  },
  {
   "cell_type": "code",
   "execution_count": 33,
   "metadata": {},
   "outputs": [
    {
     "data": {
      "text/plain": [
       "count   20,518.0\n",
       "mean       180.9\n",
       "std        219.7\n",
       "min          1.0\n",
       "25%         45.0\n",
       "50%         95.0\n",
       "75%        232.0\n",
       "max      1,580.0\n",
       "Name: days_exposition, dtype: float64"
      ]
     },
     "execution_count": 33,
     "metadata": {},
     "output_type": "execute_result"
    }
   ],
   "source": [
    "df['days_exposition'].describe()"
   ]
  },
  {
   "cell_type": "markdown",
   "metadata": {},
   "source": [
    "Максимальное время продажи квартиры - 1580 дней. Минимальное время продажи кварттры 1 день. Среднее время продажи квартиры 180 дней.\n",
    "На мой взгляд 1580 дней, то есть примерно 4 года - неправдоподобное значение. Скорее всего это объявление забыли снять с публикации. Но такие значения сильно влияют на среднее значение. <br>\n"
   ]
  },
  {
   "cell_type": "code",
   "execution_count": 34,
   "metadata": {},
   "outputs": [
    {
     "data": {
      "text/plain": [
       "<AxesSubplot:>"
      ]
     },
     "execution_count": 34,
     "metadata": {},
     "output_type": "execute_result"
    },
    {
     "data": {
      "image/png": "[encoded data removed]",
      "text/plain": [
       "<Figure size 432x288 with 1 Axes>"
      ]
     },
     "metadata": {
      "needs_background": "light"
     },
     "output_type": "display_data"
    }
   ],
   "source": [
    "#строим гистограмму по столбцу 'days_exposition'\n",
    "df['days_exposition'].hist(bins=100)"
   ]
  },
  {
   "cell_type": "markdown",
   "metadata": {},
   "source": [
    "Теперь по гистограмме видно, что больше всего продавали квартиры около 50 дней."
   ]
  },
  {
   "cell_type": "code",
   "execution_count": 35,
   "metadata": {},
   "outputs": [
    {
     "data": {
      "text/plain": [
       "95.0"
      ]
     },
     "execution_count": 35,
     "metadata": {},
     "output_type": "execute_result"
    }
   ],
   "source": [
    "#посчитаем медиану\n",
    "df['days_exposition'].median()"
   ]
  },
  {
   "cell_type": "markdown",
   "metadata": {},
   "source": [
    "Среднее и медиана отличаются почти в 2 раза. На среднее могут сильно влиять выбросы (длинный хвост с высокими значениями), поэтому в данном случае это не та характеристика, на которую стоит ориентироваться. Она не совсем объективна."
   ]
  },
  {
   "cell_type": "markdown",
   "metadata": {},
   "source": [
    "### Отбраковка редких и выбивающихся значений"
   ]
  },
  {
   "cell_type": "markdown",
   "metadata": {},
   "source": [
    "В первую очередь избавлюсь от квартир у которых неправдоподобно высокие и низкие потолки. Принято, что высота потолков в квартирах в среднем 2,5 -2,7 м. Даже если на продажу стоит элитное жилье, предположим, максимальная высота потолков 4 м. Отбракуем данные с высотой потолков больше 4 м. <br>\n",
    "При этом высота потолка 1 м и 1.2 тоже не выглядит правдоподобной. Это какой-то чердак. Избавлюсь от этих значений."
   ]
  },
  {
   "cell_type": "code",
   "execution_count": 36,
   "metadata": {},
   "outputs": [],
   "source": [
    "df = df.query('1.2 < ceiling_height < 4 or ceiling_height != ceiling_height') #выбираем квартиры с высотой потолка от 1,2 до 4"
   ]
  },
  {
   "cell_type": "markdown",
   "metadata": {},
   "source": [
    "Избавлюсь от квартир с аномальными площадями. Примем во внимание, что в Санкт-Петербурге площадь самой большой квартиры 539 кв м (источник https://is.gd/X2Mwou). Значит все квартиры с площадью больше 539 кв м смело можно отбраковать. Также избавимся от длинного хвоста с очень большими площадями квартир. Оставим квартиры с площадью не более 200 кв м"
   ]
  },
  {
   "cell_type": "code",
   "execution_count": 37,
   "metadata": {},
   "outputs": [],
   "source": [
    "max_area = 200\n",
    "df = df.query('total_area < @max_area') #выбираем квартиры с площадью до 200 кв м"
   ]
  },
  {
   "cell_type": "code",
   "execution_count": 38,
   "metadata": {},
   "outputs": [
    {
     "data": {
      "text/plain": [
       "<AxesSubplot:>"
      ]
     },
     "execution_count": 38,
     "metadata": {},
     "output_type": "execute_result"
    },
    {
     "data": {
      "image/png": "[encoded data removed]",
      "text/plain": [
       "<Figure size 432x288 with 1 Axes>"
      ]
     },
     "metadata": {
      "needs_background": "light"
     },
     "output_type": "display_data"
    }
   ],
   "source": [
    "df['total_area'].hist() #строим гистограмму"
   ]
  },
  {
   "cell_type": "markdown",
   "metadata": {},
   "source": [
    "Вот такое распределение площади квартир уже нормальное. И гистограмма считывается намного легче.Мы видим отчётливый пик в районе 35-40 кв м. Что соответствует типичной квартире в Санкт-Петербурге."
   ]
  },
  {
   "cell_type": "markdown",
   "metadata": {},
   "source": [
    "Посмотрим на цены квартир. Судя по данным ЦИАН квартиры могут стоить и больше 700 млн рублей: https://is.gd/EUAsqf . Но суть задания: избавиться от редких и выбивающихся значений. Отбракуем все квартиры с ценой более 21 000 000 рублей. Пускай минимальная цена квартиры 2 млн рублей. Уберём все квартиры со стоимостью ниже этой"
   ]
  },
  {
   "cell_type": "code",
   "execution_count": 39,
   "metadata": {},
   "outputs": [],
   "source": [
    "min_price = 2000000\n",
    "max_price = 21000000\n",
    "df = df.query('@min_price < last_price < @max_price') #выбираем квартиры с ценой от 2 до 21 млн"
   ]
  },
  {
   "cell_type": "code",
   "execution_count": 40,
   "metadata": {},
   "outputs": [
    {
     "data": {
      "text/plain": [
       "count       21,450.0\n",
       "mean     5,683,458.3\n",
       "std      3,164,532.1\n",
       "min      2,006,000.0\n",
       "25%      3,600,000.0\n",
       "50%      4,700,000.0\n",
       "75%      6,680,000.0\n",
       "max     20,990,000.0\n",
       "Name: last_price, dtype: float64"
      ]
     },
     "execution_count": 40,
     "metadata": {},
     "output_type": "execute_result"
    }
   ],
   "source": [
    "df['last_price'].describe()"
   ]
  },
  {
   "cell_type": "code",
   "execution_count": 41,
   "metadata": {},
   "outputs": [
    {
     "data": {
      "text/plain": [
       "<AxesSubplot:>"
      ]
     },
     "execution_count": 41,
     "metadata": {},
     "output_type": "execute_result"
    },
    {
     "data": {
      "image/png": "[encoded data removed]",
      "text/plain": [
       "<Figure size 432x288 with 1 Axes>"
      ]
     },
     "metadata": {
      "needs_background": "light"
     },
     "output_type": "display_data"
    }
   ],
   "source": [
    "df['last_price'].hist()"
   ]
  },
  {
   "cell_type": "markdown",
   "metadata": {},
   "source": [
    "Прекрасная гистограмма, которая демонстрирует, что больше всего предложений квартир со стоимостью 5 млн рублей. Это, конечно, не соответствует 2022 году, но более менее приемлимое значение."
   ]
  },
  {
   "cell_type": "markdown",
   "metadata": {},
   "source": [
    "Избавимся от квартир с аномальным количеством компант. Судя по всему, в Петерубрге максимальное количество комнат в квартире - 7 (https://www.bn.ru/gazeta/articles/256992/) . Значит избавимся от квартир, где комнат больше 7."
   ]
  },
  {
   "cell_type": "code",
   "execution_count": 42,
   "metadata": {},
   "outputs": [],
   "source": [
    "df = df.query('rooms <= 7') #выбираем квартиры с числом комнат до 7"
   ]
  },
  {
   "cell_type": "code",
   "execution_count": 43,
   "metadata": {},
   "outputs": [
    {
     "data": {
      "text/plain": [
       "count   21,448.0\n",
       "mean         2.0\n",
       "std          1.0\n",
       "min          0.0\n",
       "25%          1.0\n",
       "50%          2.0\n",
       "75%          3.0\n",
       "max          7.0\n",
       "Name: rooms, dtype: float64"
      ]
     },
     "execution_count": 43,
     "metadata": {},
     "output_type": "execute_result"
    }
   ],
   "source": [
    "df['rooms'].describe()"
   ]
  },
  {
   "cell_type": "markdown",
   "metadata": {},
   "source": [
    "Причин бороться с длинными продажами вроде как нет."
   ]
  },
  {
   "cell_type": "markdown",
   "metadata": {},
   "source": [
    "Узнаем, к чему привела отбраковка данных"
   ]
  },
  {
   "cell_type": "code",
   "execution_count": 44,
   "metadata": {},
   "outputs": [
    {
     "name": "stdout",
     "output_type": "stream",
     "text": [
      "Мы отбраковали 9.5% данных\n"
     ]
    }
   ],
   "source": [
    "#количество строк в отбракованном датафрейме\n",
    "amount_of_data = len(df)\n",
    "\n",
    "print(f'Мы отбраковали {(1 - amount_of_data / amount_of_data_initial):.1%} данных')"
   ]
  },
  {
   "cell_type": "markdown",
   "metadata": {},
   "source": [
    "### Какие факторы больше всего влияют на стоимость квартиры"
   ]
  },
  {
   "cell_type": "markdown",
   "metadata": {},
   "source": [
    "Узнаем, зависит ли цена квартиры от её площади, числа комнат, удалённости от центра"
   ]
  },
  {
   "cell_type": "code",
   "execution_count": 45,
   "metadata": {},
   "outputs": [
    {
     "data": {
      "text/plain": [
       "0.7826991033421374"
      ]
     },
     "execution_count": 45,
     "metadata": {},
     "output_type": "execute_result"
    }
   ],
   "source": [
    "df['last_price'].corr(df['total_area']) #проверяем зависимость цены от  площади квартиры"
   ]
  },
  {
   "cell_type": "code",
   "execution_count": 46,
   "metadata": {},
   "outputs": [
    {
     "data": {
      "image/png": "[encoded data removed]",
      "text/plain": [
       "<Figure size 432x288 with 1 Axes>"
      ]
     },
     "metadata": {
      "needs_background": "light"
     },
     "output_type": "display_data"
    }
   ],
   "source": [
    "sns.scatterplot(x='last_price', y='total_area', data=df) #визуализируем эту зависимость\n",
    "plt.show()"
   ]
  },
  {
   "cell_type": "markdown",
   "metadata": {},
   "source": [
    "Средняя положительная корреляция цены квартиры в зависимости от её площади"
   ]
  },
  {
   "cell_type": "code",
   "execution_count": 47,
   "metadata": {},
   "outputs": [
    {
     "data": {
      "text/plain": [
       "0.5108527040819626"
      ]
     },
     "execution_count": 47,
     "metadata": {},
     "output_type": "execute_result"
    }
   ],
   "source": [
    "df['last_price'].corr(df['rooms']) #проверяем зависимость цены от количества комнат в кавартире"
   ]
  },
  {
   "cell_type": "code",
   "execution_count": 48,
   "metadata": {},
   "outputs": [
    {
     "data": {
      "image/png": "[encoded data removed]",
      "text/plain": [
       "<Figure size 432x288 with 1 Axes>"
      ]
     },
     "metadata": {
      "needs_background": "light"
     },
     "output_type": "display_data"
    }
   ],
   "source": [
    "sns.scatterplot(x='rooms', y='last_price', data=df) #визуализируем эту зависимость\n",
    "plt.show()"
   ]
  },
  {
   "cell_type": "markdown",
   "metadata": {},
   "source": [
    "Слабая положительная корреляция цены квартиры в зависимости от количества комнат"
   ]
  },
  {
   "cell_type": "code",
   "execution_count": 49,
   "metadata": {},
   "outputs": [
    {
     "data": {
      "text/plain": [
       "-0.35403119632288577"
      ]
     },
     "execution_count": 49,
     "metadata": {},
     "output_type": "execute_result"
    }
   ],
   "source": [
    "df['last_price'].corr(df['cityCenters_nearest'])  #проверяем зависимость цены от удалённости до центра"
   ]
  },
  {
   "cell_type": "code",
   "execution_count": 50,
   "metadata": {},
   "outputs": [
    {
     "data": {
      "image/png": "[encoded data removed]",
      "text/plain": [
       "<Figure size 432x288 with 1 Axes>"
      ]
     },
     "metadata": {
      "needs_background": "light"
     },
     "output_type": "display_data"
    }
   ],
   "source": [
    "sns.scatterplot(x='cityCenters_nearest', y='last_price', data=df) #визуализируем эту зависимость\n",
    "plt.show()"
   ]
  },
  {
   "cell_type": "markdown",
   "metadata": {},
   "source": [
    "Слабая отрицательная корреляция цены квартиры от расстояния до центра. То есть чем больше цена квартиры, тем меньше расстояние до центра города"
   ]
  },
  {
   "cell_type": "markdown",
   "metadata": {},
   "source": [
    "Узнаем, зависит ли цена квартиры от того, на каком этаже расположена квартира: первом, последнем или другом"
   ]
  },
  {
   "cell_type": "code",
   "execution_count": 51,
   "metadata": {},
   "outputs": [
    {
     "data": {
      "image/png": "[encoded data removed]",
      "text/plain": [
       "<Figure size 432x288 with 1 Axes>"
      ]
     },
     "metadata": {
      "needs_background": "light"
     },
     "output_type": "display_data"
    }
   ],
   "source": [
    "#проверяем зависимость цены от этажа\n",
    "sns.histplot(x=\"last_price\", \n",
    "             data=df, \n",
    "             hue=\"floor_category\", \n",
    "             element=\"step\")  \n",
    "\n",
    "plt.show()"
   ]
  },
  {
   "cell_type": "markdown",
   "metadata": {},
   "source": [
    "В колонке \"floor_category\" находятся категориальные значения. Для них мы не можем посчитать коэффициант коррелиции, но зато смогли визуализировать эту зависимость. Цена квартиры определенно зависит от этажности. Мы видим, что больше всего цена на квартиры, где этаж не первый и не последний. Те квартиры, которые находятся на первом или последнем этаже имеют цену в несколько раз меньше."
   ]
  },
  {
   "cell_type": "markdown",
   "metadata": {},
   "source": [
    "Узнаем, зависит ли цена квартиры от от даты размещения."
   ]
  },
  {
   "cell_type": "code",
   "execution_count": 52,
   "metadata": {},
   "outputs": [
    {
     "data": {
      "image/png": "[encoded data removed]",
      "text/plain": [
       "<Figure size 432x288 with 1 Axes>"
      ]
     },
     "metadata": {
      "needs_background": "light"
     },
     "output_type": "display_data"
    }
   ],
   "source": [
    "(df.pivot_table(index='year',\n",
    "                values='last_price',\n",
    "                aggfunc='median')\n",
    "                .plot() \n",
    ");"
   ]
  },
  {
   "cell_type": "markdown",
   "metadata": {},
   "source": [
    " Цена на квартиры зависит от даты размещения. C начала 2015 года по начало 2016 года цены на квартиры снижались. В 2016 году цены на квартиры не менялись. С начала 2017 года цены на квартиры повышались. С 2017 года по 2019 год цены на квартиры поднялись на 6,2%."
   ]
  },
  {
   "cell_type": "code",
   "execution_count": 53,
   "metadata": {},
   "outputs": [
    {
     "data": {
      "image/png": "[encoded data removed]",
      "text/plain": [
       "<Figure size 432x288 with 1 Axes>"
      ]
     },
     "metadata": {
      "needs_background": "light"
     },
     "output_type": "display_data"
    }
   ],
   "source": [
    "#строим график зависимости цены квартиры от дня недели\n",
    "(df.pivot_table(index='weekday',values='last_price',aggfunc='median')\n",
    "                .plot()\n",
    ");    "
   ]
  },
  {
   "cell_type": "markdown",
   "metadata": {},
   "source": [
    "Цена на квартиры зависит от даты размещения. Судя по графику, самые высокие цены на квартиры, размещенные во вторник (1 день недели). Самые низкие цены на квартиры, размещенные в субботу."
   ]
  },
  {
   "cell_type": "code",
   "execution_count": 54,
   "metadata": {},
   "outputs": [
    {
     "data": {
      "image/png": "[encoded data removed]",
      "text/plain": [
       "<Figure size 432x288 with 1 Axes>"
      ]
     },
     "metadata": {
      "needs_background": "light"
     },
     "output_type": "display_data"
    }
   ],
   "source": [
    "#строим график зависимости цены квартиры от месяца\n",
    "(df.pivot_table(index='month',values='last_price',aggfunc='median')\n",
    "                .plot()\n",
    ");   "
   ]
  },
  {
   "cell_type": "markdown",
   "metadata": {},
   "source": [
    "Цена на квартиры зависит от даты размещения. Самые высокие цены на квартиры, размещенные в апреле. Самые низкие цены на квартиры, размещенные в июне."
   ]
  },
  {
   "cell_type": "markdown",
   "metadata": {},
   "source": [
    "### Найдём населенные пункты с самой высокой и самой низкой стоимостью жилья"
   ]
  },
  {
   "cell_type": "markdown",
   "metadata": {},
   "source": [
    "Выберем 10 населённых пунктов с наибольшим числом объявлений. "
   ]
  },
  {
   "cell_type": "code",
   "execution_count": 55,
   "metadata": {},
   "outputs": [
    {
     "data": {
      "text/html": [
       "<div>\n",
       "<style scoped>\n",
       "    .dataframe tbody tr th:only-of-type {\n",
       "        vertical-align: middle;\n",
       "    }\n",
       "\n",
       "    .dataframe tbody tr th {\n",
       "        vertical-align: top;\n",
       "    }\n",
       "\n",
       "    .dataframe thead th {\n",
       "        text-align: right;\n",
       "    }\n",
       "</style>\n",
       "<table border=\"1\" class=\"dataframe\">\n",
       "  <thead>\n",
       "    <tr style=\"text-align: right;\">\n",
       "      <th></th>\n",
       "      <th>city</th>\n",
       "      <th>locality_name</th>\n",
       "    </tr>\n",
       "  </thead>\n",
       "  <tbody>\n",
       "    <tr>\n",
       "      <th>0</th>\n",
       "      <td>Санкт-Петербург</td>\n",
       "      <td>14948</td>\n",
       "    </tr>\n",
       "    <tr>\n",
       "      <th>1</th>\n",
       "      <td>посёлок Мурино</td>\n",
       "      <td>505</td>\n",
       "    </tr>\n",
       "    <tr>\n",
       "      <th>2</th>\n",
       "      <td>посёлок Шушары</td>\n",
       "      <td>436</td>\n",
       "    </tr>\n",
       "    <tr>\n",
       "      <th>3</th>\n",
       "      <td>Всеволожск</td>\n",
       "      <td>373</td>\n",
       "    </tr>\n",
       "    <tr>\n",
       "      <th>4</th>\n",
       "      <td>Пушкин</td>\n",
       "      <td>357</td>\n",
       "    </tr>\n",
       "    <tr>\n",
       "      <th>5</th>\n",
       "      <td>Колпино</td>\n",
       "      <td>337</td>\n",
       "    </tr>\n",
       "    <tr>\n",
       "      <th>6</th>\n",
       "      <td>посёлок Парголово</td>\n",
       "      <td>323</td>\n",
       "    </tr>\n",
       "    <tr>\n",
       "      <th>7</th>\n",
       "      <td>деревня Кудрово</td>\n",
       "      <td>298</td>\n",
       "    </tr>\n",
       "    <tr>\n",
       "      <th>8</th>\n",
       "      <td>Гатчина</td>\n",
       "      <td>285</td>\n",
       "    </tr>\n",
       "    <tr>\n",
       "      <th>9</th>\n",
       "      <td>Петергоф</td>\n",
       "      <td>198</td>\n",
       "    </tr>\n",
       "  </tbody>\n",
       "</table>\n",
       "</div>"
      ],
      "text/plain": [
       "                city  locality_name\n",
       "0    Санкт-Петербург          14948\n",
       "1     посёлок Мурино            505\n",
       "2     посёлок Шушары            436\n",
       "3         Всеволожск            373\n",
       "4             Пушкин            357\n",
       "5            Колпино            337\n",
       "6  посёлок Парголово            323\n",
       "7    деревня Кудрово            298\n",
       "8            Гатчина            285\n",
       "9           Петергоф            198"
      ]
     },
     "execution_count": 55,
     "metadata": {},
     "output_type": "execute_result"
    }
   ],
   "source": [
    "ads = (\n",
    "    df['locality_name'].value_counts()\n",
    "    .sort_values(ascending=False)\n",
    "    .head(10)\n",
    "    .reset_index()\n",
    ")\n",
    "ads = ads.rename(columns={'index': 'city'})\n",
    "ads"
   ]
  },
  {
   "cell_type": "markdown",
   "metadata": {},
   "source": [
    "Посчитаем среднюю цену кв м на жильё в этих населенных пунктах."
   ]
  },
  {
   "cell_type": "code",
   "execution_count": 56,
   "metadata": {},
   "outputs": [
    {
     "data": {
      "text/html": [
       "<div>\n",
       "<style scoped>\n",
       "    .dataframe tbody tr th:only-of-type {\n",
       "        vertical-align: middle;\n",
       "    }\n",
       "\n",
       "    .dataframe tbody tr th {\n",
       "        vertical-align: top;\n",
       "    }\n",
       "\n",
       "    .dataframe thead th {\n",
       "        text-align: right;\n",
       "    }\n",
       "</style>\n",
       "<table border=\"1\" class=\"dataframe\">\n",
       "  <thead>\n",
       "    <tr style=\"text-align: right;\">\n",
       "      <th></th>\n",
       "      <th>price_for_1_sq_m</th>\n",
       "    </tr>\n",
       "    <tr>\n",
       "      <th>locality_name</th>\n",
       "      <th></th>\n",
       "    </tr>\n",
       "  </thead>\n",
       "  <tbody>\n",
       "    <tr>\n",
       "      <th>Всеволожск</th>\n",
       "      <td>67,811.2</td>\n",
       "    </tr>\n",
       "    <tr>\n",
       "      <th>Гатчина</th>\n",
       "      <td>70,403.5</td>\n",
       "    </tr>\n",
       "    <tr>\n",
       "      <th>Колпино</th>\n",
       "      <td>75,333.3</td>\n",
       "    </tr>\n",
       "    <tr>\n",
       "      <th>посёлок Шушары</th>\n",
       "      <td>78,768.8</td>\n",
       "    </tr>\n",
       "    <tr>\n",
       "      <th>Петергоф</th>\n",
       "      <td>84,370.5</td>\n",
       "    </tr>\n",
       "    <tr>\n",
       "      <th>посёлок Мурино</th>\n",
       "      <td>86,032.6</td>\n",
       "    </tr>\n",
       "    <tr>\n",
       "      <th>посёлок Парголово</th>\n",
       "      <td>90,635.5</td>\n",
       "    </tr>\n",
       "    <tr>\n",
       "      <th>деревня Кудрово</th>\n",
       "      <td>92,481.8</td>\n",
       "    </tr>\n",
       "    <tr>\n",
       "      <th>Пушкин</th>\n",
       "      <td>101,901.1</td>\n",
       "    </tr>\n",
       "    <tr>\n",
       "      <th>Санкт-Петербург</th>\n",
       "      <td>108,858.9</td>\n",
       "    </tr>\n",
       "  </tbody>\n",
       "</table>\n",
       "</div>"
      ],
      "text/plain": [
       "                   price_for_1_sq_m\n",
       "locality_name                      \n",
       "Всеволожск                 67,811.2\n",
       "Гатчина                    70,403.5\n",
       "Колпино                    75,333.3\n",
       "посёлок Шушары             78,768.8\n",
       "Петергоф                   84,370.5\n",
       "посёлок Мурино             86,032.6\n",
       "посёлок Парголово          90,635.5\n",
       "деревня Кудрово            92,481.8\n",
       "Пушкин                    101,901.1\n",
       "Санкт-Петербург           108,858.9"
      ]
     },
     "execution_count": 56,
     "metadata": {},
     "output_type": "execute_result"
    }
   ],
   "source": [
    "#зададим список, куда поместим населенные пункты с самым большим количеством объявлений\n",
    "most_ads = ads['city']\n",
    "\n",
    "#выберем в исходном датафреймы строки только с этими населенными пунктами\n",
    "#построим по этим выбранным строкам сводную таблицу, где для каждого населенного пункта \n",
    "#будет вычисляться средняя цена за 1 кв м квартиры\n",
    "(\n",
    "    df.query('locality_name in @most_ads')\n",
    "    .pivot_table(index='locality_name', \n",
    "                 values='price_for_1_sq_m', \n",
    "                 aggfunc='mean')\n",
    "    .sort_values(by='price_for_1_sq_m')\n",
    ")"
   ]
  },
  {
   "cell_type": "markdown",
   "metadata": {},
   "source": [
    "Населенный пункт с самой высокой стоимостью жилья: Санкт-Петербург. Населенный пункт с самой низкой стоимостью жилья: Всеволожск"
   ]
  },
  {
   "cell_type": "markdown",
   "metadata": {},
   "source": [
    "### Выясним, какая область является центром города"
   ]
  },
  {
   "cell_type": "markdown",
   "metadata": {},
   "source": [
    "Выберем квартиры в Санкт-Петербурге"
   ]
  },
  {
   "cell_type": "code",
   "execution_count": 57,
   "metadata": {},
   "outputs": [],
   "source": [
    "spb_flats = df.query('locality_name == \"Санкт-Петербург\"')"
   ]
  },
  {
   "cell_type": "markdown",
   "metadata": {},
   "source": [
    "Выясним, какая область входит в центр города. Создадим столбец с расстоянием до центра в километрах: округлим до целых значений. "
   ]
  },
  {
   "cell_type": "code",
   "execution_count": 58,
   "metadata": {},
   "outputs": [],
   "source": [
    "import warnings\n",
    "warnings.simplefilter(\"ignore\")"
   ]
  },
  {
   "cell_type": "code",
   "execution_count": 59,
   "metadata": {
    "scrolled": true
   },
   "outputs": [],
   "source": [
    "spb_flats['cityCenters_nearest_km'] = (spb_flats['cityCenters_nearest'] / 1000).round(decimals=0) #округляем"
   ]
  },
  {
   "cell_type": "markdown",
   "metadata": {},
   "source": [
    "Посчитаем среднюю цену для каждого километра. Построим график, показывающий, как цена зависит от удалённости от центра."
   ]
  },
  {
   "cell_type": "code",
   "execution_count": 60,
   "metadata": {},
   "outputs": [
    {
     "data": {
      "image/png": "[encoded data removed]",
      "text/plain": [
       "<Figure size 432x288 with 1 Axes>"
      ]
     },
     "metadata": {
      "needs_background": "light"
     },
     "output_type": "display_data"
    }
   ],
   "source": [
    "spb_flats.pivot_table(index='cityCenters_nearest_km', values='last_price', aggfunc='mean').plot(grid=True)\n",
    "plt.show()"
   ]
  },
  {
   "cell_type": "markdown",
   "metadata": {},
   "source": [
    "Самый острый угол наклона графика при переходе с 8 на 9 км. Цена меняется примерно на 0,17 [0,8 - 0,63]. Центральная зона: 8 км."
   ]
  },
  {
   "cell_type": "markdown",
   "metadata": {},
   "source": [
    "### Сравнение выводов по квартирам в центре и общих выводов по всему городу"
   ]
  },
  {
   "cell_type": "markdown",
   "metadata": {},
   "source": [
    "Выделим сегмент квартир в центре. "
   ]
  },
  {
   "cell_type": "code",
   "execution_count": 61,
   "metadata": {},
   "outputs": [
    {
     "data": {
      "text/html": [
       "<div>\n",
       "<style scoped>\n",
       "    .dataframe tbody tr th:only-of-type {\n",
       "        vertical-align: middle;\n",
       "    }\n",
       "\n",
       "    .dataframe tbody tr th {\n",
       "        vertical-align: top;\n",
       "    }\n",
       "\n",
       "    .dataframe thead th {\n",
       "        text-align: right;\n",
       "    }\n",
       "</style>\n",
       "<table border=\"1\" class=\"dataframe\">\n",
       "  <thead>\n",
       "    <tr style=\"text-align: right;\">\n",
       "      <th></th>\n",
       "      <th>total_images</th>\n",
       "      <th>last_price</th>\n",
       "      <th>total_area</th>\n",
       "      <th>first_day_exposition</th>\n",
       "      <th>rooms</th>\n",
       "      <th>ceiling_height</th>\n",
       "      <th>floors_total</th>\n",
       "      <th>living_area</th>\n",
       "      <th>floor</th>\n",
       "      <th>is_apartment</th>\n",
       "      <th>studio</th>\n",
       "      <th>open_plan</th>\n",
       "      <th>kitchen_area</th>\n",
       "      <th>balcony</th>\n",
       "      <th>locality_name</th>\n",
       "      <th>airports_nearest</th>\n",
       "      <th>cityCenters_nearest</th>\n",
       "      <th>parks_around3000</th>\n",
       "      <th>parks_nearest</th>\n",
       "      <th>ponds_around3000</th>\n",
       "      <th>ponds_nearest</th>\n",
       "      <th>days_exposition</th>\n",
       "      <th>price_for_1_sq_m</th>\n",
       "      <th>weekday</th>\n",
       "      <th>month</th>\n",
       "      <th>year</th>\n",
       "      <th>floor_category</th>\n",
       "      <th>living_to_total_area</th>\n",
       "      <th>kitchen_to_total_area</th>\n",
       "      <th>cityCenters_nearest_km</th>\n",
       "    </tr>\n",
       "  </thead>\n",
       "  <tbody>\n",
       "    <tr>\n",
       "      <th>4</th>\n",
       "      <td>2</td>\n",
       "      <td>10,000,000.0</td>\n",
       "      <td>100.0</td>\n",
       "      <td>2018-06-19</td>\n",
       "      <td>2</td>\n",
       "      <td>3.0</td>\n",
       "      <td>14.0</td>\n",
       "      <td>32.0</td>\n",
       "      <td>13</td>\n",
       "      <td>NaN</td>\n",
       "      <td>False</td>\n",
       "      <td>False</td>\n",
       "      <td>41.0</td>\n",
       "      <td>0.0</td>\n",
       "      <td>Санкт-Петербург</td>\n",
       "      <td>31,856.0</td>\n",
       "      <td>8,098.0</td>\n",
       "      <td>2.0</td>\n",
       "      <td>112.0</td>\n",
       "      <td>1.0</td>\n",
       "      <td>48.0</td>\n",
       "      <td>121.0</td>\n",
       "      <td>100,000.0</td>\n",
       "      <td>1</td>\n",
       "      <td>6</td>\n",
       "      <td>2018</td>\n",
       "      <td>Другой этаж</td>\n",
       "      <td>0.3</td>\n",
       "      <td>0.4</td>\n",
       "      <td>8.0</td>\n",
       "    </tr>\n",
       "    <tr>\n",
       "      <th>24</th>\n",
       "      <td>8</td>\n",
       "      <td>6,500,000.0</td>\n",
       "      <td>97.2</td>\n",
       "      <td>2015-10-31</td>\n",
       "      <td>2</td>\n",
       "      <td>NaN</td>\n",
       "      <td>3.0</td>\n",
       "      <td>46.5</td>\n",
       "      <td>1</td>\n",
       "      <td>NaN</td>\n",
       "      <td>False</td>\n",
       "      <td>False</td>\n",
       "      <td>19.6</td>\n",
       "      <td>0.0</td>\n",
       "      <td>Санкт-Петербург</td>\n",
       "      <td>20,052.0</td>\n",
       "      <td>2,336.0</td>\n",
       "      <td>3.0</td>\n",
       "      <td>411.0</td>\n",
       "      <td>3.0</td>\n",
       "      <td>124.0</td>\n",
       "      <td>265.0</td>\n",
       "      <td>66,872.4</td>\n",
       "      <td>5</td>\n",
       "      <td>10</td>\n",
       "      <td>2015</td>\n",
       "      <td>Первый этаж</td>\n",
       "      <td>0.5</td>\n",
       "      <td>0.2</td>\n",
       "      <td>2.0</td>\n",
       "    </tr>\n",
       "    <tr>\n",
       "      <th>35</th>\n",
       "      <td>6</td>\n",
       "      <td>15,500,000.0</td>\n",
       "      <td>149.0</td>\n",
       "      <td>2017-06-26</td>\n",
       "      <td>5</td>\n",
       "      <td>NaN</td>\n",
       "      <td>5.0</td>\n",
       "      <td>104.0</td>\n",
       "      <td>4</td>\n",
       "      <td>NaN</td>\n",
       "      <td>False</td>\n",
       "      <td>False</td>\n",
       "      <td>17.0</td>\n",
       "      <td>0.0</td>\n",
       "      <td>Санкт-Петербург</td>\n",
       "      <td>23,670.0</td>\n",
       "      <td>3,502.0</td>\n",
       "      <td>0.0</td>\n",
       "      <td>NaN</td>\n",
       "      <td>1.0</td>\n",
       "      <td>779.0</td>\n",
       "      <td>644.0</td>\n",
       "      <td>104,026.8</td>\n",
       "      <td>0</td>\n",
       "      <td>6</td>\n",
       "      <td>2017</td>\n",
       "      <td>Другой этаж</td>\n",
       "      <td>0.7</td>\n",
       "      <td>0.1</td>\n",
       "      <td>4.0</td>\n",
       "    </tr>\n",
       "    <tr>\n",
       "      <th>52</th>\n",
       "      <td>20</td>\n",
       "      <td>11,795,000.0</td>\n",
       "      <td>136.0</td>\n",
       "      <td>2017-09-22</td>\n",
       "      <td>6</td>\n",
       "      <td>3.0</td>\n",
       "      <td>2.0</td>\n",
       "      <td>94.0</td>\n",
       "      <td>2</td>\n",
       "      <td>NaN</td>\n",
       "      <td>False</td>\n",
       "      <td>False</td>\n",
       "      <td>11.0</td>\n",
       "      <td>1.0</td>\n",
       "      <td>Санкт-Петербург</td>\n",
       "      <td>16,510.0</td>\n",
       "      <td>6,582.0</td>\n",
       "      <td>1.0</td>\n",
       "      <td>526.0</td>\n",
       "      <td>0.0</td>\n",
       "      <td>NaN</td>\n",
       "      <td>NaN</td>\n",
       "      <td>86,727.9</td>\n",
       "      <td>4</td>\n",
       "      <td>9</td>\n",
       "      <td>2017</td>\n",
       "      <td>Последний этаж</td>\n",
       "      <td>0.7</td>\n",
       "      <td>0.1</td>\n",
       "      <td>7.0</td>\n",
       "    </tr>\n",
       "    <tr>\n",
       "      <th>61</th>\n",
       "      <td>18</td>\n",
       "      <td>7,990,000.0</td>\n",
       "      <td>74.0</td>\n",
       "      <td>2017-08-24</td>\n",
       "      <td>2</td>\n",
       "      <td>NaN</td>\n",
       "      <td>4.0</td>\n",
       "      <td>43.0</td>\n",
       "      <td>4</td>\n",
       "      <td>NaN</td>\n",
       "      <td>False</td>\n",
       "      <td>False</td>\n",
       "      <td>20.0</td>\n",
       "      <td>0.0</td>\n",
       "      <td>Санкт-Петербург</td>\n",
       "      <td>22,568.0</td>\n",
       "      <td>4,288.0</td>\n",
       "      <td>1.0</td>\n",
       "      <td>363.0</td>\n",
       "      <td>0.0</td>\n",
       "      <td>NaN</td>\n",
       "      <td>609.0</td>\n",
       "      <td>107,973.0</td>\n",
       "      <td>3</td>\n",
       "      <td>8</td>\n",
       "      <td>2017</td>\n",
       "      <td>Последний этаж</td>\n",
       "      <td>0.6</td>\n",
       "      <td>0.3</td>\n",
       "      <td>4.0</td>\n",
       "    </tr>\n",
       "    <tr>\n",
       "      <th>...</th>\n",
       "      <td>...</td>\n",
       "      <td>...</td>\n",
       "      <td>...</td>\n",
       "      <td>...</td>\n",
       "      <td>...</td>\n",
       "      <td>...</td>\n",
       "      <td>...</td>\n",
       "      <td>...</td>\n",
       "      <td>...</td>\n",
       "      <td>...</td>\n",
       "      <td>...</td>\n",
       "      <td>...</td>\n",
       "      <td>...</td>\n",
       "      <td>...</td>\n",
       "      <td>...</td>\n",
       "      <td>...</td>\n",
       "      <td>...</td>\n",
       "      <td>...</td>\n",
       "      <td>...</td>\n",
       "      <td>...</td>\n",
       "      <td>...</td>\n",
       "      <td>...</td>\n",
       "      <td>...</td>\n",
       "      <td>...</td>\n",
       "      <td>...</td>\n",
       "      <td>...</td>\n",
       "      <td>...</td>\n",
       "      <td>...</td>\n",
       "      <td>...</td>\n",
       "      <td>...</td>\n",
       "    </tr>\n",
       "    <tr>\n",
       "      <th>23665</th>\n",
       "      <td>11</td>\n",
       "      <td>4,250,000.0</td>\n",
       "      <td>47.0</td>\n",
       "      <td>2016-05-20</td>\n",
       "      <td>1</td>\n",
       "      <td>NaN</td>\n",
       "      <td>6.0</td>\n",
       "      <td>18.2</td>\n",
       "      <td>1</td>\n",
       "      <td>False</td>\n",
       "      <td>False</td>\n",
       "      <td>False</td>\n",
       "      <td>14.6</td>\n",
       "      <td>0.0</td>\n",
       "      <td>Санкт-Петербург</td>\n",
       "      <td>20,503.0</td>\n",
       "      <td>4,946.0</td>\n",
       "      <td>2.0</td>\n",
       "      <td>624.0</td>\n",
       "      <td>1.0</td>\n",
       "      <td>519.0</td>\n",
       "      <td>131.0</td>\n",
       "      <td>90,425.5</td>\n",
       "      <td>4</td>\n",
       "      <td>5</td>\n",
       "      <td>2016</td>\n",
       "      <td>Первый этаж</td>\n",
       "      <td>0.4</td>\n",
       "      <td>0.3</td>\n",
       "      <td>5.0</td>\n",
       "    </tr>\n",
       "    <tr>\n",
       "      <th>23681</th>\n",
       "      <td>13</td>\n",
       "      <td>5,250,000.0</td>\n",
       "      <td>43.0</td>\n",
       "      <td>2018-05-11</td>\n",
       "      <td>2</td>\n",
       "      <td>2.5</td>\n",
       "      <td>5.0</td>\n",
       "      <td>29.0</td>\n",
       "      <td>2</td>\n",
       "      <td>NaN</td>\n",
       "      <td>False</td>\n",
       "      <td>False</td>\n",
       "      <td>6.0</td>\n",
       "      <td>0.0</td>\n",
       "      <td>Санкт-Петербург</td>\n",
       "      <td>28,323.0</td>\n",
       "      <td>7,262.0</td>\n",
       "      <td>1.0</td>\n",
       "      <td>497.0</td>\n",
       "      <td>2.0</td>\n",
       "      <td>660.0</td>\n",
       "      <td>80.0</td>\n",
       "      <td>122,093.0</td>\n",
       "      <td>4</td>\n",
       "      <td>5</td>\n",
       "      <td>2018</td>\n",
       "      <td>Другой этаж</td>\n",
       "      <td>0.7</td>\n",
       "      <td>0.1</td>\n",
       "      <td>7.0</td>\n",
       "    </tr>\n",
       "    <tr>\n",
       "      <th>23690</th>\n",
       "      <td>3</td>\n",
       "      <td>5,500,000.0</td>\n",
       "      <td>52.0</td>\n",
       "      <td>2018-07-19</td>\n",
       "      <td>2</td>\n",
       "      <td>NaN</td>\n",
       "      <td>5.0</td>\n",
       "      <td>31.0</td>\n",
       "      <td>2</td>\n",
       "      <td>NaN</td>\n",
       "      <td>False</td>\n",
       "      <td>False</td>\n",
       "      <td>6.0</td>\n",
       "      <td>0.0</td>\n",
       "      <td>Санкт-Петербург</td>\n",
       "      <td>20,151.0</td>\n",
       "      <td>6,263.0</td>\n",
       "      <td>1.0</td>\n",
       "      <td>300.0</td>\n",
       "      <td>0.0</td>\n",
       "      <td>NaN</td>\n",
       "      <td>15.0</td>\n",
       "      <td>105,769.2</td>\n",
       "      <td>3</td>\n",
       "      <td>7</td>\n",
       "      <td>2018</td>\n",
       "      <td>Другой этаж</td>\n",
       "      <td>0.6</td>\n",
       "      <td>0.1</td>\n",
       "      <td>6.0</td>\n",
       "    </tr>\n",
       "    <tr>\n",
       "      <th>23691</th>\n",
       "      <td>11</td>\n",
       "      <td>9,470,000.0</td>\n",
       "      <td>72.9</td>\n",
       "      <td>2016-10-13</td>\n",
       "      <td>2</td>\n",
       "      <td>2.8</td>\n",
       "      <td>25.0</td>\n",
       "      <td>40.3</td>\n",
       "      <td>7</td>\n",
       "      <td>NaN</td>\n",
       "      <td>False</td>\n",
       "      <td>False</td>\n",
       "      <td>10.6</td>\n",
       "      <td>1.0</td>\n",
       "      <td>Санкт-Петербург</td>\n",
       "      <td>19,424.0</td>\n",
       "      <td>4,489.0</td>\n",
       "      <td>0.0</td>\n",
       "      <td>NaN</td>\n",
       "      <td>1.0</td>\n",
       "      <td>806.0</td>\n",
       "      <td>519.0</td>\n",
       "      <td>129,904.0</td>\n",
       "      <td>3</td>\n",
       "      <td>10</td>\n",
       "      <td>2016</td>\n",
       "      <td>Другой этаж</td>\n",
       "      <td>0.6</td>\n",
       "      <td>0.1</td>\n",
       "      <td>4.0</td>\n",
       "    </tr>\n",
       "    <tr>\n",
       "      <th>23694</th>\n",
       "      <td>9</td>\n",
       "      <td>9,700,000.0</td>\n",
       "      <td>133.8</td>\n",
       "      <td>2017-03-21</td>\n",
       "      <td>3</td>\n",
       "      <td>3.7</td>\n",
       "      <td>5.0</td>\n",
       "      <td>73.3</td>\n",
       "      <td>3</td>\n",
       "      <td>NaN</td>\n",
       "      <td>False</td>\n",
       "      <td>False</td>\n",
       "      <td>13.8</td>\n",
       "      <td>0.0</td>\n",
       "      <td>Санкт-Петербург</td>\n",
       "      <td>24,665.0</td>\n",
       "      <td>4,232.0</td>\n",
       "      <td>1.0</td>\n",
       "      <td>796.0</td>\n",
       "      <td>3.0</td>\n",
       "      <td>381.0</td>\n",
       "      <td>NaN</td>\n",
       "      <td>72,490.8</td>\n",
       "      <td>1</td>\n",
       "      <td>3</td>\n",
       "      <td>2017</td>\n",
       "      <td>Другой этаж</td>\n",
       "      <td>0.5</td>\n",
       "      <td>0.1</td>\n",
       "      <td>4.0</td>\n",
       "    </tr>\n",
       "  </tbody>\n",
       "</table>\n",
       "<p>3494 rows × 30 columns</p>\n",
       "</div>"
      ],
      "text/plain": [
       "       total_images   last_price  total_area first_day_exposition  rooms  \\\n",
       "4                 2 10,000,000.0       100.0           2018-06-19      2   \n",
       "24                8  6,500,000.0        97.2           2015-10-31      2   \n",
       "35                6 15,500,000.0       149.0           2017-06-26      5   \n",
       "52               20 11,795,000.0       136.0           2017-09-22      6   \n",
       "61               18  7,990,000.0        74.0           2017-08-24      2   \n",
       "...             ...          ...         ...                  ...    ...   \n",
       "23665            11  4,250,000.0        47.0           2016-05-20      1   \n",
       "23681            13  5,250,000.0        43.0           2018-05-11      2   \n",
       "23690             3  5,500,000.0        52.0           2018-07-19      2   \n",
       "23691            11  9,470,000.0        72.9           2016-10-13      2   \n",
       "23694             9  9,700,000.0       133.8           2017-03-21      3   \n",
       "\n",
       "       ceiling_height  floors_total  living_area  floor is_apartment  studio  \\\n",
       "4                 3.0          14.0         32.0     13          NaN   False   \n",
       "24                NaN           3.0         46.5      1          NaN   False   \n",
       "35                NaN           5.0        104.0      4          NaN   False   \n",
       "52                3.0           2.0         94.0      2          NaN   False   \n",
       "61                NaN           4.0         43.0      4          NaN   False   \n",
       "...               ...           ...          ...    ...          ...     ...   \n",
       "23665             NaN           6.0         18.2      1        False   False   \n",
       "23681             2.5           5.0         29.0      2          NaN   False   \n",
       "23690             NaN           5.0         31.0      2          NaN   False   \n",
       "23691             2.8          25.0         40.3      7          NaN   False   \n",
       "23694             3.7           5.0         73.3      3          NaN   False   \n",
       "\n",
       "       open_plan  kitchen_area  balcony    locality_name  airports_nearest  \\\n",
       "4          False          41.0      0.0  Санкт-Петербург          31,856.0   \n",
       "24         False          19.6      0.0  Санкт-Петербург          20,052.0   \n",
       "35         False          17.0      0.0  Санкт-Петербург          23,670.0   \n",
       "52         False          11.0      1.0  Санкт-Петербург          16,510.0   \n",
       "61         False          20.0      0.0  Санкт-Петербург          22,568.0   \n",
       "...          ...           ...      ...              ...               ...   \n",
       "23665      False          14.6      0.0  Санкт-Петербург          20,503.0   \n",
       "23681      False           6.0      0.0  Санкт-Петербург          28,323.0   \n",
       "23690      False           6.0      0.0  Санкт-Петербург          20,151.0   \n",
       "23691      False          10.6      1.0  Санкт-Петербург          19,424.0   \n",
       "23694      False          13.8      0.0  Санкт-Петербург          24,665.0   \n",
       "\n",
       "       cityCenters_nearest  parks_around3000  parks_nearest  ponds_around3000  \\\n",
       "4                  8,098.0               2.0          112.0               1.0   \n",
       "24                 2,336.0               3.0          411.0               3.0   \n",
       "35                 3,502.0               0.0            NaN               1.0   \n",
       "52                 6,582.0               1.0          526.0               0.0   \n",
       "61                 4,288.0               1.0          363.0               0.0   \n",
       "...                    ...               ...            ...               ...   \n",
       "23665              4,946.0               2.0          624.0               1.0   \n",
       "23681              7,262.0               1.0          497.0               2.0   \n",
       "23690              6,263.0               1.0          300.0               0.0   \n",
       "23691              4,489.0               0.0            NaN               1.0   \n",
       "23694              4,232.0               1.0          796.0               3.0   \n",
       "\n",
       "       ponds_nearest  days_exposition  price_for_1_sq_m  weekday  month  year  \\\n",
       "4               48.0            121.0         100,000.0        1      6  2018   \n",
       "24             124.0            265.0          66,872.4        5     10  2015   \n",
       "35             779.0            644.0         104,026.8        0      6  2017   \n",
       "52               NaN              NaN          86,727.9        4      9  2017   \n",
       "61               NaN            609.0         107,973.0        3      8  2017   \n",
       "...              ...              ...               ...      ...    ...   ...   \n",
       "23665          519.0            131.0          90,425.5        4      5  2016   \n",
       "23681          660.0             80.0         122,093.0        4      5  2018   \n",
       "23690            NaN             15.0         105,769.2        3      7  2018   \n",
       "23691          806.0            519.0         129,904.0        3     10  2016   \n",
       "23694          381.0              NaN          72,490.8        1      3  2017   \n",
       "\n",
       "       floor_category  living_to_total_area  kitchen_to_total_area  \\\n",
       "4         Другой этаж                   0.3                    0.4   \n",
       "24        Первый этаж                   0.5                    0.2   \n",
       "35        Другой этаж                   0.7                    0.1   \n",
       "52     Последний этаж                   0.7                    0.1   \n",
       "61     Последний этаж                   0.6                    0.3   \n",
       "...               ...                   ...                    ...   \n",
       "23665     Первый этаж                   0.4                    0.3   \n",
       "23681     Другой этаж                   0.7                    0.1   \n",
       "23690     Другой этаж                   0.6                    0.1   \n",
       "23691     Другой этаж                   0.6                    0.1   \n",
       "23694     Другой этаж                   0.5                    0.1   \n",
       "\n",
       "       cityCenters_nearest_km  \n",
       "4                         8.0  \n",
       "24                        2.0  \n",
       "35                        4.0  \n",
       "52                        7.0  \n",
       "61                        4.0  \n",
       "...                       ...  \n",
       "23665                     5.0  \n",
       "23681                     7.0  \n",
       "23690                     6.0  \n",
       "23691                     4.0  \n",
       "23694                     4.0  \n",
       "\n",
       "[3494 rows x 30 columns]"
      ]
     },
     "execution_count": 61,
     "metadata": {},
     "output_type": "execute_result"
    }
   ],
   "source": [
    "central_zone = 8\n",
    "central_flats = spb_flats.query('cityCenters_nearest_km <= @central_zone')\n",
    "central_flats"
   ]
  },
  {
   "cell_type": "markdown",
   "metadata": {},
   "source": [
    "Из всей базы данных только 3494 квартир в центре."
   ]
  },
  {
   "cell_type": "markdown",
   "metadata": {},
   "source": [
    "Проанализируем площади квартир в центре."
   ]
  },
  {
   "cell_type": "code",
   "execution_count": 62,
   "metadata": {},
   "outputs": [
    {
     "data": {
      "text/plain": [
       "count   3,494.0\n",
       "mean       75.1\n",
       "std        31.2\n",
       "min        12.0\n",
       "25%        51.0\n",
       "50%        70.0\n",
       "75%        92.5\n",
       "max       197.2\n",
       "Name: total_area, dtype: float64"
      ]
     },
     "execution_count": 62,
     "metadata": {},
     "output_type": "execute_result"
    }
   ],
   "source": [
    "central_flats['total_area'].describe()"
   ]
  },
  {
   "cell_type": "code",
   "execution_count": 63,
   "metadata": {},
   "outputs": [
    {
     "data": {
      "image/png": "[encoded data removed]",
      "text/plain": [
       "<Figure size 432x288 with 1 Axes>"
      ]
     },
     "metadata": {
      "needs_background": "light"
     },
     "output_type": "display_data"
    }
   ],
   "source": [
    "sns.histplot(x=\"total_area\", data=central_flats) #строим гистограмму\n",
    "plt.show()"
   ]
  },
  {
   "cell_type": "markdown",
   "metadata": {},
   "source": [
    "Мы точно теперь значем, что выдающиеся значения площадей = 12,0 и 195,7 кв.м. находятся в центре. В центре больше всего квартир с площадью 70 и 45 кв.м. (примерно одинаковое количество)."
   ]
  },
  {
   "cell_type": "markdown",
   "metadata": {},
   "source": [
    "Проанализируем цены квартир в центре"
   ]
  },
  {
   "cell_type": "code",
   "execution_count": 64,
   "metadata": {},
   "outputs": [
    {
     "data": {
      "text/plain": [
       "count        3,494.0\n",
       "mean     8,986,279.4\n",
       "std      3,910,430.4\n",
       "min      2,100,000.0\n",
       "25%      6,084,592.5\n",
       "50%      8,143,697.5\n",
       "75%     11,200,000.0\n",
       "max     20,950,000.0\n",
       "Name: last_price, dtype: float64"
      ]
     },
     "execution_count": 64,
     "metadata": {},
     "output_type": "execute_result"
    }
   ],
   "source": [
    "central_flats['last_price'].describe()"
   ]
  },
  {
   "cell_type": "code",
   "execution_count": 65,
   "metadata": {},
   "outputs": [
    {
     "data": {
      "image/png": "[encoded data removed]",
      "text/plain": [
       "<Figure size 432x288 with 1 Axes>"
      ]
     },
     "metadata": {
      "needs_background": "light"
     },
     "output_type": "display_data"
    }
   ],
   "source": [
    "sns.histplot(x=\"last_price\", data=central_flats) #строим гистограмму\n",
    "plt.show()"
   ]
  },
  {
   "cell_type": "markdown",
   "metadata": {},
   "source": [
    "Именно в центре находится квартира с максимальной ценой. В центре больше всего квартир со средней ценой около 6 миллионов."
   ]
  },
  {
   "cell_type": "markdown",
   "metadata": {},
   "source": [
    "Проанализируем число комнат квартир в центре"
   ]
  },
  {
   "cell_type": "code",
   "execution_count": 66,
   "metadata": {},
   "outputs": [
    {
     "data": {
      "text/plain": [
       "count   3,494.0\n",
       "mean        2.5\n",
       "std         1.1\n",
       "min         0.0\n",
       "25%         2.0\n",
       "50%         2.0\n",
       "75%         3.0\n",
       "max         7.0\n",
       "Name: rooms, dtype: float64"
      ]
     },
     "execution_count": 66,
     "metadata": {},
     "output_type": "execute_result"
    }
   ],
   "source": [
    "central_flats['rooms'].describe()"
   ]
  },
  {
   "cell_type": "code",
   "execution_count": 67,
   "metadata": {},
   "outputs": [
    {
     "data": {
      "image/png": "[encoded data removed]",
      "text/plain": [
       "<Figure size 432x288 with 1 Axes>"
      ]
     },
     "metadata": {
      "needs_background": "light"
     },
     "output_type": "display_data"
    }
   ],
   "source": [
    "sns.histplot(x=\"rooms\", data=central_flats) #строим гистограмму\n",
    "plt.show()"
   ]
  },
  {
   "cell_type": "markdown",
   "metadata": {},
   "source": [
    "В центре больше всего квартир с числом комнат = 2. Также именно в центре находится квартира с 7-ю комнатами (самая огромная из всего датафрейма)"
   ]
  },
  {
   "cell_type": "markdown",
   "metadata": {},
   "source": [
    "Проанализируем высоту потолков квартир в центре"
   ]
  },
  {
   "cell_type": "code",
   "execution_count": 68,
   "metadata": {},
   "outputs": [
    {
     "data": {
      "text/plain": [
       "count   2,244.0\n",
       "mean        3.0\n",
       "std         0.3\n",
       "min         2.0\n",
       "25%         2.8\n",
       "50%         3.0\n",
       "75%         3.2\n",
       "max         4.0\n",
       "Name: ceiling_height, dtype: float64"
      ]
     },
     "execution_count": 68,
     "metadata": {},
     "output_type": "execute_result"
    }
   ],
   "source": [
    "central_flats['ceiling_height'].describe()"
   ]
  },
  {
   "cell_type": "code",
   "execution_count": 69,
   "metadata": {},
   "outputs": [
    {
     "data": {
      "image/png": "[encoded data removed]",
      "text/plain": [
       "<Figure size 432x288 with 1 Axes>"
      ]
     },
     "metadata": {
      "needs_background": "light"
     },
     "output_type": "display_data"
    }
   ],
   "source": [
    "sns.histplot(x=\"ceiling_height\", data=central_flats) #строим гистограмму\n",
    "plt.show()"
   ]
  },
  {
   "cell_type": "markdown",
   "metadata": {},
   "source": [
    "В центре большинство квартир с высотой потолков около 3 м."
   ]
  },
  {
   "cell_type": "code",
   "execution_count": 70,
   "metadata": {},
   "outputs": [
    {
     "data": {
      "text/plain": [
       "0.48994235795142954"
      ]
     },
     "execution_count": 70,
     "metadata": {},
     "output_type": "execute_result"
    }
   ],
   "source": [
    "central_flats['last_price'].corr(central_flats['rooms']) #проверяем зависимость цены от  количества комнат"
   ]
  },
  {
   "cell_type": "code",
   "execution_count": 71,
   "metadata": {},
   "outputs": [
    {
     "data": {
      "image/png": "[encoded data removed]",
      "text/plain": [
       "<Figure size 432x288 with 1 Axes>"
      ]
     },
     "metadata": {
      "needs_background": "light"
     },
     "output_type": "display_data"
    }
   ],
   "source": [
    "sns.scatterplot(x='rooms', y='last_price', data=central_flats)\n",
    "plt.show()"
   ]
  },
  {
   "cell_type": "markdown",
   "metadata": {},
   "source": [
    "Слабая корреляционная зависимость между ценой и количеством комнат. Scatter Plot для центральных квартир и всех квартир сильно не отличается."
   ]
  },
  {
   "cell_type": "code",
   "execution_count": 72,
   "metadata": {},
   "outputs": [
    {
     "data": {
      "image/png": "[encoded data removed]",
      "text/plain": [
       "<Figure size 432x288 with 1 Axes>"
      ]
     },
     "metadata": {
      "needs_background": "light"
     },
     "output_type": "display_data"
    }
   ],
   "source": [
    "sns.histplot(x=\"last_price\", \n",
    "             data=central_flats, \n",
    "             hue=\"floor_category\", \n",
    "             element=\"step\")\n",
    "plt.show()"
   ]
  },
  {
   "cell_type": "markdown",
   "metadata": {},
   "source": [
    "Наблюдается зависимость цены квартиры от категории этажа. Если этаж не первый и не последний, цена на квартиру, как правило, выше."
   ]
  },
  {
   "cell_type": "code",
   "execution_count": 73,
   "metadata": {},
   "outputs": [
    {
     "data": {
      "text/plain": [
       "-0.16337507277359573"
      ]
     },
     "execution_count": 73,
     "metadata": {},
     "output_type": "execute_result"
    }
   ],
   "source": [
    "central_flats['last_price'].corr(central_flats['cityCenters_nearest']) #проверяем зависимость цены от удаленности от центра"
   ]
  },
  {
   "cell_type": "markdown",
   "metadata": {},
   "source": [
    "Никакой зависимости расстояния до центра и цены квартиры, которая уже находится в центральном районе города, нет"
   ]
  },
  {
   "cell_type": "markdown",
   "metadata": {},
   "source": [
    "Проверяем зависимость цены центральных квартир от времени размещения объявления"
   ]
  },
  {
   "cell_type": "code",
   "execution_count": 74,
   "metadata": {},
   "outputs": [
    {
     "data": {
      "image/png": "[encoded data removed]",
      "text/plain": [
       "<Figure size 432x288 with 1 Axes>"
      ]
     },
     "metadata": {
      "needs_background": "light"
     },
     "output_type": "display_data"
    }
   ],
   "source": [
    "#строим график зависимости цены квартиры от месяца\n",
    "(central_flats.pivot_table(index='year',values='last_price',aggfunc='median')\n",
    "                .plot()\n",
    ");   "
   ]
  },
  {
   "cell_type": "markdown",
   "metadata": {},
   "source": [
    "Комментарий студента:</b>  В центральных квартирах другая зависимость цены квартиры от даты размещения (года). <br>\n",
    "С 2014 по 2017 год цены на квартиры снизились на на 20% <br>\n",
    "С 2017 по 2018 год цены на квартиры практически не менялись <br>\n",
    "С 2018 на 2019 год цены на квартиры выросли на 4%.</div>\n"
   ]
  },
  {
   "cell_type": "code",
   "execution_count": 75,
   "metadata": {},
   "outputs": [
    {
     "data": {
      "image/png": "[encoded data removed]",
      "text/plain": [
       "<Figure size 432x288 with 1 Axes>"
      ]
     },
     "metadata": {
      "needs_background": "light"
     },
     "output_type": "display_data"
    }
   ],
   "source": [
    "#строим график зависимости цены квартиры от месяца\n",
    "(central_flats.pivot_table(index='month',values='last_price',aggfunc='median')\n",
    "                .plot()\n",
    ");   "
   ]
  },
  {
   "cell_type": "markdown",
   "metadata": {},
   "source": [
    " В центральных квартирах максимальные цены на квартиры, размещенные в сентябре, а минимальные цены на квартиры, размещенные в декабре"
   ]
  },
  {
   "cell_type": "code",
   "execution_count": 76,
   "metadata": {},
   "outputs": [
    {
     "data": {
      "image/png": "[encoded data removed]",
      "text/plain": [
       "<Figure size 432x288 with 1 Axes>"
      ]
     },
     "metadata": {
      "needs_background": "light"
     },
     "output_type": "display_data"
    }
   ],
   "source": [
    "#строим график зависимости цены квартиры от месяца\n",
    "(central_flats.pivot_table(index='weekday',values='last_price',aggfunc='median')\n",
    "                .plot()\n",
    ");   "
   ]
  },
  {
   "cell_type": "markdown",
   "metadata": {},
   "source": [
    "В центральных квартирах максимальные цены на квартиры, размещенные в воскресенье, а минимальные цены на квартиры, размещенные в субботу."
   ]
  },
  {
   "cell_type": "markdown",
   "metadata": {},
   "source": [
    "### Вывод"
   ]
  },
  {
   "cell_type": "markdown",
   "metadata": {},
   "source": [
    "Было продемонстрировано, как на цену квартир в центре и в целом по Петербургу и Лен области влияют различные параметры."
   ]
  },
  {
   "cell_type": "markdown",
   "metadata": {},
   "source": [
    "## Общий вывод"
   ]
  },
  {
   "cell_type": "markdown",
   "metadata": {},
   "source": [
    "В процессе исследовательского анализа данных было отбраковано 9.5% данных.\n",
    "На цены квартир больше всего влияют:\n",
    "- площадь (чем больше площадь, тем больше цена)\n",
    "- удалённость от центра (ближе к центру – дороже)\n",
    "- этаж (если этаж не первый и не последний, цена квартиры выше).<br>\n",
    "На цены квартир также влиет год размещения объявления на квартиру. С 2014 по 2017 год цены на квартиры снизились, а с 2018 года начали повышаться <br>\n",
    "Самые дорогие квартиры в центре Петербурга с большой площадью, больим числом комнат. Недорогие квартиры расположены в Всеволожске.\n",
    " \n"
   ]
  }
 ],
 "metadata": {
  "ExecuteTimeLog": [
   {
    "duration": 44497,
    "start_time": "2022-03-07T11:35:27.575Z"
   },
   {
    "duration": 1114,
    "start_time": "2022-03-07T11:36:12.075Z"
   },
   {
    "duration": 4394,
    "start_time": "2022-03-07T11:36:13.191Z"
   },
   {
    "duration": 26,
    "start_time": "2022-03-07T11:36:17.587Z"
   },
   {
    "duration": 19,
    "start_time": "2022-03-07T11:36:17.615Z"
   },
   {
    "duration": 8,
    "start_time": "2022-03-07T11:36:17.635Z"
   },
   {
    "duration": 17,
    "start_time": "2022-03-07T11:36:17.644Z"
   },
   {
    "duration": 15,
    "start_time": "2022-03-07T11:36:17.663Z"
   },
   {
    "duration": 95,
    "start_time": "2022-03-07T11:36:17.682Z"
   },
   {
    "duration": 26,
    "start_time": "2022-03-07T11:36:17.779Z"
   },
   {
    "duration": 8,
    "start_time": "2022-03-07T11:36:17.807Z"
   },
   {
    "duration": 5,
    "start_time": "2022-03-07T11:36:17.833Z"
   },
   {
    "duration": 7,
    "start_time": "2022-03-07T11:36:17.839Z"
   },
   {
    "duration": 8,
    "start_time": "2022-03-07T11:36:17.847Z"
   },
   {
    "duration": 6,
    "start_time": "2022-03-07T11:36:17.857Z"
   },
   {
    "duration": 6,
    "start_time": "2022-03-07T11:36:17.865Z"
   },
   {
    "duration": 5,
    "start_time": "2022-03-07T11:36:17.873Z"
   },
   {
    "duration": 5,
    "start_time": "2022-03-07T11:36:17.879Z"
   },
   {
    "duration": 4,
    "start_time": "2022-03-07T11:36:17.886Z"
   },
   {
    "duration": 46,
    "start_time": "2022-03-07T11:36:17.892Z"
   },
   {
    "duration": 7,
    "start_time": "2022-03-07T11:36:17.940Z"
   },
   {
    "duration": 11,
    "start_time": "2022-03-07T11:36:17.949Z"
   },
   {
    "duration": 7,
    "start_time": "2022-03-07T11:36:17.962Z"
   },
   {
    "duration": 6,
    "start_time": "2022-03-07T11:36:17.971Z"
   },
   {
    "duration": 7,
    "start_time": "2022-03-07T11:36:17.979Z"
   },
   {
    "duration": 6,
    "start_time": "2022-03-07T11:36:17.988Z"
   },
   {
    "duration": 5,
    "start_time": "2022-03-07T11:36:18.036Z"
   },
   {
    "duration": 379,
    "start_time": "2022-03-07T11:36:18.044Z"
   },
   {
    "duration": 8,
    "start_time": "2022-03-07T11:36:18.425Z"
   },
   {
    "duration": 15,
    "start_time": "2022-03-07T11:36:18.434Z"
   },
   {
    "duration": 19,
    "start_time": "2022-03-07T11:36:18.451Z"
   },
   {
    "duration": 9,
    "start_time": "2022-03-07T11:36:18.471Z"
   },
   {
    "duration": 576,
    "start_time": "2022-03-07T11:36:18.482Z"
   },
   {
    "duration": 8,
    "start_time": "2022-03-07T11:36:19.060Z"
   },
   {
    "duration": 480,
    "start_time": "2022-03-07T11:36:19.069Z"
   },
   {
    "duration": 7,
    "start_time": "2022-03-07T11:36:19.550Z"
   },
   {
    "duration": 214,
    "start_time": "2022-03-07T11:36:19.559Z"
   },
   {
    "duration": 8,
    "start_time": "2022-03-07T11:36:19.775Z"
   },
   {
    "duration": 323,
    "start_time": "2022-03-07T11:36:19.784Z"
   },
   {
    "duration": 7,
    "start_time": "2022-03-07T11:36:20.109Z"
   },
   {
    "duration": 388,
    "start_time": "2022-03-07T11:36:20.118Z"
   },
   {
    "duration": 5,
    "start_time": "2022-03-07T11:36:20.508Z"
   },
   {
    "duration": 26,
    "start_time": "2022-03-07T11:36:20.515Z"
   },
   {
    "duration": 7,
    "start_time": "2022-03-07T11:36:20.542Z"
   },
   {
    "duration": 6,
    "start_time": "2022-03-07T11:36:20.551Z"
   },
   {
    "duration": 196,
    "start_time": "2022-03-07T11:36:20.559Z"
   },
   {
    "duration": 8,
    "start_time": "2022-03-07T11:36:20.757Z"
   },
   {
    "duration": 8,
    "start_time": "2022-03-07T11:36:20.766Z"
   },
   {
    "duration": 179,
    "start_time": "2022-03-07T11:36:20.775Z"
   },
   {
    "duration": 7,
    "start_time": "2022-03-07T11:36:20.956Z"
   },
   {
    "duration": 9,
    "start_time": "2022-03-07T11:36:20.964Z"
   },
   {
    "duration": 7,
    "start_time": "2022-03-07T11:36:20.974Z"
   },
   {
    "duration": 6,
    "start_time": "2022-03-07T11:36:20.982Z"
   },
   {
    "duration": 12,
    "start_time": "2022-03-07T11:36:20.990Z"
   },
   {
    "duration": 32,
    "start_time": "2022-03-07T11:36:21.003Z"
   },
   {
    "duration": 386,
    "start_time": "2022-03-07T11:36:21.037Z"
   },
   {
    "duration": 4,
    "start_time": "2022-03-07T11:36:21.432Z"
   },
   {
    "duration": 367,
    "start_time": "2022-03-07T11:36:21.438Z"
   },
   {
    "duration": 4,
    "start_time": "2022-03-07T11:36:21.807Z"
   },
   {
    "duration": 391,
    "start_time": "2022-03-07T11:36:21.813Z"
   },
   {
    "duration": 266,
    "start_time": "2022-03-07T11:36:22.205Z"
   },
   {
    "duration": -13,
    "start_time": "2022-03-07T11:36:22.486Z"
   },
   {
    "duration": -18,
    "start_time": "2022-03-07T11:36:22.492Z"
   },
   {
    "duration": -22,
    "start_time": "2022-03-07T11:36:22.497Z"
   },
   {
    "duration": -27,
    "start_time": "2022-03-07T11:36:22.502Z"
   },
   {
    "duration": -30,
    "start_time": "2022-03-07T11:36:22.506Z"
   },
   {
    "duration": -34,
    "start_time": "2022-03-07T11:36:22.511Z"
   },
   {
    "duration": -37,
    "start_time": "2022-03-07T11:36:22.516Z"
   },
   {
    "duration": -41,
    "start_time": "2022-03-07T11:36:22.521Z"
   },
   {
    "duration": -45,
    "start_time": "2022-03-07T11:36:22.526Z"
   },
   {
    "duration": -48,
    "start_time": "2022-03-07T11:36:22.530Z"
   },
   {
    "duration": -58,
    "start_time": "2022-03-07T11:36:22.541Z"
   },
   {
    "duration": -62,
    "start_time": "2022-03-07T11:36:22.546Z"
   },
   {
    "duration": -66,
    "start_time": "2022-03-07T11:36:22.551Z"
   },
   {
    "duration": -70,
    "start_time": "2022-03-07T11:36:22.556Z"
   },
   {
    "duration": -74,
    "start_time": "2022-03-07T11:36:22.561Z"
   },
   {
    "duration": -77,
    "start_time": "2022-03-07T11:36:22.565Z"
   },
   {
    "duration": -81,
    "start_time": "2022-03-07T11:36:22.570Z"
   },
   {
    "duration": -85,
    "start_time": "2022-03-07T11:36:22.575Z"
   },
   {
    "duration": -88,
    "start_time": "2022-03-07T11:36:22.579Z"
   },
   {
    "duration": -91,
    "start_time": "2022-03-07T11:36:22.583Z"
   },
   {
    "duration": -95,
    "start_time": "2022-03-07T11:36:22.588Z"
   },
   {
    "duration": -99,
    "start_time": "2022-03-07T11:36:22.593Z"
   },
   {
    "duration": -102,
    "start_time": "2022-03-07T11:36:22.597Z"
   },
   {
    "duration": -105,
    "start_time": "2022-03-07T11:36:22.601Z"
   },
   {
    "duration": -109,
    "start_time": "2022-03-07T11:36:22.606Z"
   },
   {
    "duration": 172,
    "start_time": "2022-03-07T11:46:12.331Z"
   },
   {
    "duration": 166,
    "start_time": "2022-03-07T11:46:20.488Z"
   },
   {
    "duration": 305,
    "start_time": "2022-03-07T11:46:27.678Z"
   },
   {
    "duration": 293,
    "start_time": "2022-03-07T11:46:36.535Z"
   },
   {
    "duration": 7,
    "start_time": "2022-03-07T11:48:18.928Z"
   },
   {
    "duration": 6,
    "start_time": "2022-03-07T11:48:34.187Z"
   },
   {
    "duration": 183,
    "start_time": "2022-03-07T11:49:24.125Z"
   },
   {
    "duration": 415,
    "start_time": "2022-03-07T11:49:30.875Z"
   },
   {
    "duration": 300,
    "start_time": "2022-03-07T11:49:38.222Z"
   },
   {
    "duration": 300,
    "start_time": "2022-03-07T11:49:55.097Z"
   },
   {
    "duration": 301,
    "start_time": "2022-03-07T11:50:11.698Z"
   },
   {
    "duration": 191,
    "start_time": "2022-03-07T11:50:30.568Z"
   },
   {
    "duration": 6,
    "start_time": "2022-03-07T12:05:39.195Z"
   },
   {
    "duration": 5,
    "start_time": "2022-03-07T12:05:40.778Z"
   },
   {
    "duration": 6,
    "start_time": "2022-03-07T12:05:41.386Z"
   },
   {
    "duration": 163,
    "start_time": "2022-03-07T12:10:36.801Z"
   },
   {
    "duration": 171,
    "start_time": "2022-03-07T12:10:44.779Z"
   },
   {
    "duration": 7,
    "start_time": "2022-03-07T12:11:28.404Z"
   },
   {
    "duration": 18,
    "start_time": "2022-03-07T12:11:29.998Z"
   },
   {
    "duration": 6,
    "start_time": "2022-03-07T12:12:30.419Z"
   },
   {
    "duration": 7,
    "start_time": "2022-03-07T12:12:42.035Z"
   },
   {
    "duration": 14,
    "start_time": "2022-03-07T12:12:49.717Z"
   },
   {
    "duration": 181,
    "start_time": "2022-03-07T12:12:52.175Z"
   },
   {
    "duration": 3,
    "start_time": "2022-03-07T12:19:36.065Z"
   },
   {
    "duration": 4,
    "start_time": "2022-03-07T12:19:38.375Z"
   },
   {
    "duration": 168,
    "start_time": "2022-03-07T12:22:03.965Z"
   },
   {
    "duration": 141,
    "start_time": "2022-03-07T12:22:08.012Z"
   },
   {
    "duration": 8,
    "start_time": "2022-03-07T12:22:09.927Z"
   },
   {
    "duration": 262,
    "start_time": "2022-03-07T12:22:10.557Z"
   },
   {
    "duration": 7,
    "start_time": "2022-03-07T12:24:54.227Z"
   },
   {
    "duration": 169,
    "start_time": "2022-03-07T12:24:54.777Z"
   },
   {
    "duration": 8,
    "start_time": "2022-03-07T12:25:21.997Z"
   },
   {
    "duration": 167,
    "start_time": "2022-03-07T12:25:22.667Z"
   },
   {
    "duration": 7,
    "start_time": "2022-03-07T12:25:50.389Z"
   },
   {
    "duration": 161,
    "start_time": "2022-03-07T12:25:51.117Z"
   },
   {
    "duration": 5,
    "start_time": "2022-03-07T12:26:15.165Z"
   },
   {
    "duration": 295,
    "start_time": "2022-03-07T12:26:15.827Z"
   },
   {
    "duration": 167,
    "start_time": "2022-03-07T12:26:25.261Z"
   },
   {
    "duration": 5,
    "start_time": "2022-03-07T12:26:55.027Z"
   },
   {
    "duration": 5,
    "start_time": "2022-03-07T12:26:56.788Z"
   },
   {
    "duration": 5,
    "start_time": "2022-03-07T12:26:57.357Z"
   },
   {
    "duration": 5,
    "start_time": "2022-03-07T12:26:57.977Z"
   },
   {
    "duration": 6,
    "start_time": "2022-03-07T12:29:49.340Z"
   },
   {
    "duration": 6,
    "start_time": "2022-03-07T12:30:48.975Z"
   },
   {
    "duration": 42696,
    "start_time": "2022-03-11T16:55:19.379Z"
   },
   {
    "duration": 67323,
    "start_time": "2022-03-11T16:56:02.078Z"
   },
   {
    "duration": 1288,
    "start_time": "2022-03-11T16:57:09.403Z"
   },
   {
    "duration": 4279,
    "start_time": "2022-03-11T16:57:10.693Z"
   },
   {
    "duration": 31,
    "start_time": "2022-03-11T16:57:14.975Z"
   },
   {
    "duration": 11,
    "start_time": "2022-03-11T16:57:15.009Z"
   },
   {
    "duration": 11,
    "start_time": "2022-03-11T16:57:15.022Z"
   },
   {
    "duration": 24,
    "start_time": "2022-03-11T16:57:15.036Z"
   },
   {
    "duration": 28,
    "start_time": "2022-03-11T16:57:15.063Z"
   },
   {
    "duration": 89,
    "start_time": "2022-03-11T16:57:15.093Z"
   },
   {
    "duration": 23,
    "start_time": "2022-03-11T16:57:15.184Z"
   },
   {
    "duration": 10,
    "start_time": "2022-03-11T16:57:15.208Z"
   },
   {
    "duration": 6,
    "start_time": "2022-03-11T16:57:15.220Z"
   },
   {
    "duration": 10,
    "start_time": "2022-03-11T16:57:15.227Z"
   },
   {
    "duration": 7,
    "start_time": "2022-03-11T16:57:15.239Z"
   },
   {
    "duration": 31,
    "start_time": "2022-03-11T16:57:15.248Z"
   },
   {
    "duration": 4,
    "start_time": "2022-03-11T16:57:15.281Z"
   },
   {
    "duration": 7,
    "start_time": "2022-03-11T16:57:15.287Z"
   },
   {
    "duration": 12,
    "start_time": "2022-03-11T16:57:15.296Z"
   },
   {
    "duration": 6,
    "start_time": "2022-03-11T16:57:15.311Z"
   },
   {
    "duration": 10,
    "start_time": "2022-03-11T16:57:15.319Z"
   },
   {
    "duration": 8,
    "start_time": "2022-03-11T16:57:15.331Z"
   },
   {
    "duration": 38,
    "start_time": "2022-03-11T16:57:15.343Z"
   },
   {
    "duration": 13,
    "start_time": "2022-03-11T16:57:15.384Z"
   },
   {
    "duration": 9,
    "start_time": "2022-03-11T16:57:15.399Z"
   },
   {
    "duration": 7,
    "start_time": "2022-03-11T16:57:15.410Z"
   },
   {
    "duration": 7,
    "start_time": "2022-03-11T16:57:15.420Z"
   },
   {
    "duration": 7,
    "start_time": "2022-03-11T16:57:15.429Z"
   },
   {
    "duration": 493,
    "start_time": "2022-03-11T16:57:15.439Z"
   },
   {
    "duration": 4,
    "start_time": "2022-03-11T16:57:15.934Z"
   },
   {
    "duration": 11,
    "start_time": "2022-03-11T16:57:15.940Z"
   },
   {
    "duration": 29,
    "start_time": "2022-03-11T16:57:15.953Z"
   },
   {
    "duration": 9,
    "start_time": "2022-03-11T16:57:15.984Z"
   },
   {
    "duration": 676,
    "start_time": "2022-03-11T16:57:15.995Z"
   },
   {
    "duration": 11,
    "start_time": "2022-03-11T16:57:16.677Z"
   },
   {
    "duration": 595,
    "start_time": "2022-03-11T16:57:16.690Z"
   },
   {
    "duration": 411,
    "start_time": "2022-03-11T16:57:17.287Z"
   },
   {
    "duration": 8,
    "start_time": "2022-03-11T16:57:17.700Z"
   },
   {
    "duration": 281,
    "start_time": "2022-03-11T16:57:17.709Z"
   },
   {
    "duration": 11,
    "start_time": "2022-03-11T16:57:17.992Z"
   },
   {
    "duration": 414,
    "start_time": "2022-03-11T16:57:18.005Z"
   },
   {
    "duration": 9,
    "start_time": "2022-03-11T16:57:18.421Z"
   },
   {
    "duration": 502,
    "start_time": "2022-03-11T16:57:18.432Z"
   },
   {
    "duration": 5,
    "start_time": "2022-03-11T16:57:18.936Z"
   },
   {
    "duration": 11,
    "start_time": "2022-03-11T16:57:18.942Z"
   },
   {
    "duration": 30,
    "start_time": "2022-03-11T16:57:18.955Z"
   },
   {
    "duration": 10,
    "start_time": "2022-03-11T16:57:18.987Z"
   },
   {
    "duration": 8,
    "start_time": "2022-03-11T16:57:18.999Z"
   },
   {
    "duration": 249,
    "start_time": "2022-03-11T16:57:19.008Z"
   },
   {
    "duration": 18,
    "start_time": "2022-03-11T16:57:19.259Z"
   },
   {
    "duration": 8,
    "start_time": "2022-03-11T16:57:19.279Z"
   },
   {
    "duration": 239,
    "start_time": "2022-03-11T16:57:19.289Z"
   },
   {
    "duration": 8,
    "start_time": "2022-03-11T16:57:19.530Z"
   },
   {
    "duration": 8,
    "start_time": "2022-03-11T16:57:19.540Z"
   },
   {
    "duration": 27,
    "start_time": "2022-03-11T16:57:19.550Z"
   },
   {
    "duration": 9,
    "start_time": "2022-03-11T16:57:19.579Z"
   },
   {
    "duration": 14,
    "start_time": "2022-03-11T16:57:19.589Z"
   },
   {
    "duration": 4,
    "start_time": "2022-03-11T16:57:19.605Z"
   },
   {
    "duration": 512,
    "start_time": "2022-03-11T16:57:19.611Z"
   },
   {
    "duration": 5,
    "start_time": "2022-03-11T16:57:20.125Z"
   },
   {
    "duration": 468,
    "start_time": "2022-03-11T16:57:20.132Z"
   },
   {
    "duration": 4,
    "start_time": "2022-03-11T16:57:20.602Z"
   },
   {
    "duration": 411,
    "start_time": "2022-03-11T16:57:20.608Z"
   },
   {
    "duration": 303,
    "start_time": "2022-03-11T16:57:21.021Z"
   },
   {
    "duration": 5,
    "start_time": "2022-03-11T16:57:21.326Z"
   },
   {
    "duration": 17,
    "start_time": "2022-03-11T16:57:21.333Z"
   },
   {
    "duration": 9,
    "start_time": "2022-03-11T16:57:21.352Z"
   },
   {
    "duration": 241,
    "start_time": "2022-03-11T16:57:21.367Z"
   },
   {
    "duration": 9,
    "start_time": "2022-03-11T16:57:21.611Z"
   },
   {
    "duration": 28,
    "start_time": "2022-03-11T16:57:21.622Z"
   },
   {
    "duration": 25,
    "start_time": "2022-03-11T16:57:21.652Z"
   },
   {
    "duration": 9,
    "start_time": "2022-03-11T16:57:21.679Z"
   },
   {
    "duration": 22,
    "start_time": "2022-03-11T16:57:21.690Z"
   },
   {
    "duration": 30,
    "start_time": "2022-03-11T16:57:21.714Z"
   },
   {
    "duration": 216,
    "start_time": "2022-03-11T16:57:21.746Z"
   },
   {
    "duration": 40,
    "start_time": "2022-03-11T16:57:21.964Z"
   },
   {
    "duration": 7,
    "start_time": "2022-03-11T16:57:22.006Z"
   },
   {
    "duration": 283,
    "start_time": "2022-03-11T16:57:22.015Z"
   },
   {
    "duration": 8,
    "start_time": "2022-03-11T16:57:22.300Z"
   },
   {
    "duration": 279,
    "start_time": "2022-03-11T16:57:22.310Z"
   },
   {
    "duration": 8,
    "start_time": "2022-03-11T16:57:22.590Z"
   },
   {
    "duration": 403,
    "start_time": "2022-03-11T16:57:22.599Z"
   },
   {
    "duration": 9,
    "start_time": "2022-03-11T16:57:23.004Z"
   },
   {
    "duration": 278,
    "start_time": "2022-03-11T16:57:23.015Z"
   },
   {
    "duration": 4,
    "start_time": "2022-03-11T16:57:23.295Z"
   },
   {
    "duration": 327,
    "start_time": "2022-03-11T16:57:23.301Z"
   },
   {
    "duration": 264,
    "start_time": "2022-03-11T16:57:23.630Z"
   },
   {
    "duration": 4,
    "start_time": "2022-03-11T16:57:23.896Z"
   },
   {
    "duration": 8,
    "start_time": "2022-03-11T16:57:23.902Z"
   },
   {
    "duration": 8,
    "start_time": "2022-03-11T16:57:23.912Z"
   },
   {
    "duration": 5,
    "start_time": "2022-03-11T16:57:23.922Z"
   },
   {
    "duration": 2653,
    "start_time": "2022-03-11T17:05:32.088Z"
   },
   {
    "duration": 2538,
    "start_time": "2022-03-11T17:05:34.744Z"
   },
   {
    "duration": 1239,
    "start_time": "2022-03-11T17:05:39.367Z"
   },
   {
    "duration": 2716,
    "start_time": "2022-03-11T17:05:40.608Z"
   },
   {
    "duration": 28,
    "start_time": "2022-03-11T17:05:43.326Z"
   },
   {
    "duration": 24,
    "start_time": "2022-03-11T17:05:43.356Z"
   },
   {
    "duration": 4,
    "start_time": "2022-03-11T17:05:49.436Z"
   },
   {
    "duration": 15,
    "start_time": "2022-03-11T17:05:50.239Z"
   },
   {
    "duration": 10,
    "start_time": "2022-03-11T17:05:51.190Z"
   },
   {
    "duration": 74,
    "start_time": "2022-03-11T17:05:52.354Z"
   },
   {
    "duration": 23,
    "start_time": "2022-03-11T17:05:54.055Z"
   },
   {
    "duration": 10,
    "start_time": "2022-03-11T17:05:58.550Z"
   },
   {
    "duration": 6,
    "start_time": "2022-03-11T17:06:00.805Z"
   },
   {
    "duration": 5,
    "start_time": "2022-03-11T17:06:19.533Z"
   },
   {
    "duration": 5,
    "start_time": "2022-03-11T17:06:21.810Z"
   },
   {
    "duration": 5,
    "start_time": "2022-03-11T17:06:29.260Z"
   },
   {
    "duration": 5,
    "start_time": "2022-03-11T17:07:52.469Z"
   },
   {
    "duration": 5,
    "start_time": "2022-03-11T17:07:53.714Z"
   },
   {
    "duration": 7,
    "start_time": "2022-03-11T17:07:57.101Z"
   },
   {
    "duration": 341,
    "start_time": "2022-03-11T17:07:59.927Z"
   },
   {
    "duration": 8,
    "start_time": "2022-03-11T17:09:33.007Z"
   },
   {
    "duration": 9,
    "start_time": "2022-03-11T17:09:50.020Z"
   },
   {
    "duration": 8,
    "start_time": "2022-03-11T17:10:04.762Z"
   },
   {
    "duration": 5,
    "start_time": "2022-03-11T17:11:56.980Z"
   },
   {
    "duration": 6,
    "start_time": "2022-03-11T17:12:01.639Z"
   },
   {
    "duration": 6,
    "start_time": "2022-03-11T17:12:02.104Z"
   },
   {
    "duration": 7,
    "start_time": "2022-03-11T17:12:02.621Z"
   },
   {
    "duration": 6,
    "start_time": "2022-03-11T17:12:07.191Z"
   },
   {
    "duration": 361,
    "start_time": "2022-03-11T17:12:58.692Z"
   },
   {
    "duration": 5,
    "start_time": "2022-03-11T17:13:04.146Z"
   },
   {
    "duration": 5,
    "start_time": "2022-03-11T17:13:04.881Z"
   },
   {
    "duration": 22,
    "start_time": "2022-03-11T17:13:07.749Z"
   },
   {
    "duration": 9,
    "start_time": "2022-03-11T17:13:45.560Z"
   },
   {
    "duration": 674,
    "start_time": "2022-03-11T17:13:56.026Z"
   },
   {
    "duration": 10,
    "start_time": "2022-03-11T17:14:04.462Z"
   },
   {
    "duration": 600,
    "start_time": "2022-03-11T17:14:16.682Z"
   },
   {
    "duration": 392,
    "start_time": "2022-03-11T17:22:41.679Z"
   },
   {
    "duration": 10,
    "start_time": "2022-03-11T17:22:43.759Z"
   },
   {
    "duration": 11,
    "start_time": "2022-03-11T17:22:56.149Z"
   },
   {
    "duration": 403,
    "start_time": "2022-03-11T17:23:05.856Z"
   },
   {
    "duration": 502,
    "start_time": "2022-03-11T17:24:22.759Z"
   },
   {
    "duration": 412,
    "start_time": "2022-03-11T17:24:27.627Z"
   },
   {
    "duration": 388,
    "start_time": "2022-03-11T17:24:40.143Z"
   },
   {
    "duration": 389,
    "start_time": "2022-03-11T17:24:50.281Z"
   },
   {
    "duration": 403,
    "start_time": "2022-03-11T17:25:08.592Z"
   },
   {
    "duration": 11,
    "start_time": "2022-03-11T17:25:21.414Z"
   },
   {
    "duration": 405,
    "start_time": "2022-03-11T17:28:12.601Z"
   },
   {
    "duration": 5,
    "start_time": "2022-03-11T17:28:16.963Z"
   },
   {
    "duration": 124,
    "start_time": "2022-03-11T17:34:22.017Z"
   },
   {
    "duration": 9,
    "start_time": "2022-03-11T17:34:36.151Z"
   },
   {
    "duration": 242,
    "start_time": "2022-03-11T17:36:41.826Z"
   },
   {
    "duration": 72,
    "start_time": "2022-03-11T17:36:58.952Z"
   },
   {
    "duration": 12,
    "start_time": "2022-03-11T17:37:41.771Z"
   },
   {
    "duration": 10,
    "start_time": "2022-03-11T17:37:46.834Z"
   },
   {
    "duration": 15,
    "start_time": "2022-03-11T17:38:01.172Z"
   },
   {
    "duration": 2855,
    "start_time": "2022-03-11T17:38:34.942Z"
   },
   {
    "duration": 85640,
    "start_time": "2022-03-11T17:38:37.799Z"
   },
   {
    "duration": 1266,
    "start_time": "2022-03-11T17:40:03.442Z"
   },
   {
    "duration": 3785,
    "start_time": "2022-03-11T17:40:04.710Z"
   },
   {
    "duration": 30,
    "start_time": "2022-03-11T17:40:08.497Z"
   },
   {
    "duration": 7,
    "start_time": "2022-03-11T17:40:08.529Z"
   },
   {
    "duration": 9,
    "start_time": "2022-03-11T17:40:08.537Z"
   },
   {
    "duration": 35,
    "start_time": "2022-03-11T17:40:08.548Z"
   },
   {
    "duration": 11,
    "start_time": "2022-03-11T17:40:08.585Z"
   },
   {
    "duration": 92,
    "start_time": "2022-03-11T17:40:08.598Z"
   },
   {
    "duration": 25,
    "start_time": "2022-03-11T17:40:08.693Z"
   },
   {
    "duration": 12,
    "start_time": "2022-03-11T17:40:08.720Z"
   },
   {
    "duration": 5,
    "start_time": "2022-03-11T17:40:08.734Z"
   },
   {
    "duration": 38,
    "start_time": "2022-03-11T17:40:08.742Z"
   },
   {
    "duration": 7,
    "start_time": "2022-03-11T17:40:08.783Z"
   },
   {
    "duration": 12,
    "start_time": "2022-03-11T17:40:08.791Z"
   },
   {
    "duration": 6,
    "start_time": "2022-03-11T17:40:08.805Z"
   },
   {
    "duration": 11,
    "start_time": "2022-03-11T17:40:08.813Z"
   },
   {
    "duration": 13,
    "start_time": "2022-03-11T17:40:08.826Z"
   },
   {
    "duration": 38,
    "start_time": "2022-03-11T17:40:08.841Z"
   },
   {
    "duration": 10,
    "start_time": "2022-03-11T17:40:08.881Z"
   },
   {
    "duration": 8,
    "start_time": "2022-03-11T17:40:08.893Z"
   },
   {
    "duration": 6,
    "start_time": "2022-03-11T17:40:08.906Z"
   },
   {
    "duration": 6,
    "start_time": "2022-03-11T17:40:08.915Z"
   },
   {
    "duration": 6,
    "start_time": "2022-03-11T17:40:08.923Z"
   },
   {
    "duration": 410,
    "start_time": "2022-03-11T17:40:08.931Z"
   },
   {
    "duration": 4,
    "start_time": "2022-03-11T17:40:09.343Z"
   },
   {
    "duration": 8,
    "start_time": "2022-03-11T17:40:09.349Z"
   },
   {
    "duration": 32,
    "start_time": "2022-03-11T17:40:09.359Z"
   },
   {
    "duration": 11,
    "start_time": "2022-03-11T17:40:09.392Z"
   },
   {
    "duration": 1012,
    "start_time": "2022-03-11T17:40:09.405Z"
   },
   {
    "duration": 9,
    "start_time": "2022-03-11T17:40:10.419Z"
   },
   {
    "duration": 600,
    "start_time": "2022-03-11T17:40:10.429Z"
   },
   {
    "duration": 419,
    "start_time": "2022-03-11T17:40:11.031Z"
   },
   {
    "duration": 8,
    "start_time": "2022-03-11T17:40:11.452Z"
   },
   {
    "duration": 278,
    "start_time": "2022-03-11T17:40:11.462Z"
   },
   {
    "duration": 9,
    "start_time": "2022-03-11T17:40:11.741Z"
   },
   {
    "duration": 403,
    "start_time": "2022-03-11T17:40:11.752Z"
   },
   {
    "duration": 477,
    "start_time": "2022-03-11T17:40:12.157Z"
   },
   {
    "duration": 9,
    "start_time": "2022-03-11T17:40:12.636Z"
   },
   {
    "duration": 432,
    "start_time": "2022-03-11T17:40:12.647Z"
   },
   {
    "duration": 7,
    "start_time": "2022-03-11T17:40:13.082Z"
   },
   {
    "duration": 18,
    "start_time": "2022-03-11T17:40:13.091Z"
   },
   {
    "duration": 2,
    "start_time": "2022-03-11T17:40:13.112Z"
   },
   {
    "duration": 16,
    "start_time": "2022-03-11T17:40:13.117Z"
   },
   {
    "duration": 47,
    "start_time": "2022-03-11T17:40:13.135Z"
   },
   {
    "duration": 239,
    "start_time": "2022-03-11T17:40:13.185Z"
   },
   {
    "duration": 10,
    "start_time": "2022-03-11T17:40:13.426Z"
   },
   {
    "duration": 13,
    "start_time": "2022-03-11T17:40:13.438Z"
   },
   {
    "duration": 247,
    "start_time": "2022-03-11T17:40:13.453Z"
   },
   {
    "duration": 9,
    "start_time": "2022-03-11T17:40:13.701Z"
   },
   {
    "duration": 8,
    "start_time": "2022-03-11T17:40:13.713Z"
   },
   {
    "duration": 11,
    "start_time": "2022-03-11T17:40:13.723Z"
   },
   {
    "duration": 10,
    "start_time": "2022-03-11T17:40:13.736Z"
   },
   {
    "duration": 17,
    "start_time": "2022-03-11T17:40:13.778Z"
   },
   {
    "duration": 7,
    "start_time": "2022-03-11T17:40:13.797Z"
   },
   {
    "duration": 572,
    "start_time": "2022-03-11T17:40:13.806Z"
   },
   {
    "duration": 5,
    "start_time": "2022-03-11T17:40:14.380Z"
   },
   {
    "duration": 475,
    "start_time": "2022-03-11T17:40:14.388Z"
   },
   {
    "duration": 5,
    "start_time": "2022-03-11T17:40:14.865Z"
   },
   {
    "duration": 464,
    "start_time": "2022-03-11T17:40:14.877Z"
   },
   {
    "duration": 298,
    "start_time": "2022-03-11T17:40:15.343Z"
   },
   {
    "duration": 6,
    "start_time": "2022-03-11T17:40:15.643Z"
   },
   {
    "duration": 8,
    "start_time": "2022-03-11T17:40:15.651Z"
   },
   {
    "duration": 7,
    "start_time": "2022-03-11T17:40:15.678Z"
   },
   {
    "duration": 296,
    "start_time": "2022-03-11T17:40:15.687Z"
   },
   {
    "duration": 7,
    "start_time": "2022-03-11T17:40:15.985Z"
   },
   {
    "duration": 21,
    "start_time": "2022-03-11T17:40:15.998Z"
   },
   {
    "duration": 9,
    "start_time": "2022-03-11T17:40:16.022Z"
   },
   {
    "duration": 44,
    "start_time": "2022-03-11T17:40:16.033Z"
   },
   {
    "duration": 3,
    "start_time": "2022-03-11T17:40:16.080Z"
   },
   {
    "duration": 21,
    "start_time": "2022-03-11T17:40:16.086Z"
   },
   {
    "duration": 346,
    "start_time": "2022-03-11T17:40:16.109Z"
   },
   {
    "duration": 47,
    "start_time": "2022-03-11T17:40:16.457Z"
   },
   {
    "duration": 8,
    "start_time": "2022-03-11T17:40:16.507Z"
   },
   {
    "duration": 305,
    "start_time": "2022-03-11T17:40:16.517Z"
   },
   {
    "duration": 8,
    "start_time": "2022-03-11T17:40:16.824Z"
   },
   {
    "duration": 279,
    "start_time": "2022-03-11T17:40:16.834Z"
   },
   {
    "duration": 9,
    "start_time": "2022-03-11T17:40:17.115Z"
   },
   {
    "duration": 301,
    "start_time": "2022-03-11T17:40:17.126Z"
   },
   {
    "duration": 11,
    "start_time": "2022-03-11T17:40:17.429Z"
   },
   {
    "duration": 327,
    "start_time": "2022-03-11T17:40:17.442Z"
   },
   {
    "duration": 9,
    "start_time": "2022-03-11T17:40:17.771Z"
   },
   {
    "duration": 352,
    "start_time": "2022-03-11T17:40:17.782Z"
   },
   {
    "duration": 285,
    "start_time": "2022-03-11T17:40:18.136Z"
   },
   {
    "duration": 7,
    "start_time": "2022-03-11T17:40:18.423Z"
   },
   {
    "duration": 9,
    "start_time": "2022-03-11T17:40:18.433Z"
   },
   {
    "duration": 8,
    "start_time": "2022-03-11T17:40:18.444Z"
   },
   {
    "duration": 33,
    "start_time": "2022-03-11T17:40:18.454Z"
   },
   {
    "duration": 9,
    "start_time": "2022-03-11T17:41:16.944Z"
   },
   {
    "duration": 7,
    "start_time": "2022-03-11T17:41:24.220Z"
   },
   {
    "duration": 7,
    "start_time": "2022-03-11T17:41:27.232Z"
   },
   {
    "duration": 7,
    "start_time": "2022-03-11T17:47:26.011Z"
   },
   {
    "duration": 8,
    "start_time": "2022-03-11T17:47:29.606Z"
   },
   {
    "duration": 100278,
    "start_time": "2022-03-11T17:48:26.611Z"
   },
   {
    "duration": 66815,
    "start_time": "2022-03-11T17:50:37.022Z"
   },
   {
    "duration": 39,
    "start_time": "2022-03-11T17:53:28.940Z"
   },
   {
    "duration": 78,
    "start_time": "2022-03-11T17:53:28.981Z"
   },
   {
    "duration": 46,
    "start_time": "2022-03-11T17:53:29.062Z"
   },
   {
    "duration": 11,
    "start_time": "2022-03-11T17:53:29.110Z"
   },
   {
    "duration": 7,
    "start_time": "2022-03-11T17:53:29.123Z"
   },
   {
    "duration": 6,
    "start_time": "2022-03-11T17:53:29.132Z"
   },
   {
    "duration": 6,
    "start_time": "2022-03-11T17:53:29.140Z"
   },
   {
    "duration": 6,
    "start_time": "2022-03-11T17:53:29.181Z"
   },
   {
    "duration": 11,
    "start_time": "2022-03-11T17:53:29.190Z"
   },
   {
    "duration": 11,
    "start_time": "2022-03-11T17:53:29.204Z"
   },
   {
    "duration": 11,
    "start_time": "2022-03-11T17:53:29.217Z"
   },
   {
    "duration": 10,
    "start_time": "2022-03-11T17:53:29.230Z"
   },
   {
    "duration": 7,
    "start_time": "2022-03-11T17:53:29.242Z"
   },
   {
    "duration": 9,
    "start_time": "2022-03-11T17:53:29.282Z"
   },
   {
    "duration": 7,
    "start_time": "2022-03-11T17:53:29.297Z"
   },
   {
    "duration": 6,
    "start_time": "2022-03-11T17:53:29.306Z"
   },
   {
    "duration": 5,
    "start_time": "2022-03-11T17:53:29.314Z"
   },
   {
    "duration": 431,
    "start_time": "2022-03-11T17:53:29.321Z"
   },
   {
    "duration": 4,
    "start_time": "2022-03-11T17:53:29.754Z"
   },
   {
    "duration": 11,
    "start_time": "2022-03-11T17:53:29.760Z"
   },
   {
    "duration": 31,
    "start_time": "2022-03-11T17:53:29.773Z"
   },
   {
    "duration": 12,
    "start_time": "2022-03-11T17:53:29.806Z"
   },
   {
    "duration": 722,
    "start_time": "2022-03-11T17:53:29.819Z"
   },
   {
    "duration": 9,
    "start_time": "2022-03-11T17:53:30.543Z"
   },
   {
    "duration": 700,
    "start_time": "2022-03-11T17:53:30.554Z"
   },
   {
    "duration": 442,
    "start_time": "2022-03-11T17:53:31.256Z"
   },
   {
    "duration": 9,
    "start_time": "2022-03-11T17:53:31.700Z"
   },
   {
    "duration": 279,
    "start_time": "2022-03-11T17:53:31.711Z"
   },
   {
    "duration": 12,
    "start_time": "2022-03-11T17:53:31.991Z"
   },
   {
    "duration": 447,
    "start_time": "2022-03-11T17:53:32.005Z"
   },
   {
    "duration": 491,
    "start_time": "2022-03-11T17:53:32.454Z"
   },
   {
    "duration": 9,
    "start_time": "2022-03-11T17:53:32.947Z"
   },
   {
    "duration": 420,
    "start_time": "2022-03-11T17:53:32.958Z"
   },
   {
    "duration": 5,
    "start_time": "2022-03-11T17:53:33.380Z"
   },
   {
    "duration": 24,
    "start_time": "2022-03-11T17:53:33.387Z"
   },
   {
    "duration": 5,
    "start_time": "2022-03-11T17:53:33.413Z"
   },
   {
    "duration": 29,
    "start_time": "2022-03-11T17:53:33.420Z"
   },
   {
    "duration": 29,
    "start_time": "2022-03-11T17:53:33.451Z"
   },
   {
    "duration": 238,
    "start_time": "2022-03-11T17:53:33.482Z"
   },
   {
    "duration": 12,
    "start_time": "2022-03-11T17:53:33.722Z"
   },
   {
    "duration": 19,
    "start_time": "2022-03-11T17:53:33.736Z"
   },
   {
    "duration": 259,
    "start_time": "2022-03-11T17:53:33.757Z"
   },
   {
    "duration": 9,
    "start_time": "2022-03-11T17:53:34.018Z"
   },
   {
    "duration": 36,
    "start_time": "2022-03-11T17:53:34.029Z"
   },
   {
    "duration": 27,
    "start_time": "2022-03-11T17:53:34.067Z"
   },
   {
    "duration": 44,
    "start_time": "2022-03-11T17:53:34.096Z"
   },
   {
    "duration": 26,
    "start_time": "2022-03-11T17:53:34.142Z"
   },
   {
    "duration": 10,
    "start_time": "2022-03-11T17:53:34.170Z"
   },
   {
    "duration": 509,
    "start_time": "2022-03-11T17:53:34.182Z"
   },
   {
    "duration": 5,
    "start_time": "2022-03-11T17:53:34.693Z"
   },
   {
    "duration": 467,
    "start_time": "2022-03-11T17:53:34.700Z"
   },
   {
    "duration": 10,
    "start_time": "2022-03-11T17:53:35.169Z"
   },
   {
    "duration": 454,
    "start_time": "2022-03-11T17:53:35.181Z"
   },
   {
    "duration": 298,
    "start_time": "2022-03-11T17:53:35.637Z"
   },
   {
    "duration": 6,
    "start_time": "2022-03-11T17:53:35.937Z"
   },
   {
    "duration": 10,
    "start_time": "2022-03-11T17:53:35.945Z"
   },
   {
    "duration": 21,
    "start_time": "2022-03-11T17:53:35.957Z"
   },
   {
    "duration": 234,
    "start_time": "2022-03-11T17:53:35.980Z"
   },
   {
    "duration": 9,
    "start_time": "2022-03-11T17:53:36.216Z"
   },
   {
    "duration": 24,
    "start_time": "2022-03-11T17:53:36.232Z"
   },
   {
    "duration": 11,
    "start_time": "2022-03-11T17:53:36.276Z"
   },
   {
    "duration": 10,
    "start_time": "2022-03-11T17:53:36.289Z"
   },
   {
    "duration": 7,
    "start_time": "2022-03-11T17:53:36.301Z"
   },
   {
    "duration": 23,
    "start_time": "2022-03-11T17:53:36.310Z"
   },
   {
    "duration": 367,
    "start_time": "2022-03-11T17:53:36.336Z"
   },
   {
    "duration": 34,
    "start_time": "2022-03-11T17:53:36.705Z"
   },
   {
    "duration": 8,
    "start_time": "2022-03-11T17:53:36.741Z"
   },
   {
    "duration": 301,
    "start_time": "2022-03-11T17:53:36.751Z"
   },
   {
    "duration": 10,
    "start_time": "2022-03-11T17:53:37.054Z"
   },
   {
    "duration": 299,
    "start_time": "2022-03-11T17:53:37.078Z"
   },
   {
    "duration": 10,
    "start_time": "2022-03-11T17:53:37.379Z"
   },
   {
    "duration": 305,
    "start_time": "2022-03-11T17:53:37.391Z"
   },
   {
    "duration": 10,
    "start_time": "2022-03-11T17:53:37.698Z"
   },
   {
    "duration": 320,
    "start_time": "2022-03-11T17:53:37.710Z"
   },
   {
    "duration": 6,
    "start_time": "2022-03-11T17:53:38.032Z"
   },
   {
    "duration": 375,
    "start_time": "2022-03-11T17:53:38.040Z"
   },
   {
    "duration": 286,
    "start_time": "2022-03-11T17:53:38.418Z"
   },
   {
    "duration": 6,
    "start_time": "2022-03-11T17:53:38.707Z"
   },
   {
    "duration": 7,
    "start_time": "2022-03-11T17:53:38.714Z"
   },
   {
    "duration": 7,
    "start_time": "2022-03-11T17:53:38.723Z"
   },
   {
    "duration": 8,
    "start_time": "2022-03-11T17:53:38.731Z"
   },
   {
    "duration": 67116,
    "start_time": "2022-03-11T17:54:38.347Z"
   },
   {
    "duration": 2584,
    "start_time": "2022-03-11T17:57:17.039Z"
   },
   {
    "duration": 3,
    "start_time": "2022-03-11T17:57:19.626Z"
   },
   {
    "duration": 2932,
    "start_time": "2022-03-11T17:57:19.632Z"
   },
   {
    "duration": 31,
    "start_time": "2022-03-11T17:57:22.567Z"
   },
   {
    "duration": 5,
    "start_time": "2022-03-11T17:57:22.600Z"
   },
   {
    "duration": 8,
    "start_time": "2022-03-11T17:57:22.607Z"
   },
   {
    "duration": 22,
    "start_time": "2022-03-11T17:57:22.617Z"
   },
   {
    "duration": 10,
    "start_time": "2022-03-11T17:57:22.641Z"
   },
   {
    "duration": 73,
    "start_time": "2022-03-11T17:57:22.676Z"
   },
   {
    "duration": 36,
    "start_time": "2022-03-11T17:57:22.750Z"
   },
   {
    "duration": 10,
    "start_time": "2022-03-11T17:57:22.787Z"
   },
   {
    "duration": 4,
    "start_time": "2022-03-11T17:57:22.799Z"
   },
   {
    "duration": 9,
    "start_time": "2022-03-11T17:57:22.805Z"
   },
   {
    "duration": 8,
    "start_time": "2022-03-11T17:57:22.815Z"
   },
   {
    "duration": 9,
    "start_time": "2022-03-11T17:57:22.825Z"
   },
   {
    "duration": 9,
    "start_time": "2022-03-11T17:57:22.835Z"
   },
   {
    "duration": 33,
    "start_time": "2022-03-11T17:57:22.846Z"
   },
   {
    "duration": 13,
    "start_time": "2022-03-11T17:57:22.882Z"
   },
   {
    "duration": 9,
    "start_time": "2022-03-11T17:57:22.897Z"
   },
   {
    "duration": 8,
    "start_time": "2022-03-11T17:57:22.908Z"
   },
   {
    "duration": 15,
    "start_time": "2022-03-11T17:57:22.918Z"
   },
   {
    "duration": 7,
    "start_time": "2022-03-11T17:57:22.935Z"
   },
   {
    "duration": 34,
    "start_time": "2022-03-11T17:57:22.943Z"
   },
   {
    "duration": 5,
    "start_time": "2022-03-11T17:57:22.979Z"
   },
   {
    "duration": 378,
    "start_time": "2022-03-11T17:57:22.986Z"
   },
   {
    "duration": 11,
    "start_time": "2022-03-11T17:57:23.366Z"
   },
   {
    "duration": 4,
    "start_time": "2022-03-11T17:57:23.379Z"
   },
   {
    "duration": 26,
    "start_time": "2022-03-11T17:57:23.385Z"
   },
   {
    "duration": 8,
    "start_time": "2022-03-11T17:57:23.413Z"
   },
   {
    "duration": 672,
    "start_time": "2022-03-11T17:57:23.423Z"
   },
   {
    "duration": 10,
    "start_time": "2022-03-11T17:57:24.097Z"
   },
   {
    "duration": 608,
    "start_time": "2022-03-11T17:57:24.109Z"
   },
   {
    "duration": 411,
    "start_time": "2022-03-11T17:57:24.719Z"
   },
   {
    "duration": 9,
    "start_time": "2022-03-11T17:57:25.132Z"
   },
   {
    "duration": 274,
    "start_time": "2022-03-11T17:57:25.142Z"
   },
   {
    "duration": 9,
    "start_time": "2022-03-11T17:57:25.418Z"
   },
   {
    "duration": 406,
    "start_time": "2022-03-11T17:57:25.429Z"
   },
   {
    "duration": 465,
    "start_time": "2022-03-11T17:57:25.837Z"
   },
   {
    "duration": 9,
    "start_time": "2022-03-11T17:57:26.304Z"
   },
   {
    "duration": 420,
    "start_time": "2022-03-11T17:57:26.315Z"
   },
   {
    "duration": 5,
    "start_time": "2022-03-11T17:57:26.738Z"
   },
   {
    "duration": 16,
    "start_time": "2022-03-11T17:58:33.213Z"
   },
   {
    "duration": 10,
    "start_time": "2022-03-11T17:58:38.535Z"
   },
   {
    "duration": 13,
    "start_time": "2022-03-11T17:59:18.094Z"
   },
   {
    "duration": 10,
    "start_time": "2022-03-11T17:59:23.322Z"
   },
   {
    "duration": 499,
    "start_time": "2022-03-11T18:18:14.444Z"
   },
   {
    "duration": 67,
    "start_time": "2022-03-11T18:19:46.328Z"
   },
   {
    "duration": 224,
    "start_time": "2022-03-11T18:20:01.958Z"
   },
   {
    "duration": 222,
    "start_time": "2022-03-11T18:21:30.490Z"
   },
   {
    "duration": 33620,
    "start_time": "2022-03-11T18:34:32.953Z"
   },
   {
    "duration": 103635,
    "start_time": "2022-03-11T18:35:06.576Z"
   },
   {
    "duration": 1251,
    "start_time": "2022-03-11T18:36:50.214Z"
   },
   {
    "duration": 3544,
    "start_time": "2022-03-11T18:36:51.467Z"
   },
   {
    "duration": 29,
    "start_time": "2022-03-11T18:36:55.013Z"
   },
   {
    "duration": 6,
    "start_time": "2022-03-11T18:36:55.044Z"
   },
   {
    "duration": 7,
    "start_time": "2022-03-11T18:36:55.051Z"
   },
   {
    "duration": 31,
    "start_time": "2022-03-11T18:36:55.060Z"
   },
   {
    "duration": 10,
    "start_time": "2022-03-11T18:36:55.093Z"
   },
   {
    "duration": 91,
    "start_time": "2022-03-11T18:36:55.104Z"
   },
   {
    "duration": 22,
    "start_time": "2022-03-11T18:36:55.197Z"
   },
   {
    "duration": 10,
    "start_time": "2022-03-11T18:36:55.220Z"
   },
   {
    "duration": 4,
    "start_time": "2022-03-11T18:36:55.232Z"
   },
   {
    "duration": 6,
    "start_time": "2022-03-11T18:36:55.237Z"
   },
   {
    "duration": 34,
    "start_time": "2022-03-11T18:36:55.244Z"
   },
   {
    "duration": 5,
    "start_time": "2022-03-11T18:36:55.280Z"
   },
   {
    "duration": 7,
    "start_time": "2022-03-11T18:36:55.286Z"
   },
   {
    "duration": 10,
    "start_time": "2022-03-11T18:36:55.295Z"
   },
   {
    "duration": 12,
    "start_time": "2022-03-11T18:36:55.307Z"
   },
   {
    "duration": 9,
    "start_time": "2022-03-11T18:36:55.321Z"
   },
   {
    "duration": 9,
    "start_time": "2022-03-11T18:36:55.332Z"
   },
   {
    "duration": 36,
    "start_time": "2022-03-11T18:36:55.343Z"
   },
   {
    "duration": 6,
    "start_time": "2022-03-11T18:36:55.384Z"
   },
   {
    "duration": 7,
    "start_time": "2022-03-11T18:36:55.392Z"
   },
   {
    "duration": 6,
    "start_time": "2022-03-11T18:36:55.400Z"
   },
   {
    "duration": 394,
    "start_time": "2022-03-11T18:36:55.408Z"
   },
   {
    "duration": 5,
    "start_time": "2022-03-11T18:36:55.804Z"
   },
   {
    "duration": 6,
    "start_time": "2022-03-11T18:36:55.811Z"
   },
   {
    "duration": 26,
    "start_time": "2022-03-11T18:36:55.819Z"
   },
   {
    "duration": 32,
    "start_time": "2022-03-11T18:36:55.847Z"
   },
   {
    "duration": 657,
    "start_time": "2022-03-11T18:36:55.882Z"
   },
   {
    "duration": 11,
    "start_time": "2022-03-11T18:36:56.541Z"
   },
   {
    "duration": 611,
    "start_time": "2022-03-11T18:36:56.554Z"
   },
   {
    "duration": 423,
    "start_time": "2022-03-11T18:36:57.167Z"
   },
   {
    "duration": 10,
    "start_time": "2022-03-11T18:36:57.592Z"
   },
   {
    "duration": 296,
    "start_time": "2022-03-11T18:36:57.604Z"
   },
   {
    "duration": 11,
    "start_time": "2022-03-11T18:36:57.902Z"
   },
   {
    "duration": 417,
    "start_time": "2022-03-11T18:36:57.915Z"
   },
   {
    "duration": 534,
    "start_time": "2022-03-11T18:36:58.334Z"
   },
   {
    "duration": 15,
    "start_time": "2022-03-11T18:36:58.869Z"
   },
   {
    "duration": 413,
    "start_time": "2022-03-11T18:36:58.886Z"
   },
   {
    "duration": 6,
    "start_time": "2022-03-11T18:36:59.302Z"
   },
   {
    "duration": 13,
    "start_time": "2022-03-11T18:36:59.310Z"
   },
   {
    "duration": 3,
    "start_time": "2022-03-11T18:36:59.325Z"
   },
   {
    "duration": 14,
    "start_time": "2022-03-11T18:36:59.329Z"
   },
   {
    "duration": 32,
    "start_time": "2022-03-11T18:36:59.345Z"
   },
   {
    "duration": 243,
    "start_time": "2022-03-11T18:36:59.379Z"
   },
   {
    "duration": 9,
    "start_time": "2022-03-11T18:36:59.624Z"
   },
   {
    "duration": 13,
    "start_time": "2022-03-11T18:36:59.635Z"
   },
   {
    "duration": 238,
    "start_time": "2022-03-11T18:36:59.651Z"
   },
   {
    "duration": 10,
    "start_time": "2022-03-11T18:36:59.891Z"
   },
   {
    "duration": 13,
    "start_time": "2022-03-11T18:36:59.903Z"
   },
   {
    "duration": 3,
    "start_time": "2022-03-11T18:36:59.918Z"
   },
   {
    "duration": 25,
    "start_time": "2022-03-11T18:36:59.923Z"
   },
   {
    "duration": 32,
    "start_time": "2022-03-11T18:36:59.950Z"
   },
   {
    "duration": 478,
    "start_time": "2022-03-11T18:36:59.984Z"
   },
   {
    "duration": 15,
    "start_time": "2022-03-11T18:37:00.464Z"
   },
   {
    "duration": 517,
    "start_time": "2022-03-11T18:37:00.481Z"
   },
   {
    "duration": 6,
    "start_time": "2022-03-11T18:37:00.999Z"
   },
   {
    "duration": 481,
    "start_time": "2022-03-11T18:37:01.007Z"
   },
   {
    "duration": 311,
    "start_time": "2022-03-11T18:37:01.491Z"
   },
   {
    "duration": 232,
    "start_time": "2022-03-11T18:37:01.805Z"
   },
   {
    "duration": 333,
    "start_time": "2022-03-11T18:37:02.039Z"
   },
   {
    "duration": 238,
    "start_time": "2022-03-11T18:37:02.373Z"
   },
   {
    "duration": 8,
    "start_time": "2022-03-11T18:37:02.613Z"
   },
   {
    "duration": 24,
    "start_time": "2022-03-11T18:37:02.622Z"
   },
   {
    "duration": 29,
    "start_time": "2022-03-11T18:37:02.648Z"
   },
   {
    "duration": 5,
    "start_time": "2022-03-11T18:37:02.683Z"
   },
   {
    "duration": 9,
    "start_time": "2022-03-11T18:37:02.690Z"
   },
   {
    "duration": 21,
    "start_time": "2022-03-11T18:37:02.701Z"
   },
   {
    "duration": 259,
    "start_time": "2022-03-11T18:37:02.724Z"
   },
   {
    "duration": 34,
    "start_time": "2022-03-11T18:37:02.985Z"
   },
   {
    "duration": 8,
    "start_time": "2022-03-11T18:37:03.021Z"
   },
   {
    "duration": 318,
    "start_time": "2022-03-11T18:37:03.031Z"
   },
   {
    "duration": 10,
    "start_time": "2022-03-11T18:37:03.352Z"
   },
   {
    "duration": 293,
    "start_time": "2022-03-11T18:37:03.378Z"
   },
   {
    "duration": 10,
    "start_time": "2022-03-11T18:37:03.673Z"
   },
   {
    "duration": 304,
    "start_time": "2022-03-11T18:37:03.685Z"
   },
   {
    "duration": 9,
    "start_time": "2022-03-11T18:37:03.991Z"
   },
   {
    "duration": 295,
    "start_time": "2022-03-11T18:37:04.003Z"
   },
   {
    "duration": 6,
    "start_time": "2022-03-11T18:37:04.300Z"
   },
   {
    "duration": 355,
    "start_time": "2022-03-11T18:37:04.308Z"
   },
   {
    "duration": 287,
    "start_time": "2022-03-11T18:37:04.665Z"
   },
   {
    "duration": 6,
    "start_time": "2022-03-11T18:37:04.955Z"
   },
   {
    "duration": 100218,
    "start_time": "2022-03-11T18:56:49.510Z"
   },
   {
    "duration": 17538,
    "start_time": "2022-03-11T18:58:29.730Z"
   },
   {
    "duration": 1287,
    "start_time": "2022-03-11T18:58:47.270Z"
   },
   {
    "duration": 5523,
    "start_time": "2022-03-11T18:58:48.560Z"
   },
   {
    "duration": 30,
    "start_time": "2022-03-11T18:58:54.085Z"
   },
   {
    "duration": 7,
    "start_time": "2022-03-11T18:58:54.117Z"
   },
   {
    "duration": 13,
    "start_time": "2022-03-11T18:58:54.125Z"
   },
   {
    "duration": 20,
    "start_time": "2022-03-11T18:58:54.141Z"
   },
   {
    "duration": 11,
    "start_time": "2022-03-11T18:58:54.176Z"
   },
   {
    "duration": 89,
    "start_time": "2022-03-11T18:58:54.189Z"
   },
   {
    "duration": 23,
    "start_time": "2022-03-11T18:58:54.280Z"
   },
   {
    "duration": 10,
    "start_time": "2022-03-11T18:58:54.305Z"
   },
   {
    "duration": 4,
    "start_time": "2022-03-11T18:58:54.317Z"
   },
   {
    "duration": 12,
    "start_time": "2022-03-11T18:58:54.323Z"
   },
   {
    "duration": 8,
    "start_time": "2022-03-11T18:58:54.337Z"
   },
   {
    "duration": 32,
    "start_time": "2022-03-11T18:58:54.347Z"
   },
   {
    "duration": 6,
    "start_time": "2022-03-11T18:58:54.381Z"
   },
   {
    "duration": 7,
    "start_time": "2022-03-11T18:58:54.389Z"
   },
   {
    "duration": 10,
    "start_time": "2022-03-11T18:58:54.398Z"
   },
   {
    "duration": 8,
    "start_time": "2022-03-11T18:58:54.410Z"
   },
   {
    "duration": 9,
    "start_time": "2022-03-11T18:58:54.420Z"
   },
   {
    "duration": 8,
    "start_time": "2022-03-11T18:58:54.431Z"
   },
   {
    "duration": 7,
    "start_time": "2022-03-11T18:58:54.476Z"
   },
   {
    "duration": 9,
    "start_time": "2022-03-11T18:58:54.486Z"
   },
   {
    "duration": 5,
    "start_time": "2022-03-11T18:58:54.497Z"
   },
   {
    "duration": 384,
    "start_time": "2022-03-11T18:58:54.504Z"
   },
   {
    "duration": 5,
    "start_time": "2022-03-11T18:58:54.889Z"
   },
   {
    "duration": 11,
    "start_time": "2022-03-11T18:58:54.896Z"
   },
   {
    "duration": 23,
    "start_time": "2022-03-11T18:58:54.909Z"
   },
   {
    "duration": 9,
    "start_time": "2022-03-11T18:58:54.934Z"
   },
   {
    "duration": 658,
    "start_time": "2022-03-11T18:58:54.945Z"
   },
   {
    "duration": 12,
    "start_time": "2022-03-11T18:58:55.605Z"
   },
   {
    "duration": 627,
    "start_time": "2022-03-11T18:58:55.619Z"
   },
   {
    "duration": 416,
    "start_time": "2022-03-11T18:58:56.247Z"
   },
   {
    "duration": 13,
    "start_time": "2022-03-11T18:58:56.665Z"
   },
   {
    "duration": 278,
    "start_time": "2022-03-11T18:58:56.680Z"
   },
   {
    "duration": 22,
    "start_time": "2022-03-11T18:58:56.960Z"
   },
   {
    "duration": 387,
    "start_time": "2022-03-11T18:58:56.984Z"
   },
   {
    "duration": 480,
    "start_time": "2022-03-11T18:58:57.373Z"
   },
   {
    "duration": 9,
    "start_time": "2022-03-11T18:58:57.855Z"
   },
   {
    "duration": 417,
    "start_time": "2022-03-11T18:58:57.866Z"
   },
   {
    "duration": 7,
    "start_time": "2022-03-11T18:58:58.285Z"
   },
   {
    "duration": 20,
    "start_time": "2022-03-11T18:58:58.294Z"
   },
   {
    "duration": 3,
    "start_time": "2022-03-11T18:58:58.316Z"
   },
   {
    "duration": 18,
    "start_time": "2022-03-11T18:58:58.321Z"
   },
   {
    "duration": 8,
    "start_time": "2022-03-11T18:58:58.341Z"
   },
   {
    "duration": 271,
    "start_time": "2022-03-11T18:58:58.350Z"
   },
   {
    "duration": 10,
    "start_time": "2022-03-11T18:58:58.624Z"
   },
   {
    "duration": 13,
    "start_time": "2022-03-11T18:58:58.637Z"
   },
   {
    "duration": 251,
    "start_time": "2022-03-11T18:58:58.652Z"
   },
   {
    "duration": 11,
    "start_time": "2022-03-11T18:58:58.905Z"
   },
   {
    "duration": 16,
    "start_time": "2022-03-11T18:58:58.918Z"
   },
   {
    "duration": 20,
    "start_time": "2022-03-11T18:58:58.936Z"
   },
   {
    "duration": 6,
    "start_time": "2022-03-11T18:58:58.978Z"
   },
   {
    "duration": 468,
    "start_time": "2022-03-11T18:58:58.986Z"
   },
   {
    "duration": 5,
    "start_time": "2022-03-11T18:58:59.457Z"
   },
   {
    "duration": 453,
    "start_time": "2022-03-11T18:58:59.464Z"
   },
   {
    "duration": 5,
    "start_time": "2022-03-11T18:58:59.919Z"
   },
   {
    "duration": 485,
    "start_time": "2022-03-11T18:58:59.926Z"
   },
   {
    "duration": 292,
    "start_time": "2022-03-11T18:59:00.413Z"
   },
   {
    "duration": 261,
    "start_time": "2022-03-11T18:59:00.706Z"
   },
   {
    "duration": 335,
    "start_time": "2022-03-11T18:59:00.969Z"
   },
   {
    "duration": 231,
    "start_time": "2022-03-11T18:59:01.306Z"
   },
   {
    "duration": 8,
    "start_time": "2022-03-11T18:59:01.538Z"
   },
   {
    "duration": 36,
    "start_time": "2022-03-11T18:59:01.548Z"
   },
   {
    "duration": 7,
    "start_time": "2022-03-11T18:59:01.587Z"
   },
   {
    "duration": 11,
    "start_time": "2022-03-11T18:59:01.596Z"
   },
   {
    "duration": 3,
    "start_time": "2022-03-11T18:59:01.613Z"
   },
   {
    "duration": 24,
    "start_time": "2022-03-11T18:59:01.618Z"
   },
   {
    "duration": 249,
    "start_time": "2022-03-11T18:59:01.644Z"
   },
   {
    "duration": 31,
    "start_time": "2022-03-11T18:59:01.895Z"
   },
   {
    "duration": 9,
    "start_time": "2022-03-11T18:59:01.928Z"
   },
   {
    "duration": 322,
    "start_time": "2022-03-11T18:59:01.939Z"
   },
   {
    "duration": 15,
    "start_time": "2022-03-11T18:59:02.263Z"
   },
   {
    "duration": 282,
    "start_time": "2022-03-11T18:59:02.280Z"
   },
   {
    "duration": 14,
    "start_time": "2022-03-11T18:59:02.564Z"
   },
   {
    "duration": 320,
    "start_time": "2022-03-11T18:59:02.580Z"
   },
   {
    "duration": 8,
    "start_time": "2022-03-11T18:59:02.902Z"
   },
   {
    "duration": 293,
    "start_time": "2022-03-11T18:59:02.912Z"
   },
   {
    "duration": 5,
    "start_time": "2022-03-11T18:59:03.207Z"
   },
   {
    "duration": 333,
    "start_time": "2022-03-11T18:59:03.214Z"
   },
   {
    "duration": 281,
    "start_time": "2022-03-11T18:59:03.548Z"
   },
   {
    "duration": 5,
    "start_time": "2022-03-11T18:59:03.830Z"
   },
   {
    "duration": 243,
    "start_time": "2022-03-11T19:06:55.701Z"
   },
   {
    "duration": 209,
    "start_time": "2022-03-11T19:07:20.023Z"
   },
   {
    "duration": 227,
    "start_time": "2022-03-11T19:07:33.288Z"
   },
   {
    "duration": 207,
    "start_time": "2022-03-11T19:07:49.586Z"
   },
   {
    "duration": 2851,
    "start_time": "2022-03-11T19:16:34.787Z"
   },
   {
    "duration": 100057,
    "start_time": "2022-03-11T19:16:37.640Z"
   },
   {
    "duration": 1273,
    "start_time": "2022-03-11T19:18:17.699Z"
   },
   {
    "duration": 3938,
    "start_time": "2022-03-11T19:18:18.974Z"
   },
   {
    "duration": 29,
    "start_time": "2022-03-11T19:18:22.913Z"
   },
   {
    "duration": 12,
    "start_time": "2022-03-11T19:18:22.943Z"
   },
   {
    "duration": 6,
    "start_time": "2022-03-11T19:18:22.957Z"
   },
   {
    "duration": 25,
    "start_time": "2022-03-11T19:18:22.966Z"
   },
   {
    "duration": 11,
    "start_time": "2022-03-11T19:18:22.993Z"
   },
   {
    "duration": 94,
    "start_time": "2022-03-11T19:18:23.005Z"
   },
   {
    "duration": 23,
    "start_time": "2022-03-11T19:18:23.100Z"
   },
   {
    "duration": 9,
    "start_time": "2022-03-11T19:18:23.125Z"
   },
   {
    "duration": 4,
    "start_time": "2022-03-11T19:18:23.136Z"
   },
   {
    "duration": 9,
    "start_time": "2022-03-11T19:18:23.142Z"
   },
   {
    "duration": 4,
    "start_time": "2022-03-11T19:18:23.178Z"
   },
   {
    "duration": 12,
    "start_time": "2022-03-11T19:18:23.184Z"
   },
   {
    "duration": 11,
    "start_time": "2022-03-11T19:18:23.197Z"
   },
   {
    "duration": 9,
    "start_time": "2022-03-11T19:18:23.209Z"
   },
   {
    "duration": 19,
    "start_time": "2022-03-11T19:18:23.220Z"
   },
   {
    "duration": 10,
    "start_time": "2022-03-11T19:18:23.240Z"
   },
   {
    "duration": 12,
    "start_time": "2022-03-11T19:18:23.252Z"
   },
   {
    "duration": 12,
    "start_time": "2022-03-11T19:18:23.266Z"
   },
   {
    "duration": 5,
    "start_time": "2022-03-11T19:18:23.282Z"
   },
   {
    "duration": 10,
    "start_time": "2022-03-11T19:18:23.290Z"
   },
   {
    "duration": 6,
    "start_time": "2022-03-11T19:18:23.301Z"
   },
   {
    "duration": 387,
    "start_time": "2022-03-11T19:18:23.309Z"
   },
   {
    "duration": 5,
    "start_time": "2022-03-11T19:18:23.698Z"
   },
   {
    "duration": 12,
    "start_time": "2022-03-11T19:18:23.704Z"
   },
   {
    "duration": 23,
    "start_time": "2022-03-11T19:18:23.718Z"
   },
   {
    "duration": 11,
    "start_time": "2022-03-11T19:18:23.743Z"
   },
   {
    "duration": 663,
    "start_time": "2022-03-11T19:18:23.755Z"
   },
   {
    "duration": 9,
    "start_time": "2022-03-11T19:18:24.419Z"
   },
   {
    "duration": 587,
    "start_time": "2022-03-11T19:18:24.430Z"
   },
   {
    "duration": 400,
    "start_time": "2022-03-11T19:18:25.019Z"
   },
   {
    "duration": 8,
    "start_time": "2022-03-11T19:18:25.421Z"
   },
   {
    "duration": 285,
    "start_time": "2022-03-11T19:18:25.431Z"
   },
   {
    "duration": 9,
    "start_time": "2022-03-11T19:18:25.718Z"
   },
   {
    "duration": 392,
    "start_time": "2022-03-11T19:18:25.729Z"
   },
   {
    "duration": 481,
    "start_time": "2022-03-11T19:18:26.123Z"
   },
   {
    "duration": 9,
    "start_time": "2022-03-11T19:18:26.606Z"
   },
   {
    "duration": 414,
    "start_time": "2022-03-11T19:18:26.617Z"
   },
   {
    "duration": 5,
    "start_time": "2022-03-11T19:18:27.033Z"
   },
   {
    "duration": 20,
    "start_time": "2022-03-11T19:18:27.039Z"
   },
   {
    "duration": 2,
    "start_time": "2022-03-11T19:18:27.061Z"
   },
   {
    "duration": 10,
    "start_time": "2022-03-11T19:18:27.077Z"
   },
   {
    "duration": 10,
    "start_time": "2022-03-11T19:18:27.089Z"
   },
   {
    "duration": 241,
    "start_time": "2022-03-11T19:18:27.101Z"
   },
   {
    "duration": 10,
    "start_time": "2022-03-11T19:18:27.345Z"
   },
   {
    "duration": 23,
    "start_time": "2022-03-11T19:18:27.357Z"
   },
   {
    "duration": 247,
    "start_time": "2022-03-11T19:18:27.382Z"
   },
   {
    "duration": 9,
    "start_time": "2022-03-11T19:18:27.631Z"
   },
   {
    "duration": 16,
    "start_time": "2022-03-11T19:18:27.642Z"
   },
   {
    "duration": 26,
    "start_time": "2022-03-11T19:18:27.660Z"
   },
   {
    "duration": 6,
    "start_time": "2022-03-11T19:18:27.688Z"
   },
   {
    "duration": 609,
    "start_time": "2022-03-11T19:18:27.695Z"
   },
   {
    "duration": 6,
    "start_time": "2022-03-11T19:18:28.306Z"
   },
   {
    "duration": 566,
    "start_time": "2022-03-11T19:18:28.314Z"
   },
   {
    "duration": 5,
    "start_time": "2022-03-11T19:18:28.882Z"
   },
   {
    "duration": 509,
    "start_time": "2022-03-11T19:18:28.889Z"
   },
   {
    "duration": 289,
    "start_time": "2022-03-11T19:18:29.400Z"
   },
   {
    "duration": 207,
    "start_time": "2022-03-11T19:18:29.691Z"
   },
   {
    "duration": 326,
    "start_time": "2022-03-11T19:18:29.901Z"
   },
   {
    "duration": 222,
    "start_time": "2022-03-11T19:18:30.229Z"
   },
   {
    "duration": 7,
    "start_time": "2022-03-11T19:18:30.454Z"
   },
   {
    "duration": 37,
    "start_time": "2022-03-11T19:18:30.463Z"
   },
   {
    "duration": 30,
    "start_time": "2022-03-11T19:18:30.502Z"
   },
   {
    "duration": 24,
    "start_time": "2022-03-11T19:18:30.534Z"
   },
   {
    "duration": 29,
    "start_time": "2022-03-11T19:18:30.564Z"
   },
   {
    "duration": 50,
    "start_time": "2022-03-11T19:18:30.595Z"
   },
   {
    "duration": 270,
    "start_time": "2022-03-11T19:18:30.647Z"
   },
   {
    "duration": 34,
    "start_time": "2022-03-11T19:18:30.919Z"
   },
   {
    "duration": 27,
    "start_time": "2022-03-11T19:18:30.956Z"
   },
   {
    "duration": 323,
    "start_time": "2022-03-11T19:18:30.985Z"
   },
   {
    "duration": 9,
    "start_time": "2022-03-11T19:18:31.311Z"
   },
   {
    "duration": 294,
    "start_time": "2022-03-11T19:18:31.323Z"
   },
   {
    "duration": 9,
    "start_time": "2022-03-11T19:18:31.620Z"
   },
   {
    "duration": 340,
    "start_time": "2022-03-11T19:18:31.631Z"
   },
   {
    "duration": 8,
    "start_time": "2022-03-11T19:18:31.977Z"
   },
   {
    "duration": 290,
    "start_time": "2022-03-11T19:18:31.987Z"
   },
   {
    "duration": 7,
    "start_time": "2022-03-11T19:18:32.279Z"
   },
   {
    "duration": 365,
    "start_time": "2022-03-11T19:18:32.288Z"
   },
   {
    "duration": 271,
    "start_time": "2022-03-11T19:18:32.656Z"
   },
   {
    "duration": 6,
    "start_time": "2022-03-11T19:18:32.929Z"
   },
   {
    "duration": 259,
    "start_time": "2022-03-11T19:18:32.937Z"
   },
   {
    "duration": 226,
    "start_time": "2022-03-11T19:18:33.198Z"
   },
   {
    "duration": 241,
    "start_time": "2022-03-11T19:18:33.427Z"
   },
   {
    "duration": 76,
    "start_time": "2022-03-12T08:44:13.019Z"
   },
   {
    "duration": 4,
    "start_time": "2022-03-12T08:49:47.079Z"
   },
   {
    "duration": 15,
    "start_time": "2022-03-12T08:49:59.173Z"
   },
   {
    "duration": 5,
    "start_time": "2022-03-12T08:50:33.667Z"
   },
   {
    "duration": 6,
    "start_time": "2022-03-12T08:51:38.327Z"
   },
   {
    "duration": 292,
    "start_time": "2022-03-12T08:53:10.556Z"
   }
  ],
  "kernelspec": {
   "display_name": "Python 3 (ipykernel)",
   "language": "python",
   "name": "python3"
  },
  "language_info": {
   "codemirror_mode": {
    "name": "ipython",
    "version": 3
   },
   "file_extension": ".py",
   "mimetype": "text/x-python",
   "name": "python",
   "nbconvert_exporter": "python",
   "pygments_lexer": "ipython3",
   "version": "3.9.7"
  },
  "toc": {
   "base_numbering": 1,
   "nav_menu": {},
   "number_sections": true,
   "sideBar": true,
   "skip_h1_title": true,
   "title_cell": "Содержание",
   "title_sidebar": "Contents",
   "toc_cell": true,
   "toc_position": {
    "height": "calc(100% - 180px)",
    "left": "10px",
    "top": "150px",
    "width": "165px"
   },
   "toc_section_display": true,
   "toc_window_display": true
  }
 },
 "nbformat": 4,
 "nbformat_minor": 4
}
