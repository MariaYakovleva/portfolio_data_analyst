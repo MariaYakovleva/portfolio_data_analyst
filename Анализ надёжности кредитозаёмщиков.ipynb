{
 "cells": [
  {
   "cell_type": "markdown",
   "id": "e383e043",
   "metadata": {},
   "source": [
    "# Исследование надежности заемщиков."
   ]
  },
  {
   "cell_type": "markdown",
   "id": "289b56f6",
   "metadata": {},
   "source": [
    "**Цель проекта:** выснить, влияет ли семейное положение, количество детей, уровень дохода и цели кредита на срок возврата долга по кредиту в срок в банк."
   ]
  },
  {
   "cell_type": "markdown",
   "id": "0b9d5124",
   "metadata": {},
   "source": [
    "### Шаг 1. Обзор данных"
   ]
  },
  {
   "cell_type": "code",
   "execution_count": 1,
   "id": "03610985",
   "metadata": {},
   "outputs": [],
   "source": [
    "import pandas as pd"
   ]
  },
  {
   "cell_type": "code",
   "execution_count": 2,
   "id": "629cc9f7",
   "metadata": {},
   "outputs": [],
   "source": [
    "#чтение датасета и сохранение его в переменную data\n",
    "try:\n",
    "    data = pd.read_csv('D:\\_THIS IS MY FOLDER\\Я.Практикум, аналитика\\data.csv')\n",
    "except:\n",
    "    data = pd.read_csv('/datasets/data.csv')\n",
    "    "
   ]
  },
  {
   "cell_type": "code",
   "execution_count": 3,
   "id": "32efd2a2",
   "metadata": {
    "scrolled": true
   },
   "outputs": [
    {
     "data": {
      "text/html": [
       "<div>\n",
       "<style scoped>\n",
       "    .dataframe tbody tr th:only-of-type {\n",
       "        vertical-align: middle;\n",
       "    }\n",
       "\n",
       "    .dataframe tbody tr th {\n",
       "        vertical-align: top;\n",
       "    }\n",
       "\n",
       "    .dataframe thead th {\n",
       "        text-align: right;\n",
       "    }\n",
       "</style>\n",
       "<table border=\"1\" class=\"dataframe\">\n",
       "  <thead>\n",
       "    <tr style=\"text-align: right;\">\n",
       "      <th></th>\n",
       "      <th>children</th>\n",
       "      <th>days_employed</th>\n",
       "      <th>dob_years</th>\n",
       "      <th>education</th>\n",
       "      <th>education_id</th>\n",
       "      <th>family_status</th>\n",
       "      <th>family_status_id</th>\n",
       "      <th>gender</th>\n",
       "      <th>income_type</th>\n",
       "      <th>debt</th>\n",
       "      <th>total_income</th>\n",
       "      <th>purpose</th>\n",
       "    </tr>\n",
       "  </thead>\n",
       "  <tbody>\n",
       "    <tr>\n",
       "      <th>0</th>\n",
       "      <td>1</td>\n",
       "      <td>-8437.673028</td>\n",
       "      <td>42</td>\n",
       "      <td>высшее</td>\n",
       "      <td>0</td>\n",
       "      <td>женат / замужем</td>\n",
       "      <td>0</td>\n",
       "      <td>F</td>\n",
       "      <td>сотрудник</td>\n",
       "      <td>0</td>\n",
       "      <td>253875.639453</td>\n",
       "      <td>покупка жилья</td>\n",
       "    </tr>\n",
       "    <tr>\n",
       "      <th>1</th>\n",
       "      <td>1</td>\n",
       "      <td>-4024.803754</td>\n",
       "      <td>36</td>\n",
       "      <td>среднее</td>\n",
       "      <td>1</td>\n",
       "      <td>женат / замужем</td>\n",
       "      <td>0</td>\n",
       "      <td>F</td>\n",
       "      <td>сотрудник</td>\n",
       "      <td>0</td>\n",
       "      <td>112080.014102</td>\n",
       "      <td>приобретение автомобиля</td>\n",
       "    </tr>\n",
       "    <tr>\n",
       "      <th>2</th>\n",
       "      <td>0</td>\n",
       "      <td>-5623.422610</td>\n",
       "      <td>33</td>\n",
       "      <td>Среднее</td>\n",
       "      <td>1</td>\n",
       "      <td>женат / замужем</td>\n",
       "      <td>0</td>\n",
       "      <td>M</td>\n",
       "      <td>сотрудник</td>\n",
       "      <td>0</td>\n",
       "      <td>145885.952297</td>\n",
       "      <td>покупка жилья</td>\n",
       "    </tr>\n",
       "    <tr>\n",
       "      <th>3</th>\n",
       "      <td>3</td>\n",
       "      <td>-4124.747207</td>\n",
       "      <td>32</td>\n",
       "      <td>среднее</td>\n",
       "      <td>1</td>\n",
       "      <td>женат / замужем</td>\n",
       "      <td>0</td>\n",
       "      <td>M</td>\n",
       "      <td>сотрудник</td>\n",
       "      <td>0</td>\n",
       "      <td>267628.550329</td>\n",
       "      <td>дополнительное образование</td>\n",
       "    </tr>\n",
       "    <tr>\n",
       "      <th>4</th>\n",
       "      <td>0</td>\n",
       "      <td>340266.072047</td>\n",
       "      <td>53</td>\n",
       "      <td>среднее</td>\n",
       "      <td>1</td>\n",
       "      <td>гражданский брак</td>\n",
       "      <td>1</td>\n",
       "      <td>F</td>\n",
       "      <td>пенсионер</td>\n",
       "      <td>0</td>\n",
       "      <td>158616.077870</td>\n",
       "      <td>сыграть свадьбу</td>\n",
       "    </tr>\n",
       "    <tr>\n",
       "      <th>5</th>\n",
       "      <td>0</td>\n",
       "      <td>-926.185831</td>\n",
       "      <td>27</td>\n",
       "      <td>высшее</td>\n",
       "      <td>0</td>\n",
       "      <td>гражданский брак</td>\n",
       "      <td>1</td>\n",
       "      <td>M</td>\n",
       "      <td>компаньон</td>\n",
       "      <td>0</td>\n",
       "      <td>255763.565419</td>\n",
       "      <td>покупка жилья</td>\n",
       "    </tr>\n",
       "    <tr>\n",
       "      <th>6</th>\n",
       "      <td>0</td>\n",
       "      <td>-2879.202052</td>\n",
       "      <td>43</td>\n",
       "      <td>высшее</td>\n",
       "      <td>0</td>\n",
       "      <td>женат / замужем</td>\n",
       "      <td>0</td>\n",
       "      <td>F</td>\n",
       "      <td>компаньон</td>\n",
       "      <td>0</td>\n",
       "      <td>240525.971920</td>\n",
       "      <td>операции с жильем</td>\n",
       "    </tr>\n",
       "    <tr>\n",
       "      <th>7</th>\n",
       "      <td>0</td>\n",
       "      <td>-152.779569</td>\n",
       "      <td>50</td>\n",
       "      <td>СРЕДНЕЕ</td>\n",
       "      <td>1</td>\n",
       "      <td>женат / замужем</td>\n",
       "      <td>0</td>\n",
       "      <td>M</td>\n",
       "      <td>сотрудник</td>\n",
       "      <td>0</td>\n",
       "      <td>135823.934197</td>\n",
       "      <td>образование</td>\n",
       "    </tr>\n",
       "    <tr>\n",
       "      <th>8</th>\n",
       "      <td>2</td>\n",
       "      <td>-6929.865299</td>\n",
       "      <td>35</td>\n",
       "      <td>ВЫСШЕЕ</td>\n",
       "      <td>0</td>\n",
       "      <td>гражданский брак</td>\n",
       "      <td>1</td>\n",
       "      <td>F</td>\n",
       "      <td>сотрудник</td>\n",
       "      <td>0</td>\n",
       "      <td>95856.832424</td>\n",
       "      <td>на проведение свадьбы</td>\n",
       "    </tr>\n",
       "    <tr>\n",
       "      <th>9</th>\n",
       "      <td>0</td>\n",
       "      <td>-2188.756445</td>\n",
       "      <td>41</td>\n",
       "      <td>среднее</td>\n",
       "      <td>1</td>\n",
       "      <td>женат / замужем</td>\n",
       "      <td>0</td>\n",
       "      <td>M</td>\n",
       "      <td>сотрудник</td>\n",
       "      <td>0</td>\n",
       "      <td>144425.938277</td>\n",
       "      <td>покупка жилья для семьи</td>\n",
       "    </tr>\n",
       "  </tbody>\n",
       "</table>\n",
       "</div>"
      ],
      "text/plain": [
       "   children  days_employed  dob_years education  education_id  \\\n",
       "0         1   -8437.673028         42    высшее             0   \n",
       "1         1   -4024.803754         36   среднее             1   \n",
       "2         0   -5623.422610         33   Среднее             1   \n",
       "3         3   -4124.747207         32   среднее             1   \n",
       "4         0  340266.072047         53   среднее             1   \n",
       "5         0    -926.185831         27    высшее             0   \n",
       "6         0   -2879.202052         43    высшее             0   \n",
       "7         0    -152.779569         50   СРЕДНЕЕ             1   \n",
       "8         2   -6929.865299         35    ВЫСШЕЕ             0   \n",
       "9         0   -2188.756445         41   среднее             1   \n",
       "\n",
       "      family_status  family_status_id gender income_type  debt   total_income  \\\n",
       "0   женат / замужем                 0      F   сотрудник     0  253875.639453   \n",
       "1   женат / замужем                 0      F   сотрудник     0  112080.014102   \n",
       "2   женат / замужем                 0      M   сотрудник     0  145885.952297   \n",
       "3   женат / замужем                 0      M   сотрудник     0  267628.550329   \n",
       "4  гражданский брак                 1      F   пенсионер     0  158616.077870   \n",
       "5  гражданский брак                 1      M   компаньон     0  255763.565419   \n",
       "6   женат / замужем                 0      F   компаньон     0  240525.971920   \n",
       "7   женат / замужем                 0      M   сотрудник     0  135823.934197   \n",
       "8  гражданский брак                 1      F   сотрудник     0   95856.832424   \n",
       "9   женат / замужем                 0      M   сотрудник     0  144425.938277   \n",
       "\n",
       "                      purpose  \n",
       "0               покупка жилья  \n",
       "1     приобретение автомобиля  \n",
       "2               покупка жилья  \n",
       "3  дополнительное образование  \n",
       "4             сыграть свадьбу  \n",
       "5               покупка жилья  \n",
       "6           операции с жильем  \n",
       "7                 образование  \n",
       "8       на проведение свадьбы  \n",
       "9     покупка жилья для семьи  "
      ]
     },
     "execution_count": 3,
     "metadata": {},
     "output_type": "execute_result"
    }
   ],
   "source": [
    "data.head(10) #вывела на экран первые 10 строк таблицы, чтобы познакомиться с данными"
   ]
  },
  {
   "cell_type": "code",
   "execution_count": 4,
   "id": "00e89d65",
   "metadata": {
    "scrolled": true
   },
   "outputs": [
    {
     "name": "stdout",
     "output_type": "stream",
     "text": [
      "<class 'pandas.core.frame.DataFrame'>\n",
      "RangeIndex: 21525 entries, 0 to 21524\n",
      "Data columns (total 12 columns):\n",
      " #   Column            Non-Null Count  Dtype  \n",
      "---  ------            --------------  -----  \n",
      " 0   children          21525 non-null  int64  \n",
      " 1   days_employed     19351 non-null  float64\n",
      " 2   dob_years         21525 non-null  int64  \n",
      " 3   education         21525 non-null  object \n",
      " 4   education_id      21525 non-null  int64  \n",
      " 5   family_status     21525 non-null  object \n",
      " 6   family_status_id  21525 non-null  int64  \n",
      " 7   gender            21525 non-null  object \n",
      " 8   income_type       21525 non-null  object \n",
      " 9   debt              21525 non-null  int64  \n",
      " 10  total_income      19351 non-null  float64\n",
      " 11  purpose           21525 non-null  object \n",
      "dtypes: float64(2), int64(5), object(5)\n",
      "memory usage: 2.0+ MB\n"
     ]
    }
   ],
   "source": [
    "data.info() #получение общей информаии о таблице с данными"
   ]
  },
  {
   "cell_type": "markdown",
   "id": "82691dc0",
   "metadata": {},
   "source": [
    "В таблице всего 21525 строк. Вижу из общей информации, что в столбцах 'days_employed' и 'total_income' есть пропущенные значения (потому что 19351 не равно '21525).<br> \n",
    "С наименованиями столбцов всё в порядке.<br>"
   ]
  },
  {
   "cell_type": "markdown",
   "id": "89952c5b",
   "metadata": {},
   "source": [
    "Проверю, как выглядят пропущенные значения в столбцах days_employed' и 'total_income'  (это просто пропуски, Nan, None или какие-то другие символы?)"
   ]
  },
  {
   "cell_type": "code",
   "execution_count": 5,
   "id": "dcfe7fca",
   "metadata": {},
   "outputs": [
    {
     "data": {
      "text/html": [
       "<div>\n",
       "<style scoped>\n",
       "    .dataframe tbody tr th:only-of-type {\n",
       "        vertical-align: middle;\n",
       "    }\n",
       "\n",
       "    .dataframe tbody tr th {\n",
       "        vertical-align: top;\n",
       "    }\n",
       "\n",
       "    .dataframe thead th {\n",
       "        text-align: right;\n",
       "    }\n",
       "</style>\n",
       "<table border=\"1\" class=\"dataframe\">\n",
       "  <thead>\n",
       "    <tr style=\"text-align: right;\">\n",
       "      <th></th>\n",
       "      <th>children</th>\n",
       "      <th>days_employed</th>\n",
       "      <th>dob_years</th>\n",
       "      <th>education</th>\n",
       "      <th>education_id</th>\n",
       "      <th>family_status</th>\n",
       "      <th>family_status_id</th>\n",
       "      <th>gender</th>\n",
       "      <th>income_type</th>\n",
       "      <th>debt</th>\n",
       "      <th>total_income</th>\n",
       "      <th>purpose</th>\n",
       "    </tr>\n",
       "  </thead>\n",
       "  <tbody>\n",
       "    <tr>\n",
       "      <th>12</th>\n",
       "      <td>0</td>\n",
       "      <td>NaN</td>\n",
       "      <td>65</td>\n",
       "      <td>среднее</td>\n",
       "      <td>1</td>\n",
       "      <td>гражданский брак</td>\n",
       "      <td>1</td>\n",
       "      <td>M</td>\n",
       "      <td>пенсионер</td>\n",
       "      <td>0</td>\n",
       "      <td>NaN</td>\n",
       "      <td>сыграть свадьбу</td>\n",
       "    </tr>\n",
       "    <tr>\n",
       "      <th>26</th>\n",
       "      <td>0</td>\n",
       "      <td>NaN</td>\n",
       "      <td>41</td>\n",
       "      <td>среднее</td>\n",
       "      <td>1</td>\n",
       "      <td>женат / замужем</td>\n",
       "      <td>0</td>\n",
       "      <td>M</td>\n",
       "      <td>госслужащий</td>\n",
       "      <td>0</td>\n",
       "      <td>NaN</td>\n",
       "      <td>образование</td>\n",
       "    </tr>\n",
       "    <tr>\n",
       "      <th>29</th>\n",
       "      <td>0</td>\n",
       "      <td>NaN</td>\n",
       "      <td>63</td>\n",
       "      <td>среднее</td>\n",
       "      <td>1</td>\n",
       "      <td>Не женат / не замужем</td>\n",
       "      <td>4</td>\n",
       "      <td>F</td>\n",
       "      <td>пенсионер</td>\n",
       "      <td>0</td>\n",
       "      <td>NaN</td>\n",
       "      <td>строительство жилой недвижимости</td>\n",
       "    </tr>\n",
       "    <tr>\n",
       "      <th>41</th>\n",
       "      <td>0</td>\n",
       "      <td>NaN</td>\n",
       "      <td>50</td>\n",
       "      <td>среднее</td>\n",
       "      <td>1</td>\n",
       "      <td>женат / замужем</td>\n",
       "      <td>0</td>\n",
       "      <td>F</td>\n",
       "      <td>госслужащий</td>\n",
       "      <td>0</td>\n",
       "      <td>NaN</td>\n",
       "      <td>сделка с подержанным автомобилем</td>\n",
       "    </tr>\n",
       "    <tr>\n",
       "      <th>55</th>\n",
       "      <td>0</td>\n",
       "      <td>NaN</td>\n",
       "      <td>54</td>\n",
       "      <td>среднее</td>\n",
       "      <td>1</td>\n",
       "      <td>гражданский брак</td>\n",
       "      <td>1</td>\n",
       "      <td>F</td>\n",
       "      <td>пенсионер</td>\n",
       "      <td>1</td>\n",
       "      <td>NaN</td>\n",
       "      <td>сыграть свадьбу</td>\n",
       "    </tr>\n",
       "    <tr>\n",
       "      <th>65</th>\n",
       "      <td>0</td>\n",
       "      <td>NaN</td>\n",
       "      <td>21</td>\n",
       "      <td>среднее</td>\n",
       "      <td>1</td>\n",
       "      <td>Не женат / не замужем</td>\n",
       "      <td>4</td>\n",
       "      <td>M</td>\n",
       "      <td>компаньон</td>\n",
       "      <td>0</td>\n",
       "      <td>NaN</td>\n",
       "      <td>операции с коммерческой недвижимостью</td>\n",
       "    </tr>\n",
       "    <tr>\n",
       "      <th>67</th>\n",
       "      <td>0</td>\n",
       "      <td>NaN</td>\n",
       "      <td>52</td>\n",
       "      <td>высшее</td>\n",
       "      <td>0</td>\n",
       "      <td>женат / замужем</td>\n",
       "      <td>0</td>\n",
       "      <td>F</td>\n",
       "      <td>пенсионер</td>\n",
       "      <td>0</td>\n",
       "      <td>NaN</td>\n",
       "      <td>покупка жилья для семьи</td>\n",
       "    </tr>\n",
       "    <tr>\n",
       "      <th>72</th>\n",
       "      <td>1</td>\n",
       "      <td>NaN</td>\n",
       "      <td>32</td>\n",
       "      <td>высшее</td>\n",
       "      <td>0</td>\n",
       "      <td>женат / замужем</td>\n",
       "      <td>0</td>\n",
       "      <td>M</td>\n",
       "      <td>госслужащий</td>\n",
       "      <td>0</td>\n",
       "      <td>NaN</td>\n",
       "      <td>операции с коммерческой недвижимостью</td>\n",
       "    </tr>\n",
       "    <tr>\n",
       "      <th>82</th>\n",
       "      <td>2</td>\n",
       "      <td>NaN</td>\n",
       "      <td>50</td>\n",
       "      <td>высшее</td>\n",
       "      <td>0</td>\n",
       "      <td>женат / замужем</td>\n",
       "      <td>0</td>\n",
       "      <td>F</td>\n",
       "      <td>сотрудник</td>\n",
       "      <td>0</td>\n",
       "      <td>NaN</td>\n",
       "      <td>жилье</td>\n",
       "    </tr>\n",
       "    <tr>\n",
       "      <th>83</th>\n",
       "      <td>0</td>\n",
       "      <td>NaN</td>\n",
       "      <td>52</td>\n",
       "      <td>среднее</td>\n",
       "      <td>1</td>\n",
       "      <td>женат / замужем</td>\n",
       "      <td>0</td>\n",
       "      <td>M</td>\n",
       "      <td>сотрудник</td>\n",
       "      <td>0</td>\n",
       "      <td>NaN</td>\n",
       "      <td>жилье</td>\n",
       "    </tr>\n",
       "  </tbody>\n",
       "</table>\n",
       "</div>"
      ],
      "text/plain": [
       "    children  days_employed  dob_years education  education_id  \\\n",
       "12         0            NaN         65   среднее             1   \n",
       "26         0            NaN         41   среднее             1   \n",
       "29         0            NaN         63   среднее             1   \n",
       "41         0            NaN         50   среднее             1   \n",
       "55         0            NaN         54   среднее             1   \n",
       "65         0            NaN         21   среднее             1   \n",
       "67         0            NaN         52    высшее             0   \n",
       "72         1            NaN         32    высшее             0   \n",
       "82         2            NaN         50    высшее             0   \n",
       "83         0            NaN         52   среднее             1   \n",
       "\n",
       "            family_status  family_status_id gender  income_type  debt  \\\n",
       "12       гражданский брак                 1      M    пенсионер     0   \n",
       "26        женат / замужем                 0      M  госслужащий     0   \n",
       "29  Не женат / не замужем                 4      F    пенсионер     0   \n",
       "41        женат / замужем                 0      F  госслужащий     0   \n",
       "55       гражданский брак                 1      F    пенсионер     1   \n",
       "65  Не женат / не замужем                 4      M    компаньон     0   \n",
       "67        женат / замужем                 0      F    пенсионер     0   \n",
       "72        женат / замужем                 0      M  госслужащий     0   \n",
       "82        женат / замужем                 0      F    сотрудник     0   \n",
       "83        женат / замужем                 0      M    сотрудник     0   \n",
       "\n",
       "    total_income                                purpose  \n",
       "12           NaN                        сыграть свадьбу  \n",
       "26           NaN                            образование  \n",
       "29           NaN       строительство жилой недвижимости  \n",
       "41           NaN       сделка с подержанным автомобилем  \n",
       "55           NaN                        сыграть свадьбу  \n",
       "65           NaN  операции с коммерческой недвижимостью  \n",
       "67           NaN                покупка жилья для семьи  \n",
       "72           NaN  операции с коммерческой недвижимостью  \n",
       "82           NaN                                  жилье  \n",
       "83           NaN                                  жилье  "
      ]
     },
     "execution_count": 5,
     "metadata": {},
     "output_type": "execute_result"
    }
   ],
   "source": [
    "data[data['days_employed'].isna()].head(10)"
   ]
  },
  {
   "cell_type": "code",
   "execution_count": 6,
   "id": "24a9e1d9",
   "metadata": {},
   "outputs": [
    {
     "data": {
      "text/html": [
       "<div>\n",
       "<style scoped>\n",
       "    .dataframe tbody tr th:only-of-type {\n",
       "        vertical-align: middle;\n",
       "    }\n",
       "\n",
       "    .dataframe tbody tr th {\n",
       "        vertical-align: top;\n",
       "    }\n",
       "\n",
       "    .dataframe thead th {\n",
       "        text-align: right;\n",
       "    }\n",
       "</style>\n",
       "<table border=\"1\" class=\"dataframe\">\n",
       "  <thead>\n",
       "    <tr style=\"text-align: right;\">\n",
       "      <th></th>\n",
       "      <th>children</th>\n",
       "      <th>days_employed</th>\n",
       "      <th>dob_years</th>\n",
       "      <th>education</th>\n",
       "      <th>education_id</th>\n",
       "      <th>family_status</th>\n",
       "      <th>family_status_id</th>\n",
       "      <th>gender</th>\n",
       "      <th>income_type</th>\n",
       "      <th>debt</th>\n",
       "      <th>total_income</th>\n",
       "      <th>purpose</th>\n",
       "    </tr>\n",
       "  </thead>\n",
       "  <tbody>\n",
       "    <tr>\n",
       "      <th>12</th>\n",
       "      <td>0</td>\n",
       "      <td>NaN</td>\n",
       "      <td>65</td>\n",
       "      <td>среднее</td>\n",
       "      <td>1</td>\n",
       "      <td>гражданский брак</td>\n",
       "      <td>1</td>\n",
       "      <td>M</td>\n",
       "      <td>пенсионер</td>\n",
       "      <td>0</td>\n",
       "      <td>NaN</td>\n",
       "      <td>сыграть свадьбу</td>\n",
       "    </tr>\n",
       "    <tr>\n",
       "      <th>26</th>\n",
       "      <td>0</td>\n",
       "      <td>NaN</td>\n",
       "      <td>41</td>\n",
       "      <td>среднее</td>\n",
       "      <td>1</td>\n",
       "      <td>женат / замужем</td>\n",
       "      <td>0</td>\n",
       "      <td>M</td>\n",
       "      <td>госслужащий</td>\n",
       "      <td>0</td>\n",
       "      <td>NaN</td>\n",
       "      <td>образование</td>\n",
       "    </tr>\n",
       "    <tr>\n",
       "      <th>29</th>\n",
       "      <td>0</td>\n",
       "      <td>NaN</td>\n",
       "      <td>63</td>\n",
       "      <td>среднее</td>\n",
       "      <td>1</td>\n",
       "      <td>Не женат / не замужем</td>\n",
       "      <td>4</td>\n",
       "      <td>F</td>\n",
       "      <td>пенсионер</td>\n",
       "      <td>0</td>\n",
       "      <td>NaN</td>\n",
       "      <td>строительство жилой недвижимости</td>\n",
       "    </tr>\n",
       "    <tr>\n",
       "      <th>41</th>\n",
       "      <td>0</td>\n",
       "      <td>NaN</td>\n",
       "      <td>50</td>\n",
       "      <td>среднее</td>\n",
       "      <td>1</td>\n",
       "      <td>женат / замужем</td>\n",
       "      <td>0</td>\n",
       "      <td>F</td>\n",
       "      <td>госслужащий</td>\n",
       "      <td>0</td>\n",
       "      <td>NaN</td>\n",
       "      <td>сделка с подержанным автомобилем</td>\n",
       "    </tr>\n",
       "    <tr>\n",
       "      <th>55</th>\n",
       "      <td>0</td>\n",
       "      <td>NaN</td>\n",
       "      <td>54</td>\n",
       "      <td>среднее</td>\n",
       "      <td>1</td>\n",
       "      <td>гражданский брак</td>\n",
       "      <td>1</td>\n",
       "      <td>F</td>\n",
       "      <td>пенсионер</td>\n",
       "      <td>1</td>\n",
       "      <td>NaN</td>\n",
       "      <td>сыграть свадьбу</td>\n",
       "    </tr>\n",
       "    <tr>\n",
       "      <th>65</th>\n",
       "      <td>0</td>\n",
       "      <td>NaN</td>\n",
       "      <td>21</td>\n",
       "      <td>среднее</td>\n",
       "      <td>1</td>\n",
       "      <td>Не женат / не замужем</td>\n",
       "      <td>4</td>\n",
       "      <td>M</td>\n",
       "      <td>компаньон</td>\n",
       "      <td>0</td>\n",
       "      <td>NaN</td>\n",
       "      <td>операции с коммерческой недвижимостью</td>\n",
       "    </tr>\n",
       "    <tr>\n",
       "      <th>67</th>\n",
       "      <td>0</td>\n",
       "      <td>NaN</td>\n",
       "      <td>52</td>\n",
       "      <td>высшее</td>\n",
       "      <td>0</td>\n",
       "      <td>женат / замужем</td>\n",
       "      <td>0</td>\n",
       "      <td>F</td>\n",
       "      <td>пенсионер</td>\n",
       "      <td>0</td>\n",
       "      <td>NaN</td>\n",
       "      <td>покупка жилья для семьи</td>\n",
       "    </tr>\n",
       "    <tr>\n",
       "      <th>72</th>\n",
       "      <td>1</td>\n",
       "      <td>NaN</td>\n",
       "      <td>32</td>\n",
       "      <td>высшее</td>\n",
       "      <td>0</td>\n",
       "      <td>женат / замужем</td>\n",
       "      <td>0</td>\n",
       "      <td>M</td>\n",
       "      <td>госслужащий</td>\n",
       "      <td>0</td>\n",
       "      <td>NaN</td>\n",
       "      <td>операции с коммерческой недвижимостью</td>\n",
       "    </tr>\n",
       "    <tr>\n",
       "      <th>82</th>\n",
       "      <td>2</td>\n",
       "      <td>NaN</td>\n",
       "      <td>50</td>\n",
       "      <td>высшее</td>\n",
       "      <td>0</td>\n",
       "      <td>женат / замужем</td>\n",
       "      <td>0</td>\n",
       "      <td>F</td>\n",
       "      <td>сотрудник</td>\n",
       "      <td>0</td>\n",
       "      <td>NaN</td>\n",
       "      <td>жилье</td>\n",
       "    </tr>\n",
       "    <tr>\n",
       "      <th>83</th>\n",
       "      <td>0</td>\n",
       "      <td>NaN</td>\n",
       "      <td>52</td>\n",
       "      <td>среднее</td>\n",
       "      <td>1</td>\n",
       "      <td>женат / замужем</td>\n",
       "      <td>0</td>\n",
       "      <td>M</td>\n",
       "      <td>сотрудник</td>\n",
       "      <td>0</td>\n",
       "      <td>NaN</td>\n",
       "      <td>жилье</td>\n",
       "    </tr>\n",
       "  </tbody>\n",
       "</table>\n",
       "</div>"
      ],
      "text/plain": [
       "    children  days_employed  dob_years education  education_id  \\\n",
       "12         0            NaN         65   среднее             1   \n",
       "26         0            NaN         41   среднее             1   \n",
       "29         0            NaN         63   среднее             1   \n",
       "41         0            NaN         50   среднее             1   \n",
       "55         0            NaN         54   среднее             1   \n",
       "65         0            NaN         21   среднее             1   \n",
       "67         0            NaN         52    высшее             0   \n",
       "72         1            NaN         32    высшее             0   \n",
       "82         2            NaN         50    высшее             0   \n",
       "83         0            NaN         52   среднее             1   \n",
       "\n",
       "            family_status  family_status_id gender  income_type  debt  \\\n",
       "12       гражданский брак                 1      M    пенсионер     0   \n",
       "26        женат / замужем                 0      M  госслужащий     0   \n",
       "29  Не женат / не замужем                 4      F    пенсионер     0   \n",
       "41        женат / замужем                 0      F  госслужащий     0   \n",
       "55       гражданский брак                 1      F    пенсионер     1   \n",
       "65  Не женат / не замужем                 4      M    компаньон     0   \n",
       "67        женат / замужем                 0      F    пенсионер     0   \n",
       "72        женат / замужем                 0      M  госслужащий     0   \n",
       "82        женат / замужем                 0      F    сотрудник     0   \n",
       "83        женат / замужем                 0      M    сотрудник     0   \n",
       "\n",
       "    total_income                                purpose  \n",
       "12           NaN                        сыграть свадьбу  \n",
       "26           NaN                            образование  \n",
       "29           NaN       строительство жилой недвижимости  \n",
       "41           NaN       сделка с подержанным автомобилем  \n",
       "55           NaN                        сыграть свадьбу  \n",
       "65           NaN  операции с коммерческой недвижимостью  \n",
       "67           NaN                покупка жилья для семьи  \n",
       "72           NaN  операции с коммерческой недвижимостью  \n",
       "82           NaN                                  жилье  \n",
       "83           NaN                                  жилье  "
      ]
     },
     "execution_count": 6,
     "metadata": {},
     "output_type": "execute_result"
    }
   ],
   "source": [
    "data[data['total_income'].isna()].head(10)"
   ]
  },
  {
   "cell_type": "markdown",
   "id": "f0a3783d",
   "metadata": {},
   "source": [
    "Узнаю, какую долю составляют пропущенные значения в каждом из столбцов с пропусками"
   ]
  },
  {
   "cell_type": "code",
   "execution_count": 7,
   "id": "1782bd5e",
   "metadata": {},
   "outputs": [
    {
     "name": "stdout",
     "output_type": "stream",
     "text": [
      "Доля пропущенных значений в столбце \"days_employed\": 10%\n"
     ]
    }
   ],
   "source": [
    "print (('Доля пропущенных значений в столбце \"days_employed\": {:.0%}'.format(data['days_employed'].isna().mean())))"
   ]
  },
  {
   "cell_type": "code",
   "execution_count": 8,
   "id": "dc683efa",
   "metadata": {},
   "outputs": [
    {
     "name": "stdout",
     "output_type": "stream",
     "text": [
      "Доля пропущенных значений в столбце \"total_income\": 10%\n"
     ]
    }
   ],
   "source": [
    "print (('Доля пропущенных значений в столбце \"total_income\": {:.0%}'.format(data['total_income'].isna().mean())))"
   ]
  },
  {
   "cell_type": "markdown",
   "id": "5c7ad581",
   "metadata": {},
   "source": [
    "Пропущенные значения - это NaN. Данных нет. <br>\n",
    "Nan - это тип данных float. Значит, с этими значениями можно проводить математические операции. Поэтому встает выбор: заполнить пропущенные значения медианой или средним значением или вовсе удалить. <br>\n",
    "Судя по доле пропущенных значений и по выводимым значениям, в тех строках, где есть пропуск в столбце 'days_employed', в тех же строках есть пропуск в столбце 'total_income'. Значит, данные отсутствуют по каким-то конкретным причинам. Пропуск может быть на основании другой имеющейся информации внаборе данных (образование, пол, стаж работы) - Missing At Random. Для таких пропущенных данных неприменимо игнорирование или удаление. Значит, будем заполнять данные средним значением или медианой. "
   ]
  },
  {
   "cell_type": "markdown",
   "id": "81159579",
   "metadata": {},
   "source": [
    "Посмотрим на разброс значений в столбцах "
   ]
  },
  {
   "cell_type": "code",
   "execution_count": 9,
   "id": "85b79044",
   "metadata": {},
   "outputs": [
    {
     "data": {
      "text/plain": [
       "count     19351.000000\n",
       "mean      66914.728907\n",
       "std      139030.880527\n",
       "min          24.141633\n",
       "25%         927.009265\n",
       "50%        2194.220567\n",
       "75%        5537.882441\n",
       "max      401755.400475\n",
       "Name: days_employed, dtype: float64"
      ]
     },
     "execution_count": 9,
     "metadata": {},
     "output_type": "execute_result"
    }
   ],
   "source": [
    "data['days_employed'].abs().describe()"
   ]
  },
  {
   "cell_type": "markdown",
   "id": "6d819d97",
   "metadata": {},
   "source": [
    "Вижу, что в этом столбце есть такие странные значения как 354500.415854 и 401755.400475. То есть как будто стаж человека около 1000 лет?. Этого не может быть. Предположу, что максимально возможный трудовой стаж для человека - 60 лет (если он начал работать с 20 лет, то тогда закончит в 80). Это 60*360 =21600 дней. Тогда нам нужно избавиться от всех значений, которые больше 21600 и заменить их на NaN. "
   ]
  },
  {
   "cell_type": "code",
   "execution_count": 10,
   "id": "4eba0829",
   "metadata": {},
   "outputs": [
    {
     "data": {
      "text/plain": [
       "count    1.935100e+04\n",
       "mean     1.674223e+05\n",
       "std      1.029716e+05\n",
       "min      2.066726e+04\n",
       "25%      1.030532e+05\n",
       "50%      1.450179e+05\n",
       "75%      2.034351e+05\n",
       "max      2.265604e+06\n",
       "Name: total_income, dtype: float64"
      ]
     },
     "execution_count": 10,
     "metadata": {},
     "output_type": "execute_result"
    }
   ],
   "source": [
    "data['total_income'].abs().describe()"
   ]
  },
  {
   "cell_type": "markdown",
   "id": "923da3bb",
   "metadata": {},
   "source": [
    "Лучше использовать медиану, т.к. в данных значения имеют большой разброс. Такие данные сместят среднее."
   ]
  },
  {
   "cell_type": "markdown",
   "id": "7c4c388f",
   "metadata": {},
   "source": [
    "**Выводы** <br>\n",
    "<ol>\n",
    "    \n",
    "<li>В каждй строке таблицы информация о клиенте банка: количество детей, стаж работы, возраст, образование, семейное положение, пол, статус занятости, доход и цель кредита.<br>\n",
    "<li>Предварительно можно сказать, что данных достаточно для анализа. Однако в данных есть пропуски, разные регистры строковых объектов в заполненных ячейках, отрицательные значения там, где должны быть положительные и аномально отклоняющиеся значения, которые не могут быть в природе <br>\n",
    "  <li>Чтобы двигаться дальше, нужно сделать предобработку данных.<br>\n",
    "      </ol>"
   ]
  },
  {
   "cell_type": "markdown",
   "id": "65a8c5b7",
   "metadata": {},
   "source": [
    "### Шаг 2.1 Заполнение пропусков"
   ]
  },
  {
   "cell_type": "markdown",
   "id": "d81aadf2",
   "metadata": {},
   "source": [
    "Прежде чем считать медиану и заполнять ею пропущенные значения, избавлюсь от аномалий в столбце ['days_employed'] Я заполню их числовыми значениями NaN"
   ]
  },
  {
   "cell_type": "code",
   "execution_count": 11,
   "id": "03ec6d49",
   "metadata": {},
   "outputs": [],
   "source": [
    "data.loc[data['days_employed'] > 21600, 'days_employed'] = pd.NA"
   ]
  },
  {
   "cell_type": "code",
   "execution_count": 12,
   "id": "ebb2ba30",
   "metadata": {},
   "outputs": [],
   "source": [
    "#присваиваю пропущенным значениям в столбцах соответствующие медианные значения в зависимости от типа занятости\n",
    "data['days_employed'] = data['days_employed'].fillna(data.groupby('income_type')['total_income'].transform(\"median\"))\n",
    "data['total_income'] = data['total_income'].fillna(data.groupby('income_type')['total_income'].transform(\"median\"))"
   ]
  },
  {
   "cell_type": "code",
   "execution_count": 13,
   "id": "a8213c48",
   "metadata": {},
   "outputs": [
    {
     "data": {
      "text/plain": [
       "children            0\n",
       "days_employed       0\n",
       "dob_years           0\n",
       "education           0\n",
       "education_id        0\n",
       "family_status       0\n",
       "family_status_id    0\n",
       "gender              0\n",
       "income_type         0\n",
       "debt                0\n",
       "total_income        0\n",
       "purpose             0\n",
       "dtype: int64"
      ]
     },
     "execution_count": 13,
     "metadata": {},
     "output_type": "execute_result"
    }
   ],
   "source": [
    "#проверяю, остались ли ещё в таблице пропущенные значения\n",
    "data.isna().sum()"
   ]
  },
  {
   "cell_type": "markdown",
   "id": "26550ec9",
   "metadata": {},
   "source": [
    "### Шаг 2.2 Проверка данных на аномалии и исправления."
   ]
  },
  {
   "cell_type": "markdown",
   "id": "8fdc37cf",
   "metadata": {},
   "source": [
    "Как мы выяснили ранее, в столбце `days_employed` есть отрицательные значения. Заменю их на те же самые, только со знаком \"+\"."
   ]
  },
  {
   "cell_type": "code",
   "execution_count": 14,
   "id": "1afbb149",
   "metadata": {},
   "outputs": [],
   "source": [
    "data['days_employed'] = data['days_employed'].abs()"
   ]
  },
  {
   "cell_type": "code",
   "execution_count": 15,
   "id": "cff4711a",
   "metadata": {},
   "outputs": [
    {
     "data": {
      "text/html": [
       "<div>\n",
       "<style scoped>\n",
       "    .dataframe tbody tr th:only-of-type {\n",
       "        vertical-align: middle;\n",
       "    }\n",
       "\n",
       "    .dataframe tbody tr th {\n",
       "        vertical-align: top;\n",
       "    }\n",
       "\n",
       "    .dataframe thead th {\n",
       "        text-align: right;\n",
       "    }\n",
       "</style>\n",
       "<table border=\"1\" class=\"dataframe\">\n",
       "  <thead>\n",
       "    <tr style=\"text-align: right;\">\n",
       "      <th></th>\n",
       "      <th>children</th>\n",
       "      <th>days_employed</th>\n",
       "      <th>dob_years</th>\n",
       "      <th>education</th>\n",
       "      <th>education_id</th>\n",
       "      <th>family_status</th>\n",
       "      <th>family_status_id</th>\n",
       "      <th>gender</th>\n",
       "      <th>income_type</th>\n",
       "      <th>debt</th>\n",
       "      <th>total_income</th>\n",
       "      <th>purpose</th>\n",
       "    </tr>\n",
       "  </thead>\n",
       "  <tbody>\n",
       "    <tr>\n",
       "      <th>0</th>\n",
       "      <td>1</td>\n",
       "      <td>8437.673028</td>\n",
       "      <td>42</td>\n",
       "      <td>высшее</td>\n",
       "      <td>0</td>\n",
       "      <td>женат / замужем</td>\n",
       "      <td>0</td>\n",
       "      <td>F</td>\n",
       "      <td>сотрудник</td>\n",
       "      <td>0</td>\n",
       "      <td>253875.639453</td>\n",
       "      <td>покупка жилья</td>\n",
       "    </tr>\n",
       "    <tr>\n",
       "      <th>1</th>\n",
       "      <td>1</td>\n",
       "      <td>4024.803754</td>\n",
       "      <td>36</td>\n",
       "      <td>среднее</td>\n",
       "      <td>1</td>\n",
       "      <td>женат / замужем</td>\n",
       "      <td>0</td>\n",
       "      <td>F</td>\n",
       "      <td>сотрудник</td>\n",
       "      <td>0</td>\n",
       "      <td>112080.014102</td>\n",
       "      <td>приобретение автомобиля</td>\n",
       "    </tr>\n",
       "    <tr>\n",
       "      <th>2</th>\n",
       "      <td>0</td>\n",
       "      <td>5623.422610</td>\n",
       "      <td>33</td>\n",
       "      <td>Среднее</td>\n",
       "      <td>1</td>\n",
       "      <td>женат / замужем</td>\n",
       "      <td>0</td>\n",
       "      <td>M</td>\n",
       "      <td>сотрудник</td>\n",
       "      <td>0</td>\n",
       "      <td>145885.952297</td>\n",
       "      <td>покупка жилья</td>\n",
       "    </tr>\n",
       "    <tr>\n",
       "      <th>3</th>\n",
       "      <td>3</td>\n",
       "      <td>4124.747207</td>\n",
       "      <td>32</td>\n",
       "      <td>среднее</td>\n",
       "      <td>1</td>\n",
       "      <td>женат / замужем</td>\n",
       "      <td>0</td>\n",
       "      <td>M</td>\n",
       "      <td>сотрудник</td>\n",
       "      <td>0</td>\n",
       "      <td>267628.550329</td>\n",
       "      <td>дополнительное образование</td>\n",
       "    </tr>\n",
       "    <tr>\n",
       "      <th>4</th>\n",
       "      <td>0</td>\n",
       "      <td>118514.486412</td>\n",
       "      <td>53</td>\n",
       "      <td>среднее</td>\n",
       "      <td>1</td>\n",
       "      <td>гражданский брак</td>\n",
       "      <td>1</td>\n",
       "      <td>F</td>\n",
       "      <td>пенсионер</td>\n",
       "      <td>0</td>\n",
       "      <td>158616.077870</td>\n",
       "      <td>сыграть свадьбу</td>\n",
       "    </tr>\n",
       "    <tr>\n",
       "      <th>5</th>\n",
       "      <td>0</td>\n",
       "      <td>926.185831</td>\n",
       "      <td>27</td>\n",
       "      <td>высшее</td>\n",
       "      <td>0</td>\n",
       "      <td>гражданский брак</td>\n",
       "      <td>1</td>\n",
       "      <td>M</td>\n",
       "      <td>компаньон</td>\n",
       "      <td>0</td>\n",
       "      <td>255763.565419</td>\n",
       "      <td>покупка жилья</td>\n",
       "    </tr>\n",
       "    <tr>\n",
       "      <th>6</th>\n",
       "      <td>0</td>\n",
       "      <td>2879.202052</td>\n",
       "      <td>43</td>\n",
       "      <td>высшее</td>\n",
       "      <td>0</td>\n",
       "      <td>женат / замужем</td>\n",
       "      <td>0</td>\n",
       "      <td>F</td>\n",
       "      <td>компаньон</td>\n",
       "      <td>0</td>\n",
       "      <td>240525.971920</td>\n",
       "      <td>операции с жильем</td>\n",
       "    </tr>\n",
       "    <tr>\n",
       "      <th>7</th>\n",
       "      <td>0</td>\n",
       "      <td>152.779569</td>\n",
       "      <td>50</td>\n",
       "      <td>СРЕДНЕЕ</td>\n",
       "      <td>1</td>\n",
       "      <td>женат / замужем</td>\n",
       "      <td>0</td>\n",
       "      <td>M</td>\n",
       "      <td>сотрудник</td>\n",
       "      <td>0</td>\n",
       "      <td>135823.934197</td>\n",
       "      <td>образование</td>\n",
       "    </tr>\n",
       "    <tr>\n",
       "      <th>8</th>\n",
       "      <td>2</td>\n",
       "      <td>6929.865299</td>\n",
       "      <td>35</td>\n",
       "      <td>ВЫСШЕЕ</td>\n",
       "      <td>0</td>\n",
       "      <td>гражданский брак</td>\n",
       "      <td>1</td>\n",
       "      <td>F</td>\n",
       "      <td>сотрудник</td>\n",
       "      <td>0</td>\n",
       "      <td>95856.832424</td>\n",
       "      <td>на проведение свадьбы</td>\n",
       "    </tr>\n",
       "    <tr>\n",
       "      <th>9</th>\n",
       "      <td>0</td>\n",
       "      <td>2188.756445</td>\n",
       "      <td>41</td>\n",
       "      <td>среднее</td>\n",
       "      <td>1</td>\n",
       "      <td>женат / замужем</td>\n",
       "      <td>0</td>\n",
       "      <td>M</td>\n",
       "      <td>сотрудник</td>\n",
       "      <td>0</td>\n",
       "      <td>144425.938277</td>\n",
       "      <td>покупка жилья для семьи</td>\n",
       "    </tr>\n",
       "  </tbody>\n",
       "</table>\n",
       "</div>"
      ],
      "text/plain": [
       "   children  days_employed  dob_years education  education_id  \\\n",
       "0         1    8437.673028         42    высшее             0   \n",
       "1         1    4024.803754         36   среднее             1   \n",
       "2         0    5623.422610         33   Среднее             1   \n",
       "3         3    4124.747207         32   среднее             1   \n",
       "4         0  118514.486412         53   среднее             1   \n",
       "5         0     926.185831         27    высшее             0   \n",
       "6         0    2879.202052         43    высшее             0   \n",
       "7         0     152.779569         50   СРЕДНЕЕ             1   \n",
       "8         2    6929.865299         35    ВЫСШЕЕ             0   \n",
       "9         0    2188.756445         41   среднее             1   \n",
       "\n",
       "      family_status  family_status_id gender income_type  debt   total_income  \\\n",
       "0   женат / замужем                 0      F   сотрудник     0  253875.639453   \n",
       "1   женат / замужем                 0      F   сотрудник     0  112080.014102   \n",
       "2   женат / замужем                 0      M   сотрудник     0  145885.952297   \n",
       "3   женат / замужем                 0      M   сотрудник     0  267628.550329   \n",
       "4  гражданский брак                 1      F   пенсионер     0  158616.077870   \n",
       "5  гражданский брак                 1      M   компаньон     0  255763.565419   \n",
       "6   женат / замужем                 0      F   компаньон     0  240525.971920   \n",
       "7   женат / замужем                 0      M   сотрудник     0  135823.934197   \n",
       "8  гражданский брак                 1      F   сотрудник     0   95856.832424   \n",
       "9   женат / замужем                 0      M   сотрудник     0  144425.938277   \n",
       "\n",
       "                      purpose  \n",
       "0               покупка жилья  \n",
       "1     приобретение автомобиля  \n",
       "2               покупка жилья  \n",
       "3  дополнительное образование  \n",
       "4             сыграть свадьбу  \n",
       "5               покупка жилья  \n",
       "6           операции с жильем  \n",
       "7                 образование  \n",
       "8       на проведение свадьбы  \n",
       "9     покупка жилья для семьи  "
      ]
     },
     "execution_count": 15,
     "metadata": {},
     "output_type": "execute_result"
    }
   ],
   "source": [
    "#выведу первые 10 строк таблицы, чтобы убедиться, что отрицательных чисел в столбце больше нет\n",
    "data.head(10)"
   ]
  },
  {
   "cell_type": "code",
   "execution_count": 16,
   "id": "c5635102",
   "metadata": {},
   "outputs": [
    {
     "data": {
      "text/plain": [
       "118514.486412    3856\n",
       "142594.396847    1105\n",
       "172357.950966     508\n",
       "150447.935283     147\n",
       "131339.751676       2\n",
       "                 ... \n",
       "445.286433          1\n",
       "1133.987382         1\n",
       "5730.178239         1\n",
       "429.448441          1\n",
       "1984.507589         1\n",
       "Name: days_employed, Length: 15912, dtype: int64"
      ]
     },
     "execution_count": 16,
     "metadata": {},
     "output_type": "execute_result"
    }
   ],
   "source": [
    "#и на всякий случай отсортирую числа в столбце 'days_employed' \n",
    "#по возрастанию, чтобы 100%-но убедиться, что отрицательных чисел нет\n",
    "data['days_employed'].value_counts(ascending=False)"
   ]
  },
  {
   "cell_type": "code",
   "execution_count": 17,
   "id": "9f857b98",
   "metadata": {},
   "outputs": [
    {
     "data": {
      "text/plain": [
       "array([ 1,  0,  3,  2, -1,  4, 20,  5], dtype=int64)"
      ]
     },
     "execution_count": 17,
     "metadata": {},
     "output_type": "execute_result"
    }
   ],
   "source": [
    "#проверю, сколько детей может быть у людей\n",
    "data['children'].unique()"
   ]
  },
  {
   "cell_type": "code",
   "execution_count": 18,
   "id": "d428c335",
   "metadata": {},
   "outputs": [],
   "source": [
    "#-1 ребенок не может быть, поэтому заменим -1 на 1\n",
    "#20 детей в семье может быть. в нашей стране аж 76 таких семей:\n",
    "data['children'] = data['children'].abs()"
   ]
  },
  {
   "cell_type": "markdown",
   "id": "c23d06a9",
   "metadata": {},
   "source": [
    "### Шаг 2.3. Изменение типов данных."
   ]
  },
  {
   "cell_type": "code",
   "execution_count": 19,
   "id": "35e86245",
   "metadata": {},
   "outputs": [],
   "source": [
    "#заменим значения в столбце total_income на целочисленный\n",
    "data['total_income'] = data['total_income'].astype('int') "
   ]
  },
  {
   "cell_type": "markdown",
   "id": "4be45b1b",
   "metadata": {},
   "source": [
    "### Шаг 2.4. Удаление дубликатов."
   ]
  },
  {
   "cell_type": "code",
   "execution_count": 20,
   "id": "29cc5529",
   "metadata": {},
   "outputs": [
    {
     "data": {
      "text/plain": [
       "54"
      ]
     },
     "execution_count": 20,
     "metadata": {},
     "output_type": "execute_result"
    }
   ],
   "source": [
    "#проверим, есть ли в наборе данных дублирующиеся строки:\n",
    "data.duplicated().sum()"
   ]
  },
  {
   "cell_type": "code",
   "execution_count": 21,
   "id": "2a0c0a98",
   "metadata": {},
   "outputs": [],
   "source": [
    "#удалим дубликаты с обновлением индексации столбцов и удалением старых\n",
    "data = data.drop_duplicates().reset_index(drop=True)"
   ]
  },
  {
   "cell_type": "code",
   "execution_count": 22,
   "id": "2d5ccca3",
   "metadata": {},
   "outputs": [
    {
     "data": {
      "text/plain": [
       "array(['высшее', 'среднее', 'Среднее', 'СРЕДНЕЕ', 'ВЫСШЕЕ',\n",
       "       'неоконченное высшее', 'начальное', 'Высшее',\n",
       "       'НЕОКОНЧЕННОЕ ВЫСШЕЕ', 'Неоконченное высшее', 'НАЧАЛЬНОЕ',\n",
       "       'Начальное', 'Ученая степень', 'УЧЕНАЯ СТЕПЕНЬ', 'ученая степень'],\n",
       "      dtype=object)"
      ]
     },
     "execution_count": 22,
     "metadata": {},
     "output_type": "execute_result"
    }
   ],
   "source": [
    "#посмотрим, какие виды образования могут быть у людей\n",
    "data['education'].unique()"
   ]
  },
  {
   "cell_type": "markdown",
   "id": "037f9b3e",
   "metadata": {},
   "source": [
    "Одни и те же значения записаны по-разному: с разными регистрами букв. Приведём все значения к единому виду и оставим только 5 возможных:<ul>\n",
    "<li> высшее\n",
    "    <li>среднее\n",
    "        <li>неоконченное высшее \n",
    "            <li>начальное \n",
    "                <li>ученая степень."
   ]
  },
  {
   "cell_type": "code",
   "execution_count": 23,
   "id": "9751734b",
   "metadata": {},
   "outputs": [
    {
     "data": {
      "text/plain": [
       "свадьба                                   793\n",
       "на проведение свадьбы                     773\n",
       "сыграть свадьбу                           769\n",
       "операции с недвижимостью                  675\n",
       "покупка коммерческой недвижимости         662\n",
       "покупка жилья для сдачи                   652\n",
       "операции с жильем                         652\n",
       "операции с коммерческой недвижимостью     650\n",
       "покупка жилья                             646\n",
       "жилье                                     646\n",
       "покупка жилья для семьи                   638\n",
       "строительство собственной недвижимости    635\n",
       "недвижимость                              633\n",
       "операции со своей недвижимостью           627\n",
       "строительство жилой недвижимости          625\n",
       "покупка недвижимости                      621\n",
       "покупка своего жилья                      620\n",
       "строительство недвижимости                619\n",
       "ремонт жилью                              607\n",
       "покупка жилой недвижимости                606\n",
       "на покупку своего автомобиля              505\n",
       "заняться высшим образованием              496\n",
       "автомобиль                                494\n",
       "сделка с подержанным автомобилем          486\n",
       "свой автомобиль                           479\n",
       "на покупку подержанного автомобиля        478\n",
       "автомобили                                478\n",
       "на покупку автомобиля                     472\n",
       "приобретение автомобиля                   461\n",
       "дополнительное образование                460\n",
       "сделка с автомобилем                      455\n",
       "высшее образование                        452\n",
       "образование                               447\n",
       "получение дополнительного образования     447\n",
       "получение образования                     442\n",
       "профильное образование                    436\n",
       "получение высшего образования             426\n",
       "заняться образованием                     408\n",
       "Name: purpose, dtype: int64"
      ]
     },
     "execution_count": 23,
     "metadata": {},
     "output_type": "execute_result"
    }
   ],
   "source": [
    "#посмотрим, какие цели займов могут быть у людей\n",
    "data['purpose'].value_counts()"
   ]
  },
  {
   "cell_type": "markdown",
   "id": "03cfef92",
   "metadata": {},
   "source": [
    "Одни и те же цели сформулированы по-разному. Оставим только несколько возможных целей:<br>\n",
    "<ol>\n",
    "<li>'проведение свадьбы'\n",
    "<li>'получение образования'\n",
    "    <li>'операции с недвижимостью'\n",
    "            <li>'операции с автомобилем'\n",
    "                </ol>\n",
    "                "
   ]
  },
  {
   "cell_type": "markdown",
   "id": "9e75ed5a",
   "metadata": {},
   "source": [
    "Проверим наличие дубликатов в других столбцах с типом данных object "
   ]
  },
  {
   "cell_type": "code",
   "execution_count": 24,
   "id": "4ccb0f1b",
   "metadata": {},
   "outputs": [
    {
     "data": {
      "text/plain": [
       "array(['женат / замужем', 'гражданский брак', 'вдовец / вдова',\n",
       "       'в разводе', 'Не женат / не замужем'], dtype=object)"
      ]
     },
     "execution_count": 24,
     "metadata": {},
     "output_type": "execute_result"
    }
   ],
   "source": [
    "data['family_status'].unique()"
   ]
  },
  {
   "cell_type": "code",
   "execution_count": 25,
   "id": "c3f2dc2d",
   "metadata": {},
   "outputs": [
    {
     "data": {
      "text/plain": [
       "array(['сотрудник', 'пенсионер', 'компаньон', 'госслужащий',\n",
       "       'безработный', 'предприниматель', 'студент', 'в декрете'],\n",
       "      dtype=object)"
      ]
     },
     "execution_count": 25,
     "metadata": {},
     "output_type": "execute_result"
    }
   ],
   "source": [
    "data['income_type'].unique()"
   ]
  },
  {
   "cell_type": "code",
   "execution_count": 26,
   "id": "8e24cfbd",
   "metadata": {},
   "outputs": [
    {
     "data": {
      "text/plain": [
       "array(['F', 'M', 'XNA'], dtype=object)"
      ]
     },
     "execution_count": 26,
     "metadata": {},
     "output_type": "execute_result"
    }
   ],
   "source": [
    "data['gender'].unique()"
   ]
  },
  {
   "cell_type": "markdown",
   "id": "f2996a54",
   "metadata": {},
   "source": [
    "В столбцах `gender`, `family_status`,`income_type` нет неявных дубликатов"
   ]
  },
  {
   "cell_type": "markdown",
   "id": "fddfe11f",
   "metadata": {},
   "source": [
    "Возможная причина появления дубликатов данных в столбцах `purpose` и `education`: скорее всего значения этих столбцов люди заполняли вручную (например, в форме обратной связи на сайте), а не выбирали из предложенного списка. Поэтому каждый человек сформулировал значение по-своему"
   ]
  },
  {
   "cell_type": "code",
   "execution_count": 27,
   "id": "54281d60",
   "metadata": {},
   "outputs": [],
   "source": [
    "#приведем значения в столбце 'education' к одному регистру\n",
    "data['education'] = data['education'].str.lower()"
   ]
  },
  {
   "cell_type": "markdown",
   "id": "b1db0f73",
   "metadata": {},
   "source": [
    "### Шаг 2.5. Формирование дополнительных датафреймов словарей, декомпозиция исходного датафрейма."
   ]
  },
  {
   "cell_type": "code",
   "execution_count": 28,
   "id": "098c8c2b",
   "metadata": {},
   "outputs": [
    {
     "data": {
      "text/plain": [
       "0         высшее\n",
       "1        среднее\n",
       "2        среднее\n",
       "3        среднее\n",
       "4        среднее\n",
       "          ...   \n",
       "21466    среднее\n",
       "21467    среднее\n",
       "21468    среднее\n",
       "21469    среднее\n",
       "21470    среднее\n",
       "Name: education, Length: 21471, dtype: object"
      ]
     },
     "execution_count": 28,
     "metadata": {},
     "output_type": "execute_result"
    }
   ],
   "source": [
    "#создание датафрейма edication со столбцами education_id и education из исходного датафрейма\n",
    "education = data[['education','education_id']]\n",
    "\n",
    "#создание датафрейма family со столбцами family_status_id и family_status из исходного датафрейма\n",
    "family = data[['family_status','family_status_id']]\n",
    "\n",
    "#удалим из исходного датафрейма столбец education\n",
    "data.pop('education')\n"
   ]
  },
  {
   "cell_type": "code",
   "execution_count": 29,
   "id": "48135bea",
   "metadata": {},
   "outputs": [
    {
     "data": {
      "text/plain": [
       "0         женат / замужем\n",
       "1         женат / замужем\n",
       "2         женат / замужем\n",
       "3         женат / замужем\n",
       "4        гражданский брак\n",
       "               ...       \n",
       "21466    гражданский брак\n",
       "21467     женат / замужем\n",
       "21468    гражданский брак\n",
       "21469     женат / замужем\n",
       "21470     женат / замужем\n",
       "Name: family_status, Length: 21471, dtype: object"
      ]
     },
     "execution_count": 29,
     "metadata": {},
     "output_type": "execute_result"
    }
   ],
   "source": [
    "#удалим из исходного датафрейма столбец family_status\n",
    "data.pop('family_status')"
   ]
  },
  {
   "cell_type": "code",
   "execution_count": 30,
   "id": "0536f249",
   "metadata": {},
   "outputs": [
    {
     "data": {
      "text/html": [
       "<div>\n",
       "<style scoped>\n",
       "    .dataframe tbody tr th:only-of-type {\n",
       "        vertical-align: middle;\n",
       "    }\n",
       "\n",
       "    .dataframe tbody tr th {\n",
       "        vertical-align: top;\n",
       "    }\n",
       "\n",
       "    .dataframe thead th {\n",
       "        text-align: right;\n",
       "    }\n",
       "</style>\n",
       "<table border=\"1\" class=\"dataframe\">\n",
       "  <thead>\n",
       "    <tr style=\"text-align: right;\">\n",
       "      <th></th>\n",
       "      <th>children</th>\n",
       "      <th>days_employed</th>\n",
       "      <th>dob_years</th>\n",
       "      <th>education_id</th>\n",
       "      <th>family_status_id</th>\n",
       "      <th>gender</th>\n",
       "      <th>income_type</th>\n",
       "      <th>debt</th>\n",
       "      <th>total_income</th>\n",
       "      <th>purpose</th>\n",
       "    </tr>\n",
       "  </thead>\n",
       "  <tbody>\n",
       "    <tr>\n",
       "      <th>0</th>\n",
       "      <td>1</td>\n",
       "      <td>8437.673028</td>\n",
       "      <td>42</td>\n",
       "      <td>0</td>\n",
       "      <td>0</td>\n",
       "      <td>F</td>\n",
       "      <td>сотрудник</td>\n",
       "      <td>0</td>\n",
       "      <td>253875</td>\n",
       "      <td>покупка жилья</td>\n",
       "    </tr>\n",
       "    <tr>\n",
       "      <th>1</th>\n",
       "      <td>1</td>\n",
       "      <td>4024.803754</td>\n",
       "      <td>36</td>\n",
       "      <td>1</td>\n",
       "      <td>0</td>\n",
       "      <td>F</td>\n",
       "      <td>сотрудник</td>\n",
       "      <td>0</td>\n",
       "      <td>112080</td>\n",
       "      <td>приобретение автомобиля</td>\n",
       "    </tr>\n",
       "    <tr>\n",
       "      <th>2</th>\n",
       "      <td>0</td>\n",
       "      <td>5623.422610</td>\n",
       "      <td>33</td>\n",
       "      <td>1</td>\n",
       "      <td>0</td>\n",
       "      <td>M</td>\n",
       "      <td>сотрудник</td>\n",
       "      <td>0</td>\n",
       "      <td>145885</td>\n",
       "      <td>покупка жилья</td>\n",
       "    </tr>\n",
       "    <tr>\n",
       "      <th>3</th>\n",
       "      <td>3</td>\n",
       "      <td>4124.747207</td>\n",
       "      <td>32</td>\n",
       "      <td>1</td>\n",
       "      <td>0</td>\n",
       "      <td>M</td>\n",
       "      <td>сотрудник</td>\n",
       "      <td>0</td>\n",
       "      <td>267628</td>\n",
       "      <td>дополнительное образование</td>\n",
       "    </tr>\n",
       "    <tr>\n",
       "      <th>4</th>\n",
       "      <td>0</td>\n",
       "      <td>118514.486412</td>\n",
       "      <td>53</td>\n",
       "      <td>1</td>\n",
       "      <td>1</td>\n",
       "      <td>F</td>\n",
       "      <td>пенсионер</td>\n",
       "      <td>0</td>\n",
       "      <td>158616</td>\n",
       "      <td>сыграть свадьбу</td>\n",
       "    </tr>\n",
       "  </tbody>\n",
       "</table>\n",
       "</div>"
      ],
      "text/plain": [
       "   children  days_employed  dob_years  education_id  family_status_id gender  \\\n",
       "0         1    8437.673028         42             0                 0      F   \n",
       "1         1    4024.803754         36             1                 0      F   \n",
       "2         0    5623.422610         33             1                 0      M   \n",
       "3         3    4124.747207         32             1                 0      M   \n",
       "4         0  118514.486412         53             1                 1      F   \n",
       "\n",
       "  income_type  debt  total_income                     purpose  \n",
       "0   сотрудник     0        253875               покупка жилья  \n",
       "1   сотрудник     0        112080     приобретение автомобиля  \n",
       "2   сотрудник     0        145885               покупка жилья  \n",
       "3   сотрудник     0        267628  дополнительное образование  \n",
       "4   пенсионер     0        158616             сыграть свадьбу  "
      ]
     },
     "execution_count": 30,
     "metadata": {},
     "output_type": "execute_result"
    }
   ],
   "source": [
    "#проверю, что столбцы удалены\n",
    "data.head()"
   ]
  },
  {
   "cell_type": "markdown",
   "id": "a0278d5d",
   "metadata": {},
   "source": [
    "### Шаг 2.6. Категоризация дохода."
   ]
  },
  {
   "cell_type": "code",
   "execution_count": 31,
   "id": "dbdc6474",
   "metadata": {},
   "outputs": [
    {
     "data": {
      "text/plain": [
       "'B'"
      ]
     },
     "execution_count": 31,
     "metadata": {},
     "output_type": "execute_result"
    }
   ],
   "source": [
    "# функция income_categoty, которая присваивает категорию в зависимости от дохода\n",
    "# если параметр дохода в диапазоне 0–30000 — категория 'E'; 30001–50000 — 'D'; 50001–200000 — 'C'; 200001–1000000 — 'B';\n",
    "# 1000001 и выше — 'A'\n",
    "def income_categoty(row):\n",
    "    if 0 <= row <= 30000:\n",
    "        return 'E'\n",
    "    if 30001 <= row <= 50000:\n",
    "        return 'D'\n",
    "    if 50001 <= row <= 200000:\n",
    "        return 'C'\n",
    "    if 200001 <= row <= 1000000:\n",
    "        return 'B'\n",
    "    return 'A'\n",
    "#проверяю корректную работу функции:\n",
    "income_categoty(300000)"
   ]
  },
  {
   "cell_type": "code",
   "execution_count": 32,
   "id": "c7b4c154",
   "metadata": {},
   "outputs": [
    {
     "data": {
      "text/html": [
       "<div>\n",
       "<style scoped>\n",
       "    .dataframe tbody tr th:only-of-type {\n",
       "        vertical-align: middle;\n",
       "    }\n",
       "\n",
       "    .dataframe tbody tr th {\n",
       "        vertical-align: top;\n",
       "    }\n",
       "\n",
       "    .dataframe thead th {\n",
       "        text-align: right;\n",
       "    }\n",
       "</style>\n",
       "<table border=\"1\" class=\"dataframe\">\n",
       "  <thead>\n",
       "    <tr style=\"text-align: right;\">\n",
       "      <th></th>\n",
       "      <th>children</th>\n",
       "      <th>days_employed</th>\n",
       "      <th>dob_years</th>\n",
       "      <th>education_id</th>\n",
       "      <th>family_status_id</th>\n",
       "      <th>gender</th>\n",
       "      <th>income_type</th>\n",
       "      <th>debt</th>\n",
       "      <th>total_income</th>\n",
       "      <th>purpose</th>\n",
       "      <th>total_income_category</th>\n",
       "    </tr>\n",
       "  </thead>\n",
       "  <tbody>\n",
       "    <tr>\n",
       "      <th>0</th>\n",
       "      <td>1</td>\n",
       "      <td>8437.673028</td>\n",
       "      <td>42</td>\n",
       "      <td>0</td>\n",
       "      <td>0</td>\n",
       "      <td>F</td>\n",
       "      <td>сотрудник</td>\n",
       "      <td>0</td>\n",
       "      <td>253875</td>\n",
       "      <td>покупка жилья</td>\n",
       "      <td>B</td>\n",
       "    </tr>\n",
       "    <tr>\n",
       "      <th>1</th>\n",
       "      <td>1</td>\n",
       "      <td>4024.803754</td>\n",
       "      <td>36</td>\n",
       "      <td>1</td>\n",
       "      <td>0</td>\n",
       "      <td>F</td>\n",
       "      <td>сотрудник</td>\n",
       "      <td>0</td>\n",
       "      <td>112080</td>\n",
       "      <td>приобретение автомобиля</td>\n",
       "      <td>C</td>\n",
       "    </tr>\n",
       "    <tr>\n",
       "      <th>2</th>\n",
       "      <td>0</td>\n",
       "      <td>5623.422610</td>\n",
       "      <td>33</td>\n",
       "      <td>1</td>\n",
       "      <td>0</td>\n",
       "      <td>M</td>\n",
       "      <td>сотрудник</td>\n",
       "      <td>0</td>\n",
       "      <td>145885</td>\n",
       "      <td>покупка жилья</td>\n",
       "      <td>C</td>\n",
       "    </tr>\n",
       "    <tr>\n",
       "      <th>3</th>\n",
       "      <td>3</td>\n",
       "      <td>4124.747207</td>\n",
       "      <td>32</td>\n",
       "      <td>1</td>\n",
       "      <td>0</td>\n",
       "      <td>M</td>\n",
       "      <td>сотрудник</td>\n",
       "      <td>0</td>\n",
       "      <td>267628</td>\n",
       "      <td>дополнительное образование</td>\n",
       "      <td>B</td>\n",
       "    </tr>\n",
       "    <tr>\n",
       "      <th>4</th>\n",
       "      <td>0</td>\n",
       "      <td>118514.486412</td>\n",
       "      <td>53</td>\n",
       "      <td>1</td>\n",
       "      <td>1</td>\n",
       "      <td>F</td>\n",
       "      <td>пенсионер</td>\n",
       "      <td>0</td>\n",
       "      <td>158616</td>\n",
       "      <td>сыграть свадьбу</td>\n",
       "      <td>C</td>\n",
       "    </tr>\n",
       "    <tr>\n",
       "      <th>...</th>\n",
       "      <td>...</td>\n",
       "      <td>...</td>\n",
       "      <td>...</td>\n",
       "      <td>...</td>\n",
       "      <td>...</td>\n",
       "      <td>...</td>\n",
       "      <td>...</td>\n",
       "      <td>...</td>\n",
       "      <td>...</td>\n",
       "      <td>...</td>\n",
       "      <td>...</td>\n",
       "    </tr>\n",
       "    <tr>\n",
       "      <th>21466</th>\n",
       "      <td>1</td>\n",
       "      <td>4529.316663</td>\n",
       "      <td>43</td>\n",
       "      <td>1</td>\n",
       "      <td>1</td>\n",
       "      <td>F</td>\n",
       "      <td>компаньон</td>\n",
       "      <td>0</td>\n",
       "      <td>224791</td>\n",
       "      <td>операции с жильем</td>\n",
       "      <td>B</td>\n",
       "    </tr>\n",
       "    <tr>\n",
       "      <th>21467</th>\n",
       "      <td>0</td>\n",
       "      <td>118514.486412</td>\n",
       "      <td>67</td>\n",
       "      <td>1</td>\n",
       "      <td>0</td>\n",
       "      <td>F</td>\n",
       "      <td>пенсионер</td>\n",
       "      <td>0</td>\n",
       "      <td>155999</td>\n",
       "      <td>сделка с автомобилем</td>\n",
       "      <td>C</td>\n",
       "    </tr>\n",
       "    <tr>\n",
       "      <th>21468</th>\n",
       "      <td>1</td>\n",
       "      <td>2113.346888</td>\n",
       "      <td>38</td>\n",
       "      <td>1</td>\n",
       "      <td>1</td>\n",
       "      <td>M</td>\n",
       "      <td>сотрудник</td>\n",
       "      <td>1</td>\n",
       "      <td>89672</td>\n",
       "      <td>недвижимость</td>\n",
       "      <td>C</td>\n",
       "    </tr>\n",
       "    <tr>\n",
       "      <th>21469</th>\n",
       "      <td>3</td>\n",
       "      <td>3112.481705</td>\n",
       "      <td>38</td>\n",
       "      <td>1</td>\n",
       "      <td>0</td>\n",
       "      <td>M</td>\n",
       "      <td>сотрудник</td>\n",
       "      <td>1</td>\n",
       "      <td>244093</td>\n",
       "      <td>на покупку своего автомобиля</td>\n",
       "      <td>B</td>\n",
       "    </tr>\n",
       "    <tr>\n",
       "      <th>21470</th>\n",
       "      <td>2</td>\n",
       "      <td>1984.507589</td>\n",
       "      <td>40</td>\n",
       "      <td>1</td>\n",
       "      <td>0</td>\n",
       "      <td>F</td>\n",
       "      <td>сотрудник</td>\n",
       "      <td>0</td>\n",
       "      <td>82047</td>\n",
       "      <td>на покупку автомобиля</td>\n",
       "      <td>C</td>\n",
       "    </tr>\n",
       "  </tbody>\n",
       "</table>\n",
       "<p>21471 rows × 11 columns</p>\n",
       "</div>"
      ],
      "text/plain": [
       "       children  days_employed  dob_years  education_id  family_status_id  \\\n",
       "0             1    8437.673028         42             0                 0   \n",
       "1             1    4024.803754         36             1                 0   \n",
       "2             0    5623.422610         33             1                 0   \n",
       "3             3    4124.747207         32             1                 0   \n",
       "4             0  118514.486412         53             1                 1   \n",
       "...         ...            ...        ...           ...               ...   \n",
       "21466         1    4529.316663         43             1                 1   \n",
       "21467         0  118514.486412         67             1                 0   \n",
       "21468         1    2113.346888         38             1                 1   \n",
       "21469         3    3112.481705         38             1                 0   \n",
       "21470         2    1984.507589         40             1                 0   \n",
       "\n",
       "      gender income_type  debt  total_income                       purpose  \\\n",
       "0          F   сотрудник     0        253875                 покупка жилья   \n",
       "1          F   сотрудник     0        112080       приобретение автомобиля   \n",
       "2          M   сотрудник     0        145885                 покупка жилья   \n",
       "3          M   сотрудник     0        267628    дополнительное образование   \n",
       "4          F   пенсионер     0        158616               сыграть свадьбу   \n",
       "...      ...         ...   ...           ...                           ...   \n",
       "21466      F   компаньон     0        224791             операции с жильем   \n",
       "21467      F   пенсионер     0        155999          сделка с автомобилем   \n",
       "21468      M   сотрудник     1         89672                  недвижимость   \n",
       "21469      M   сотрудник     1        244093  на покупку своего автомобиля   \n",
       "21470      F   сотрудник     0         82047         на покупку автомобиля   \n",
       "\n",
       "      total_income_category  \n",
       "0                         B  \n",
       "1                         C  \n",
       "2                         C  \n",
       "3                         B  \n",
       "4                         C  \n",
       "...                     ...  \n",
       "21466                     B  \n",
       "21467                     C  \n",
       "21468                     C  \n",
       "21469                     B  \n",
       "21470                     C  \n",
       "\n",
       "[21471 rows x 11 columns]"
      ]
     },
     "execution_count": 32,
     "metadata": {},
     "output_type": "execute_result"
    }
   ],
   "source": [
    "#добавляю в датафрейм data столбец total_income_category, \n",
    "#где будут храниться результаты применения функции income_categoty\n",
    "data['total_income_category'] = data['total_income'].apply(income_categoty)\n",
    "data"
   ]
  },
  {
   "cell_type": "markdown",
   "id": "2db25caf",
   "metadata": {},
   "source": [
    "### Шаг 2.7. Категоризация целей кредита."
   ]
  },
  {
   "cell_type": "code",
   "execution_count": 33,
   "id": "4f2f6379",
   "metadata": {},
   "outputs": [
    {
     "data": {
      "text/plain": [
       "'операции с недвижимостью'"
      ]
     },
     "execution_count": 33,
     "metadata": {},
     "output_type": "execute_result"
    }
   ],
   "source": [
    "# функция find_purpose_category, которая присваивает категорию в зависимости от цели кредита\n",
    "# вот такие категории: 'операции с автомобилем','операции с недвижимостью','проведение свадьбы','получение образования'.\n",
    "def find_purpose_category(row):\n",
    "    if 'авто' in row:\n",
    "        return 'операции с автомобилем'\n",
    "    if 'жи' in row:\n",
    "        return 'операции с недвижимостью'\n",
    "    if 'свадьб' in row:\n",
    "        return 'проведение свадьбы'\n",
    "    return 'получение образования'\n",
    "#проверяю работоспособность функции\n",
    "find_purpose_category('операция с недвижимостью')"
   ]
  },
  {
   "cell_type": "code",
   "execution_count": 34,
   "id": "19527489",
   "metadata": {},
   "outputs": [
    {
     "data": {
      "text/html": [
       "<div>\n",
       "<style scoped>\n",
       "    .dataframe tbody tr th:only-of-type {\n",
       "        vertical-align: middle;\n",
       "    }\n",
       "\n",
       "    .dataframe tbody tr th {\n",
       "        vertical-align: top;\n",
       "    }\n",
       "\n",
       "    .dataframe thead th {\n",
       "        text-align: right;\n",
       "    }\n",
       "</style>\n",
       "<table border=\"1\" class=\"dataframe\">\n",
       "  <thead>\n",
       "    <tr style=\"text-align: right;\">\n",
       "      <th></th>\n",
       "      <th>children</th>\n",
       "      <th>days_employed</th>\n",
       "      <th>dob_years</th>\n",
       "      <th>education_id</th>\n",
       "      <th>family_status_id</th>\n",
       "      <th>gender</th>\n",
       "      <th>income_type</th>\n",
       "      <th>debt</th>\n",
       "      <th>total_income</th>\n",
       "      <th>purpose</th>\n",
       "      <th>total_income_category</th>\n",
       "      <th>purpose_category</th>\n",
       "    </tr>\n",
       "  </thead>\n",
       "  <tbody>\n",
       "    <tr>\n",
       "      <th>0</th>\n",
       "      <td>1</td>\n",
       "      <td>8437.673028</td>\n",
       "      <td>42</td>\n",
       "      <td>0</td>\n",
       "      <td>0</td>\n",
       "      <td>F</td>\n",
       "      <td>сотрудник</td>\n",
       "      <td>0</td>\n",
       "      <td>253875</td>\n",
       "      <td>покупка жилья</td>\n",
       "      <td>B</td>\n",
       "      <td>операции с недвижимостью</td>\n",
       "    </tr>\n",
       "    <tr>\n",
       "      <th>1</th>\n",
       "      <td>1</td>\n",
       "      <td>4024.803754</td>\n",
       "      <td>36</td>\n",
       "      <td>1</td>\n",
       "      <td>0</td>\n",
       "      <td>F</td>\n",
       "      <td>сотрудник</td>\n",
       "      <td>0</td>\n",
       "      <td>112080</td>\n",
       "      <td>приобретение автомобиля</td>\n",
       "      <td>C</td>\n",
       "      <td>операции с автомобилем</td>\n",
       "    </tr>\n",
       "    <tr>\n",
       "      <th>2</th>\n",
       "      <td>0</td>\n",
       "      <td>5623.422610</td>\n",
       "      <td>33</td>\n",
       "      <td>1</td>\n",
       "      <td>0</td>\n",
       "      <td>M</td>\n",
       "      <td>сотрудник</td>\n",
       "      <td>0</td>\n",
       "      <td>145885</td>\n",
       "      <td>покупка жилья</td>\n",
       "      <td>C</td>\n",
       "      <td>операции с недвижимостью</td>\n",
       "    </tr>\n",
       "    <tr>\n",
       "      <th>3</th>\n",
       "      <td>3</td>\n",
       "      <td>4124.747207</td>\n",
       "      <td>32</td>\n",
       "      <td>1</td>\n",
       "      <td>0</td>\n",
       "      <td>M</td>\n",
       "      <td>сотрудник</td>\n",
       "      <td>0</td>\n",
       "      <td>267628</td>\n",
       "      <td>дополнительное образование</td>\n",
       "      <td>B</td>\n",
       "      <td>получение образования</td>\n",
       "    </tr>\n",
       "    <tr>\n",
       "      <th>4</th>\n",
       "      <td>0</td>\n",
       "      <td>118514.486412</td>\n",
       "      <td>53</td>\n",
       "      <td>1</td>\n",
       "      <td>1</td>\n",
       "      <td>F</td>\n",
       "      <td>пенсионер</td>\n",
       "      <td>0</td>\n",
       "      <td>158616</td>\n",
       "      <td>сыграть свадьбу</td>\n",
       "      <td>C</td>\n",
       "      <td>проведение свадьбы</td>\n",
       "    </tr>\n",
       "    <tr>\n",
       "      <th>...</th>\n",
       "      <td>...</td>\n",
       "      <td>...</td>\n",
       "      <td>...</td>\n",
       "      <td>...</td>\n",
       "      <td>...</td>\n",
       "      <td>...</td>\n",
       "      <td>...</td>\n",
       "      <td>...</td>\n",
       "      <td>...</td>\n",
       "      <td>...</td>\n",
       "      <td>...</td>\n",
       "      <td>...</td>\n",
       "    </tr>\n",
       "    <tr>\n",
       "      <th>21466</th>\n",
       "      <td>1</td>\n",
       "      <td>4529.316663</td>\n",
       "      <td>43</td>\n",
       "      <td>1</td>\n",
       "      <td>1</td>\n",
       "      <td>F</td>\n",
       "      <td>компаньон</td>\n",
       "      <td>0</td>\n",
       "      <td>224791</td>\n",
       "      <td>операции с жильем</td>\n",
       "      <td>B</td>\n",
       "      <td>операции с недвижимостью</td>\n",
       "    </tr>\n",
       "    <tr>\n",
       "      <th>21467</th>\n",
       "      <td>0</td>\n",
       "      <td>118514.486412</td>\n",
       "      <td>67</td>\n",
       "      <td>1</td>\n",
       "      <td>0</td>\n",
       "      <td>F</td>\n",
       "      <td>пенсионер</td>\n",
       "      <td>0</td>\n",
       "      <td>155999</td>\n",
       "      <td>сделка с автомобилем</td>\n",
       "      <td>C</td>\n",
       "      <td>операции с автомобилем</td>\n",
       "    </tr>\n",
       "    <tr>\n",
       "      <th>21468</th>\n",
       "      <td>1</td>\n",
       "      <td>2113.346888</td>\n",
       "      <td>38</td>\n",
       "      <td>1</td>\n",
       "      <td>1</td>\n",
       "      <td>M</td>\n",
       "      <td>сотрудник</td>\n",
       "      <td>1</td>\n",
       "      <td>89672</td>\n",
       "      <td>недвижимость</td>\n",
       "      <td>C</td>\n",
       "      <td>операции с недвижимостью</td>\n",
       "    </tr>\n",
       "    <tr>\n",
       "      <th>21469</th>\n",
       "      <td>3</td>\n",
       "      <td>3112.481705</td>\n",
       "      <td>38</td>\n",
       "      <td>1</td>\n",
       "      <td>0</td>\n",
       "      <td>M</td>\n",
       "      <td>сотрудник</td>\n",
       "      <td>1</td>\n",
       "      <td>244093</td>\n",
       "      <td>на покупку своего автомобиля</td>\n",
       "      <td>B</td>\n",
       "      <td>операции с автомобилем</td>\n",
       "    </tr>\n",
       "    <tr>\n",
       "      <th>21470</th>\n",
       "      <td>2</td>\n",
       "      <td>1984.507589</td>\n",
       "      <td>40</td>\n",
       "      <td>1</td>\n",
       "      <td>0</td>\n",
       "      <td>F</td>\n",
       "      <td>сотрудник</td>\n",
       "      <td>0</td>\n",
       "      <td>82047</td>\n",
       "      <td>на покупку автомобиля</td>\n",
       "      <td>C</td>\n",
       "      <td>операции с автомобилем</td>\n",
       "    </tr>\n",
       "  </tbody>\n",
       "</table>\n",
       "<p>21471 rows × 12 columns</p>\n",
       "</div>"
      ],
      "text/plain": [
       "       children  days_employed  dob_years  education_id  family_status_id  \\\n",
       "0             1    8437.673028         42             0                 0   \n",
       "1             1    4024.803754         36             1                 0   \n",
       "2             0    5623.422610         33             1                 0   \n",
       "3             3    4124.747207         32             1                 0   \n",
       "4             0  118514.486412         53             1                 1   \n",
       "...         ...            ...        ...           ...               ...   \n",
       "21466         1    4529.316663         43             1                 1   \n",
       "21467         0  118514.486412         67             1                 0   \n",
       "21468         1    2113.346888         38             1                 1   \n",
       "21469         3    3112.481705         38             1                 0   \n",
       "21470         2    1984.507589         40             1                 0   \n",
       "\n",
       "      gender income_type  debt  total_income                       purpose  \\\n",
       "0          F   сотрудник     0        253875                 покупка жилья   \n",
       "1          F   сотрудник     0        112080       приобретение автомобиля   \n",
       "2          M   сотрудник     0        145885                 покупка жилья   \n",
       "3          M   сотрудник     0        267628    дополнительное образование   \n",
       "4          F   пенсионер     0        158616               сыграть свадьбу   \n",
       "...      ...         ...   ...           ...                           ...   \n",
       "21466      F   компаньон     0        224791             операции с жильем   \n",
       "21467      F   пенсионер     0        155999          сделка с автомобилем   \n",
       "21468      M   сотрудник     1         89672                  недвижимость   \n",
       "21469      M   сотрудник     1        244093  на покупку своего автомобиля   \n",
       "21470      F   сотрудник     0         82047         на покупку автомобиля   \n",
       "\n",
       "      total_income_category          purpose_category  \n",
       "0                         B  операции с недвижимостью  \n",
       "1                         C    операции с автомобилем  \n",
       "2                         C  операции с недвижимостью  \n",
       "3                         B     получение образования  \n",
       "4                         C        проведение свадьбы  \n",
       "...                     ...                       ...  \n",
       "21466                     B  операции с недвижимостью  \n",
       "21467                     C    операции с автомобилем  \n",
       "21468                     C  операции с недвижимостью  \n",
       "21469                     B    операции с автомобилем  \n",
       "21470                     C    операции с автомобилем  \n",
       "\n",
       "[21471 rows x 12 columns]"
      ]
     },
     "execution_count": 34,
     "metadata": {},
     "output_type": "execute_result"
    }
   ],
   "source": [
    "#добавляю в датафрейм data столбец purpose_category, \n",
    "#где будут храниться результаты применения функции find_purpose_category\n",
    "data['purpose_category'] = data['purpose'].apply(find_purpose_category)\n",
    "data"
   ]
  },
  {
   "cell_type": "markdown",
   "id": "abda2737",
   "metadata": {},
   "source": [
    "### Ответы на вопросы."
   ]
  },
  {
   "cell_type": "markdown",
   "id": "f38d8fb6",
   "metadata": {},
   "source": [
    "##### Вопрос 1: Есть ли зависимость между количеством детей и возвратом кредита в срок?"
   ]
  },
  {
   "cell_type": "code",
   "execution_count": 35,
   "id": "3cc90e53",
   "metadata": {},
   "outputs": [
    {
     "data": {
      "text/html": [
       "<div>\n",
       "<style scoped>\n",
       "    .dataframe tbody tr th:only-of-type {\n",
       "        vertical-align: middle;\n",
       "    }\n",
       "\n",
       "    .dataframe tbody tr th {\n",
       "        vertical-align: top;\n",
       "    }\n",
       "\n",
       "    .dataframe thead tr th {\n",
       "        text-align: left;\n",
       "    }\n",
       "\n",
       "    .dataframe thead tr:last-of-type th {\n",
       "        text-align: right;\n",
       "    }\n",
       "</style>\n",
       "<table border=\"1\" class=\"dataframe\">\n",
       "  <thead>\n",
       "    <tr>\n",
       "      <th></th>\n",
       "      <th>sum</th>\n",
       "      <th>count</th>\n",
       "      <th>ratio</th>\n",
       "    </tr>\n",
       "    <tr>\n",
       "      <th></th>\n",
       "      <th>debt</th>\n",
       "      <th>debt</th>\n",
       "      <th></th>\n",
       "    </tr>\n",
       "    <tr>\n",
       "      <th>children</th>\n",
       "      <th></th>\n",
       "      <th></th>\n",
       "      <th></th>\n",
       "    </tr>\n",
       "  </thead>\n",
       "  <tbody>\n",
       "    <tr>\n",
       "      <th>5</th>\n",
       "      <td>0</td>\n",
       "      <td>9</td>\n",
       "      <td>0.000000</td>\n",
       "    </tr>\n",
       "    <tr>\n",
       "      <th>0</th>\n",
       "      <td>1063</td>\n",
       "      <td>14107</td>\n",
       "      <td>7.535266</td>\n",
       "    </tr>\n",
       "    <tr>\n",
       "      <th>3</th>\n",
       "      <td>27</td>\n",
       "      <td>330</td>\n",
       "      <td>8.181818</td>\n",
       "    </tr>\n",
       "    <tr>\n",
       "      <th>1</th>\n",
       "      <td>445</td>\n",
       "      <td>4856</td>\n",
       "      <td>9.163921</td>\n",
       "    </tr>\n",
       "    <tr>\n",
       "      <th>2</th>\n",
       "      <td>194</td>\n",
       "      <td>2052</td>\n",
       "      <td>9.454191</td>\n",
       "    </tr>\n",
       "    <tr>\n",
       "      <th>4</th>\n",
       "      <td>4</td>\n",
       "      <td>41</td>\n",
       "      <td>9.756098</td>\n",
       "    </tr>\n",
       "    <tr>\n",
       "      <th>20</th>\n",
       "      <td>8</td>\n",
       "      <td>76</td>\n",
       "      <td>10.526316</td>\n",
       "    </tr>\n",
       "  </tbody>\n",
       "</table>\n",
       "</div>"
      ],
      "text/plain": [
       "           sum  count      ratio\n",
       "          debt   debt           \n",
       "children                        \n",
       "5            0      9   0.000000\n",
       "0         1063  14107   7.535266\n",
       "3           27    330   8.181818\n",
       "1          445   4856   9.163921\n",
       "2          194   2052   9.454191\n",
       "4            4     41   9.756098\n",
       "20           8     76  10.526316"
      ]
     },
     "execution_count": 35,
     "metadata": {},
     "output_type": "execute_result"
    }
   ],
   "source": [
    "#создаю сводную таблицу data_pivot_child, где для каждой из категорий людей с детьми считаю сумму долга и общее количество долга\n",
    "data_pivot_child = data.pivot_table(index='children', values='debt', aggfunc=['sum', 'count'])\n",
    "\n",
    "#в этой же сводной таблице создаю столбец 'ratio' и сохраняю в нём значение соотношения \n",
    "#людей конкретной категории с долгами к общему количеству людей в этой категории, выраженное в процентах\n",
    "data_pivot_child['ratio'] = data_pivot_child['sum'] *100 / (data_pivot_child['count'])\n",
    "\n",
    "#отсортирую эту сводную таблицу по столбцу 'ratio' в порядке возрастания, чтобы было удобнее делать выводы\n",
    "data_pivot_child.sort_values(by='ratio')\n"
   ]
  },
  {
   "cell_type": "markdown",
   "id": "e9907a7b",
   "metadata": {},
   "source": [
    "##### Вывод 1:"
   ]
  },
  {
   "cell_type": "markdown",
   "id": "6ea5586d",
   "metadata": {},
   "source": [
    "Минимальная вероятность к просрочке у людей с 5-ю детьми. Максимальная вероятность к просрочке у людей с 20 детьми. <b>НО!</b> если мы примем во внимание, что вероятность того, что кредитозаёмщик будет иметь 20 детей стремится к нулю, то:<br>\n",
    "   Максимальная вероятость к просрочке у людей с 4-мя детьми. "
   ]
  },
  {
   "cell_type": "markdown",
   "id": "58e317a1",
   "metadata": {},
   "source": [
    "##### Вопрос 2: Есть ли зависимость между семейным положением и возвратом кредита в срок?"
   ]
  },
  {
   "cell_type": "code",
   "execution_count": 36,
   "id": "410d9bac",
   "metadata": {},
   "outputs": [
    {
     "data": {
      "text/html": [
       "<div>\n",
       "<style scoped>\n",
       "    .dataframe tbody tr th:only-of-type {\n",
       "        vertical-align: middle;\n",
       "    }\n",
       "\n",
       "    .dataframe tbody tr th {\n",
       "        vertical-align: top;\n",
       "    }\n",
       "\n",
       "    .dataframe thead th {\n",
       "        text-align: right;\n",
       "    }\n",
       "</style>\n",
       "<table border=\"1\" class=\"dataframe\">\n",
       "  <thead>\n",
       "    <tr style=\"text-align: right;\">\n",
       "      <th></th>\n",
       "      <th>family_status_id</th>\n",
       "      <th>sex</th>\n",
       "      <th>debt</th>\n",
       "      <th>count_of_debt</th>\n",
       "      <th>ratio</th>\n",
       "      <th>family_status</th>\n",
       "    </tr>\n",
       "  </thead>\n",
       "  <tbody>\n",
       "    <tr>\n",
       "      <th>4</th>\n",
       "      <td>1</td>\n",
       "      <td>XNA</td>\n",
       "      <td>0</td>\n",
       "      <td>1</td>\n",
       "      <td>0.000000</td>\n",
       "      <td>гражданский брак</td>\n",
       "    </tr>\n",
       "    <tr>\n",
       "      <th>5</th>\n",
       "      <td>2</td>\n",
       "      <td>F</td>\n",
       "      <td>52</td>\n",
       "      <td>904</td>\n",
       "      <td>5.752212</td>\n",
       "      <td>вдовец / вдова</td>\n",
       "    </tr>\n",
       "    <tr>\n",
       "      <th>7</th>\n",
       "      <td>3</td>\n",
       "      <td>F</td>\n",
       "      <td>61</td>\n",
       "      <td>936</td>\n",
       "      <td>6.517094</td>\n",
       "      <td>в разводе</td>\n",
       "    </tr>\n",
       "    <tr>\n",
       "      <th>9</th>\n",
       "      <td>4</td>\n",
       "      <td>F</td>\n",
       "      <td>118</td>\n",
       "      <td>1729</td>\n",
       "      <td>6.824754</td>\n",
       "      <td>Не женат / не замужем</td>\n",
       "    </tr>\n",
       "    <tr>\n",
       "      <th>0</th>\n",
       "      <td>0</td>\n",
       "      <td>F</td>\n",
       "      <td>530</td>\n",
       "      <td>7764</td>\n",
       "      <td>6.826378</td>\n",
       "      <td>женат / замужем</td>\n",
       "    </tr>\n",
       "    <tr>\n",
       "      <th>2</th>\n",
       "      <td>1</td>\n",
       "      <td>F</td>\n",
       "      <td>233</td>\n",
       "      <td>2856</td>\n",
       "      <td>8.158263</td>\n",
       "      <td>гражданский брак</td>\n",
       "    </tr>\n",
       "    <tr>\n",
       "      <th>1</th>\n",
       "      <td>0</td>\n",
       "      <td>M</td>\n",
       "      <td>401</td>\n",
       "      <td>4580</td>\n",
       "      <td>8.755459</td>\n",
       "      <td>женат / замужем</td>\n",
       "    </tr>\n",
       "    <tr>\n",
       "      <th>8</th>\n",
       "      <td>3</td>\n",
       "      <td>M</td>\n",
       "      <td>24</td>\n",
       "      <td>259</td>\n",
       "      <td>9.266409</td>\n",
       "      <td>в разводе</td>\n",
       "    </tr>\n",
       "    <tr>\n",
       "      <th>3</th>\n",
       "      <td>1</td>\n",
       "      <td>M</td>\n",
       "      <td>155</td>\n",
       "      <td>1306</td>\n",
       "      <td>11.868300</td>\n",
       "      <td>гражданский брак</td>\n",
       "    </tr>\n",
       "    <tr>\n",
       "      <th>10</th>\n",
       "      <td>4</td>\n",
       "      <td>M</td>\n",
       "      <td>156</td>\n",
       "      <td>1081</td>\n",
       "      <td>14.431082</td>\n",
       "      <td>Не женат / не замужем</td>\n",
       "    </tr>\n",
       "    <tr>\n",
       "      <th>6</th>\n",
       "      <td>2</td>\n",
       "      <td>M</td>\n",
       "      <td>11</td>\n",
       "      <td>55</td>\n",
       "      <td>20.000000</td>\n",
       "      <td>вдовец / вдова</td>\n",
       "    </tr>\n",
       "  </tbody>\n",
       "</table>\n",
       "</div>"
      ],
      "text/plain": [
       "    family_status_id  sex  debt  count_of_debt      ratio  \\\n",
       "4                  1  XNA     0              1   0.000000   \n",
       "5                  2    F    52            904   5.752212   \n",
       "7                  3    F    61            936   6.517094   \n",
       "9                  4    F   118           1729   6.824754   \n",
       "0                  0    F   530           7764   6.826378   \n",
       "2                  1    F   233           2856   8.158263   \n",
       "1                  0    M   401           4580   8.755459   \n",
       "8                  3    M    24            259   9.266409   \n",
       "3                  1    M   155           1306  11.868300   \n",
       "10                 4    M   156           1081  14.431082   \n",
       "6                  2    M    11             55  20.000000   \n",
       "\n",
       "            family_status  \n",
       "4        гражданский брак  \n",
       "5          вдовец / вдова  \n",
       "7               в разводе  \n",
       "9   Не женат / не замужем  \n",
       "0         женат / замужем  \n",
       "2        гражданский брак  \n",
       "1         женат / замужем  \n",
       "8               в разводе  \n",
       "3        гражданский брак  \n",
       "10  Не женат / не замужем  \n",
       "6          вдовец / вдова  "
      ]
     },
     "execution_count": 36,
     "metadata": {},
     "output_type": "execute_result"
    }
   ],
   "source": [
    "#создаю сводную таблицу data_pivot_family, где для каждой категории людей, в зависимости от \n",
    "#их семейного положения и пола, считаю сумму долга и общее количество долга\n",
    "data_pivot_family = data.pivot_table(index=['family_status_id', 'gender'] , values='debt', aggfunc=['sum', 'count'])\n",
    "\n",
    "#обновляю индексацию\n",
    "data_pivot_family = data_pivot_family.reset_index()\n",
    "\n",
    "#обновлю названия колонок\n",
    "data_pivot_family.columns = ['family_status_id', 'sex', 'debt', 'count_of_debt']\n",
    "\n",
    "#в этой же сводной таблице создаю столбец 'ratio' и сохраняю в нём значение соотношения \n",
    "#людей конкретной категории семейного положения с долгами к общему количеству людей в этой категории, выраженное в процентах\n",
    "data_pivot_family['ratio'] = data_pivot_family['debt'] *100 / (data_pivot_family['count_of_debt'])\n",
    "\n",
    "#уберу из ранее созданного датафрейма femily дубликаты, чтобы при \n",
    "#объединении таблиц у меня не было лишних строчек\n",
    "family_edited = family.drop_duplicates()\n",
    "\n",
    "#объединю мою сводную таблицу и ранее созданный датафрейм family по столбцам 'family_status_id', для того,\n",
    "#чтобы сразу видеть, какому семейному положению соответствует каждый код статуса\n",
    "data_pivot_family=data_pivot_family.merge(family_edited,on='family_status_id')\n",
    "data_pivot_family\n",
    "\n",
    "#выподимую таблицу отсортирую по столбцу 'ratio'\n",
    "data_pivot_family.sort_values(by='ratio')\n"
   ]
  },
  {
   "cell_type": "markdown",
   "id": "7638b00e",
   "metadata": {},
   "source": [
    "Минимальная вероятность к просрочке у женщин-вдов. Максимальная вероятность к просрочке у мужчин-вдовцов."
   ]
  },
  {
   "cell_type": "markdown",
   "id": "48faebdd",
   "metadata": {},
   "source": [
    "##### Вопрос 3: Есть ли зависимость между уровнем дохода и возвратом кредита в срок?"
   ]
  },
  {
   "cell_type": "code",
   "execution_count": 37,
   "id": "3237f6ae",
   "metadata": {},
   "outputs": [
    {
     "data": {
      "text/html": [
       "<div>\n",
       "<style scoped>\n",
       "    .dataframe tbody tr th:only-of-type {\n",
       "        vertical-align: middle;\n",
       "    }\n",
       "\n",
       "    .dataframe tbody tr th {\n",
       "        vertical-align: top;\n",
       "    }\n",
       "\n",
       "    .dataframe thead tr th {\n",
       "        text-align: left;\n",
       "    }\n",
       "\n",
       "    .dataframe thead tr:last-of-type th {\n",
       "        text-align: right;\n",
       "    }\n",
       "</style>\n",
       "<table border=\"1\" class=\"dataframe\">\n",
       "  <thead>\n",
       "    <tr>\n",
       "      <th></th>\n",
       "      <th>sum</th>\n",
       "      <th>count</th>\n",
       "      <th>ratio</th>\n",
       "    </tr>\n",
       "    <tr>\n",
       "      <th></th>\n",
       "      <th>debt</th>\n",
       "      <th>debt</th>\n",
       "      <th></th>\n",
       "    </tr>\n",
       "    <tr>\n",
       "      <th>total_income_category</th>\n",
       "      <th></th>\n",
       "      <th></th>\n",
       "      <th></th>\n",
       "    </tr>\n",
       "  </thead>\n",
       "  <tbody>\n",
       "    <tr>\n",
       "      <th>D</th>\n",
       "      <td>21</td>\n",
       "      <td>350</td>\n",
       "      <td>6.000000</td>\n",
       "    </tr>\n",
       "    <tr>\n",
       "      <th>B</th>\n",
       "      <td>356</td>\n",
       "      <td>5042</td>\n",
       "      <td>7.060690</td>\n",
       "    </tr>\n",
       "    <tr>\n",
       "      <th>A</th>\n",
       "      <td>2</td>\n",
       "      <td>25</td>\n",
       "      <td>8.000000</td>\n",
       "    </tr>\n",
       "    <tr>\n",
       "      <th>C</th>\n",
       "      <td>1360</td>\n",
       "      <td>16032</td>\n",
       "      <td>8.483034</td>\n",
       "    </tr>\n",
       "    <tr>\n",
       "      <th>E</th>\n",
       "      <td>2</td>\n",
       "      <td>22</td>\n",
       "      <td>9.090909</td>\n",
       "    </tr>\n",
       "  </tbody>\n",
       "</table>\n",
       "</div>"
      ],
      "text/plain": [
       "                        sum  count     ratio\n",
       "                       debt   debt          \n",
       "total_income_category                       \n",
       "D                        21    350  6.000000\n",
       "B                       356   5042  7.060690\n",
       "A                         2     25  8.000000\n",
       "C                      1360  16032  8.483034\n",
       "E                         2     22  9.090909"
      ]
     },
     "execution_count": 37,
     "metadata": {},
     "output_type": "execute_result"
    }
   ],
   "source": [
    "#делаю сводную таблицу, где для каждой категории людей, в зависимости от их дохода,\n",
    "#считаю сумму долгов и общее количество долгов\n",
    "data_pivot_income = data.pivot_table(index='total_income_category', values='debt', aggfunc=['sum', 'count'])\n",
    "\n",
    "#считаю соотношение суммы долгов в каждой категории к общему количеству долгов\n",
    "data_pivot_income ['ratio'] = data_pivot_income['sum'] *100 / data_pivot_income['count']\n",
    "\n",
    "#вывожу таблицу, отсортированную по возрастанию по столбцу 'ratio'\n",
    "data_pivot_income.sort_values(by='ratio')"
   ]
  },
  {
   "cell_type": "markdown",
   "id": "d9c12fad",
   "metadata": {},
   "source": [
    "Максимальная вероятность просрочки у граждан категории \"E\" - доход 0–30000, минимальная вероятность просрочки у граждан категории \"D\" - доход 30001–50000"
   ]
  },
  {
   "cell_type": "markdown",
   "id": "1fc044f0",
   "metadata": {},
   "source": [
    "##### Вопрос 4: Как разные цели кредита влияют на его возврат в срок?"
   ]
  },
  {
   "cell_type": "code",
   "execution_count": 38,
   "id": "0d2528f8",
   "metadata": {},
   "outputs": [
    {
     "data": {
      "text/html": [
       "<div>\n",
       "<style scoped>\n",
       "    .dataframe tbody tr th:only-of-type {\n",
       "        vertical-align: middle;\n",
       "    }\n",
       "\n",
       "    .dataframe tbody tr th {\n",
       "        vertical-align: top;\n",
       "    }\n",
       "\n",
       "    .dataframe thead tr th {\n",
       "        text-align: left;\n",
       "    }\n",
       "\n",
       "    .dataframe thead tr:last-of-type th {\n",
       "        text-align: right;\n",
       "    }\n",
       "</style>\n",
       "<table border=\"1\" class=\"dataframe\">\n",
       "  <thead>\n",
       "    <tr>\n",
       "      <th></th>\n",
       "      <th>sum</th>\n",
       "      <th>count</th>\n",
       "      <th>ratio</th>\n",
       "    </tr>\n",
       "    <tr>\n",
       "      <th></th>\n",
       "      <th>debt</th>\n",
       "      <th>debt</th>\n",
       "      <th></th>\n",
       "    </tr>\n",
       "    <tr>\n",
       "      <th>purpose_category</th>\n",
       "      <th></th>\n",
       "      <th></th>\n",
       "      <th></th>\n",
       "    </tr>\n",
       "  </thead>\n",
       "  <tbody>\n",
       "    <tr>\n",
       "      <th>операции с недвижимостью</th>\n",
       "      <td>782</td>\n",
       "      <td>10814</td>\n",
       "      <td>7.231367</td>\n",
       "    </tr>\n",
       "    <tr>\n",
       "      <th>проведение свадьбы</th>\n",
       "      <td>186</td>\n",
       "      <td>2335</td>\n",
       "      <td>7.965739</td>\n",
       "    </tr>\n",
       "    <tr>\n",
       "      <th>получение образования</th>\n",
       "      <td>370</td>\n",
       "      <td>4014</td>\n",
       "      <td>9.217738</td>\n",
       "    </tr>\n",
       "    <tr>\n",
       "      <th>операции с автомобилем</th>\n",
       "      <td>403</td>\n",
       "      <td>4308</td>\n",
       "      <td>9.354689</td>\n",
       "    </tr>\n",
       "  </tbody>\n",
       "</table>\n",
       "</div>"
      ],
      "text/plain": [
       "                          sum  count     ratio\n",
       "                         debt   debt          \n",
       "purpose_category                              \n",
       "операции с недвижимостью  782  10814  7.231367\n",
       "проведение свадьбы        186   2335  7.965739\n",
       "получение образования     370   4014  9.217738\n",
       "операции с автомобилем    403   4308  9.354689"
      ]
     },
     "execution_count": 38,
     "metadata": {},
     "output_type": "execute_result"
    }
   ],
   "source": [
    "#делаю сводную таблицу, где для каждой категории людей, в зависимости от их цели кредита,\n",
    "#считаю сумму долгов и общее количество долгов\n",
    "data_pivot_purpose = data.pivot_table(index='purpose_category', values='debt', aggfunc=['sum', 'count'])\n",
    "\n",
    "#считаю соотношение суммы долгов в каждой категории к общему количеству долгов\n",
    "data_pivot_purpose['ratio'] = data_pivot_purpose ['sum'] * 100 / data_pivot_purpose ['count']\n",
    "\n",
    "#вывожу таблицу, отсортированную по возрастанию по столбцу 'ratio'\n",
    "data_pivot_purpose.sort_values(by='ratio')"
   ]
  },
  {
   "cell_type": "markdown",
   "id": "80002151",
   "metadata": {},
   "source": [
    "Минимальная вероятность просрочки у граждан, которые берут кредит на операции с недвижимостью. Максимальная вероятность просрочки у граждан, которые берут кредит на операции с автомобилем.\n"
   ]
  },
  {
   "cell_type": "markdown",
   "id": "828aa350",
   "metadata": {},
   "source": [
    "## Общий вывод:"
   ]
  },
  {
   "cell_type": "markdown",
   "id": "ee4cff3e",
   "metadata": {},
   "source": [
    "Исходя из полученных расчётов, нарисовывается портрет клиента, который имеет наибольшую вероятность просрочки по кредиту: это мужчина-вдовец с 4-мя детьми, с доходом 0–30000, который берёт кредит на операции с автомобилем."
   ]
  }
 ],
 "metadata": {
  "ExecuteTimeLog": [
   {
    "duration": 765,
    "start_time": "2022-02-19T19:14:00.963Z"
   },
   {
    "duration": 2526,
    "start_time": "2022-02-19T19:14:01.731Z"
   },
   {
    "duration": -1201,
    "start_time": "2022-02-19T19:14:05.463Z"
   },
   {
    "duration": -1222,
    "start_time": "2022-02-19T19:14:05.485Z"
   },
   {
    "duration": -1220,
    "start_time": "2022-02-19T19:14:05.486Z"
   },
   {
    "duration": -1220,
    "start_time": "2022-02-19T19:14:05.488Z"
   },
   {
    "duration": -1222,
    "start_time": "2022-02-19T19:14:05.492Z"
   },
   {
    "duration": -1222,
    "start_time": "2022-02-19T19:14:05.494Z"
   },
   {
    "duration": -1222,
    "start_time": "2022-02-19T19:14:05.496Z"
   },
   {
    "duration": -1222,
    "start_time": "2022-02-19T19:14:05.498Z"
   },
   {
    "duration": -1222,
    "start_time": "2022-02-19T19:14:05.499Z"
   },
   {
    "duration": -1221,
    "start_time": "2022-02-19T19:14:05.500Z"
   },
   {
    "duration": -1221,
    "start_time": "2022-02-19T19:14:05.502Z"
   },
   {
    "duration": -1220,
    "start_time": "2022-02-19T19:14:05.503Z"
   },
   {
    "duration": -1221,
    "start_time": "2022-02-19T19:14:05.505Z"
   },
   {
    "duration": -1220,
    "start_time": "2022-02-19T19:14:05.506Z"
   },
   {
    "duration": -1246,
    "start_time": "2022-02-19T19:14:05.533Z"
   },
   {
    "duration": -1248,
    "start_time": "2022-02-19T19:14:05.537Z"
   },
   {
    "duration": -1252,
    "start_time": "2022-02-19T19:14:05.542Z"
   },
   {
    "duration": -1252,
    "start_time": "2022-02-19T19:14:05.544Z"
   },
   {
    "duration": -1252,
    "start_time": "2022-02-19T19:14:05.546Z"
   },
   {
    "duration": -1254,
    "start_time": "2022-02-19T19:14:05.550Z"
   },
   {
    "duration": -1255,
    "start_time": "2022-02-19T19:14:05.552Z"
   },
   {
    "duration": -1255,
    "start_time": "2022-02-19T19:14:05.554Z"
   },
   {
    "duration": -1259,
    "start_time": "2022-02-19T19:14:05.559Z"
   },
   {
    "duration": -1259,
    "start_time": "2022-02-19T19:14:05.561Z"
   },
   {
    "duration": -1266,
    "start_time": "2022-02-19T19:14:05.569Z"
   },
   {
    "duration": -1222,
    "start_time": "2022-02-19T19:14:05.571Z"
   },
   {
    "duration": -1221,
    "start_time": "2022-02-19T19:14:05.572Z"
   },
   {
    "duration": -1225,
    "start_time": "2022-02-19T19:14:05.577Z"
   },
   {
    "duration": -1224,
    "start_time": "2022-02-19T19:14:05.578Z"
   },
   {
    "duration": -1223,
    "start_time": "2022-02-19T19:14:05.579Z"
   },
   {
    "duration": -1224,
    "start_time": "2022-02-19T19:14:05.581Z"
   },
   {
    "duration": -1224,
    "start_time": "2022-02-19T19:14:05.582Z"
   },
   {
    "duration": -1224,
    "start_time": "2022-02-19T19:14:05.584Z"
   },
   {
    "duration": -1297,
    "start_time": "2022-02-19T19:14:05.659Z"
   },
   {
    "duration": -1300,
    "start_time": "2022-02-19T19:14:05.664Z"
   },
   {
    "duration": -1299,
    "start_time": "2022-02-19T19:14:05.665Z"
   },
   {
    "duration": -1299,
    "start_time": "2022-02-19T19:14:05.666Z"
   },
   {
    "duration": -1299,
    "start_time": "2022-02-19T19:14:05.668Z"
   },
   {
    "duration": -1299,
    "start_time": "2022-02-19T19:14:05.669Z"
   },
   {
    "duration": -1298,
    "start_time": "2022-02-19T19:14:05.670Z"
   },
   {
    "duration": 63,
    "start_time": "2022-02-19T19:14:46.949Z"
   },
   {
    "duration": 3,
    "start_time": "2022-02-19T19:14:50.305Z"
   },
   {
    "duration": 787,
    "start_time": "2022-02-19T19:15:07.014Z"
   },
   {
    "duration": 4,
    "start_time": "2022-02-19T19:15:07.804Z"
   },
   {
    "duration": 69,
    "start_time": "2022-02-19T19:15:07.811Z"
   },
   {
    "duration": 30,
    "start_time": "2022-02-19T19:15:07.883Z"
   },
   {
    "duration": 36,
    "start_time": "2022-02-19T19:15:07.916Z"
   },
   {
    "duration": 23,
    "start_time": "2022-02-19T19:15:07.955Z"
   },
   {
    "duration": 20,
    "start_time": "2022-02-19T19:15:07.981Z"
   },
   {
    "duration": 5,
    "start_time": "2022-02-19T19:15:08.004Z"
   },
   {
    "duration": 5,
    "start_time": "2022-02-19T19:15:08.050Z"
   },
   {
    "duration": 16,
    "start_time": "2022-02-19T19:15:08.058Z"
   },
   {
    "duration": 11,
    "start_time": "2022-02-19T19:15:08.076Z"
   },
   {
    "duration": 392,
    "start_time": "2022-02-19T19:15:08.089Z"
   },
   {
    "duration": -1196,
    "start_time": "2022-02-19T19:15:09.681Z"
   },
   {
    "duration": -1197,
    "start_time": "2022-02-19T19:15:09.683Z"
   },
   {
    "duration": -1197,
    "start_time": "2022-02-19T19:15:09.685Z"
   },
   {
    "duration": -1197,
    "start_time": "2022-02-19T19:15:09.686Z"
   },
   {
    "duration": -1203,
    "start_time": "2022-02-19T19:15:09.694Z"
   },
   {
    "duration": -1205,
    "start_time": "2022-02-19T19:15:09.698Z"
   },
   {
    "duration": -1204,
    "start_time": "2022-02-19T19:15:09.699Z"
   },
   {
    "duration": -1204,
    "start_time": "2022-02-19T19:15:09.700Z"
   },
   {
    "duration": -1204,
    "start_time": "2022-02-19T19:15:09.702Z"
   },
   {
    "duration": -1203,
    "start_time": "2022-02-19T19:15:09.703Z"
   },
   {
    "duration": -1203,
    "start_time": "2022-02-19T19:15:09.704Z"
   },
   {
    "duration": -1203,
    "start_time": "2022-02-19T19:15:09.705Z"
   },
   {
    "duration": -1206,
    "start_time": "2022-02-19T19:15:09.710Z"
   },
   {
    "duration": -1209,
    "start_time": "2022-02-19T19:15:09.714Z"
   },
   {
    "duration": -1209,
    "start_time": "2022-02-19T19:15:09.716Z"
   },
   {
    "duration": -1209,
    "start_time": "2022-02-19T19:15:09.717Z"
   },
   {
    "duration": -1208,
    "start_time": "2022-02-19T19:15:09.718Z"
   },
   {
    "duration": -1209,
    "start_time": "2022-02-19T19:15:09.720Z"
   },
   {
    "duration": -1226,
    "start_time": "2022-02-19T19:15:09.739Z"
   },
   {
    "duration": -1227,
    "start_time": "2022-02-19T19:15:09.741Z"
   },
   {
    "duration": -1227,
    "start_time": "2022-02-19T19:15:09.743Z"
   },
   {
    "duration": -1230,
    "start_time": "2022-02-19T19:15:09.747Z"
   },
   {
    "duration": -1230,
    "start_time": "2022-02-19T19:15:09.748Z"
   },
   {
    "duration": -1232,
    "start_time": "2022-02-19T19:15:09.752Z"
   },
   {
    "duration": -1206,
    "start_time": "2022-02-19T19:15:09.754Z"
   },
   {
    "duration": -1206,
    "start_time": "2022-02-19T19:15:09.756Z"
   },
   {
    "duration": -1208,
    "start_time": "2022-02-19T19:15:09.759Z"
   },
   {
    "duration": -1210,
    "start_time": "2022-02-19T19:15:09.763Z"
   },
   {
    "duration": -1210,
    "start_time": "2022-02-19T19:15:09.764Z"
   },
   {
    "duration": -1210,
    "start_time": "2022-02-19T19:15:09.766Z"
   },
   {
    "duration": -1210,
    "start_time": "2022-02-19T19:15:09.767Z"
   },
   {
    "duration": 7,
    "start_time": "2022-02-19T19:17:41.331Z"
   },
   {
    "duration": 6,
    "start_time": "2022-02-19T19:17:41.658Z"
   },
   {
    "duration": 13,
    "start_time": "2022-02-19T19:17:41.830Z"
   },
   {
    "duration": 5,
    "start_time": "2022-02-19T19:17:42.550Z"
   },
   {
    "duration": 18,
    "start_time": "2022-02-19T19:17:42.727Z"
   },
   {
    "duration": 12,
    "start_time": "2022-02-19T19:17:42.903Z"
   },
   {
    "duration": 6,
    "start_time": "2022-02-19T19:17:43.072Z"
   },
   {
    "duration": 5,
    "start_time": "2022-02-19T19:17:43.241Z"
   },
   {
    "duration": 6,
    "start_time": "2022-02-19T19:17:43.606Z"
   },
   {
    "duration": 24,
    "start_time": "2022-02-19T19:17:43.930Z"
   },
   {
    "duration": 26,
    "start_time": "2022-02-19T19:17:44.102Z"
   },
   {
    "duration": 7,
    "start_time": "2022-02-19T19:17:44.272Z"
   },
   {
    "duration": 11,
    "start_time": "2022-02-19T19:17:44.625Z"
   },
   {
    "duration": 7,
    "start_time": "2022-02-19T19:17:45.188Z"
   },
   {
    "duration": 7,
    "start_time": "2022-02-19T19:17:45.377Z"
   },
   {
    "duration": 7,
    "start_time": "2022-02-19T19:17:45.574Z"
   },
   {
    "duration": 15,
    "start_time": "2022-02-19T19:17:46.157Z"
   },
   {
    "duration": 16,
    "start_time": "2022-02-19T19:17:46.542Z"
   },
   {
    "duration": 17,
    "start_time": "2022-02-19T19:17:46.737Z"
   },
   {
    "duration": 10,
    "start_time": "2022-02-19T19:17:46.914Z"
   },
   {
    "duration": 9,
    "start_time": "2022-02-19T19:17:47.093Z"
   },
   {
    "duration": 17,
    "start_time": "2022-02-19T19:17:47.278Z"
   },
   {
    "duration": 8,
    "start_time": "2022-02-19T19:17:47.646Z"
   },
   {
    "duration": 47,
    "start_time": "2022-02-19T19:17:47.835Z"
   },
   {
    "duration": 7,
    "start_time": "2022-02-19T19:17:48.204Z"
   },
   {
    "duration": 37,
    "start_time": "2022-02-19T19:17:48.395Z"
   },
   {
    "duration": 21,
    "start_time": "2022-02-19T19:17:48.979Z"
   },
   {
    "duration": 28,
    "start_time": "2022-02-19T19:17:49.727Z"
   },
   {
    "duration": 17,
    "start_time": "2022-02-19T19:17:49.912Z"
   },
   {
    "duration": 19,
    "start_time": "2022-02-19T19:17:50.778Z"
   },
   {
    "duration": 22,
    "start_time": "2022-02-19T19:17:51.708Z"
   },
   {
    "duration": 374,
    "start_time": "2022-02-19T19:19:50.331Z"
   },
   {
    "duration": 14,
    "start_time": "2022-02-19T19:19:54.336Z"
   },
   {
    "duration": 15,
    "start_time": "2022-02-19T19:20:10.997Z"
   },
   {
    "duration": 337,
    "start_time": "2022-02-19T19:41:32.966Z"
   },
   {
    "duration": 652,
    "start_time": "2022-02-19T19:42:10.888Z"
   },
   {
    "duration": 3,
    "start_time": "2022-02-19T19:42:11.542Z"
   },
   {
    "duration": 54,
    "start_time": "2022-02-19T19:42:11.548Z"
   },
   {
    "duration": 21,
    "start_time": "2022-02-19T19:42:11.608Z"
   },
   {
    "duration": 15,
    "start_time": "2022-02-19T19:42:11.631Z"
   },
   {
    "duration": 16,
    "start_time": "2022-02-19T19:42:11.648Z"
   },
   {
    "duration": 42,
    "start_time": "2022-02-19T19:42:11.666Z"
   },
   {
    "duration": 5,
    "start_time": "2022-02-19T19:42:11.711Z"
   },
   {
    "duration": 10,
    "start_time": "2022-02-19T19:42:11.718Z"
   },
   {
    "duration": 12,
    "start_time": "2022-02-19T19:42:11.730Z"
   },
   {
    "duration": 9,
    "start_time": "2022-02-19T19:42:11.744Z"
   },
   {
    "duration": 308,
    "start_time": "2022-02-19T19:42:11.755Z"
   },
   {
    "duration": -152,
    "start_time": "2022-02-19T19:42:12.217Z"
   },
   {
    "duration": -156,
    "start_time": "2022-02-19T19:42:12.223Z"
   },
   {
    "duration": -162,
    "start_time": "2022-02-19T19:42:12.230Z"
   },
   {
    "duration": -166,
    "start_time": "2022-02-19T19:42:12.235Z"
   },
   {
    "duration": -169,
    "start_time": "2022-02-19T19:42:12.239Z"
   },
   {
    "duration": -174,
    "start_time": "2022-02-19T19:42:12.245Z"
   },
   {
    "duration": -178,
    "start_time": "2022-02-19T19:42:12.250Z"
   },
   {
    "duration": -193,
    "start_time": "2022-02-19T19:42:12.266Z"
   },
   {
    "duration": -197,
    "start_time": "2022-02-19T19:42:12.271Z"
   },
   {
    "duration": -201,
    "start_time": "2022-02-19T19:42:12.276Z"
   },
   {
    "duration": -205,
    "start_time": "2022-02-19T19:42:12.281Z"
   },
   {
    "duration": -209,
    "start_time": "2022-02-19T19:42:12.286Z"
   },
   {
    "duration": -213,
    "start_time": "2022-02-19T19:42:12.291Z"
   },
   {
    "duration": -217,
    "start_time": "2022-02-19T19:42:12.296Z"
   },
   {
    "duration": -221,
    "start_time": "2022-02-19T19:42:12.301Z"
   },
   {
    "duration": -224,
    "start_time": "2022-02-19T19:42:12.305Z"
   },
   {
    "duration": -227,
    "start_time": "2022-02-19T19:42:12.309Z"
   },
   {
    "duration": -231,
    "start_time": "2022-02-19T19:42:12.314Z"
   },
   {
    "duration": -234,
    "start_time": "2022-02-19T19:42:12.319Z"
   },
   {
    "duration": -237,
    "start_time": "2022-02-19T19:42:12.323Z"
   },
   {
    "duration": -241,
    "start_time": "2022-02-19T19:42:12.328Z"
   },
   {
    "duration": -245,
    "start_time": "2022-02-19T19:42:12.333Z"
   },
   {
    "duration": -249,
    "start_time": "2022-02-19T19:42:12.338Z"
   },
   {
    "duration": -254,
    "start_time": "2022-02-19T19:42:12.344Z"
   },
   {
    "duration": -258,
    "start_time": "2022-02-19T19:42:12.349Z"
   },
   {
    "duration": -263,
    "start_time": "2022-02-19T19:42:12.354Z"
   },
   {
    "duration": -269,
    "start_time": "2022-02-19T19:42:12.361Z"
   },
   {
    "duration": -287,
    "start_time": "2022-02-19T19:42:12.381Z"
   },
   {
    "duration": -292,
    "start_time": "2022-02-19T19:42:12.387Z"
   },
   {
    "duration": -296,
    "start_time": "2022-02-19T19:42:12.392Z"
   },
   {
    "duration": -302,
    "start_time": "2022-02-19T19:42:12.399Z"
   },
   {
    "duration": 216,
    "start_time": "2022-02-19T19:42:42.673Z"
   },
   {
    "duration": 3,
    "start_time": "2022-02-19T19:43:01.936Z"
   },
   {
    "duration": 2313,
    "start_time": "2022-02-19T19:48:01.781Z"
   },
   {
    "duration": 1048,
    "start_time": "2022-02-19T19:48:11.085Z"
   },
   {
    "duration": 1054,
    "start_time": "2022-02-19T19:48:23.948Z"
   },
   {
    "duration": 3,
    "start_time": "2022-02-19T19:48:25.004Z"
   },
   {
    "duration": 320,
    "start_time": "2022-02-19T19:48:25.009Z"
   },
   {
    "duration": -103,
    "start_time": "2022-02-19T19:48:25.435Z"
   },
   {
    "duration": -128,
    "start_time": "2022-02-19T19:48:25.461Z"
   },
   {
    "duration": -142,
    "start_time": "2022-02-19T19:48:25.476Z"
   },
   {
    "duration": -146,
    "start_time": "2022-02-19T19:48:25.481Z"
   },
   {
    "duration": -151,
    "start_time": "2022-02-19T19:48:25.487Z"
   },
   {
    "duration": -155,
    "start_time": "2022-02-19T19:48:25.492Z"
   },
   {
    "duration": -159,
    "start_time": "2022-02-19T19:48:25.497Z"
   },
   {
    "duration": -165,
    "start_time": "2022-02-19T19:48:25.504Z"
   },
   {
    "duration": -170,
    "start_time": "2022-02-19T19:48:25.510Z"
   },
   {
    "duration": -176,
    "start_time": "2022-02-19T19:48:25.517Z"
   },
   {
    "duration": -184,
    "start_time": "2022-02-19T19:48:25.526Z"
   },
   {
    "duration": -189,
    "start_time": "2022-02-19T19:48:25.532Z"
   },
   {
    "duration": -195,
    "start_time": "2022-02-19T19:48:25.539Z"
   },
   {
    "duration": -201,
    "start_time": "2022-02-19T19:48:25.546Z"
   },
   {
    "duration": -205,
    "start_time": "2022-02-19T19:48:25.552Z"
   },
   {
    "duration": -211,
    "start_time": "2022-02-19T19:48:25.559Z"
   },
   {
    "duration": -215,
    "start_time": "2022-02-19T19:48:25.564Z"
   },
   {
    "duration": -230,
    "start_time": "2022-02-19T19:48:25.580Z"
   },
   {
    "duration": -234,
    "start_time": "2022-02-19T19:48:25.586Z"
   },
   {
    "duration": -239,
    "start_time": "2022-02-19T19:48:25.592Z"
   },
   {
    "duration": -243,
    "start_time": "2022-02-19T19:48:25.597Z"
   },
   {
    "duration": -248,
    "start_time": "2022-02-19T19:48:25.603Z"
   },
   {
    "duration": -257,
    "start_time": "2022-02-19T19:48:25.613Z"
   },
   {
    "duration": -266,
    "start_time": "2022-02-19T19:48:25.623Z"
   },
   {
    "duration": -274,
    "start_time": "2022-02-19T19:48:25.632Z"
   },
   {
    "duration": -283,
    "start_time": "2022-02-19T19:48:25.642Z"
   },
   {
    "duration": -288,
    "start_time": "2022-02-19T19:48:25.649Z"
   },
   {
    "duration": -294,
    "start_time": "2022-02-19T19:48:25.655Z"
   },
   {
    "duration": -301,
    "start_time": "2022-02-19T19:48:25.664Z"
   },
   {
    "duration": -314,
    "start_time": "2022-02-19T19:48:25.678Z"
   },
   {
    "duration": -326,
    "start_time": "2022-02-19T19:48:25.691Z"
   },
   {
    "duration": -331,
    "start_time": "2022-02-19T19:48:25.697Z"
   },
   {
    "duration": -337,
    "start_time": "2022-02-19T19:48:25.705Z"
   },
   {
    "duration": -340,
    "start_time": "2022-02-19T19:48:25.710Z"
   },
   {
    "duration": -348,
    "start_time": "2022-02-19T19:48:25.719Z"
   },
   {
    "duration": -317,
    "start_time": "2022-02-19T19:48:25.724Z"
   },
   {
    "duration": -321,
    "start_time": "2022-02-19T19:48:25.730Z"
   },
   {
    "duration": -330,
    "start_time": "2022-02-19T19:48:25.740Z"
   },
   {
    "duration": -344,
    "start_time": "2022-02-19T19:48:25.755Z"
   },
   {
    "duration": -351,
    "start_time": "2022-02-19T19:48:25.763Z"
   },
   {
    "duration": 1023,
    "start_time": "2022-02-19T19:48:54.833Z"
   },
   {
    "duration": 7960,
    "start_time": "2022-02-19T19:49:54.365Z"
   },
   {
    "duration": 546,
    "start_time": "2022-02-19T19:50:10.224Z"
   },
   {
    "duration": 3,
    "start_time": "2022-02-19T19:50:16.265Z"
   },
   {
    "duration": 76,
    "start_time": "2022-02-19T19:50:17.196Z"
   },
   {
    "duration": 23,
    "start_time": "2022-02-19T19:50:17.561Z"
   },
   {
    "duration": 19,
    "start_time": "2022-02-19T19:50:17.840Z"
   },
   {
    "duration": 20,
    "start_time": "2022-02-19T19:50:19.525Z"
   },
   {
    "duration": 16,
    "start_time": "2022-02-19T19:50:20.822Z"
   },
   {
    "duration": 5,
    "start_time": "2022-02-19T19:50:22.503Z"
   },
   {
    "duration": 5,
    "start_time": "2022-02-19T19:50:23.277Z"
   },
   {
    "duration": 10,
    "start_time": "2022-02-19T19:50:25.374Z"
   },
   {
    "duration": 10,
    "start_time": "2022-02-19T19:50:26.398Z"
   },
   {
    "duration": 7,
    "start_time": "2022-02-19T19:50:29.956Z"
   },
   {
    "duration": 441,
    "start_time": "2022-02-19T19:51:52.702Z"
   },
   {
    "duration": 10,
    "start_time": "2022-02-19T19:51:55.745Z"
   },
   {
    "duration": 8,
    "start_time": "2022-02-19T19:51:56.269Z"
   },
   {
    "duration": 12,
    "start_time": "2022-02-19T19:52:26.535Z"
   },
   {
    "duration": 4,
    "start_time": "2022-02-19T19:52:37.387Z"
   },
   {
    "duration": 15,
    "start_time": "2022-02-19T19:52:38.034Z"
   },
   {
    "duration": 10,
    "start_time": "2022-02-19T19:52:45.971Z"
   },
   {
    "duration": 6,
    "start_time": "2022-02-19T19:52:50.953Z"
   },
   {
    "duration": 4,
    "start_time": "2022-02-19T19:52:56.463Z"
   },
   {
    "duration": 4,
    "start_time": "2022-02-19T19:54:38.909Z"
   },
   {
    "duration": 22,
    "start_time": "2022-02-19T19:54:45.871Z"
   },
   {
    "duration": 21,
    "start_time": "2022-02-19T19:54:49.747Z"
   },
   {
    "duration": 6,
    "start_time": "2022-02-19T19:54:50.682Z"
   },
   {
    "duration": 8,
    "start_time": "2022-02-19T19:54:59.398Z"
   },
   {
    "duration": 6,
    "start_time": "2022-02-19T19:55:15.084Z"
   },
   {
    "duration": 6,
    "start_time": "2022-02-19T19:55:16.477Z"
   },
   {
    "duration": 6,
    "start_time": "2022-02-19T19:55:19.501Z"
   },
   {
    "duration": 12,
    "start_time": "2022-02-19T19:55:38.856Z"
   },
   {
    "duration": 12,
    "start_time": "2022-02-19T19:55:49.286Z"
   },
   {
    "duration": 12,
    "start_time": "2022-02-19T19:55:50.395Z"
   },
   {
    "duration": 7,
    "start_time": "2022-02-19T19:55:51.391Z"
   },
   {
    "duration": 7,
    "start_time": "2022-02-19T19:55:54.683Z"
   },
   {
    "duration": 13,
    "start_time": "2022-02-19T19:55:58.369Z"
   },
   {
    "duration": 6,
    "start_time": "2022-02-19T19:56:13.535Z"
   },
   {
    "duration": 26,
    "start_time": "2022-02-19T19:56:17.820Z"
   },
   {
    "duration": 6,
    "start_time": "2022-02-19T19:56:26.920Z"
   },
   {
    "duration": 24,
    "start_time": "2022-02-19T19:56:29.810Z"
   },
   {
    "duration": 17,
    "start_time": "2022-02-19T19:56:55.561Z"
   },
   {
    "duration": 19,
    "start_time": "2022-02-19T19:57:05.544Z"
   },
   {
    "duration": 14,
    "start_time": "2022-02-19T19:57:13.634Z"
   },
   {
    "duration": 16,
    "start_time": "2022-02-19T19:57:30.202Z"
   },
   {
    "duration": 16,
    "start_time": "2022-02-19T19:57:39.140Z"
   },
   {
    "duration": 2908,
    "start_time": "2022-02-19T19:59:51.742Z"
   },
   {
    "duration": 431,
    "start_time": "2022-02-20T09:05:46.123Z"
   },
   {
    "duration": 12287,
    "start_time": "2022-02-20T09:05:57.175Z"
   },
   {
    "duration": 822,
    "start_time": "2022-02-20T09:06:09.465Z"
   },
   {
    "duration": 4,
    "start_time": "2022-02-20T09:06:10.291Z"
   },
   {
    "duration": 95,
    "start_time": "2022-02-20T09:06:10.298Z"
   },
   {
    "duration": 41,
    "start_time": "2022-02-20T09:06:10.395Z"
   },
   {
    "duration": 20,
    "start_time": "2022-02-20T09:06:10.439Z"
   },
   {
    "duration": 55,
    "start_time": "2022-02-20T09:06:10.462Z"
   },
   {
    "duration": 23,
    "start_time": "2022-02-20T09:06:10.520Z"
   },
   {
    "duration": 5,
    "start_time": "2022-02-20T09:06:10.546Z"
   },
   {
    "duration": 6,
    "start_time": "2022-02-20T09:06:10.554Z"
   },
   {
    "duration": 15,
    "start_time": "2022-02-20T09:06:10.563Z"
   },
   {
    "duration": 29,
    "start_time": "2022-02-20T09:06:10.581Z"
   },
   {
    "duration": 9,
    "start_time": "2022-02-20T09:06:10.613Z"
   },
   {
    "duration": 14,
    "start_time": "2022-02-20T09:06:10.625Z"
   },
   {
    "duration": 13,
    "start_time": "2022-02-20T09:06:10.642Z"
   },
   {
    "duration": 64,
    "start_time": "2022-02-20T09:06:10.658Z"
   },
   {
    "duration": 5,
    "start_time": "2022-02-20T09:06:10.726Z"
   },
   {
    "duration": 32,
    "start_time": "2022-02-20T09:06:10.734Z"
   },
   {
    "duration": 47,
    "start_time": "2022-02-20T09:06:10.769Z"
   },
   {
    "duration": 6,
    "start_time": "2022-02-20T09:06:10.818Z"
   },
   {
    "duration": 5,
    "start_time": "2022-02-20T09:06:10.826Z"
   },
   {
    "duration": 6,
    "start_time": "2022-02-20T09:06:10.833Z"
   },
   {
    "duration": 31,
    "start_time": "2022-02-20T09:06:10.845Z"
   },
   {
    "duration": 41,
    "start_time": "2022-02-20T09:06:10.879Z"
   },
   {
    "duration": 8,
    "start_time": "2022-02-20T09:06:10.922Z"
   },
   {
    "duration": 9,
    "start_time": "2022-02-20T09:06:10.932Z"
   },
   {
    "duration": 8,
    "start_time": "2022-02-20T09:06:10.943Z"
   },
   {
    "duration": 7,
    "start_time": "2022-02-20T09:06:10.954Z"
   },
   {
    "duration": 9,
    "start_time": "2022-02-20T09:06:10.963Z"
   },
   {
    "duration": 14,
    "start_time": "2022-02-20T09:06:10.975Z"
   },
   {
    "duration": 31,
    "start_time": "2022-02-20T09:06:10.992Z"
   },
   {
    "duration": 16,
    "start_time": "2022-02-20T09:06:11.025Z"
   },
   {
    "duration": 10,
    "start_time": "2022-02-20T09:06:11.044Z"
   },
   {
    "duration": 10,
    "start_time": "2022-02-20T09:06:11.056Z"
   },
   {
    "duration": 16,
    "start_time": "2022-02-20T09:06:11.069Z"
   },
   {
    "duration": 10,
    "start_time": "2022-02-20T09:06:11.087Z"
   },
   {
    "duration": 48,
    "start_time": "2022-02-20T09:06:11.099Z"
   },
   {
    "duration": 7,
    "start_time": "2022-02-20T09:06:11.149Z"
   },
   {
    "duration": 45,
    "start_time": "2022-02-20T09:06:11.158Z"
   },
   {
    "duration": 33,
    "start_time": "2022-02-20T09:06:11.206Z"
   },
   {
    "duration": 22,
    "start_time": "2022-02-20T09:06:11.242Z"
   },
   {
    "duration": 19,
    "start_time": "2022-02-20T09:06:11.266Z"
   },
   {
    "duration": 33,
    "start_time": "2022-02-20T09:06:11.287Z"
   },
   {
    "duration": 27,
    "start_time": "2022-02-20T09:06:11.323Z"
   },
   {
    "duration": 6036,
    "start_time": "2022-02-20T09:06:18.508Z"
   },
   {
    "duration": 4,
    "start_time": "2022-02-20T09:06:24.548Z"
   },
   {
    "duration": 6,
    "start_time": "2022-02-20T09:06:24.555Z"
   },
   {
    "duration": 114,
    "start_time": "2022-02-20T09:06:24.565Z"
   },
   {
    "duration": 33,
    "start_time": "2022-02-20T09:06:24.683Z"
   },
   {
    "duration": 22,
    "start_time": "2022-02-20T09:06:24.719Z"
   },
   {
    "duration": 23,
    "start_time": "2022-02-20T09:06:24.743Z"
   },
   {
    "duration": 62,
    "start_time": "2022-02-20T09:06:24.771Z"
   },
   {
    "duration": 7,
    "start_time": "2022-02-20T09:06:24.837Z"
   },
   {
    "duration": 7,
    "start_time": "2022-02-20T09:06:24.846Z"
   },
   {
    "duration": 14,
    "start_time": "2022-02-20T09:06:25.658Z"
   },
   {
    "duration": 14,
    "start_time": "2022-02-20T09:06:26.086Z"
   },
   {
    "duration": 7,
    "start_time": "2022-02-20T09:06:27.437Z"
   },
   {
    "duration": 10,
    "start_time": "2022-02-20T09:06:28.180Z"
   },
   {
    "duration": 14,
    "start_time": "2022-02-20T09:06:28.395Z"
   },
   {
    "duration": 14,
    "start_time": "2022-02-20T09:06:28.874Z"
   },
   {
    "duration": 4,
    "start_time": "2022-02-20T09:06:29.602Z"
   },
   {
    "duration": 26,
    "start_time": "2022-02-20T09:06:29.823Z"
   },
   {
    "duration": 14,
    "start_time": "2022-02-20T09:06:30.054Z"
   },
   {
    "duration": 7,
    "start_time": "2022-02-20T09:06:30.281Z"
   },
   {
    "duration": 5,
    "start_time": "2022-02-20T09:06:30.513Z"
   },
   {
    "duration": 5,
    "start_time": "2022-02-20T09:06:31.620Z"
   },
   {
    "duration": 27,
    "start_time": "2022-02-20T09:06:32.271Z"
   },
   {
    "duration": 31,
    "start_time": "2022-02-20T09:06:33.085Z"
   },
   {
    "duration": 7,
    "start_time": "2022-02-20T09:06:33.318Z"
   },
   {
    "duration": 11,
    "start_time": "2022-02-20T09:06:33.695Z"
   },
   {
    "duration": 9,
    "start_time": "2022-02-20T09:06:34.652Z"
   },
   {
    "duration": 7,
    "start_time": "2022-02-20T09:06:34.878Z"
   },
   {
    "duration": 10,
    "start_time": "2022-02-20T09:06:35.242Z"
   },
   {
    "duration": 13,
    "start_time": "2022-02-20T09:06:36.343Z"
   },
   {
    "duration": 15,
    "start_time": "2022-02-20T09:06:41.041Z"
   },
   {
    "duration": 14,
    "start_time": "2022-02-20T09:06:41.366Z"
   },
   {
    "duration": 8,
    "start_time": "2022-02-20T09:06:41.944Z"
   },
   {
    "duration": 9,
    "start_time": "2022-02-20T09:06:42.800Z"
   },
   {
    "duration": 20,
    "start_time": "2022-02-20T09:06:43.037Z"
   },
   {
    "duration": 9,
    "start_time": "2022-02-20T09:06:45.347Z"
   },
   {
    "duration": 45,
    "start_time": "2022-02-20T09:06:45.589Z"
   },
   {
    "duration": 7,
    "start_time": "2022-02-20T09:06:47.914Z"
   },
   {
    "duration": 37,
    "start_time": "2022-02-20T09:06:48.209Z"
   },
   {
    "duration": 32,
    "start_time": "2022-02-20T09:06:52.000Z"
   },
   {
    "duration": 537,
    "start_time": "2022-02-20T09:08:13.099Z"
   },
   {
    "duration": 34,
    "start_time": "2022-02-20T09:08:20.037Z"
   },
   {
    "duration": 33,
    "start_time": "2022-02-20T09:11:52.820Z"
   },
   {
    "duration": 32,
    "start_time": "2022-02-20T09:12:02.585Z"
   },
   {
    "duration": 39,
    "start_time": "2022-02-20T09:22:47.201Z"
   },
   {
    "duration": 35,
    "start_time": "2022-02-20T09:26:02.934Z"
   },
   {
    "duration": 53,
    "start_time": "2022-02-20T09:33:04.309Z"
   },
   {
    "duration": 49,
    "start_time": "2022-02-20T09:33:24.570Z"
   },
   {
    "duration": 47,
    "start_time": "2022-02-20T09:33:34.036Z"
   },
   {
    "duration": 51,
    "start_time": "2022-02-20T09:33:40.249Z"
   },
   {
    "duration": 52,
    "start_time": "2022-02-20T09:33:52.893Z"
   },
   {
    "duration": 52,
    "start_time": "2022-02-20T09:34:01.698Z"
   },
   {
    "duration": 35,
    "start_time": "2022-02-20T09:37:44.269Z"
   },
   {
    "duration": 34,
    "start_time": "2022-02-20T09:37:51.597Z"
   },
   {
    "duration": 34,
    "start_time": "2022-02-20T09:45:44.980Z"
   },
   {
    "duration": 30,
    "start_time": "2022-02-20T09:46:12.863Z"
   },
   {
    "duration": 60,
    "start_time": "2022-02-20T09:47:14.135Z"
   },
   {
    "duration": 31,
    "start_time": "2022-02-20T09:48:17.964Z"
   },
   {
    "duration": 39,
    "start_time": "2022-02-20T09:50:04.791Z"
   },
   {
    "duration": 45,
    "start_time": "2022-02-20T09:50:16.454Z"
   },
   {
    "duration": 53,
    "start_time": "2022-02-20T09:51:59.629Z"
   },
   {
    "duration": 1242,
    "start_time": "2022-02-20T09:55:24.294Z"
   },
   {
    "duration": 1208,
    "start_time": "2022-02-20T09:55:54.863Z"
   },
   {
    "duration": 39,
    "start_time": "2022-02-20T09:56:03.906Z"
   },
   {
    "duration": 135,
    "start_time": "2022-02-20T09:56:27.464Z"
   },
   {
    "duration": 32,
    "start_time": "2022-02-20T09:56:35.316Z"
   },
   {
    "duration": 38,
    "start_time": "2022-02-20T09:56:40.167Z"
   },
   {
    "duration": -294,
    "start_time": "2022-02-20T09:56:52.871Z"
   },
   {
    "duration": 5102,
    "start_time": "2022-02-20T09:56:56.027Z"
   },
   {
    "duration": 42,
    "start_time": "2022-02-20T09:58:10.709Z"
   },
   {
    "duration": 45,
    "start_time": "2022-02-20T09:58:19.424Z"
   },
   {
    "duration": 57,
    "start_time": "2022-02-20T09:58:27.167Z"
   },
   {
    "duration": 31,
    "start_time": "2022-02-20T10:01:06.608Z"
   },
   {
    "duration": 44,
    "start_time": "2022-02-20T10:01:21.885Z"
   },
   {
    "duration": 42,
    "start_time": "2022-02-20T10:03:27.783Z"
   },
   {
    "duration": 59,
    "start_time": "2022-02-20T10:03:48.198Z"
   },
   {
    "duration": 4711,
    "start_time": "2022-02-20T10:04:28.824Z"
   },
   {
    "duration": 42,
    "start_time": "2022-02-20T10:04:39.880Z"
   },
   {
    "duration": 116,
    "start_time": "2022-02-20T10:05:14.336Z"
   },
   {
    "duration": 67,
    "start_time": "2022-02-20T10:05:29.300Z"
   },
   {
    "duration": 64,
    "start_time": "2022-02-20T10:05:37.255Z"
   },
   {
    "duration": 55,
    "start_time": "2022-02-20T10:09:52.191Z"
   },
   {
    "duration": 55,
    "start_time": "2022-02-20T10:10:49.207Z"
   },
   {
    "duration": 56,
    "start_time": "2022-02-20T10:11:26.572Z"
   },
   {
    "duration": 43,
    "start_time": "2022-02-20T10:11:52.230Z"
   },
   {
    "duration": 48,
    "start_time": "2022-02-20T10:11:57.874Z"
   },
   {
    "duration": 45,
    "start_time": "2022-02-20T10:12:19.318Z"
   },
   {
    "duration": 58,
    "start_time": "2022-02-20T10:12:23.370Z"
   },
   {
    "duration": 55,
    "start_time": "2022-02-20T10:12:36.224Z"
   },
   {
    "duration": 61,
    "start_time": "2022-02-20T10:12:58.228Z"
   },
   {
    "duration": 109,
    "start_time": "2022-02-20T10:13:31.692Z"
   },
   {
    "duration": 30,
    "start_time": "2022-02-20T10:13:55.931Z"
   },
   {
    "duration": 40,
    "start_time": "2022-02-20T10:14:36.227Z"
   },
   {
    "duration": 38,
    "start_time": "2022-02-20T10:14:57.751Z"
   },
   {
    "duration": 66,
    "start_time": "2022-02-20T10:17:53.963Z"
   },
   {
    "duration": 40,
    "start_time": "2022-02-20T10:19:32.344Z"
   },
   {
    "duration": 939,
    "start_time": "2022-02-20T10:20:12.813Z"
   },
   {
    "duration": 64,
    "start_time": "2022-02-20T10:24:51.076Z"
   },
   {
    "duration": 63,
    "start_time": "2022-02-20T10:26:58.020Z"
   },
   {
    "duration": 53,
    "start_time": "2022-02-20T10:29:40.117Z"
   },
   {
    "duration": 35,
    "start_time": "2022-02-20T10:30:09.288Z"
   },
   {
    "duration": 48,
    "start_time": "2022-02-20T10:30:14.037Z"
   },
   {
    "duration": 43,
    "start_time": "2022-02-20T10:31:22.123Z"
   },
   {
    "duration": 77,
    "start_time": "2022-02-20T10:31:28.860Z"
   },
   {
    "duration": 53,
    "start_time": "2022-02-20T10:32:43.793Z"
   },
   {
    "duration": 51,
    "start_time": "2022-02-20T10:32:53.301Z"
   },
   {
    "duration": 36,
    "start_time": "2022-02-20T10:39:06.780Z"
   },
   {
    "duration": 50,
    "start_time": "2022-02-20T10:39:20.218Z"
   },
   {
    "duration": 41,
    "start_time": "2022-02-20T10:41:15.886Z"
   },
   {
    "duration": 4747,
    "start_time": "2022-02-20T10:44:17.222Z"
   },
   {
    "duration": 708,
    "start_time": "2022-02-20T10:44:21.973Z"
   },
   {
    "duration": 3,
    "start_time": "2022-02-20T10:44:22.689Z"
   },
   {
    "duration": 103,
    "start_time": "2022-02-20T10:44:22.694Z"
   },
   {
    "duration": 34,
    "start_time": "2022-02-20T10:44:22.800Z"
   },
   {
    "duration": 28,
    "start_time": "2022-02-20T10:44:22.836Z"
   },
   {
    "duration": 59,
    "start_time": "2022-02-20T10:44:22.870Z"
   },
   {
    "duration": 25,
    "start_time": "2022-02-20T10:44:22.933Z"
   },
   {
    "duration": 11,
    "start_time": "2022-02-20T10:44:22.961Z"
   },
   {
    "duration": 39,
    "start_time": "2022-02-20T10:44:22.975Z"
   },
   {
    "duration": 20,
    "start_time": "2022-02-20T10:44:23.018Z"
   },
   {
    "duration": 13,
    "start_time": "2022-02-20T10:44:23.042Z"
   },
   {
    "duration": 9,
    "start_time": "2022-02-20T10:44:23.058Z"
   },
   {
    "duration": 47,
    "start_time": "2022-02-20T10:44:23.070Z"
   },
   {
    "duration": 10,
    "start_time": "2022-02-20T10:44:23.120Z"
   },
   {
    "duration": 21,
    "start_time": "2022-02-20T10:44:23.134Z"
   },
   {
    "duration": 6,
    "start_time": "2022-02-20T10:44:23.158Z"
   },
   {
    "duration": 54,
    "start_time": "2022-02-20T10:44:23.167Z"
   },
   {
    "duration": 21,
    "start_time": "2022-02-20T10:44:23.224Z"
   },
   {
    "duration": 8,
    "start_time": "2022-02-20T10:44:23.248Z"
   },
   {
    "duration": 6,
    "start_time": "2022-02-20T10:44:23.259Z"
   },
   {
    "duration": 4,
    "start_time": "2022-02-20T10:44:23.271Z"
   },
   {
    "duration": 29,
    "start_time": "2022-02-20T10:44:23.312Z"
   },
   {
    "duration": 30,
    "start_time": "2022-02-20T10:44:23.344Z"
   },
   {
    "duration": 38,
    "start_time": "2022-02-20T10:44:23.377Z"
   },
   {
    "duration": 13,
    "start_time": "2022-02-20T10:44:23.419Z"
   },
   {
    "duration": 11,
    "start_time": "2022-02-20T10:44:23.435Z"
   },
   {
    "duration": 12,
    "start_time": "2022-02-20T10:44:23.450Z"
   },
   {
    "duration": 50,
    "start_time": "2022-02-20T10:44:23.465Z"
   },
   {
    "duration": 23,
    "start_time": "2022-02-20T10:44:23.518Z"
   },
   {
    "duration": 20,
    "start_time": "2022-02-20T10:44:23.544Z"
   },
   {
    "duration": 51,
    "start_time": "2022-02-20T10:44:23.567Z"
   },
   {
    "duration": 9,
    "start_time": "2022-02-20T10:44:23.621Z"
   },
   {
    "duration": 11,
    "start_time": "2022-02-20T10:44:23.633Z"
   },
   {
    "duration": 17,
    "start_time": "2022-02-20T10:44:23.647Z"
   },
   {
    "duration": 7,
    "start_time": "2022-02-20T10:44:23.711Z"
   },
   {
    "duration": 42,
    "start_time": "2022-02-20T10:44:23.721Z"
   },
   {
    "duration": 8,
    "start_time": "2022-02-20T10:44:23.765Z"
   },
   {
    "duration": 65,
    "start_time": "2022-02-20T10:44:23.775Z"
   },
   {
    "duration": 40,
    "start_time": "2022-02-20T10:44:23.843Z"
   },
   {
    "duration": 75,
    "start_time": "2022-02-20T10:44:23.885Z"
   },
   {
    "duration": 77,
    "start_time": "2022-02-20T10:44:23.963Z"
   },
   {
    "duration": 41,
    "start_time": "2022-02-20T10:44:24.043Z"
   },
   {
    "duration": 51943,
    "start_time": "2022-02-20T16:42:47.758Z"
   },
   {
    "duration": 578,
    "start_time": "2022-02-20T16:43:39.703Z"
   },
   {
    "duration": 3,
    "start_time": "2022-02-20T16:43:40.283Z"
   },
   {
    "duration": 100,
    "start_time": "2022-02-20T16:43:40.288Z"
   },
   {
    "duration": 21,
    "start_time": "2022-02-20T16:43:40.390Z"
   },
   {
    "duration": 36,
    "start_time": "2022-02-20T16:43:40.413Z"
   },
   {
    "duration": 50,
    "start_time": "2022-02-20T16:43:40.451Z"
   },
   {
    "duration": 32,
    "start_time": "2022-02-20T16:43:40.504Z"
   },
   {
    "duration": 5,
    "start_time": "2022-02-20T16:43:40.539Z"
   },
   {
    "duration": 29,
    "start_time": "2022-02-20T16:43:40.545Z"
   },
   {
    "duration": 39,
    "start_time": "2022-02-20T16:43:40.576Z"
   },
   {
    "duration": 17,
    "start_time": "2022-02-20T16:43:40.616Z"
   },
   {
    "duration": 6,
    "start_time": "2022-02-20T16:43:40.635Z"
   },
   {
    "duration": 12,
    "start_time": "2022-02-20T16:43:40.643Z"
   },
   {
    "duration": 8,
    "start_time": "2022-02-20T16:43:40.657Z"
   },
   {
    "duration": 14,
    "start_time": "2022-02-20T16:43:40.667Z"
   },
   {
    "duration": 4,
    "start_time": "2022-02-20T16:43:40.708Z"
   },
   {
    "duration": 19,
    "start_time": "2022-02-20T16:43:40.714Z"
   },
   {
    "duration": 16,
    "start_time": "2022-02-20T16:43:40.736Z"
   },
   {
    "duration": 5,
    "start_time": "2022-02-20T16:43:40.755Z"
   },
   {
    "duration": 8,
    "start_time": "2022-02-20T16:43:40.762Z"
   },
   {
    "duration": 10,
    "start_time": "2022-02-20T16:43:40.772Z"
   },
   {
    "duration": 40,
    "start_time": "2022-02-20T16:43:40.786Z"
   },
   {
    "duration": 23,
    "start_time": "2022-02-20T16:43:40.828Z"
   },
   {
    "duration": 7,
    "start_time": "2022-02-20T16:43:40.853Z"
   },
   {
    "duration": 9,
    "start_time": "2022-02-20T16:43:40.862Z"
   },
   {
    "duration": 39,
    "start_time": "2022-02-20T16:43:40.873Z"
   },
   {
    "duration": 6,
    "start_time": "2022-02-20T16:43:40.914Z"
   },
   {
    "duration": 18,
    "start_time": "2022-02-20T16:43:40.922Z"
   },
   {
    "duration": 23,
    "start_time": "2022-02-20T16:43:40.942Z"
   },
   {
    "duration": 19,
    "start_time": "2022-02-20T16:43:40.967Z"
   },
   {
    "duration": 21,
    "start_time": "2022-02-20T16:43:40.988Z"
   },
   {
    "duration": 17,
    "start_time": "2022-02-20T16:43:41.010Z"
   },
   {
    "duration": 22,
    "start_time": "2022-02-20T16:43:41.030Z"
   },
   {
    "duration": 20,
    "start_time": "2022-02-20T16:43:41.055Z"
   },
   {
    "duration": 13,
    "start_time": "2022-02-20T16:43:41.078Z"
   },
   {
    "duration": 36,
    "start_time": "2022-02-20T16:43:41.093Z"
   },
   {
    "duration": 6,
    "start_time": "2022-02-20T16:43:41.131Z"
   },
   {
    "duration": 36,
    "start_time": "2022-02-20T16:43:41.139Z"
   },
   {
    "duration": 53,
    "start_time": "2022-02-20T16:43:41.177Z"
   },
   {
    "duration": 41,
    "start_time": "2022-02-20T16:43:41.232Z"
   },
   {
    "duration": 48,
    "start_time": "2022-02-20T16:43:41.275Z"
   },
   {
    "duration": 32,
    "start_time": "2022-02-20T16:43:41.324Z"
   }
  ],
  "kernelspec": {
   "display_name": "Python 3 (ipykernel)",
   "language": "python",
   "name": "python3"
  },
  "language_info": {
   "codemirror_mode": {
    "name": "ipython",
    "version": 3
   },
   "file_extension": ".py",
   "mimetype": "text/x-python",
   "name": "python",
   "nbconvert_exporter": "python",
   "pygments_lexer": "ipython3",
   "version": "3.9.7"
  },
  "toc": {
   "base_numbering": 1,
   "nav_menu": {},
   "number_sections": true,
   "sideBar": true,
   "skip_h1_title": true,
   "title_cell": "Table of Contents",
   "title_sidebar": "Contents",
   "toc_cell": false,
   "toc_position": {
    "height": "calc(100% - 180px)",
    "left": "10px",
    "top": "150px",
    "width": "165px"
   },
   "toc_section_display": true,
   "toc_window_display": true
  }
 },
 "nbformat": 4,
 "nbformat_minor": 5
}
