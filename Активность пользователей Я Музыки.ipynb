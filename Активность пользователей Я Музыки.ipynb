{
 "cells": [
  {
   "cell_type": "markdown",
   "metadata": {
    "id": "E0vqbgi9ay0H"
   },
   "source": [
    "# Яндекс.Музыка"
   ]
  },
  {
   "cell_type": "markdown",
   "metadata": {
    "id": "VUC88oWjTJw2"
   },
   "source": [
    "Сравнение Москвы и Петербурга окружено мифами. Например:\n",
    " * Москва — мегаполис, подчинённый жёсткому ритму рабочей недели;\n",
    " * Петербург — культурная столица, со своими вкусами.\n",
    "\n",
    "На данных Яндекс.Музыки нужно сравнить поведение пользователей двух столиц.\n",
    "\n",
    "**Цель исследования** — проверьте три гипотезы:\n",
    "1. Активность пользователей зависит от дня недели. Причём в Москве и Петербурге это проявляется по-разному.\n",
    "2. В понедельник утром в Москве преобладают одни жанры, а в Петербурге — другие. Так же и вечером пятницы преобладают разные жанры — в зависимости от города. \n",
    "3. Москва и Петербург предпочитают разные жанры музыки. В Москве чаще слушают поп-музыку, в Петербурге — русский рэп.\n",
    "\n",
    "**Ход исследования**\n",
    "\n",
    "Данные о поведении пользователей вы получите из файла `yandex_music_project.csv`. О качестве данных ничего не известно. Поэтому перед проверкой гипотез понадобится обзор данных. \n",
    "\n",
    "Вы проверите данные на ошибки и оцените их влияние на исследование. Затем, на этапе предобработки вы поищете возможность исправить самые критичные ошибки данных.\n",
    " \n",
    "Таким образом, исследование пройдёт в три этапа:\n",
    " 1. Обзор данных.\n",
    " 2. Предобработка данных.\n",
    " 3. Проверка гипотез.\n",
    "\n"
   ]
  },
  {
   "cell_type": "markdown",
   "metadata": {
    "id": "Ml1hmfXC_Zcs"
   },
   "source": [
    "## Обзор данных\n"
   ]
  },
  {
   "cell_type": "code",
   "execution_count": 1,
   "metadata": {
    "id": "AXN7PHPN_Zcs"
   },
   "outputs": [],
   "source": [
    "import pandas as pd # импорт библиотеки pandas"
   ]
  },
  {
   "cell_type": "markdown",
   "metadata": {
    "id": "SG23P8tt_Zcs"
   },
   "source": [
    "Прочитайте файл `yandex_music_project.csv` из папки `/datasets` и сохраните его в переменной `df`:"
   ]
  },
  {
   "cell_type": "code",
   "execution_count": 2,
   "metadata": {
    "id": "fFVu7vqh_Zct"
   },
   "outputs": [],
   "source": [
    "df = pd.read_csv('D:\\_THIS IS MY FOLDER\\Я.Практикум, аналитика\\Проекты\\df.csv') # чтение файла с данными и сохранение в df"
   ]
  },
  {
   "cell_type": "markdown",
   "metadata": {
    "id": "rDoOMd3uTqnZ"
   },
   "source": [
    "Выведим на экран первые десять строк таблицы:"
   ]
  },
  {
   "cell_type": "code",
   "execution_count": 3,
   "metadata": {
    "id": "oWTVX3gW_Zct"
   },
   "outputs": [
    {
     "data": {
      "text/html": [
       "<div>\n",
       "<style scoped>\n",
       "    .dataframe tbody tr th:only-of-type {\n",
       "        vertical-align: middle;\n",
       "    }\n",
       "\n",
       "    .dataframe tbody tr th {\n",
       "        vertical-align: top;\n",
       "    }\n",
       "\n",
       "    .dataframe thead th {\n",
       "        text-align: right;\n",
       "    }\n",
       "</style>\n",
       "<table border=\"1\" class=\"dataframe\">\n",
       "  <thead>\n",
       "    <tr style=\"text-align: right;\">\n",
       "      <th></th>\n",
       "      <th>userID</th>\n",
       "      <th>Track</th>\n",
       "      <th>artist</th>\n",
       "      <th>genre</th>\n",
       "      <th>City</th>\n",
       "      <th>time</th>\n",
       "      <th>Day</th>\n",
       "    </tr>\n",
       "  </thead>\n",
       "  <tbody>\n",
       "    <tr>\n",
       "      <th>0</th>\n",
       "      <td>FFB692EC</td>\n",
       "      <td>Kamigata To Boots</td>\n",
       "      <td>The Mass Missile</td>\n",
       "      <td>rock</td>\n",
       "      <td>Saint-Petersburg</td>\n",
       "      <td>20:28:33</td>\n",
       "      <td>Wednesday</td>\n",
       "    </tr>\n",
       "    <tr>\n",
       "      <th>1</th>\n",
       "      <td>55204538</td>\n",
       "      <td>Delayed Because of Accident</td>\n",
       "      <td>Andreas Rönnberg</td>\n",
       "      <td>rock</td>\n",
       "      <td>Moscow</td>\n",
       "      <td>14:07:09</td>\n",
       "      <td>Friday</td>\n",
       "    </tr>\n",
       "    <tr>\n",
       "      <th>2</th>\n",
       "      <td>20EC38</td>\n",
       "      <td>Funiculì funiculà</td>\n",
       "      <td>Mario Lanza</td>\n",
       "      <td>pop</td>\n",
       "      <td>Saint-Petersburg</td>\n",
       "      <td>20:58:07</td>\n",
       "      <td>Wednesday</td>\n",
       "    </tr>\n",
       "    <tr>\n",
       "      <th>3</th>\n",
       "      <td>A3DD03C9</td>\n",
       "      <td>Dragons in the Sunset</td>\n",
       "      <td>Fire + Ice</td>\n",
       "      <td>folk</td>\n",
       "      <td>Saint-Petersburg</td>\n",
       "      <td>08:37:09</td>\n",
       "      <td>Monday</td>\n",
       "    </tr>\n",
       "    <tr>\n",
       "      <th>4</th>\n",
       "      <td>E2DC1FAE</td>\n",
       "      <td>Soul People</td>\n",
       "      <td>Space Echo</td>\n",
       "      <td>dance</td>\n",
       "      <td>Moscow</td>\n",
       "      <td>08:34:34</td>\n",
       "      <td>Monday</td>\n",
       "    </tr>\n",
       "    <tr>\n",
       "      <th>5</th>\n",
       "      <td>842029A1</td>\n",
       "      <td>Преданная</td>\n",
       "      <td>IMPERVTOR</td>\n",
       "      <td>rusrap</td>\n",
       "      <td>Saint-Petersburg</td>\n",
       "      <td>13:09:41</td>\n",
       "      <td>Friday</td>\n",
       "    </tr>\n",
       "    <tr>\n",
       "      <th>6</th>\n",
       "      <td>4CB90AA5</td>\n",
       "      <td>True</td>\n",
       "      <td>Roman Messer</td>\n",
       "      <td>dance</td>\n",
       "      <td>Moscow</td>\n",
       "      <td>13:00:07</td>\n",
       "      <td>Wednesday</td>\n",
       "    </tr>\n",
       "    <tr>\n",
       "      <th>7</th>\n",
       "      <td>F03E1C1F</td>\n",
       "      <td>Feeling This Way</td>\n",
       "      <td>Polina Griffith</td>\n",
       "      <td>dance</td>\n",
       "      <td>Moscow</td>\n",
       "      <td>20:47:49</td>\n",
       "      <td>Wednesday</td>\n",
       "    </tr>\n",
       "    <tr>\n",
       "      <th>8</th>\n",
       "      <td>8FA1D3BE</td>\n",
       "      <td>И вновь продолжается бой</td>\n",
       "      <td>NaN</td>\n",
       "      <td>ruspop</td>\n",
       "      <td>Moscow</td>\n",
       "      <td>09:17:40</td>\n",
       "      <td>Friday</td>\n",
       "    </tr>\n",
       "    <tr>\n",
       "      <th>9</th>\n",
       "      <td>E772D5C0</td>\n",
       "      <td>Pessimist</td>\n",
       "      <td>NaN</td>\n",
       "      <td>dance</td>\n",
       "      <td>Saint-Petersburg</td>\n",
       "      <td>21:20:49</td>\n",
       "      <td>Wednesday</td>\n",
       "    </tr>\n",
       "  </tbody>\n",
       "</table>\n",
       "</div>"
      ],
      "text/plain": [
       "     userID                        Track            artist   genre  \\\n",
       "0  FFB692EC            Kamigata To Boots  The Mass Missile    rock   \n",
       "1  55204538  Delayed Because of Accident  Andreas Rönnberg    rock   \n",
       "2    20EC38            Funiculì funiculà       Mario Lanza     pop   \n",
       "3  A3DD03C9        Dragons in the Sunset        Fire + Ice    folk   \n",
       "4  E2DC1FAE                  Soul People        Space Echo   dance   \n",
       "5  842029A1                    Преданная         IMPERVTOR  rusrap   \n",
       "6  4CB90AA5                         True      Roman Messer   dance   \n",
       "7  F03E1C1F             Feeling This Way   Polina Griffith   dance   \n",
       "8  8FA1D3BE     И вновь продолжается бой               NaN  ruspop   \n",
       "9  E772D5C0                    Pessimist               NaN   dance   \n",
       "\n",
       "             City        time        Day  \n",
       "0  Saint-Petersburg  20:28:33  Wednesday  \n",
       "1            Moscow  14:07:09     Friday  \n",
       "2  Saint-Petersburg  20:58:07  Wednesday  \n",
       "3  Saint-Petersburg  08:37:09     Monday  \n",
       "4            Moscow  08:34:34     Monday  \n",
       "5  Saint-Petersburg  13:09:41     Friday  \n",
       "6            Moscow  13:00:07  Wednesday  \n",
       "7            Moscow  20:47:49  Wednesday  \n",
       "8            Moscow  09:17:40     Friday  \n",
       "9  Saint-Petersburg  21:20:49  Wednesday  "
      ]
     },
     "execution_count": 3,
     "metadata": {},
     "output_type": "execute_result"
    }
   ],
   "source": [
    "df.head(10) # получение первых 10 строк таблицы df"
   ]
  },
  {
   "cell_type": "code",
   "execution_count": 4,
   "metadata": {
    "id": "DSf2kIb-_Zct"
   },
   "outputs": [
    {
     "name": "stdout",
     "output_type": "stream",
     "text": [
      "<class 'pandas.core.frame.DataFrame'>\n",
      "RangeIndex: 65079 entries, 0 to 65078\n",
      "Data columns (total 7 columns):\n",
      " #   Column    Non-Null Count  Dtype \n",
      "---  ------    --------------  ----- \n",
      " 0     userID  65079 non-null  object\n",
      " 1   Track     63848 non-null  object\n",
      " 2   artist    57876 non-null  object\n",
      " 3   genre     63881 non-null  object\n",
      " 4     City    65079 non-null  object\n",
      " 5   time      65079 non-null  object\n",
      " 6   Day       65079 non-null  object\n",
      "dtypes: object(7)\n",
      "memory usage: 3.5+ MB\n"
     ]
    }
   ],
   "source": [
    "df.info() # получение общей информации о данных в таблице df"
   ]
  },
  {
   "cell_type": "markdown",
   "metadata": {
    "id": "TaQ2Iwbr_Zct"
   },
   "source": [
    "Итак, в таблице семь столбцов. Тип данных во всех столбцах — `object`.\n",
    "\n",
    "Согласно документации к данным:\n",
    "* `userID` — идентификатор пользователя;\n",
    "* `Track` — название трека;  \n",
    "* `artist` — имя исполнителя;\n",
    "* `genre` — название жанра;\n",
    "* `City` — город пользователя;\n",
    "* `time` — время начала прослушивания;\n",
    "* `Day` — день недели.\n",
    "\n",
    "В названиях колонок видны три нарушения стиля:\n",
    "1. Строчные буквы сочетаются с прописными.\n",
    "2. Встречаются пробелы.\n",
    "3. Имя первого столбца состоит из нескольких слов. Их нужно писать через знак подчеркивания: \"_\"\n",
    "\n",
    "\n",
    "\n",
    "Количество значений в столбцах различается. Значит, в данных есть пропущенные значения.\n"
   ]
  },
  {
   "cell_type": "markdown",
   "metadata": {
    "id": "MCB6-dXG_Zct"
   },
   "source": [
    "**Выводы**\n",
    "\n",
    "В каждой строке таблицы — данные о прослушанном треке. Часть колонок описывает саму композицию: название, исполнителя и жанр. Остальные данные рассказывают о пользователе: из какого он города, когда он слушал музыку. \n",
    "\n",
    "Предварительно можно утверждать, что, данных достаточно для проверки гипотез. Но встречаются пропуски в данных, а в названиях колонок — расхождения с хорошим стилем.\n",
    "\n",
    "Чтобы двигаться дальше, нужно устранить проблемы в данных."
   ]
  },
  {
   "cell_type": "markdown",
   "metadata": {
    "id": "SjYF6Ub9_Zct"
   },
   "source": [
    "## Предобработка данных"
   ]
  },
  {
   "cell_type": "markdown",
   "metadata": {
    "id": "dIaKXr29_Zct"
   },
   "source": [
    "### Стиль заголовков"
   ]
  },
  {
   "cell_type": "code",
   "execution_count": 5,
   "metadata": {
    "id": "oKOTdF_Q_Zct"
   },
   "outputs": [
    {
     "data": {
      "text/plain": [
       "Index(['  userID', 'Track', 'artist', 'genre', '  City  ', 'time', 'Day'], dtype='object')"
      ]
     },
     "execution_count": 5,
     "metadata": {},
     "output_type": "execute_result"
    }
   ],
   "source": [
    "df.columns # перечень названий столбцов таблицы df"
   ]
  },
  {
   "cell_type": "code",
   "execution_count": 6,
   "metadata": {
    "id": "ISlFqs5y_Zct"
   },
   "outputs": [],
   "source": [
    "df = df.rename(columns={'  userID' : 'user_id', 'Track' : 'track', '  City  ' : 'city', 'Day' : 'day'}) \n",
    "# переименование столбцов"
   ]
  },
  {
   "cell_type": "code",
   "execution_count": 7,
   "metadata": {
    "id": "d4NOAmTW_Zct"
   },
   "outputs": [
    {
     "data": {
      "text/plain": [
       "Index(['user_id', 'track', 'artist', 'genre', 'city', 'time', 'day'], dtype='object')"
      ]
     },
     "execution_count": 7,
     "metadata": {},
     "output_type": "execute_result"
    }
   ],
   "source": [
    "df.columns # проверка результатов - перечень названий столбцов"
   ]
  },
  {
   "cell_type": "markdown",
   "metadata": {
    "id": "5ISfbcfY_Zct"
   },
   "source": [
    "### Пропуски значений"
   ]
  },
  {
   "cell_type": "code",
   "execution_count": 8,
   "metadata": {
    "id": "RskX29qr_Zct"
   },
   "outputs": [
    {
     "data": {
      "text/plain": [
       "user_id       0\n",
       "track      1231\n",
       "artist     7203\n",
       "genre      1198\n",
       "city          0\n",
       "time          0\n",
       "day           0\n",
       "dtype: int64"
      ]
     },
     "execution_count": 8,
     "metadata": {},
     "output_type": "execute_result"
    }
   ],
   "source": [
    "df.isna().sum() # подсчёт пропусков"
   ]
  },
  {
   "cell_type": "markdown",
   "metadata": {
    "id": "qubhgnlO_Zct"
   },
   "source": [
    "Не все пропущенные значения влияют на исследование. Так в `track` и `artist` пропуски не важны для вашей работы. Достаточно заменить их явными обозначениями.\n",
    "\n",
    "Но пропуски в `genre` могут помешать сравнению музыкальных вкусов в Москве и Санкт-Петербурге. На практике было бы правильно установить причину пропусков и восстановить данные. Такой возможности нет в учебном проекте. Придётся:\n",
    "* заполнить и эти пропуски явными обозначениями,\n",
    "* оценить, насколько они повредят расчётам. "
   ]
  },
  {
   "cell_type": "code",
   "execution_count": 9,
   "metadata": {
    "id": "KplB5qWs_Zct"
   },
   "outputs": [
    {
     "data": {
      "text/html": [
       "<div>\n",
       "<style scoped>\n",
       "    .dataframe tbody tr th:only-of-type {\n",
       "        vertical-align: middle;\n",
       "    }\n",
       "\n",
       "    .dataframe tbody tr th {\n",
       "        vertical-align: top;\n",
       "    }\n",
       "\n",
       "    .dataframe thead th {\n",
       "        text-align: right;\n",
       "    }\n",
       "</style>\n",
       "<table border=\"1\" class=\"dataframe\">\n",
       "  <thead>\n",
       "    <tr style=\"text-align: right;\">\n",
       "      <th></th>\n",
       "      <th>user_id</th>\n",
       "      <th>track</th>\n",
       "      <th>artist</th>\n",
       "      <th>genre</th>\n",
       "      <th>city</th>\n",
       "      <th>time</th>\n",
       "      <th>day</th>\n",
       "    </tr>\n",
       "  </thead>\n",
       "  <tbody>\n",
       "    <tr>\n",
       "      <th>0</th>\n",
       "      <td>FFB692EC</td>\n",
       "      <td>Kamigata To Boots</td>\n",
       "      <td>The Mass Missile</td>\n",
       "      <td>rock</td>\n",
       "      <td>Saint-Petersburg</td>\n",
       "      <td>20:28:33</td>\n",
       "      <td>Wednesday</td>\n",
       "    </tr>\n",
       "    <tr>\n",
       "      <th>1</th>\n",
       "      <td>55204538</td>\n",
       "      <td>Delayed Because of Accident</td>\n",
       "      <td>Andreas Rönnberg</td>\n",
       "      <td>rock</td>\n",
       "      <td>Moscow</td>\n",
       "      <td>14:07:09</td>\n",
       "      <td>Friday</td>\n",
       "    </tr>\n",
       "    <tr>\n",
       "      <th>2</th>\n",
       "      <td>20EC38</td>\n",
       "      <td>Funiculì funiculà</td>\n",
       "      <td>Mario Lanza</td>\n",
       "      <td>pop</td>\n",
       "      <td>Saint-Petersburg</td>\n",
       "      <td>20:58:07</td>\n",
       "      <td>Wednesday</td>\n",
       "    </tr>\n",
       "    <tr>\n",
       "      <th>3</th>\n",
       "      <td>A3DD03C9</td>\n",
       "      <td>Dragons in the Sunset</td>\n",
       "      <td>Fire + Ice</td>\n",
       "      <td>folk</td>\n",
       "      <td>Saint-Petersburg</td>\n",
       "      <td>08:37:09</td>\n",
       "      <td>Monday</td>\n",
       "    </tr>\n",
       "    <tr>\n",
       "      <th>4</th>\n",
       "      <td>E2DC1FAE</td>\n",
       "      <td>Soul People</td>\n",
       "      <td>Space Echo</td>\n",
       "      <td>dance</td>\n",
       "      <td>Moscow</td>\n",
       "      <td>08:34:34</td>\n",
       "      <td>Monday</td>\n",
       "    </tr>\n",
       "    <tr>\n",
       "      <th>...</th>\n",
       "      <td>...</td>\n",
       "      <td>...</td>\n",
       "      <td>...</td>\n",
       "      <td>...</td>\n",
       "      <td>...</td>\n",
       "      <td>...</td>\n",
       "      <td>...</td>\n",
       "    </tr>\n",
       "    <tr>\n",
       "      <th>65074</th>\n",
       "      <td>729CBB09</td>\n",
       "      <td>My Name</td>\n",
       "      <td>McLean</td>\n",
       "      <td>rnb</td>\n",
       "      <td>Moscow</td>\n",
       "      <td>13:32:28</td>\n",
       "      <td>Wednesday</td>\n",
       "    </tr>\n",
       "    <tr>\n",
       "      <th>65075</th>\n",
       "      <td>D08D4A55</td>\n",
       "      <td>Maybe One Day (feat. Black Spade)</td>\n",
       "      <td>Blu &amp; Exile</td>\n",
       "      <td>hip</td>\n",
       "      <td>Saint-Petersburg</td>\n",
       "      <td>10:00:00</td>\n",
       "      <td>Monday</td>\n",
       "    </tr>\n",
       "    <tr>\n",
       "      <th>65076</th>\n",
       "      <td>C5E3A0D5</td>\n",
       "      <td>Jalopiina</td>\n",
       "      <td>unknown</td>\n",
       "      <td>industrial</td>\n",
       "      <td>Moscow</td>\n",
       "      <td>20:09:26</td>\n",
       "      <td>Friday</td>\n",
       "    </tr>\n",
       "    <tr>\n",
       "      <th>65077</th>\n",
       "      <td>321D0506</td>\n",
       "      <td>Freight Train</td>\n",
       "      <td>Chas McDevitt</td>\n",
       "      <td>rock</td>\n",
       "      <td>Moscow</td>\n",
       "      <td>21:43:59</td>\n",
       "      <td>Friday</td>\n",
       "    </tr>\n",
       "    <tr>\n",
       "      <th>65078</th>\n",
       "      <td>3A64EF84</td>\n",
       "      <td>Tell Me Sweet Little Lies</td>\n",
       "      <td>Monica Lopez</td>\n",
       "      <td>country</td>\n",
       "      <td>Moscow</td>\n",
       "      <td>21:59:46</td>\n",
       "      <td>Friday</td>\n",
       "    </tr>\n",
       "  </tbody>\n",
       "</table>\n",
       "<p>65079 rows × 7 columns</p>\n",
       "</div>"
      ],
      "text/plain": [
       "        user_id                              track            artist  \\\n",
       "0      FFB692EC                  Kamigata To Boots  The Mass Missile   \n",
       "1      55204538        Delayed Because of Accident  Andreas Rönnberg   \n",
       "2        20EC38                  Funiculì funiculà       Mario Lanza   \n",
       "3      A3DD03C9              Dragons in the Sunset        Fire + Ice   \n",
       "4      E2DC1FAE                        Soul People        Space Echo   \n",
       "...         ...                                ...               ...   \n",
       "65074  729CBB09                            My Name            McLean   \n",
       "65075  D08D4A55  Maybe One Day (feat. Black Spade)       Blu & Exile   \n",
       "65076  C5E3A0D5                          Jalopiina           unknown   \n",
       "65077  321D0506                      Freight Train     Chas McDevitt   \n",
       "65078  3A64EF84          Tell Me Sweet Little Lies      Monica Lopez   \n",
       "\n",
       "            genre              city      time        day  \n",
       "0            rock  Saint-Petersburg  20:28:33  Wednesday  \n",
       "1            rock            Moscow  14:07:09     Friday  \n",
       "2             pop  Saint-Petersburg  20:58:07  Wednesday  \n",
       "3            folk  Saint-Petersburg  08:37:09     Monday  \n",
       "4           dance            Moscow  08:34:34     Monday  \n",
       "...           ...               ...       ...        ...  \n",
       "65074         rnb            Moscow  13:32:28  Wednesday  \n",
       "65075         hip  Saint-Petersburg  10:00:00     Monday  \n",
       "65076  industrial            Moscow  20:09:26     Friday  \n",
       "65077        rock            Moscow  21:43:59     Friday  \n",
       "65078     country            Moscow  21:59:46     Friday  \n",
       "\n",
       "[65079 rows x 7 columns]"
      ]
     },
     "execution_count": 9,
     "metadata": {},
     "output_type": "execute_result"
    }
   ],
   "source": [
    "# перебор названий столбцов в цикле и замена пропущенных значений на 'unknown'\n",
    "columns_to_replace = [ 'track', 'artist', 'genre']\n",
    "for column in columns_to_replace:\n",
    "    df[column] = df[column].fillna('unknown')\n",
    "df"
   ]
  },
  {
   "cell_type": "code",
   "execution_count": 10,
   "metadata": {
    "id": "Tq4nYRX4_Zct"
   },
   "outputs": [
    {
     "data": {
      "text/plain": [
       "user_id    0\n",
       "track      0\n",
       "artist     0\n",
       "genre      0\n",
       "city       0\n",
       "time       0\n",
       "day        0\n",
       "dtype: int64"
      ]
     },
     "execution_count": 10,
     "metadata": {},
     "output_type": "execute_result"
    }
   ],
   "source": [
    "df.isna().sum() #подсчёт пропусков"
   ]
  },
  {
   "cell_type": "markdown",
   "metadata": {
    "id": "BWKRtBJ3_Zct"
   },
   "source": [
    "### Дубликаты"
   ]
  },
  {
   "cell_type": "code",
   "execution_count": 11,
   "metadata": {
    "id": "36eES_S0_Zct"
   },
   "outputs": [
    {
     "data": {
      "text/plain": [
       "3826"
      ]
     },
     "execution_count": 11,
     "metadata": {},
     "output_type": "execute_result"
    }
   ],
   "source": [
    "df.duplicated().sum() # подсчёт явных дубликатов"
   ]
  },
  {
   "cell_type": "code",
   "execution_count": 12,
   "metadata": {
    "id": "exFHq6tt_Zct"
   },
   "outputs": [],
   "source": [
    "df = df.drop_duplicates().reset_index(drop=True) #удаление явных дубликатов (с удалением старых индексов и формированием новых)"
   ]
  },
  {
   "cell_type": "code",
   "execution_count": 13,
   "metadata": {
    "id": "-8PuNWQ0_Zct"
   },
   "outputs": [
    {
     "data": {
      "text/plain": [
       "0"
      ]
     },
     "execution_count": 13,
     "metadata": {},
     "output_type": "execute_result"
    }
   ],
   "source": [
    "df.duplicated().sum() # проверка на отсутствие дубликатов"
   ]
  },
  {
   "cell_type": "code",
   "execution_count": 41,
   "metadata": {
    "id": "JIUcqzZN_Zct"
   },
   "outputs": [
    {
     "data": {
      "text/plain": [
       "array(['acid', 'acoustic', 'action', 'adult', 'africa', 'afrikaans',\n",
       "       'alternative', 'alternativepunk', 'ambient', 'americana',\n",
       "       'animated', 'anime', 'arabesk', 'arabic', 'arena',\n",
       "       'argentinetango', 'art', 'audiobook', 'author', 'avantgarde',\n",
       "       'axé', 'baile', 'balkan', 'beats', 'bigroom', 'black', 'bluegrass',\n",
       "       'blues', 'bollywood', 'bossa', 'brazilian', 'breakbeat', 'breaks',\n",
       "       'broadway', 'cantautori', 'cantopop', 'canzone', 'caribbean',\n",
       "       'caucasian', 'celtic', 'chamber', 'chanson', 'children', 'chill',\n",
       "       'chinese', 'choral', 'christian', 'christmas', 'classical',\n",
       "       'classicmetal', 'club', 'colombian', 'comedy', 'conjazz',\n",
       "       'contemporary', 'country', 'cuban', 'dance', 'dancehall',\n",
       "       'dancepop', 'dark', 'death', 'deep', 'deutschrock', 'deutschspr',\n",
       "       'dirty', 'disco', 'dnb', 'documentary', 'downbeat', 'downtempo',\n",
       "       'drum', 'dub', 'dubstep', 'eastern', 'easy', 'electronic',\n",
       "       'electropop', 'emo', 'entehno', 'epicmetal', 'estrada', 'ethnic',\n",
       "       'eurofolk', 'european', 'experimental', 'extrememetal', 'fado',\n",
       "       'fairytail', 'film', 'fitness', 'flamenco', 'folk', 'folklore',\n",
       "       'folkmetal', 'folkrock', 'folktronica', 'forró', 'frankreich',\n",
       "       'französisch', 'french', 'funk', 'future', 'gangsta', 'garage',\n",
       "       'german', 'ghazal', 'gitarre', 'glitch', 'gospel', 'gothic',\n",
       "       'grime', 'grunge', 'gypsy', 'handsup', \"hard'n'heavy\", 'hardcore',\n",
       "       'hardstyle', 'hardtechno', 'hiphop', 'historisch', 'holiday',\n",
       "       'horror', 'house', 'hymn', 'idm', 'independent', 'indian', 'indie',\n",
       "       'indipop', 'industrial', 'inspirational', 'instrumental',\n",
       "       'international', 'irish', 'jam', 'japanese', 'jazz', 'jewish',\n",
       "       'jpop', 'jungle', 'k-pop', 'karadeniz', 'karaoke', 'kayokyoku',\n",
       "       'korean', 'laiko', 'latin', 'latino', 'leftfield', 'local',\n",
       "       'lounge', 'loungeelectronic', 'lovers', 'malaysian', 'mandopop',\n",
       "       'marschmusik', 'meditative', 'mediterranean', 'melodic', 'metal',\n",
       "       'metalcore', 'mexican', 'middle', 'minimal', 'miscellaneous',\n",
       "       'modern', 'mood', 'mpb', 'muslim', 'native', 'neoklassik', 'neue',\n",
       "       'new', 'newage', 'newwave', 'nu', 'nujazz', 'numetal', 'oceania',\n",
       "       'old', 'opera', 'orchestral', 'other', 'piano', 'podcasts', 'pop',\n",
       "       'popdance', 'popelectronic', 'popeurodance', 'poprussian', 'post',\n",
       "       'posthardcore', 'postrock', 'power', 'progmetal', 'progressive',\n",
       "       'psychedelic', 'punjabi', 'punk', 'quebecois', 'ragga', 'ram',\n",
       "       'rancheras', 'rap', 'rave', 'reggae', 'reggaeton', 'regional',\n",
       "       'relax', 'religious', 'retro', 'rhythm', 'rnb', 'rnr', 'rock',\n",
       "       'rockabilly', 'rockalternative', 'rockindie', 'rockother',\n",
       "       'romance', 'roots', 'ruspop', 'rusrap', 'rusrock', 'russian',\n",
       "       'salsa', 'samba', 'scenic', 'schlager', 'self', 'sertanejo',\n",
       "       'shanson', 'shoegazing', 'showtunes', 'singer', 'ska', 'skarock',\n",
       "       'slow', 'smooth', 'soft', 'soul', 'soulful', 'sound', 'soundtrack',\n",
       "       'southern', 'specialty', 'speech', 'spiritual', 'sport',\n",
       "       'stonerrock', 'surf', 'swing', 'synthpop', 'synthrock',\n",
       "       'sängerportrait', 'tango', 'tanzorchester', 'taraftar', 'tatar',\n",
       "       'tech', 'techno', 'teen', 'thrash', 'top', 'traditional',\n",
       "       'tradjazz', 'trance', 'tribal', 'trip', 'triphop', 'tropical',\n",
       "       'türk', 'türkçe', 'ukrrock', 'unknown', 'urban', 'uzbek',\n",
       "       'variété', 'vi', 'videogame', 'vocal', 'western', 'world',\n",
       "       'worldbeat', 'ïîï', 'электроника'], dtype=object)"
      ]
     },
     "execution_count": 41,
     "metadata": {},
     "output_type": "execute_result"
    }
   ],
   "source": [
    "df['genre'].sort_values().unique() # Просмотр уникальных названий жанров"
   ]
  },
  {
   "cell_type": "code",
   "execution_count": 15,
   "metadata": {
    "id": "ErNDkmns_Zct"
   },
   "outputs": [],
   "source": [
    "def replace_wrong_genres(wrong_genres, correct_genre): # Функция для замены неявных дубликатов\n",
    "    for wrong_genre in wrong_genres:\n",
    "        df['genre'] = df['genre'].replace(wrong_genres, correct_genre)\n",
    "        "
   ]
  },
  {
   "cell_type": "code",
   "execution_count": 16,
   "metadata": {
    "id": "YN5i2hpmSo09"
   },
   "outputs": [],
   "source": [
    "duplicates = ['hip', 'hip-hop', 'hop'] \n",
    "name = 'hiphop' \n",
    "replace_wrong_genres(duplicates, name)  # Устранение неявных дубликатов"
   ]
  },
  {
   "cell_type": "code",
   "execution_count": 42,
   "metadata": {
    "id": "wvixALnFG15m"
   },
   "outputs": [
    {
     "data": {
      "text/plain": [
       "array(['acid', 'acoustic', 'action', 'adult', 'africa', 'afrikaans',\n",
       "       'alternative', 'alternativepunk', 'ambient', 'americana',\n",
       "       'animated', 'anime', 'arabesk', 'arabic', 'arena',\n",
       "       'argentinetango', 'art', 'audiobook', 'author', 'avantgarde',\n",
       "       'axé', 'baile', 'balkan', 'beats', 'bigroom', 'black', 'bluegrass',\n",
       "       'blues', 'bollywood', 'bossa', 'brazilian', 'breakbeat', 'breaks',\n",
       "       'broadway', 'cantautori', 'cantopop', 'canzone', 'caribbean',\n",
       "       'caucasian', 'celtic', 'chamber', 'chanson', 'children', 'chill',\n",
       "       'chinese', 'choral', 'christian', 'christmas', 'classical',\n",
       "       'classicmetal', 'club', 'colombian', 'comedy', 'conjazz',\n",
       "       'contemporary', 'country', 'cuban', 'dance', 'dancehall',\n",
       "       'dancepop', 'dark', 'death', 'deep', 'deutschrock', 'deutschspr',\n",
       "       'dirty', 'disco', 'dnb', 'documentary', 'downbeat', 'downtempo',\n",
       "       'drum', 'dub', 'dubstep', 'eastern', 'easy', 'electronic',\n",
       "       'electropop', 'emo', 'entehno', 'epicmetal', 'estrada', 'ethnic',\n",
       "       'eurofolk', 'european', 'experimental', 'extrememetal', 'fado',\n",
       "       'fairytail', 'film', 'fitness', 'flamenco', 'folk', 'folklore',\n",
       "       'folkmetal', 'folkrock', 'folktronica', 'forró', 'frankreich',\n",
       "       'französisch', 'french', 'funk', 'future', 'gangsta', 'garage',\n",
       "       'german', 'ghazal', 'gitarre', 'glitch', 'gospel', 'gothic',\n",
       "       'grime', 'grunge', 'gypsy', 'handsup', \"hard'n'heavy\", 'hardcore',\n",
       "       'hardstyle', 'hardtechno', 'hiphop', 'historisch', 'holiday',\n",
       "       'horror', 'house', 'hymn', 'idm', 'independent', 'indian', 'indie',\n",
       "       'indipop', 'industrial', 'inspirational', 'instrumental',\n",
       "       'international', 'irish', 'jam', 'japanese', 'jazz', 'jewish',\n",
       "       'jpop', 'jungle', 'k-pop', 'karadeniz', 'karaoke', 'kayokyoku',\n",
       "       'korean', 'laiko', 'latin', 'latino', 'leftfield', 'local',\n",
       "       'lounge', 'loungeelectronic', 'lovers', 'malaysian', 'mandopop',\n",
       "       'marschmusik', 'meditative', 'mediterranean', 'melodic', 'metal',\n",
       "       'metalcore', 'mexican', 'middle', 'minimal', 'miscellaneous',\n",
       "       'modern', 'mood', 'mpb', 'muslim', 'native', 'neoklassik', 'neue',\n",
       "       'new', 'newage', 'newwave', 'nu', 'nujazz', 'numetal', 'oceania',\n",
       "       'old', 'opera', 'orchestral', 'other', 'piano', 'podcasts', 'pop',\n",
       "       'popdance', 'popelectronic', 'popeurodance', 'poprussian', 'post',\n",
       "       'posthardcore', 'postrock', 'power', 'progmetal', 'progressive',\n",
       "       'psychedelic', 'punjabi', 'punk', 'quebecois', 'ragga', 'ram',\n",
       "       'rancheras', 'rap', 'rave', 'reggae', 'reggaeton', 'regional',\n",
       "       'relax', 'religious', 'retro', 'rhythm', 'rnb', 'rnr', 'rock',\n",
       "       'rockabilly', 'rockalternative', 'rockindie', 'rockother',\n",
       "       'romance', 'roots', 'ruspop', 'rusrap', 'rusrock', 'russian',\n",
       "       'salsa', 'samba', 'scenic', 'schlager', 'self', 'sertanejo',\n",
       "       'shanson', 'shoegazing', 'showtunes', 'singer', 'ska', 'skarock',\n",
       "       'slow', 'smooth', 'soft', 'soul', 'soulful', 'sound', 'soundtrack',\n",
       "       'southern', 'specialty', 'speech', 'spiritual', 'sport',\n",
       "       'stonerrock', 'surf', 'swing', 'synthpop', 'synthrock',\n",
       "       'sängerportrait', 'tango', 'tanzorchester', 'taraftar', 'tatar',\n",
       "       'tech', 'techno', 'teen', 'thrash', 'top', 'traditional',\n",
       "       'tradjazz', 'trance', 'tribal', 'trip', 'triphop', 'tropical',\n",
       "       'türk', 'türkçe', 'ukrrock', 'unknown', 'urban', 'uzbek',\n",
       "       'variété', 'vi', 'videogame', 'vocal', 'western', 'world',\n",
       "       'worldbeat', 'ïîï', 'электроника'], dtype=object)"
      ]
     },
     "execution_count": 42,
     "metadata": {},
     "output_type": "execute_result"
    }
   ],
   "source": [
    "df['genre'].sort_values().unique() # Проверка на неявные дубликаты"
   ]
  },
  {
   "cell_type": "markdown",
   "metadata": {
    "id": "jz6a9-7HQUDd"
   },
   "source": [
    "**Выводы**\n",
    "\n",
    "Предобработка обнаружила три проблемы в данных:\n",
    "\n",
    "- нарушения в стиле заголовков,\n",
    "- пропущенные значения,\n",
    "- дубликаты — явные и неявные.\n",
    "\n",
    "Заголовки исправили.\n",
    "\n",
    "Пропущенные значения заменили на `'unknown'`. "
   ]
  },
  {
   "cell_type": "markdown",
   "metadata": {
    "id": "WttZHXH0SqKk"
   },
   "source": [
    "## Проверка гипотез"
   ]
  },
  {
   "cell_type": "markdown",
   "metadata": {
    "id": "Im936VVi_Zcu"
   },
   "source": [
    "### Сравнение поведения пользователей двух столиц"
   ]
  },
  {
   "cell_type": "markdown",
   "metadata": {
    "id": "nwt_MuaL_Zcu"
   },
   "source": [
    "Первая гипотеза утверждает, что пользователи по-разному слушают музыку в Москве и Санкт-Петербурге. Проверим это предположение по данным о трёх днях недели — понедельнике, среде и пятнице. Для этого:\n",
    "\n",
    "* Разделим пользователей Москвы и Санкт-Петербурга\n",
    "* Сравним, сколько треков послушала каждая группа пользователей в понедельник, среду и пятницу.\n"
   ]
  },
  {
   "cell_type": "code",
   "execution_count": 18,
   "metadata": {
    "id": "0_Qs96oh_Zcu"
   },
   "outputs": [
    {
     "data": {
      "text/plain": [
       "city\n",
       "Moscow              42741\n",
       "Saint-Petersburg    18512\n",
       "Name: track, dtype: int64"
      ]
     },
     "execution_count": 18,
     "metadata": {},
     "output_type": "execute_result"
    }
   ],
   "source": [
    "df.groupby('city')['track'].count() # Подсчёт прослушиваний в каждом городе"
   ]
  },
  {
   "cell_type": "markdown",
   "metadata": {
    "id": "dzli3w8o_Zcu"
   },
   "source": [
    "В Москве прослушиваний больше, чем в Петербурге. Из этого не следует, что московские пользователи чаще слушают музыку. Просто самих пользователей в Москве больше."
   ]
  },
  {
   "cell_type": "code",
   "execution_count": 19,
   "metadata": {
    "id": "uZMKjiJz_Zcu"
   },
   "outputs": [
    {
     "data": {
      "text/plain": [
       "day\n",
       "Friday       21840\n",
       "Monday       21354\n",
       "Wednesday    18059\n",
       "Name: track, dtype: int64"
      ]
     },
     "execution_count": 19,
     "metadata": {},
     "output_type": "execute_result"
    }
   ],
   "source": [
    "df.groupby('day')['track'].count() # Подсчёт прослушиваний в каждый из трёх дней"
   ]
  },
  {
   "cell_type": "markdown",
   "metadata": {
    "id": "cC2tNrlL_Zcu"
   },
   "source": [
    "В среднем пользователи из двух городов менее активны по средам. Но картина может измениться, если рассмотреть каждый город в отдельности."
   ]
  },
  {
   "cell_type": "code",
   "execution_count": 20,
   "metadata": {
    "id": "Nz3GdQB1_Zcu"
   },
   "outputs": [],
   "source": [
    "# <создание функции number_tracks()>\n",
    "# Функция для подсчёта прослушиваний для конкретного города и дня.\n",
    "# С помощью последовательной фильтрации с логической индексацией она \n",
    "# сначала получит из исходной таблицы строки с нужным днём,\n",
    "# затем из результата отфильтрует строки с нужным городом,\n",
    "# методом count() посчитает количество значений в колонке user_id. \n",
    "# Это количество функция вернёт в качестве результата\n",
    "\n",
    "def number_tracks(day, city):\n",
    "    track_list = df[df['day'] == day] \n",
    "    track_list = track_list[track_list['city'] == city]\n",
    "    track_list_count = track_list['user_id'].count()\n",
    "    return(track_list_count) "
   ]
  },
  {
   "cell_type": "code",
   "execution_count": 43,
   "metadata": {
    "id": "rJcRATNQ_Zcu"
   },
   "outputs": [
    {
     "data": {
      "text/plain": [
       "15740"
      ]
     },
     "execution_count": 43,
     "metadata": {},
     "output_type": "execute_result"
    }
   ],
   "source": [
    "# количество прослушиваний в Москве по понедельникам\n",
    "msk_mon = number_tracks('Monday', 'Moscow')\n",
    "msk_mon  "
   ]
  },
  {
   "cell_type": "code",
   "execution_count": 22,
   "metadata": {
    "id": "hq_ncZ5T_Zcu"
   },
   "outputs": [
    {
     "data": {
      "text/plain": [
       "5614"
      ]
     },
     "execution_count": 22,
     "metadata": {},
     "output_type": "execute_result"
    }
   ],
   "source": [
    "# количество прослушиваний в Санкт-Петербурге по понедельникам\n",
    "spb_mon = number_tracks('Monday', 'Saint-Petersburg')\n",
    "spb_mon "
   ]
  },
  {
   "cell_type": "code",
   "execution_count": 23,
   "metadata": {
    "id": "_NTy2VPU_Zcu"
   },
   "outputs": [
    {
     "data": {
      "text/plain": [
       "11056"
      ]
     },
     "execution_count": 23,
     "metadata": {},
     "output_type": "execute_result"
    }
   ],
   "source": [
    "# количество прослушиваний в Москве по средам\n",
    "msk_wed = number_tracks('Wednesday', 'Moscow')\n",
    "msk_wed"
   ]
  },
  {
   "cell_type": "code",
   "execution_count": 24,
   "metadata": {
    "id": "j2y3TAwo_Zcu"
   },
   "outputs": [
    {
     "data": {
      "text/plain": [
       "7003"
      ]
     },
     "execution_count": 24,
     "metadata": {},
     "output_type": "execute_result"
    }
   ],
   "source": [
    "# количество прослушиваний в Санкт-Петербурге по средам\n",
    "spb_wed = number_tracks('Wednesday', 'Saint-Petersburg')\n",
    "spb_wed"
   ]
  },
  {
   "cell_type": "code",
   "execution_count": 25,
   "metadata": {
    "id": "vYDw5u_K_Zcu"
   },
   "outputs": [
    {
     "data": {
      "text/plain": [
       "15945"
      ]
     },
     "execution_count": 25,
     "metadata": {},
     "output_type": "execute_result"
    }
   ],
   "source": [
    "# количество прослушиваний в Москве по пятницам\n",
    "msk_fri = number_tracks('Friday', 'Moscow')\n",
    "msk_fri  "
   ]
  },
  {
   "cell_type": "code",
   "execution_count": 26,
   "metadata": {
    "id": "8_yzFtW3_Zcu"
   },
   "outputs": [
    {
     "data": {
      "text/plain": [
       "5895"
      ]
     },
     "execution_count": 26,
     "metadata": {},
     "output_type": "execute_result"
    }
   ],
   "source": [
    "# количество прослушиваний в Санкт-Петербурге по пятницам\n",
    "spb_fri = number_tracks('Friday', 'Saint-Petersburg')\n",
    "spb_fri"
   ]
  },
  {
   "cell_type": "code",
   "execution_count": 27,
   "metadata": {
    "id": "APAcLpOr_Zcu"
   },
   "outputs": [
    {
     "data": {
      "text/html": [
       "<div>\n",
       "<style scoped>\n",
       "    .dataframe tbody tr th:only-of-type {\n",
       "        vertical-align: middle;\n",
       "    }\n",
       "\n",
       "    .dataframe tbody tr th {\n",
       "        vertical-align: top;\n",
       "    }\n",
       "\n",
       "    .dataframe thead th {\n",
       "        text-align: right;\n",
       "    }\n",
       "</style>\n",
       "<table border=\"1\" class=\"dataframe\">\n",
       "  <thead>\n",
       "    <tr style=\"text-align: right;\">\n",
       "      <th></th>\n",
       "      <th>city</th>\n",
       "      <th>monday</th>\n",
       "      <th>wednesday</th>\n",
       "      <th>friday</th>\n",
       "    </tr>\n",
       "  </thead>\n",
       "  <tbody>\n",
       "    <tr>\n",
       "      <th>0</th>\n",
       "      <td>Saint-Petersburg</td>\n",
       "      <td>5614</td>\n",
       "      <td>7003</td>\n",
       "      <td>5895</td>\n",
       "    </tr>\n",
       "    <tr>\n",
       "      <th>1</th>\n",
       "      <td>Moscow</td>\n",
       "      <td>15740</td>\n",
       "      <td>11056</td>\n",
       "      <td>15945</td>\n",
       "    </tr>\n",
       "  </tbody>\n",
       "</table>\n",
       "</div>"
      ],
      "text/plain": [
       "               city  monday  wednesday  friday\n",
       "0  Saint-Petersburg    5614       7003    5895\n",
       "1            Moscow   15740      11056   15945"
      ]
     },
     "execution_count": 27,
     "metadata": {},
     "output_type": "execute_result"
    }
   ],
   "source": [
    "columns = ['city', 'monday', 'wednesday', 'friday']   # Таблица с результатами\n",
    "data = [\n",
    "    ['Saint-Petersburg', spb_mon, spb_wed, spb_fri], \n",
    "    ['Moscow', msk_mon, msk_wed, msk_fri]\n",
    "] \n",
    "pd.DataFrame(data=data, columns=columns)"
   ]
  },
  {
   "cell_type": "markdown",
   "metadata": {
    "id": "-EgPIHYu_Zcu"
   },
   "source": [
    "**Выводы**\n",
    "\n",
    "Данные показывают разницу поведения пользователей:\n",
    "\n",
    "- В Москве пик прослушиваний приходится на понедельник и пятницу, а в среду заметен спад.\n",
    "- В Петербурге, наоборот, больше слушают музыку по средам. Активность в понедельник и пятницу здесь почти в равной мере уступает среде.\n",
    "\n",
    "Значит, данные говорят в пользу первой гипотезы."
   ]
  },
  {
   "cell_type": "markdown",
   "metadata": {
    "id": "atZAxtq4_Zcu"
   },
   "source": [
    "### Музыка в начале и в конце недели"
   ]
  },
  {
   "cell_type": "markdown",
   "metadata": {
    "id": "eXrQqXFH_Zcu"
   },
   "source": [
    "Согласно второй гипотезе, утром в понедельник в Москве преобладают одни жанры, а в Петербурге — другие. Так же и вечером пятницы преобладают разные жанры — в зависимости от города."
   ]
  },
  {
   "cell_type": "code",
   "execution_count": 28,
   "metadata": {
    "id": "qeaFfM_P_Zcu"
   },
   "outputs": [
    {
     "data": {
      "text/html": [
       "<div>\n",
       "<style scoped>\n",
       "    .dataframe tbody tr th:only-of-type {\n",
       "        vertical-align: middle;\n",
       "    }\n",
       "\n",
       "    .dataframe tbody tr th {\n",
       "        vertical-align: top;\n",
       "    }\n",
       "\n",
       "    .dataframe thead th {\n",
       "        text-align: right;\n",
       "    }\n",
       "</style>\n",
       "<table border=\"1\" class=\"dataframe\">\n",
       "  <thead>\n",
       "    <tr style=\"text-align: right;\">\n",
       "      <th></th>\n",
       "      <th>user_id</th>\n",
       "      <th>track</th>\n",
       "      <th>artist</th>\n",
       "      <th>genre</th>\n",
       "      <th>city</th>\n",
       "      <th>time</th>\n",
       "      <th>day</th>\n",
       "    </tr>\n",
       "  </thead>\n",
       "  <tbody>\n",
       "    <tr>\n",
       "      <th>1</th>\n",
       "      <td>55204538</td>\n",
       "      <td>Delayed Because of Accident</td>\n",
       "      <td>Andreas Rönnberg</td>\n",
       "      <td>rock</td>\n",
       "      <td>Moscow</td>\n",
       "      <td>14:07:09</td>\n",
       "      <td>Friday</td>\n",
       "    </tr>\n",
       "    <tr>\n",
       "      <th>4</th>\n",
       "      <td>E2DC1FAE</td>\n",
       "      <td>Soul People</td>\n",
       "      <td>Space Echo</td>\n",
       "      <td>dance</td>\n",
       "      <td>Moscow</td>\n",
       "      <td>08:34:34</td>\n",
       "      <td>Monday</td>\n",
       "    </tr>\n",
       "    <tr>\n",
       "      <th>6</th>\n",
       "      <td>4CB90AA5</td>\n",
       "      <td>True</td>\n",
       "      <td>Roman Messer</td>\n",
       "      <td>dance</td>\n",
       "      <td>Moscow</td>\n",
       "      <td>13:00:07</td>\n",
       "      <td>Wednesday</td>\n",
       "    </tr>\n",
       "    <tr>\n",
       "      <th>7</th>\n",
       "      <td>F03E1C1F</td>\n",
       "      <td>Feeling This Way</td>\n",
       "      <td>Polina Griffith</td>\n",
       "      <td>dance</td>\n",
       "      <td>Moscow</td>\n",
       "      <td>20:47:49</td>\n",
       "      <td>Wednesday</td>\n",
       "    </tr>\n",
       "    <tr>\n",
       "      <th>8</th>\n",
       "      <td>8FA1D3BE</td>\n",
       "      <td>И вновь продолжается бой</td>\n",
       "      <td>unknown</td>\n",
       "      <td>ruspop</td>\n",
       "      <td>Moscow</td>\n",
       "      <td>09:17:40</td>\n",
       "      <td>Friday</td>\n",
       "    </tr>\n",
       "    <tr>\n",
       "      <th>...</th>\n",
       "      <td>...</td>\n",
       "      <td>...</td>\n",
       "      <td>...</td>\n",
       "      <td>...</td>\n",
       "      <td>...</td>\n",
       "      <td>...</td>\n",
       "      <td>...</td>\n",
       "    </tr>\n",
       "    <tr>\n",
       "      <th>61247</th>\n",
       "      <td>83A474E7</td>\n",
       "      <td>I Worship Only What You Bleed</td>\n",
       "      <td>The Black Dahlia Murder</td>\n",
       "      <td>extrememetal</td>\n",
       "      <td>Moscow</td>\n",
       "      <td>21:07:12</td>\n",
       "      <td>Monday</td>\n",
       "    </tr>\n",
       "    <tr>\n",
       "      <th>61248</th>\n",
       "      <td>729CBB09</td>\n",
       "      <td>My Name</td>\n",
       "      <td>McLean</td>\n",
       "      <td>rnb</td>\n",
       "      <td>Moscow</td>\n",
       "      <td>13:32:28</td>\n",
       "      <td>Wednesday</td>\n",
       "    </tr>\n",
       "    <tr>\n",
       "      <th>61250</th>\n",
       "      <td>C5E3A0D5</td>\n",
       "      <td>Jalopiina</td>\n",
       "      <td>unknown</td>\n",
       "      <td>industrial</td>\n",
       "      <td>Moscow</td>\n",
       "      <td>20:09:26</td>\n",
       "      <td>Friday</td>\n",
       "    </tr>\n",
       "    <tr>\n",
       "      <th>61251</th>\n",
       "      <td>321D0506</td>\n",
       "      <td>Freight Train</td>\n",
       "      <td>Chas McDevitt</td>\n",
       "      <td>rock</td>\n",
       "      <td>Moscow</td>\n",
       "      <td>21:43:59</td>\n",
       "      <td>Friday</td>\n",
       "    </tr>\n",
       "    <tr>\n",
       "      <th>61252</th>\n",
       "      <td>3A64EF84</td>\n",
       "      <td>Tell Me Sweet Little Lies</td>\n",
       "      <td>Monica Lopez</td>\n",
       "      <td>country</td>\n",
       "      <td>Moscow</td>\n",
       "      <td>21:59:46</td>\n",
       "      <td>Friday</td>\n",
       "    </tr>\n",
       "  </tbody>\n",
       "</table>\n",
       "<p>42741 rows × 7 columns</p>\n",
       "</div>"
      ],
      "text/plain": [
       "        user_id                          track                   artist  \\\n",
       "1      55204538    Delayed Because of Accident         Andreas Rönnberg   \n",
       "4      E2DC1FAE                    Soul People               Space Echo   \n",
       "6      4CB90AA5                           True             Roman Messer   \n",
       "7      F03E1C1F               Feeling This Way          Polina Griffith   \n",
       "8      8FA1D3BE       И вновь продолжается бой                  unknown   \n",
       "...         ...                            ...                      ...   \n",
       "61247  83A474E7  I Worship Only What You Bleed  The Black Dahlia Murder   \n",
       "61248  729CBB09                        My Name                   McLean   \n",
       "61250  C5E3A0D5                      Jalopiina                  unknown   \n",
       "61251  321D0506                  Freight Train            Chas McDevitt   \n",
       "61252  3A64EF84      Tell Me Sweet Little Lies             Monica Lopez   \n",
       "\n",
       "              genre    city      time        day  \n",
       "1              rock  Moscow  14:07:09     Friday  \n",
       "4             dance  Moscow  08:34:34     Monday  \n",
       "6             dance  Moscow  13:00:07  Wednesday  \n",
       "7             dance  Moscow  20:47:49  Wednesday  \n",
       "8            ruspop  Moscow  09:17:40     Friday  \n",
       "...             ...     ...       ...        ...  \n",
       "61247  extrememetal  Moscow  21:07:12     Monday  \n",
       "61248           rnb  Moscow  13:32:28  Wednesday  \n",
       "61250    industrial  Moscow  20:09:26     Friday  \n",
       "61251          rock  Moscow  21:43:59     Friday  \n",
       "61252       country  Moscow  21:59:46     Friday  \n",
       "\n",
       "[42741 rows x 7 columns]"
      ]
     },
     "execution_count": 28,
     "metadata": {},
     "output_type": "execute_result"
    }
   ],
   "source": [
    "moscow_general = df[df['city'] == 'Moscow']\n",
    "moscow_general"
   ]
  },
  {
   "cell_type": "code",
   "execution_count": 29,
   "metadata": {
    "id": "ORaVRKto_Zcu"
   },
   "outputs": [
    {
     "data": {
      "text/html": [
       "<div>\n",
       "<style scoped>\n",
       "    .dataframe tbody tr th:only-of-type {\n",
       "        vertical-align: middle;\n",
       "    }\n",
       "\n",
       "    .dataframe tbody tr th {\n",
       "        vertical-align: top;\n",
       "    }\n",
       "\n",
       "    .dataframe thead th {\n",
       "        text-align: right;\n",
       "    }\n",
       "</style>\n",
       "<table border=\"1\" class=\"dataframe\">\n",
       "  <thead>\n",
       "    <tr style=\"text-align: right;\">\n",
       "      <th></th>\n",
       "      <th>user_id</th>\n",
       "      <th>track</th>\n",
       "      <th>artist</th>\n",
       "      <th>genre</th>\n",
       "      <th>city</th>\n",
       "      <th>time</th>\n",
       "      <th>day</th>\n",
       "    </tr>\n",
       "  </thead>\n",
       "  <tbody>\n",
       "    <tr>\n",
       "      <th>0</th>\n",
       "      <td>FFB692EC</td>\n",
       "      <td>Kamigata To Boots</td>\n",
       "      <td>The Mass Missile</td>\n",
       "      <td>rock</td>\n",
       "      <td>Saint-Petersburg</td>\n",
       "      <td>20:28:33</td>\n",
       "      <td>Wednesday</td>\n",
       "    </tr>\n",
       "    <tr>\n",
       "      <th>2</th>\n",
       "      <td>20EC38</td>\n",
       "      <td>Funiculì funiculà</td>\n",
       "      <td>Mario Lanza</td>\n",
       "      <td>pop</td>\n",
       "      <td>Saint-Petersburg</td>\n",
       "      <td>20:58:07</td>\n",
       "      <td>Wednesday</td>\n",
       "    </tr>\n",
       "    <tr>\n",
       "      <th>3</th>\n",
       "      <td>A3DD03C9</td>\n",
       "      <td>Dragons in the Sunset</td>\n",
       "      <td>Fire + Ice</td>\n",
       "      <td>folk</td>\n",
       "      <td>Saint-Petersburg</td>\n",
       "      <td>08:37:09</td>\n",
       "      <td>Monday</td>\n",
       "    </tr>\n",
       "    <tr>\n",
       "      <th>5</th>\n",
       "      <td>842029A1</td>\n",
       "      <td>Преданная</td>\n",
       "      <td>IMPERVTOR</td>\n",
       "      <td>rusrap</td>\n",
       "      <td>Saint-Petersburg</td>\n",
       "      <td>13:09:41</td>\n",
       "      <td>Friday</td>\n",
       "    </tr>\n",
       "    <tr>\n",
       "      <th>9</th>\n",
       "      <td>E772D5C0</td>\n",
       "      <td>Pessimist</td>\n",
       "      <td>unknown</td>\n",
       "      <td>dance</td>\n",
       "      <td>Saint-Petersburg</td>\n",
       "      <td>21:20:49</td>\n",
       "      <td>Wednesday</td>\n",
       "    </tr>\n",
       "    <tr>\n",
       "      <th>...</th>\n",
       "      <td>...</td>\n",
       "      <td>...</td>\n",
       "      <td>...</td>\n",
       "      <td>...</td>\n",
       "      <td>...</td>\n",
       "      <td>...</td>\n",
       "      <td>...</td>\n",
       "    </tr>\n",
       "    <tr>\n",
       "      <th>61239</th>\n",
       "      <td>D94F810B</td>\n",
       "      <td>Theme from the Walking Dead</td>\n",
       "      <td>Proyecto Halloween</td>\n",
       "      <td>film</td>\n",
       "      <td>Saint-Petersburg</td>\n",
       "      <td>21:14:40</td>\n",
       "      <td>Monday</td>\n",
       "    </tr>\n",
       "    <tr>\n",
       "      <th>61240</th>\n",
       "      <td>BC8EC5CF</td>\n",
       "      <td>Red Lips: Gta (Rover Rework)</td>\n",
       "      <td>Rover</td>\n",
       "      <td>electronic</td>\n",
       "      <td>Saint-Petersburg</td>\n",
       "      <td>21:06:50</td>\n",
       "      <td>Monday</td>\n",
       "    </tr>\n",
       "    <tr>\n",
       "      <th>61241</th>\n",
       "      <td>29E04611</td>\n",
       "      <td>Bre Petrunko</td>\n",
       "      <td>Perunika Trio</td>\n",
       "      <td>world</td>\n",
       "      <td>Saint-Petersburg</td>\n",
       "      <td>13:56:00</td>\n",
       "      <td>Monday</td>\n",
       "    </tr>\n",
       "    <tr>\n",
       "      <th>61242</th>\n",
       "      <td>1B91C621</td>\n",
       "      <td>(Hello) Cloud Mountain</td>\n",
       "      <td>sleepmakeswaves</td>\n",
       "      <td>postrock</td>\n",
       "      <td>Saint-Petersburg</td>\n",
       "      <td>09:22:13</td>\n",
       "      <td>Monday</td>\n",
       "    </tr>\n",
       "    <tr>\n",
       "      <th>61249</th>\n",
       "      <td>D08D4A55</td>\n",
       "      <td>Maybe One Day (feat. Black Spade)</td>\n",
       "      <td>Blu &amp; Exile</td>\n",
       "      <td>hiphop</td>\n",
       "      <td>Saint-Petersburg</td>\n",
       "      <td>10:00:00</td>\n",
       "      <td>Monday</td>\n",
       "    </tr>\n",
       "  </tbody>\n",
       "</table>\n",
       "<p>18512 rows × 7 columns</p>\n",
       "</div>"
      ],
      "text/plain": [
       "        user_id                              track              artist  \\\n",
       "0      FFB692EC                  Kamigata To Boots    The Mass Missile   \n",
       "2        20EC38                  Funiculì funiculà         Mario Lanza   \n",
       "3      A3DD03C9              Dragons in the Sunset          Fire + Ice   \n",
       "5      842029A1                          Преданная           IMPERVTOR   \n",
       "9      E772D5C0                          Pessimist             unknown   \n",
       "...         ...                                ...                 ...   \n",
       "61239  D94F810B        Theme from the Walking Dead  Proyecto Halloween   \n",
       "61240  BC8EC5CF       Red Lips: Gta (Rover Rework)               Rover   \n",
       "61241  29E04611                       Bre Petrunko       Perunika Trio   \n",
       "61242  1B91C621             (Hello) Cloud Mountain     sleepmakeswaves   \n",
       "61249  D08D4A55  Maybe One Day (feat. Black Spade)         Blu & Exile   \n",
       "\n",
       "            genre              city      time        day  \n",
       "0            rock  Saint-Petersburg  20:28:33  Wednesday  \n",
       "2             pop  Saint-Petersburg  20:58:07  Wednesday  \n",
       "3            folk  Saint-Petersburg  08:37:09     Monday  \n",
       "5          rusrap  Saint-Petersburg  13:09:41     Friday  \n",
       "9           dance  Saint-Petersburg  21:20:49  Wednesday  \n",
       "...           ...               ...       ...        ...  \n",
       "61239        film  Saint-Petersburg  21:14:40     Monday  \n",
       "61240  electronic  Saint-Petersburg  21:06:50     Monday  \n",
       "61241       world  Saint-Petersburg  13:56:00     Monday  \n",
       "61242    postrock  Saint-Petersburg  09:22:13     Monday  \n",
       "61249      hiphop  Saint-Petersburg  10:00:00     Monday  \n",
       "\n",
       "[18512 rows x 7 columns]"
      ]
     },
     "execution_count": 29,
     "metadata": {},
     "output_type": "execute_result"
    }
   ],
   "source": [
    "spb_general = df[df['city'] == 'Saint-Petersburg'] \n",
    "spb_general"
   ]
  },
  {
   "cell_type": "code",
   "execution_count": 30,
   "metadata": {
    "id": "laJT9BYl_Zcu"
   },
   "outputs": [],
   "source": [
    "# Объявление функции genre_weekday() с параметрами table, day, time1, time2,\n",
    "# которая возвращает информацию о самых популярных жанрах в указанный день в\n",
    "# заданное время:\n",
    "\n",
    "def genre_weekday(table, day, time1, time2):\n",
    "    \n",
    "    #фильтрация таблицы table по нужному дню недели (то есть по столбцу 'day')\n",
    "    genre_df = table[table ['day'] == day]\n",
    "    \n",
    "    #последовательная фильтрация таблицы table. Фильтрация с логической индексацией,\n",
    "    #по столбцу 'time', где значение временной метки больше нужной\n",
    "    genre_df = genre_df[genre_df ['time'] > time1]  \n",
    "    \n",
    "    #последовательная фильтрация таблицы genre_df. Фильтрация с логической индексацией,\n",
    "    #по столбцу 'time', где значение временной метки меньше нужной\n",
    "    genre_df = genre_df[genre_df ['time'] < time2]\n",
    "    \n",
    "    #задание переменной, в которой 1) происходит группировка данных в таблице genre_df по столбцу 'genre'\n",
    "    # 2) выводится только столбец 'track' и 'genre' 3) подсчитывается количество треков (track) \n",
    "    # для каждого из жанров ('genre')\n",
    "    genre_df_count_sorted = genre_df.groupby('genre') ['track'].count().sort_values(ascending=False)\n",
    "    \n",
    "    return genre_df_count_sorted.head(10)\n"
   ]
  },
  {
   "cell_type": "code",
   "execution_count": 31,
   "metadata": {
    "id": "yz7itPUQ_Zcu"
   },
   "outputs": [
    {
     "data": {
      "text/plain": [
       "genre\n",
       "pop            781\n",
       "dance          549\n",
       "electronic     480\n",
       "rock           474\n",
       "hiphop         286\n",
       "ruspop         186\n",
       "world          181\n",
       "rusrap         175\n",
       "alternative    164\n",
       "unknown        161\n",
       "Name: track, dtype: int64"
      ]
     },
     "execution_count": 31,
     "metadata": {},
     "output_type": "execute_result"
    }
   ],
   "source": [
    "# вызов функции для утра понедельника в Москве\n",
    "msc_morning = genre_weekday(moscow_general, 'Monday', '07:00', '11:00')\n",
    "msc_morning"
   ]
  },
  {
   "cell_type": "code",
   "execution_count": 32,
   "metadata": {
    "id": "kwUcHPdy_Zcu"
   },
   "outputs": [
    {
     "data": {
      "text/plain": [
       "genre\n",
       "pop            218\n",
       "dance          182\n",
       "rock           162\n",
       "electronic     147\n",
       "hiphop          80\n",
       "ruspop          64\n",
       "alternative     58\n",
       "rusrap          55\n",
       "jazz            44\n",
       "classical       40\n",
       "Name: track, dtype: int64"
      ]
     },
     "execution_count": 32,
     "metadata": {},
     "output_type": "execute_result"
    }
   ],
   "source": [
    "# вызов функции для утра понедельника в Петербурге \n",
    "spb_morning = genre_weekday(spb_general, 'Monday', '07:00', '11:00')\n",
    "spb_morning "
   ]
  },
  {
   "cell_type": "code",
   "execution_count": 33,
   "metadata": {
    "id": "EzXVRE1o_Zcu"
   },
   "outputs": [
    {
     "data": {
      "text/plain": [
       "genre\n",
       "pop            713\n",
       "rock           517\n",
       "dance          495\n",
       "electronic     482\n",
       "hiphop         273\n",
       "world          208\n",
       "ruspop         170\n",
       "alternative    163\n",
       "classical      163\n",
       "rusrap         142\n",
       "Name: track, dtype: int64"
      ]
     },
     "execution_count": 33,
     "metadata": {},
     "output_type": "execute_result"
    }
   ],
   "source": [
    "# вызов функции для вечера пятницы в Москве\n",
    "msk_evening = genre_weekday(moscow_general, 'Friday', '17:00', '23:00')\n",
    "msk_evening "
   ]
  },
  {
   "cell_type": "code",
   "execution_count": 34,
   "metadata": {
    "id": "JZaEKu5v_Zcu"
   },
   "outputs": [
    {
     "data": {
      "text/plain": [
       "genre\n",
       "pop            256\n",
       "electronic     216\n",
       "rock           216\n",
       "dance          210\n",
       "hiphop          97\n",
       "alternative     63\n",
       "jazz            61\n",
       "classical       60\n",
       "rusrap          59\n",
       "world           54\n",
       "Name: track, dtype: int64"
      ]
     },
     "execution_count": 34,
     "metadata": {},
     "output_type": "execute_result"
    }
   ],
   "source": [
    "# вызов функции для вечера пятницы в Петербурге\n",
    "spb_evening = genre_weekday(spb_general, 'Friday', '17:00', '23:00')\n",
    "spb_evening"
   ]
  },
  {
   "cell_type": "markdown",
   "metadata": {
    "id": "wrCe4MNX_Zcu"
   },
   "source": [
    "**Выводы**\n",
    "\n",
    "Если сравнить топ-10 жанров в понедельник утром, можно сделать такие выводы:\n",
    "\n",
    "1. В Москве и Петербурге слушают похожую музыку. Единственное отличие — в московский рейтинг вошёл жанр “world”, а в петербургский — джаз и классика.\n",
    "\n",
    "2. В Москве пропущенных значений оказалось так много, что значение `'unknown'` заняло десятое место среди самых популярных жанров. Значит, пропущенные значения занимают существенную долю в данных и угрожают достоверности исследования.\n",
    "\n",
    "Вечер пятницы не меняет эту картину. Некоторые жанры поднимаются немного выше, другие спускаются, но в целом топ-10 остаётся тем же самым.\n",
    "\n",
    "Таким образом, вторая гипотеза подтвердилась лишь частично:\n",
    "* Пользователи слушают похожую музыку в начале недели и в конце.\n",
    "* Разница между Москвой и Петербургом не слишком выражена. В Москве чаще слушают русскую популярную музыку, в Петербурге — джаз.\n",
    "\n",
    "Однако пропуски в данных ставят под сомнение этот результат. В Москве их так много, что рейтинг топ-10 мог бы выглядеть иначе, если бы не утерянные  данные о жанрах."
   ]
  },
  {
   "cell_type": "markdown",
   "metadata": {
    "id": "JolODAqr_Zcu"
   },
   "source": [
    "### Жанровые предпочтения в Москве и Петербурге\n",
    "\n",
    "Гипотеза: Петербург — столица рэпа, музыку этого жанра там слушают чаще, чем в Москве.  А Москва — город контрастов, в котором, тем не менее, преобладает поп-музыка."
   ]
  },
  {
   "cell_type": "code",
   "execution_count": 35,
   "metadata": {
    "id": "r19lIPke_Zcu"
   },
   "outputs": [],
   "source": [
    "moscow_genres = moscow_general.groupby('genre')['genre'].count().sort_values(ascending=False)"
   ]
  },
  {
   "cell_type": "code",
   "execution_count": 36,
   "metadata": {
    "id": "WhCSooF8_Zcv"
   },
   "outputs": [
    {
     "data": {
      "text/plain": [
       "genre\n",
       "pop            5892\n",
       "dance          4435\n",
       "rock           3965\n",
       "electronic     3786\n",
       "hiphop         2096\n",
       "classical      1616\n",
       "world          1432\n",
       "alternative    1379\n",
       "ruspop         1372\n",
       "rusrap         1161\n",
       "Name: genre, dtype: int64"
      ]
     },
     "execution_count": 36,
     "metadata": {},
     "output_type": "execute_result"
    }
   ],
   "source": [
    "moscow_genres.head(10) # просмотр первых 10 строк moscow_genres"
   ]
  },
  {
   "cell_type": "code",
   "execution_count": 37,
   "metadata": {
    "id": "gluLIpE7_Zcv"
   },
   "outputs": [],
   "source": [
    "spb_genres = spb_general.groupby('genre')['genre'].count().sort_values(ascending=False)"
   ]
  },
  {
   "cell_type": "code",
   "execution_count": 38,
   "metadata": {
    "id": "uaGJHjVU_Zcv"
   },
   "outputs": [
    {
     "data": {
      "text/plain": [
       "genre\n",
       "pop            2431\n",
       "dance          1932\n",
       "rock           1879\n",
       "electronic     1736\n",
       "hiphop          960\n",
       "alternative     649\n",
       "classical       646\n",
       "rusrap          564\n",
       "ruspop          538\n",
       "world           515\n",
       "Name: genre, dtype: int64"
      ]
     },
     "execution_count": 38,
     "metadata": {},
     "output_type": "execute_result"
    }
   ],
   "source": [
    "spb_genres.head(10) # просмотр первых 10 строк spb_genres"
   ]
  },
  {
   "cell_type": "markdown",
   "metadata": {
    "id": "RY51YJYu_Zcv"
   },
   "source": [
    "**Выводы**"
   ]
  },
  {
   "cell_type": "markdown",
   "metadata": {
    "id": "nVhnJEm__Zcv"
   },
   "source": [
    "Гипотеза частично подтвердилась:\n",
    "* Поп-музыка — самый популярный жанр в Москве, как и предполагала гипотеза. Более того, в топ-10 жанров встречается близкий жанр — русская популярная музыка.\n",
    "* Вопреки ожиданиям, рэп одинаково популярен в Москве и Петербурге. \n"
   ]
  },
  {
   "cell_type": "markdown",
   "metadata": {
    "id": "ykKQ0N65_Zcv"
   },
   "source": [
    "## Итоги исследования"
   ]
  },
  {
   "cell_type": "markdown",
   "metadata": {
    "id": "tjUwbHb3_Zcv"
   },
   "source": [
    "1. День недели по-разному влияет на активность пользователей в Москве и Петербурге. \n",
    "\n",
    "Первая гипотеза полностью подтвердилась.\n",
    "\n",
    "2. Музыкальные предпочтения не сильно меняются в течение недели — будь то Москва или Петербург. Небольшие различия заметны в начале недели, по понедельникам:\n",
    "* в Москве слушают музыку жанра “world”,\n",
    "* в Петербурге — джаз и классику.\n",
    "\n",
    "Таким образом, вторая гипотеза подтвердилась лишь отчасти. Этот результат мог оказаться иным, если бы не пропуски в данных.\n",
    "\n",
    "3. Во вкусах пользователей Москвы и Петербурга больше общего чем различий. Вопреки ожиданиям, предпочтения жанров в Петербурге напоминают московские.\n",
    "\n",
    "Третья гипотеза не подтвердилась. Если различия в предпочтениях и существуют, на основной массе пользователей они незаметны.\n",
    "\n"
   ]
  }
 ],
 "metadata": {
  "ExecuteTimeLog": [
   {
    "duration": 501,
    "start_time": "2022-01-30T19:25:01.160Z"
   },
   {
    "duration": 310,
    "start_time": "2022-01-30T19:29:06.649Z"
   },
   {
    "duration": 314,
    "start_time": "2022-01-30T19:29:26.539Z"
   },
   {
    "duration": 303,
    "start_time": "2022-01-30T19:32:21.852Z"
   },
   {
    "duration": 315,
    "start_time": "2022-01-30T19:32:24.912Z"
   },
   {
    "duration": 560,
    "start_time": "2022-01-30T19:32:57.919Z"
   },
   {
    "duration": 815,
    "start_time": "2022-01-30T19:33:08.564Z"
   },
   {
    "duration": 357,
    "start_time": "2022-01-30T19:33:15.998Z"
   },
   {
    "duration": 105,
    "start_time": "2022-01-30T19:33:27.269Z"
   },
   {
    "duration": 181,
    "start_time": "2022-01-30T19:36:52.732Z"
   },
   {
    "duration": 11,
    "start_time": "2022-01-30T19:36:55.042Z"
   },
   {
    "duration": 181,
    "start_time": "2022-01-30T19:37:05.710Z"
   },
   {
    "duration": 9,
    "start_time": "2022-01-30T19:37:08.562Z"
   },
   {
    "duration": 26,
    "start_time": "2022-01-30T19:38:02.525Z"
   },
   {
    "duration": 32,
    "start_time": "2022-01-30T19:38:55.262Z"
   },
   {
    "duration": 6,
    "start_time": "2022-01-30T19:46:30.026Z"
   },
   {
    "duration": 6,
    "start_time": "2022-01-30T19:46:36.586Z"
   },
   {
    "duration": 5,
    "start_time": "2022-01-30T19:46:40.392Z"
   },
   {
    "duration": 5,
    "start_time": "2022-01-30T19:50:17.494Z"
   },
   {
    "duration": 28,
    "start_time": "2022-01-30T19:50:28.898Z"
   },
   {
    "duration": 5,
    "start_time": "2022-01-30T19:50:48.240Z"
   },
   {
    "duration": 480,
    "start_time": "2022-01-31T18:34:37.416Z"
   },
   {
    "duration": 1940,
    "start_time": "2022-01-31T18:34:44.212Z"
   },
   {
    "duration": 384,
    "start_time": "2022-01-31T18:36:01.113Z"
   },
   {
    "duration": 329,
    "start_time": "2022-01-31T18:36:35.723Z"
   },
   {
    "duration": 878,
    "start_time": "2022-01-31T18:36:45.824Z"
   },
   {
    "duration": 184,
    "start_time": "2022-01-31T18:36:47.858Z"
   },
   {
    "duration": 28,
    "start_time": "2022-01-31T18:36:50.063Z"
   },
   {
    "duration": 33,
    "start_time": "2022-01-31T18:36:53.291Z"
   },
   {
    "duration": 4,
    "start_time": "2022-01-31T18:36:58.146Z"
   },
   {
    "duration": 42,
    "start_time": "2022-01-31T18:37:01.300Z"
   },
   {
    "duration": 5,
    "start_time": "2022-01-31T18:37:02.958Z"
   },
   {
    "duration": 29,
    "start_time": "2022-01-31T18:37:06.207Z"
   },
   {
    "duration": 181,
    "start_time": "2022-01-31T18:50:30.723Z"
   },
   {
    "duration": 71,
    "start_time": "2022-01-31T18:50:39.605Z"
   },
   {
    "duration": 106,
    "start_time": "2022-01-31T18:51:17.430Z"
   },
   {
    "duration": 28,
    "start_time": "2022-01-31T18:51:26.721Z"
   },
   {
    "duration": 73,
    "start_time": "2022-01-31T18:53:06.008Z"
   },
   {
    "duration": 442,
    "start_time": "2022-01-31T18:55:40.691Z"
   },
   {
    "duration": 320,
    "start_time": "2022-01-31T18:55:48.048Z"
   },
   {
    "duration": 48,
    "start_time": "2022-01-31T18:56:13.434Z"
   },
   {
    "duration": 39,
    "start_time": "2022-01-31T18:56:35.402Z"
   },
   {
    "duration": 8,
    "start_time": "2022-01-31T18:58:41.435Z"
   },
   {
    "duration": 8,
    "start_time": "2022-01-31T19:05:11.894Z"
   },
   {
    "duration": 55,
    "start_time": "2022-01-31T19:06:13.827Z"
   },
   {
    "duration": 347,
    "start_time": "2022-01-31T19:06:45.032Z"
   },
   {
    "duration": 381,
    "start_time": "2022-01-31T19:07:23.848Z"
   },
   {
    "duration": 330,
    "start_time": "2022-01-31T19:09:08.480Z"
   },
   {
    "duration": 369,
    "start_time": "2022-01-31T19:09:23.331Z"
   },
   {
    "duration": 9,
    "start_time": "2022-01-31T19:09:48.885Z"
   },
   {
    "duration": 315,
    "start_time": "2022-01-31T19:13:47.018Z"
   },
   {
    "duration": 50,
    "start_time": "2022-01-31T19:14:22.959Z"
   },
   {
    "duration": 53,
    "start_time": "2022-01-31T19:14:35.232Z"
   },
   {
    "duration": 59,
    "start_time": "2022-01-31T19:15:29.909Z"
   },
   {
    "duration": 67,
    "start_time": "2022-01-31T19:15:53.373Z"
   },
   {
    "duration": 65,
    "start_time": "2022-01-31T19:16:07.364Z"
   },
   {
    "duration": 69,
    "start_time": "2022-01-31T19:16:42.913Z"
   },
   {
    "duration": 56,
    "start_time": "2022-01-31T19:16:58.063Z"
   },
   {
    "duration": 78,
    "start_time": "2022-01-31T19:17:27.878Z"
   },
   {
    "duration": 332,
    "start_time": "2022-01-31T19:26:14.788Z"
   },
   {
    "duration": 27,
    "start_time": "2022-01-31T19:26:27.003Z"
   },
   {
    "duration": 22,
    "start_time": "2022-01-31T19:26:31.082Z"
   },
   {
    "duration": 4,
    "start_time": "2022-01-31T19:26:56.318Z"
   },
   {
    "duration": 20,
    "start_time": "2022-01-31T19:26:58.503Z"
   },
   {
    "duration": 51,
    "start_time": "2022-01-31T19:27:48.994Z"
   },
   {
    "duration": 364,
    "start_time": "2022-02-01T15:52:02.016Z"
   },
   {
    "duration": 955,
    "start_time": "2022-02-01T15:52:11.036Z"
   },
   {
    "duration": 252,
    "start_time": "2022-02-01T15:52:12.392Z"
   },
   {
    "duration": 36,
    "start_time": "2022-02-01T15:52:13.483Z"
   },
   {
    "duration": 33,
    "start_time": "2022-02-01T15:52:17.689Z"
   },
   {
    "duration": 5,
    "start_time": "2022-02-01T15:52:20.418Z"
   },
   {
    "duration": 4,
    "start_time": "2022-02-01T15:52:22.604Z"
   },
   {
    "duration": 28,
    "start_time": "2022-02-01T15:52:23.422Z"
   },
   {
    "duration": 5,
    "start_time": "2022-02-01T15:52:24.237Z"
   },
   {
    "duration": 46,
    "start_time": "2022-02-01T15:52:25.066Z"
   },
   {
    "duration": 153,
    "start_time": "2022-02-01T15:52:25.742Z"
   },
   {
    "duration": 16,
    "start_time": "2022-02-01T15:52:26.581Z"
   },
   {
    "duration": 43,
    "start_time": "2022-02-01T15:52:27.603Z"
   },
   {
    "duration": 47,
    "start_time": "2022-02-01T15:52:29.189Z"
   },
   {
    "duration": 38,
    "start_time": "2022-02-01T15:52:30.293Z"
   },
   {
    "duration": 51,
    "start_time": "2022-02-01T15:52:32.234Z"
   },
   {
    "duration": 4,
    "start_time": "2022-02-01T15:52:33.318Z"
   },
   {
    "duration": 22,
    "start_time": "2022-02-01T15:52:34.233Z"
   },
   {
    "duration": 59,
    "start_time": "2022-02-01T15:52:35.174Z"
   },
   {
    "duration": 362,
    "start_time": "2022-02-01T15:52:38.745Z"
   },
   {
    "duration": 348,
    "start_time": "2022-02-01T15:53:01.218Z"
   },
   {
    "duration": 5,
    "start_time": "2022-02-01T15:53:48.149Z"
   },
   {
    "duration": 11,
    "start_time": "2022-02-01T15:53:56.804Z"
   },
   {
    "duration": 4,
    "start_time": "2022-02-01T15:54:02.544Z"
   },
   {
    "duration": 11,
    "start_time": "2022-02-01T15:54:07.023Z"
   },
   {
    "duration": 25,
    "start_time": "2022-02-01T15:54:16.486Z"
   },
   {
    "duration": 5,
    "start_time": "2022-02-01T15:54:26.722Z"
   },
   {
    "duration": 21,
    "start_time": "2022-02-01T15:54:41.253Z"
   },
   {
    "duration": 52,
    "start_time": "2022-02-01T15:54:53.048Z"
   },
   {
    "duration": 7,
    "start_time": "2022-02-01T15:54:57.934Z"
   },
   {
    "duration": 19,
    "start_time": "2022-02-01T15:55:01.443Z"
   },
   {
    "duration": 51,
    "start_time": "2022-02-01T15:55:04.651Z"
   },
   {
    "duration": 315,
    "start_time": "2022-02-01T15:55:09.153Z"
   },
   {
    "duration": 369,
    "start_time": "2022-02-01T15:59:36.127Z"
   },
   {
    "duration": 775,
    "start_time": "2022-02-01T16:00:03.262Z"
   },
   {
    "duration": 193,
    "start_time": "2022-02-01T16:00:06.137Z"
   },
   {
    "duration": 26,
    "start_time": "2022-02-01T16:00:08.325Z"
   },
   {
    "duration": 34,
    "start_time": "2022-02-01T16:00:10.769Z"
   },
   {
    "duration": 4,
    "start_time": "2022-02-01T16:00:24.535Z"
   },
   {
    "duration": 31,
    "start_time": "2022-02-01T16:00:30.809Z"
   },
   {
    "duration": 5,
    "start_time": "2022-02-01T16:00:33.225Z"
   },
   {
    "duration": 29,
    "start_time": "2022-02-01T16:00:35.380Z"
   },
   {
    "duration": 177,
    "start_time": "2022-02-01T16:00:39.202Z"
   },
   {
    "duration": 18,
    "start_time": "2022-02-01T16:00:45.418Z"
   },
   {
    "duration": 63,
    "start_time": "2022-02-01T16:00:48.384Z"
   },
   {
    "duration": 64,
    "start_time": "2022-02-01T16:00:51.843Z"
   },
   {
    "duration": 52,
    "start_time": "2022-02-01T16:00:53.941Z"
   },
   {
    "duration": 60,
    "start_time": "2022-02-01T16:00:57.062Z"
   },
   {
    "duration": 5,
    "start_time": "2022-02-01T16:01:00.846Z"
   },
   {
    "duration": 22,
    "start_time": "2022-02-01T16:01:03.549Z"
   },
   {
    "duration": 71,
    "start_time": "2022-02-01T16:01:05.957Z"
   },
   {
    "duration": 445,
    "start_time": "2022-02-01T16:01:10.860Z"
   },
   {
    "duration": 15,
    "start_time": "2022-02-01T16:01:34.989Z"
   },
   {
    "duration": 501,
    "start_time": "2022-02-01T16:03:21.957Z"
   },
   {
    "duration": 301,
    "start_time": "2022-02-01T16:10:19.161Z"
   },
   {
    "duration": 30,
    "start_time": "2022-02-01T16:10:24.240Z"
   },
   {
    "duration": 15,
    "start_time": "2022-02-01T16:12:52.146Z"
   },
   {
    "duration": 704,
    "start_time": "2022-02-01T16:13:06.520Z"
   },
   {
    "duration": 189,
    "start_time": "2022-02-01T16:13:07.510Z"
   },
   {
    "duration": 29,
    "start_time": "2022-02-01T16:13:08.635Z"
   },
   {
    "duration": 50,
    "start_time": "2022-02-01T16:13:10.319Z"
   },
   {
    "duration": 5,
    "start_time": "2022-02-01T16:13:12.036Z"
   },
   {
    "duration": 33,
    "start_time": "2022-02-01T16:13:12.685Z"
   },
   {
    "duration": 4,
    "start_time": "2022-02-01T16:13:13.904Z"
   },
   {
    "duration": 27,
    "start_time": "2022-02-01T16:13:17.055Z"
   },
   {
    "duration": 37,
    "start_time": "2022-02-01T16:13:34.541Z"
   },
   {
    "duration": 46,
    "start_time": "2022-02-01T16:14:31.901Z"
   },
   {
    "duration": 98,
    "start_time": "2022-02-01T16:14:34.594Z"
   },
   {
    "duration": 137,
    "start_time": "2022-02-01T16:14:40.082Z"
   },
   {
    "duration": 103,
    "start_time": "2022-02-01T16:14:40.499Z"
   },
   {
    "duration": 60,
    "start_time": "2022-02-01T16:14:43.696Z"
   },
   {
    "duration": 4,
    "start_time": "2022-02-01T16:14:47.893Z"
   },
   {
    "duration": 23,
    "start_time": "2022-02-01T16:14:51.375Z"
   },
   {
    "duration": 61,
    "start_time": "2022-02-01T16:14:53.704Z"
   },
   {
    "duration": 43,
    "start_time": "2022-02-01T16:15:07.374Z"
   },
   {
    "duration": 58,
    "start_time": "2022-02-01T16:16:52.539Z"
   },
   {
    "duration": 43,
    "start_time": "2022-02-01T16:17:04.496Z"
   },
   {
    "duration": 6,
    "start_time": "2022-02-01T16:22:39.818Z"
   },
   {
    "duration": 720,
    "start_time": "2022-02-01T16:22:43.914Z"
   },
   {
    "duration": 510,
    "start_time": "2022-02-01T16:22:57.890Z"
   },
   {
    "duration": 644,
    "start_time": "2022-02-01T16:24:01.577Z"
   },
   {
    "duration": 111,
    "start_time": "2022-02-01T16:27:38.781Z"
   },
   {
    "duration": 104,
    "start_time": "2022-02-01T16:28:36.558Z"
   },
   {
    "duration": 95,
    "start_time": "2022-02-01T16:30:51.569Z"
   },
   {
    "duration": 23,
    "start_time": "2022-02-01T16:32:54.381Z"
   },
   {
    "duration": 25,
    "start_time": "2022-02-01T16:33:15.995Z"
   },
   {
    "duration": 5,
    "start_time": "2022-02-01T16:34:16.782Z"
   },
   {
    "duration": 4,
    "start_time": "2022-02-01T16:35:21.725Z"
   },
   {
    "duration": 30,
    "start_time": "2022-02-01T16:35:26.973Z"
   },
   {
    "duration": 22,
    "start_time": "2022-02-01T16:35:49.629Z"
   },
   {
    "duration": 25,
    "start_time": "2022-02-01T16:36:36.064Z"
   },
   {
    "duration": 24,
    "start_time": "2022-02-01T16:36:41.029Z"
   },
   {
    "duration": 22,
    "start_time": "2022-02-01T16:39:19.299Z"
   },
   {
    "duration": 20,
    "start_time": "2022-02-01T16:42:19.915Z"
   },
   {
    "duration": 18,
    "start_time": "2022-02-01T16:42:46.192Z"
   },
   {
    "duration": 22,
    "start_time": "2022-02-01T16:43:25.198Z"
   },
   {
    "duration": 19,
    "start_time": "2022-02-01T16:43:52.663Z"
   },
   {
    "duration": 356,
    "start_time": "2022-02-01T16:46:07.787Z"
   },
   {
    "duration": 323,
    "start_time": "2022-02-01T16:50:54.798Z"
   },
   {
    "duration": 396,
    "start_time": "2022-02-01T16:54:30.586Z"
   },
   {
    "duration": 9,
    "start_time": "2022-02-01T16:59:10.289Z"
   },
   {
    "duration": 9,
    "start_time": "2022-02-01T17:03:32.555Z"
   },
   {
    "duration": 22,
    "start_time": "2022-02-01T17:09:05.389Z"
   },
   {
    "duration": 33,
    "start_time": "2022-02-01T17:09:11.561Z"
   },
   {
    "duration": 27,
    "start_time": "2022-02-01T17:11:09.466Z"
   },
   {
    "duration": 102,
    "start_time": "2022-02-01T17:12:10.384Z"
   },
   {
    "duration": 6,
    "start_time": "2022-02-01T17:17:55.230Z"
   },
   {
    "duration": 6,
    "start_time": "2022-02-01T17:22:51.234Z"
   },
   {
    "duration": 29,
    "start_time": "2022-02-01T17:24:22.145Z"
   },
   {
    "duration": 18,
    "start_time": "2022-02-01T17:30:12.819Z"
   },
   {
    "duration": 22,
    "start_time": "2022-02-01T17:30:43.751Z"
   },
   {
    "duration": 16,
    "start_time": "2022-02-01T17:31:10.164Z"
   },
   {
    "duration": 344,
    "start_time": "2022-02-01T17:42:35.610Z"
   },
   {
    "duration": 369,
    "start_time": "2022-02-01T17:43:05.325Z"
   },
   {
    "duration": 35,
    "start_time": "2022-02-01T17:43:32.461Z"
   },
   {
    "duration": 35,
    "start_time": "2022-02-01T17:43:56.098Z"
   },
   {
    "duration": 32,
    "start_time": "2022-02-01T17:45:28.748Z"
   },
   {
    "duration": 10,
    "start_time": "2022-02-01T17:45:32.894Z"
   },
   {
    "duration": 355,
    "start_time": "2022-02-01T17:45:47.414Z"
   },
   {
    "duration": 32,
    "start_time": "2022-02-01T17:45:53.651Z"
   },
   {
    "duration": 11,
    "start_time": "2022-02-01T17:47:57.912Z"
   },
   {
    "duration": 5,
    "start_time": "2022-02-01T17:48:00.024Z"
   },
   {
    "duration": 9,
    "start_time": "2022-02-01T17:50:43.653Z"
   },
   {
    "duration": 6,
    "start_time": "2022-02-01T17:50:47.550Z"
   },
   {
    "duration": 337,
    "start_time": "2022-02-01T17:51:02.037Z"
   },
   {
    "duration": 318,
    "start_time": "2022-02-01T17:51:08.757Z"
   },
   {
    "duration": 11,
    "start_time": "2022-02-01T17:51:14.621Z"
   },
   {
    "duration": 6,
    "start_time": "2022-02-01T17:51:19.544Z"
   },
   {
    "duration": 25,
    "start_time": "2022-02-01T18:00:54.846Z"
   },
   {
    "duration": 17,
    "start_time": "2022-02-01T18:01:09.840Z"
   },
   {
    "duration": 24,
    "start_time": "2022-02-01T18:01:22.790Z"
   },
   {
    "duration": 23,
    "start_time": "2022-02-01T18:01:33.930Z"
   },
   {
    "duration": 630,
    "start_time": "2022-02-01T19:20:48.328Z"
   },
   {
    "duration": 144,
    "start_time": "2022-02-01T19:20:48.960Z"
   },
   {
    "duration": 19,
    "start_time": "2022-02-01T19:20:49.106Z"
   },
   {
    "duration": 31,
    "start_time": "2022-02-01T19:20:49.128Z"
   },
   {
    "duration": 4,
    "start_time": "2022-02-01T19:20:49.161Z"
   },
   {
    "duration": 59,
    "start_time": "2022-02-01T19:20:49.167Z"
   },
   {
    "duration": 4,
    "start_time": "2022-02-01T19:20:49.228Z"
   },
   {
    "duration": 32,
    "start_time": "2022-02-01T19:20:49.236Z"
   },
   {
    "duration": 43,
    "start_time": "2022-02-01T19:20:49.271Z"
   },
   {
    "duration": 28,
    "start_time": "2022-02-01T19:20:49.316Z"
   },
   {
    "duration": 80,
    "start_time": "2022-02-01T19:20:49.346Z"
   },
   {
    "duration": 88,
    "start_time": "2022-02-01T19:20:49.427Z"
   },
   {
    "duration": 61,
    "start_time": "2022-02-01T19:20:49.517Z"
   },
   {
    "duration": 63,
    "start_time": "2022-02-01T19:20:49.580Z"
   },
   {
    "duration": 3,
    "start_time": "2022-02-01T19:20:49.646Z"
   },
   {
    "duration": 20,
    "start_time": "2022-02-01T19:20:49.651Z"
   },
   {
    "duration": 65,
    "start_time": "2022-02-01T19:20:49.673Z"
   },
   {
    "duration": 36,
    "start_time": "2022-02-01T19:20:49.740Z"
   },
   {
    "duration": 63,
    "start_time": "2022-02-01T19:20:49.778Z"
   },
   {
    "duration": 4,
    "start_time": "2022-02-01T19:20:49.844Z"
   },
   {
    "duration": 21,
    "start_time": "2022-02-01T19:20:49.850Z"
   },
   {
    "duration": 14,
    "start_time": "2022-02-01T19:20:49.873Z"
   },
   {
    "duration": 16,
    "start_time": "2022-02-01T19:20:49.915Z"
   },
   {
    "duration": 16,
    "start_time": "2022-02-01T19:20:49.934Z"
   },
   {
    "duration": 19,
    "start_time": "2022-02-01T19:20:49.952Z"
   },
   {
    "duration": 48,
    "start_time": "2022-02-01T19:20:49.972Z"
   },
   {
    "duration": 7,
    "start_time": "2022-02-01T19:20:50.022Z"
   },
   {
    "duration": 25,
    "start_time": "2022-02-01T19:20:50.031Z"
   },
   {
    "duration": 18,
    "start_time": "2022-02-01T19:20:50.058Z"
   },
   {
    "duration": 36,
    "start_time": "2022-02-01T19:20:50.078Z"
   },
   {
    "duration": 25,
    "start_time": "2022-02-01T19:20:50.116Z"
   },
   {
    "duration": 13,
    "start_time": "2022-02-01T19:20:50.143Z"
   },
   {
    "duration": 17,
    "start_time": "2022-02-01T19:20:50.158Z"
   },
   {
    "duration": 39,
    "start_time": "2022-02-01T19:20:50.176Z"
   },
   {
    "duration": 10,
    "start_time": "2022-02-01T19:20:50.218Z"
   },
   {
    "duration": 5,
    "start_time": "2022-02-01T19:20:50.230Z"
   },
   {
    "duration": 8,
    "start_time": "2022-02-01T19:20:50.236Z"
   },
   {
    "duration": 4,
    "start_time": "2022-02-01T19:20:50.246Z"
   },
   {
    "duration": 43,
    "start_time": "2022-02-01T20:20:57.610Z"
   },
   {
    "duration": 881,
    "start_time": "2022-02-02T17:20:15.623Z"
   },
   {
    "duration": 596,
    "start_time": "2022-02-02T17:20:34.342Z"
   },
   {
    "duration": 117,
    "start_time": "2022-02-02T17:20:37.910Z"
   },
   {
    "duration": 22,
    "start_time": "2022-02-02T17:20:39.954Z"
   },
   {
    "duration": 23,
    "start_time": "2022-02-02T17:24:32.218Z"
   },
   {
    "duration": 4,
    "start_time": "2022-02-02T17:25:32.205Z"
   },
   {
    "duration": 18,
    "start_time": "2022-02-02T17:26:31.078Z"
   },
   {
    "duration": 4,
    "start_time": "2022-02-02T17:26:52.746Z"
   },
   {
    "duration": 21,
    "start_time": "2022-02-02T17:29:59.462Z"
   },
   {
    "duration": 22,
    "start_time": "2022-02-02T17:30:45.474Z"
   },
   {
    "duration": 20,
    "start_time": "2022-02-02T17:31:58.761Z"
   },
   {
    "duration": 53,
    "start_time": "2022-02-02T17:32:12.984Z"
   },
   {
    "duration": 55,
    "start_time": "2022-02-02T17:41:16.959Z"
   },
   {
    "duration": 44,
    "start_time": "2022-02-02T17:41:19.181Z"
   },
   {
    "duration": 45,
    "start_time": "2022-02-02T17:41:24.176Z"
   },
   {
    "duration": 34,
    "start_time": "2022-02-02T17:42:03.604Z"
   },
   {
    "duration": 36,
    "start_time": "2022-02-02T17:42:26.790Z"
   },
   {
    "duration": 41,
    "start_time": "2022-02-02T17:42:33.790Z"
   },
   {
    "duration": 393,
    "start_time": "2022-02-02T17:43:58.904Z"
   },
   {
    "duration": 35,
    "start_time": "2022-02-02T17:44:12.868Z"
   },
   {
    "duration": 3,
    "start_time": "2022-02-02T17:46:03.944Z"
   },
   {
    "duration": 13,
    "start_time": "2022-02-02T17:46:08.419Z"
   },
   {
    "duration": 35,
    "start_time": "2022-02-02T17:46:40.285Z"
   },
   {
    "duration": 37,
    "start_time": "2022-02-02T17:47:30.707Z"
   },
   {
    "duration": 11,
    "start_time": "2022-02-02T17:53:36.161Z"
   },
   {
    "duration": 10,
    "start_time": "2022-02-02T17:57:10.523Z"
   },
   {
    "duration": 3,
    "start_time": "2022-02-02T17:59:23.146Z"
   },
   {
    "duration": 14,
    "start_time": "2022-02-02T17:59:43.957Z"
   },
   {
    "duration": 15,
    "start_time": "2022-02-02T17:59:56.483Z"
   },
   {
    "duration": 13,
    "start_time": "2022-02-02T18:00:08.131Z"
   },
   {
    "duration": 13,
    "start_time": "2022-02-02T18:00:24.860Z"
   },
   {
    "duration": 13,
    "start_time": "2022-02-02T18:00:34.183Z"
   },
   {
    "duration": 14,
    "start_time": "2022-02-02T18:00:44.399Z"
   },
   {
    "duration": 14,
    "start_time": "2022-02-02T18:00:56.381Z"
   },
   {
    "duration": 9,
    "start_time": "2022-02-02T18:02:17.786Z"
   },
   {
    "duration": 18,
    "start_time": "2022-02-02T18:05:40.891Z"
   },
   {
    "duration": 18,
    "start_time": "2022-02-02T18:05:54.606Z"
   },
   {
    "duration": 3,
    "start_time": "2022-02-02T18:25:34.206Z"
   },
   {
    "duration": 607,
    "start_time": "2022-02-02T18:25:45.284Z"
   },
   {
    "duration": 619,
    "start_time": "2022-02-02T18:26:06.543Z"
   },
   {
    "duration": 3,
    "start_time": "2022-02-02T18:26:11.177Z"
   },
   {
    "duration": 17,
    "start_time": "2022-02-02T18:26:13.629Z"
   },
   {
    "duration": 11,
    "start_time": "2022-02-02T18:27:13.498Z"
   },
   {
    "duration": 15,
    "start_time": "2022-02-02T18:27:16.488Z"
   },
   {
    "duration": 11,
    "start_time": "2022-02-02T18:27:18.965Z"
   },
   {
    "duration": 16,
    "start_time": "2022-02-02T18:27:29.613Z"
   },
   {
    "duration": 15,
    "start_time": "2022-02-02T18:28:02.746Z"
   },
   {
    "duration": 13,
    "start_time": "2022-02-02T18:28:16.961Z"
   },
   {
    "duration": 278,
    "start_time": "2022-02-02T18:28:55.193Z"
   },
   {
    "duration": 7,
    "start_time": "2022-02-02T18:28:58.900Z"
   },
   {
    "duration": 5,
    "start_time": "2022-02-02T18:29:01.671Z"
   },
   {
    "duration": 5,
    "start_time": "2022-02-02T18:29:21.665Z"
   },
   {
    "duration": 4,
    "start_time": "2022-02-02T18:29:28.473Z"
   },
   {
    "duration": 800,
    "start_time": "2022-02-02T19:17:29.323Z"
   },
   {
    "duration": 193,
    "start_time": "2022-02-02T19:17:30.126Z"
   },
   {
    "duration": 29,
    "start_time": "2022-02-02T19:17:30.323Z"
   },
   {
    "duration": 33,
    "start_time": "2022-02-02T19:17:30.355Z"
   },
   {
    "duration": 36,
    "start_time": "2022-02-02T19:17:30.390Z"
   },
   {
    "duration": 31,
    "start_time": "2022-02-02T19:17:30.428Z"
   },
   {
    "duration": 6,
    "start_time": "2022-02-02T19:17:30.462Z"
   },
   {
    "duration": 56,
    "start_time": "2022-02-02T19:17:30.470Z"
   },
   {
    "duration": 50,
    "start_time": "2022-02-02T19:17:30.530Z"
   },
   {
    "duration": 30,
    "start_time": "2022-02-02T19:17:30.583Z"
   },
   {
    "duration": 104,
    "start_time": "2022-02-02T19:17:30.624Z"
   },
   {
    "duration": 110,
    "start_time": "2022-02-02T19:17:30.730Z"
   },
   {
    "duration": 83,
    "start_time": "2022-02-02T19:17:30.842Z"
   },
   {
    "duration": 57,
    "start_time": "2022-02-02T19:17:30.927Z"
   },
   {
    "duration": 4,
    "start_time": "2022-02-02T19:17:30.987Z"
   },
   {
    "duration": 46,
    "start_time": "2022-02-02T19:17:30.994Z"
   },
   {
    "duration": 58,
    "start_time": "2022-02-02T19:17:31.042Z"
   },
   {
    "duration": 17,
    "start_time": "2022-02-02T19:17:31.123Z"
   },
   {
    "duration": 15,
    "start_time": "2022-02-02T19:17:31.142Z"
   },
   {
    "duration": 4,
    "start_time": "2022-02-02T19:17:31.160Z"
   },
   {
    "duration": 58,
    "start_time": "2022-02-02T19:17:31.167Z"
   },
   {
    "duration": 22,
    "start_time": "2022-02-02T19:17:31.228Z"
   },
   {
    "duration": 22,
    "start_time": "2022-02-02T19:17:31.252Z"
   },
   {
    "duration": 57,
    "start_time": "2022-02-02T19:17:31.277Z"
   },
   {
    "duration": 24,
    "start_time": "2022-02-02T19:17:31.337Z"
   },
   {
    "duration": 59,
    "start_time": "2022-02-02T19:17:31.364Z"
   },
   {
    "duration": 12,
    "start_time": "2022-02-02T19:17:31.428Z"
   },
   {
    "duration": 37,
    "start_time": "2022-02-02T19:17:31.444Z"
   },
   {
    "duration": 50,
    "start_time": "2022-02-02T19:17:31.484Z"
   },
   {
    "duration": 5,
    "start_time": "2022-02-02T19:17:31.537Z"
   },
   {
    "duration": 31,
    "start_time": "2022-02-02T19:17:31.544Z"
   },
   {
    "duration": 16,
    "start_time": "2022-02-02T19:17:31.577Z"
   },
   {
    "duration": 46,
    "start_time": "2022-02-02T19:17:31.596Z"
   },
   {
    "duration": 16,
    "start_time": "2022-02-02T19:17:31.645Z"
   },
   {
    "duration": 9,
    "start_time": "2022-02-02T19:17:31.663Z"
   },
   {
    "duration": 7,
    "start_time": "2022-02-02T19:17:31.674Z"
   },
   {
    "duration": 42,
    "start_time": "2022-02-02T19:17:31.683Z"
   },
   {
    "duration": 6,
    "start_time": "2022-02-02T19:17:31.728Z"
   }
  ],
  "colab": {
   "collapsed_sections": [
    "E0vqbgi9ay0H",
    "VUC88oWjTJw2"
   ],
   "name": "yandex_music_project_2021.2.ipynb",
   "provenance": []
  },
  "kernelspec": {
   "display_name": "Python 3 (ipykernel)",
   "language": "python",
   "name": "python3"
  },
  "language_info": {
   "codemirror_mode": {
    "name": "ipython",
    "version": 3
   },
   "file_extension": ".py",
   "mimetype": "text/x-python",
   "name": "python",
   "nbconvert_exporter": "python",
   "pygments_lexer": "ipython3",
   "version": "3.9.7"
  },
  "toc": {
   "base_numbering": 1,
   "nav_menu": {},
   "number_sections": true,
   "sideBar": true,
   "skip_h1_title": true,
   "title_cell": "Table of Contents",
   "title_sidebar": "Contents",
   "toc_cell": false,
   "toc_position": {},
   "toc_section_display": true,
   "toc_window_display": true
  }
 },
 "nbformat": 4,
 "nbformat_minor": 1
}
