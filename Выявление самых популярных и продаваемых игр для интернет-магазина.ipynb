{
 "cells": [
  {
   "cell_type": "markdown",
   "id": "0ae6bc40",
   "metadata": {},
   "source": [
    "<h1>Содержание<span class=\"tocSkip\"></span></h1>"
   ]
  },
  {
   "cell_type": "markdown",
   "id": "3be9c2f5",
   "metadata": {},
   "source": [
    "# Выявление самых популярных и продаваемых игр для интернет-магазина \"Стримчик\""
   ]
  },
  {
   "cell_type": "markdown",
   "id": "72c92c3a",
   "metadata": {},
   "source": [
    "Есть данные по играм интернет-магазина \"Стримчик\" за 2016 год.  <br>\n",
    "Об играх известна следующая информация: названия игр, платформа, год выпуска, жанр игры, продажи в Северной Америке, продажи в в Европе, продажи в Японии, продажи в других странах, оценки критиков, оценки пользователей, рейтинг в организации ESRB."
   ]
  },
  {
   "cell_type": "markdown",
   "id": "c5826c7b",
   "metadata": {},
   "source": [
    "### Описание данных"
   ]
  },
  {
   "cell_type": "markdown",
   "id": "047dc005",
   "metadata": {},
   "source": [
    "- Name — название игры <br>\n",
    "- Platform — платформа <br>\n",
    "- Year_of_Release — год выпуска<br>\n",
    "- Genre — жанр игры<br>\n",
    "- NA_sales — продажи в Северной Америке (миллионы проданных копий)<br>\n",
    "- EU_sales — продажи в Европе (миллионы проданных копий)<br>\n",
    "- JP_sales — продажи в Японии (миллионы проданных копий)<br>\n",
    "- Other_sales — продажи в других странах (миллионы проданных копий)<br>\n",
    "- Critic_Score — оценка критиков (максимум 100)<br>\n",
    "- User_Score — оценка пользователей (максимум 10)<br>\n",
    "- Rating — рейтинг от организации ESRB (англ. Entertainment Software Rating Board). Эта ассоциация определяет рейтинг компьютерных игр и присваивает им подходящую возрастную категорию."
   ]
  },
  {
   "cell_type": "markdown",
   "id": "94d86fcf",
   "metadata": {},
   "source": [
    "### Цель исследования"
   ]
  },
  {
   "cell_type": "markdown",
   "id": "8d0d686f",
   "metadata": {},
   "source": [
    "Выявить закономерности, которые приводят к успешности (=большей продаваемости) игр."
   ]
  },
  {
   "cell_type": "markdown",
   "id": "8dc858dc",
   "metadata": {},
   "source": [
    "### Ход исследования"
   ]
  },
  {
   "cell_type": "markdown",
   "id": "9edca880",
   "metadata": {},
   "source": [
    "Данные об играх представлены в файле `games.csv`. О качестве данных ничего не известно. К этому файлу есть документация.\n",
    "<ol>\n",
    "<li> Обзор данных</li> \n",
    "    <li> Подготовка данных: замена типов данных, переименование столбцов, удаление пропусков, подсчёт суммарных продаж игр по всем платформам во всех регионах </li>\n",
    "    <li> Исследовательский анализ данных: <br>\n",
    "    - как менялись продажи игр по платформам с годами<br>\n",
    "    - выбор  платформ с наибольшими суммарными продажами и визуализация продаж по годам<br>\n",
    "    - выбор платформ с продажами за 2013-2016 годы и анализ объема продаж игр на этих платформах<br>\n",
    "        - выбор прибыльных платформ и анализ их продаж<br>\n",
    "        - подсчёт и визуализация корреляции между продажами игр на платформы и отзывами критиков и пользователей<br>\n",
    "        - нахождение самых продаваемых жанров игр </li>\n",
    "                <li> Нахождение самых популярных платформ, жанров и игр с рейтингов ESRB для Европы, Японии и Северной Америки</li>\n",
    "    <li> Проверка гипотез о равенстве средних пользовательских рейтингах платформ Xbox One и PC; о равенстве средних пользовательских рейтингов жанров Action  и Sports "
   ]
  },
  {
   "cell_type": "markdown",
   "id": "eb11f0b8",
   "metadata": {},
   "source": [
    "## Изучение файлов данных"
   ]
  },
  {
   "cell_type": "code",
   "execution_count": 1,
   "id": "d47607a2",
   "metadata": {},
   "outputs": [],
   "source": [
    "import pandas as pd #import pandas\n",
    "import seaborn as sns #import seaborn\n",
    "import matplotlib.pyplot as plt #import matplotlib\n",
    "from scipy import stats as st #import stats\n",
    "import numpy as np\n",
    "\n",
    "from io import BytesIO\n",
    "import requests"
   ]
  },
  {
   "cell_type": "code",
   "execution_count": 2,
   "id": "c120c7e6",
   "metadata": {},
   "outputs": [],
   "source": [
    "import warnings\n",
    "warnings.simplefilter(\"ignore\")"
   ]
  },
  {
   "cell_type": "markdown",
   "id": "6e93ff65",
   "metadata": {},
   "source": [
    "Откроем файл данных"
   ]
  },
  {
   "cell_type": "code",
   "execution_count": 3,
   "id": "1b4b0cbb",
   "metadata": {},
   "outputs": [],
   "source": [
    "def upload_data(link):\n",
    "    spreadsheet_id = link \n",
    "    file_name = 'https://docs.google.com/spreadsheets/d/{}/export?format=csv'.format(spreadsheet_id)\n",
    "    r = requests.get(file_name)\n",
    "    df = pd.read_csv(BytesIO(r.content))\n",
    "    return df"
   ]
  },
  {
   "cell_type": "code",
   "execution_count": 4,
   "id": "bd1752db",
   "metadata": {},
   "outputs": [
    {
     "data": {
      "text/html": [
       "<div>\n",
       "<style scoped>\n",
       "    .dataframe tbody tr th:only-of-type {\n",
       "        vertical-align: middle;\n",
       "    }\n",
       "\n",
       "    .dataframe tbody tr th {\n",
       "        vertical-align: top;\n",
       "    }\n",
       "\n",
       "    .dataframe thead th {\n",
       "        text-align: right;\n",
       "    }\n",
       "</style>\n",
       "<table border=\"1\" class=\"dataframe\">\n",
       "  <thead>\n",
       "    <tr style=\"text-align: right;\">\n",
       "      <th></th>\n",
       "      <th>Name</th>\n",
       "      <th>Platform</th>\n",
       "      <th>Year_of_Release</th>\n",
       "      <th>Genre</th>\n",
       "      <th>NA_sales</th>\n",
       "      <th>EU_sales</th>\n",
       "      <th>JP_sales</th>\n",
       "      <th>Other_sales</th>\n",
       "      <th>Critic_Score</th>\n",
       "      <th>User_Score</th>\n",
       "      <th>Rating</th>\n",
       "    </tr>\n",
       "  </thead>\n",
       "  <tbody>\n",
       "    <tr>\n",
       "      <th>0</th>\n",
       "      <td>Wii Sports</td>\n",
       "      <td>Wii</td>\n",
       "      <td>2006.0</td>\n",
       "      <td>Sports</td>\n",
       "      <td>41.36</td>\n",
       "      <td>28.96</td>\n",
       "      <td>3.77</td>\n",
       "      <td>8.45</td>\n",
       "      <td>76.0</td>\n",
       "      <td>8</td>\n",
       "      <td>E</td>\n",
       "    </tr>\n",
       "    <tr>\n",
       "      <th>1</th>\n",
       "      <td>Super Mario Bros.</td>\n",
       "      <td>NES</td>\n",
       "      <td>1985.0</td>\n",
       "      <td>Platform</td>\n",
       "      <td>29.08</td>\n",
       "      <td>3.58</td>\n",
       "      <td>6.81</td>\n",
       "      <td>0.77</td>\n",
       "      <td>NaN</td>\n",
       "      <td>NaN</td>\n",
       "      <td>NaN</td>\n",
       "    </tr>\n",
       "    <tr>\n",
       "      <th>2</th>\n",
       "      <td>Mario Kart Wii</td>\n",
       "      <td>Wii</td>\n",
       "      <td>2008.0</td>\n",
       "      <td>Racing</td>\n",
       "      <td>15.68</td>\n",
       "      <td>12.76</td>\n",
       "      <td>3.79</td>\n",
       "      <td>3.29</td>\n",
       "      <td>82.0</td>\n",
       "      <td>8.3</td>\n",
       "      <td>E</td>\n",
       "    </tr>\n",
       "    <tr>\n",
       "      <th>3</th>\n",
       "      <td>Wii Sports Resort</td>\n",
       "      <td>Wii</td>\n",
       "      <td>2009.0</td>\n",
       "      <td>Sports</td>\n",
       "      <td>15.61</td>\n",
       "      <td>10.93</td>\n",
       "      <td>3.28</td>\n",
       "      <td>2.95</td>\n",
       "      <td>80.0</td>\n",
       "      <td>8</td>\n",
       "      <td>E</td>\n",
       "    </tr>\n",
       "    <tr>\n",
       "      <th>4</th>\n",
       "      <td>Pokemon Red/Pokemon Blue</td>\n",
       "      <td>GB</td>\n",
       "      <td>1996.0</td>\n",
       "      <td>Role-Playing</td>\n",
       "      <td>11.27</td>\n",
       "      <td>8.89</td>\n",
       "      <td>10.22</td>\n",
       "      <td>1.00</td>\n",
       "      <td>NaN</td>\n",
       "      <td>NaN</td>\n",
       "      <td>NaN</td>\n",
       "    </tr>\n",
       "  </tbody>\n",
       "</table>\n",
       "</div>"
      ],
      "text/plain": [
       "                       Name Platform  Year_of_Release         Genre  NA_sales  \\\n",
       "0                Wii Sports      Wii           2006.0        Sports     41.36   \n",
       "1         Super Mario Bros.      NES           1985.0      Platform     29.08   \n",
       "2            Mario Kart Wii      Wii           2008.0        Racing     15.68   \n",
       "3         Wii Sports Resort      Wii           2009.0        Sports     15.61   \n",
       "4  Pokemon Red/Pokemon Blue       GB           1996.0  Role-Playing     11.27   \n",
       "\n",
       "   EU_sales  JP_sales  Other_sales  Critic_Score User_Score Rating  \n",
       "0     28.96      3.77         8.45          76.0          8      E  \n",
       "1      3.58      6.81         0.77           NaN        NaN    NaN  \n",
       "2     12.76      3.79         3.29          82.0        8.3      E  \n",
       "3     10.93      3.28         2.95          80.0          8      E  \n",
       "4      8.89     10.22         1.00           NaN        NaN    NaN  "
      ]
     },
     "execution_count": 4,
     "metadata": {},
     "output_type": "execute_result"
    }
   ],
   "source": [
    "games = upload_data('1XWLtM9P2NIEkWF9A2pWbjPUofNtc-E8SGvkF3MTYmAA')\n",
    "games.head()"
   ]
  },
  {
   "cell_type": "code",
   "execution_count": 5,
   "id": "167e0e65",
   "metadata": {},
   "outputs": [],
   "source": [
    "#review data info\n",
    "def data_info(df):\n",
    "    print(f'Размер таблицы {df.shape}')\n",
    "    \n",
    "    df.info()\n",
    "\n",
    "    print(f'Количество дубликатов {df.duplicated().sum()}')\n",
    "    \n",
    "    display(df.describe())"
   ]
  },
  {
   "cell_type": "code",
   "execution_count": 6,
   "id": "921d5903",
   "metadata": {},
   "outputs": [
    {
     "name": "stdout",
     "output_type": "stream",
     "text": [
      "Размер таблицы (16715, 11)\n",
      "<class 'pandas.core.frame.DataFrame'>\n",
      "RangeIndex: 16715 entries, 0 to 16714\n",
      "Data columns (total 11 columns):\n",
      " #   Column           Non-Null Count  Dtype  \n",
      "---  ------           --------------  -----  \n",
      " 0   Name             16713 non-null  object \n",
      " 1   Platform         16715 non-null  object \n",
      " 2   Year_of_Release  16446 non-null  float64\n",
      " 3   Genre            16713 non-null  object \n",
      " 4   NA_sales         16715 non-null  float64\n",
      " 5   EU_sales         16715 non-null  float64\n",
      " 6   JP_sales         16715 non-null  float64\n",
      " 7   Other_sales      16715 non-null  float64\n",
      " 8   Critic_Score     8137 non-null   float64\n",
      " 9   User_Score       10014 non-null  object \n",
      " 10  Rating           9949 non-null   object \n",
      "dtypes: float64(6), object(5)\n",
      "memory usage: 1.4+ MB\n",
      "Количество дубликатов 0\n"
     ]
    },
    {
     "data": {
      "text/html": [
       "<div>\n",
       "<style scoped>\n",
       "    .dataframe tbody tr th:only-of-type {\n",
       "        vertical-align: middle;\n",
       "    }\n",
       "\n",
       "    .dataframe tbody tr th {\n",
       "        vertical-align: top;\n",
       "    }\n",
       "\n",
       "    .dataframe thead th {\n",
       "        text-align: right;\n",
       "    }\n",
       "</style>\n",
       "<table border=\"1\" class=\"dataframe\">\n",
       "  <thead>\n",
       "    <tr style=\"text-align: right;\">\n",
       "      <th></th>\n",
       "      <th>Year_of_Release</th>\n",
       "      <th>NA_sales</th>\n",
       "      <th>EU_sales</th>\n",
       "      <th>JP_sales</th>\n",
       "      <th>Other_sales</th>\n",
       "      <th>Critic_Score</th>\n",
       "    </tr>\n",
       "  </thead>\n",
       "  <tbody>\n",
       "    <tr>\n",
       "      <th>count</th>\n",
       "      <td>16,446.00</td>\n",
       "      <td>16,715.00</td>\n",
       "      <td>16,715.00</td>\n",
       "      <td>16,715.00</td>\n",
       "      <td>16,715.00</td>\n",
       "      <td>8,137.00</td>\n",
       "    </tr>\n",
       "    <tr>\n",
       "      <th>mean</th>\n",
       "      <td>2,006.48</td>\n",
       "      <td>0.26</td>\n",
       "      <td>0.15</td>\n",
       "      <td>0.08</td>\n",
       "      <td>0.05</td>\n",
       "      <td>68.97</td>\n",
       "    </tr>\n",
       "    <tr>\n",
       "      <th>std</th>\n",
       "      <td>5.88</td>\n",
       "      <td>0.81</td>\n",
       "      <td>0.50</td>\n",
       "      <td>0.31</td>\n",
       "      <td>0.19</td>\n",
       "      <td>13.94</td>\n",
       "    </tr>\n",
       "    <tr>\n",
       "      <th>min</th>\n",
       "      <td>1,980.00</td>\n",
       "      <td>0.00</td>\n",
       "      <td>0.00</td>\n",
       "      <td>0.00</td>\n",
       "      <td>0.00</td>\n",
       "      <td>13.00</td>\n",
       "    </tr>\n",
       "    <tr>\n",
       "      <th>25%</th>\n",
       "      <td>2,003.00</td>\n",
       "      <td>0.00</td>\n",
       "      <td>0.00</td>\n",
       "      <td>0.00</td>\n",
       "      <td>0.00</td>\n",
       "      <td>60.00</td>\n",
       "    </tr>\n",
       "    <tr>\n",
       "      <th>50%</th>\n",
       "      <td>2,007.00</td>\n",
       "      <td>0.08</td>\n",
       "      <td>0.02</td>\n",
       "      <td>0.00</td>\n",
       "      <td>0.01</td>\n",
       "      <td>71.00</td>\n",
       "    </tr>\n",
       "    <tr>\n",
       "      <th>75%</th>\n",
       "      <td>2,010.00</td>\n",
       "      <td>0.24</td>\n",
       "      <td>0.11</td>\n",
       "      <td>0.04</td>\n",
       "      <td>0.03</td>\n",
       "      <td>79.00</td>\n",
       "    </tr>\n",
       "    <tr>\n",
       "      <th>max</th>\n",
       "      <td>2,016.00</td>\n",
       "      <td>41.36</td>\n",
       "      <td>28.96</td>\n",
       "      <td>10.22</td>\n",
       "      <td>10.57</td>\n",
       "      <td>98.00</td>\n",
       "    </tr>\n",
       "  </tbody>\n",
       "</table>\n",
       "</div>"
      ],
      "text/plain": [
       "       Year_of_Release  NA_sales  EU_sales  JP_sales  Other_sales  \\\n",
       "count        16,446.00 16,715.00 16,715.00 16,715.00    16,715.00   \n",
       "mean          2,006.48      0.26      0.15      0.08         0.05   \n",
       "std               5.88      0.81      0.50      0.31         0.19   \n",
       "min           1,980.00      0.00      0.00      0.00         0.00   \n",
       "25%           2,003.00      0.00      0.00      0.00         0.00   \n",
       "50%           2,007.00      0.08      0.02      0.00         0.01   \n",
       "75%           2,010.00      0.24      0.11      0.04         0.03   \n",
       "max           2,016.00     41.36     28.96     10.22        10.57   \n",
       "\n",
       "       Critic_Score  \n",
       "count      8,137.00  \n",
       "mean          68.97  \n",
       "std           13.94  \n",
       "min           13.00  \n",
       "25%           60.00  \n",
       "50%           71.00  \n",
       "75%           79.00  \n",
       "max           98.00  "
      ]
     },
     "metadata": {},
     "output_type": "display_data"
    }
   ],
   "source": [
    "pd.options.display.float_format = \"{:,.2f}\".format\n",
    "data_info(games)"
   ]
  },
  {
   "cell_type": "markdown",
   "id": "7f5825f9",
   "metadata": {},
   "source": [
    "* Из общей информации видно, что в данных есть пропущенные значения\n",
    "\n",
    "* В данных нет никаких аномальных и неправдоподобных значений. Всё в норме\n",
    "\n",
    "* Явных дубликатов нет\n"
   ]
  },
  {
   "cell_type": "markdown",
   "id": "c8702641",
   "metadata": {},
   "source": [
    "В столбцах:\n",
    "* Name \n",
    "* Year_of_Release \n",
    "* Genre \n",
    "* Critic_Score \n",
    "* User_Score \n",
    "* Rating <br>\n",
    "\n",
    "\n",
    "есть пропущенные значения"
   ]
  },
  {
   "cell_type": "markdown",
   "id": "ae738e5e",
   "metadata": {},
   "source": [
    "Проверим наличие неявных дубликатов. Мало ли в данных встречаются опечатки."
   ]
  },
  {
   "cell_type": "code",
   "execution_count": 7,
   "id": "fcc04865",
   "metadata": {},
   "outputs": [
    {
     "data": {
      "text/plain": [
       "array(['Wii', 'NES', 'GB', 'DS', 'X360', 'PS3', 'PS2', 'SNES', 'GBA',\n",
       "       'PS4', '3DS', 'N64', 'PS', 'XB', 'PC', '2600', 'PSP', 'XOne',\n",
       "       'WiiU', 'GC', 'GEN', 'DC', 'PSV', 'SAT', 'SCD', 'WS', 'NG', 'TG16',\n",
       "       '3DO', 'GG', 'PCFX'], dtype=object)"
      ]
     },
     "execution_count": 7,
     "metadata": {},
     "output_type": "execute_result"
    }
   ],
   "source": [
    "#finding unique names in column Platform\n",
    "games['Platform'].unique()"
   ]
  },
  {
   "cell_type": "code",
   "execution_count": 8,
   "id": "fe59f666",
   "metadata": {},
   "outputs": [
    {
     "data": {
      "text/plain": [
       "array(['Sports', 'Platform', 'Racing', 'Role-Playing', 'Puzzle', 'Misc',\n",
       "       'Shooter', 'Simulation', 'Action', 'Fighting', 'Adventure',\n",
       "       'Strategy', nan], dtype=object)"
      ]
     },
     "execution_count": 8,
     "metadata": {},
     "output_type": "execute_result"
    }
   ],
   "source": [
    "#finding unique names in column Genre\n",
    "games['Genre'].unique()"
   ]
  },
  {
   "cell_type": "markdown",
   "id": "3da93b52",
   "metadata": {},
   "source": [
    "В обоих столбцах нет неявных дубликатов. В столбце `Genre` есть строки с неопределенным жанром. В дальнейшем посмтрим, как это отразится на расчётах и нужно ли с этим что-то будет сделать."
   ]
  },
  {
   "cell_type": "code",
   "execution_count": 9,
   "id": "2f6dee6f",
   "metadata": {},
   "outputs": [
    {
     "data": {
      "text/plain": [
       "array(['E', nan, 'M', 'T', 'E10+', 'K-A', 'AO', 'EC', 'RP'], dtype=object)"
      ]
     },
     "execution_count": 9,
     "metadata": {},
     "output_type": "execute_result"
    }
   ],
   "source": [
    "#finding unique names in column Rating\n",
    "games['Rating'].unique()"
   ]
  },
  {
   "cell_type": "markdown",
   "id": "f242e1a9",
   "metadata": {},
   "source": [
    "\"K-A\" (\"Kids to Adults\") - в прошлом используемое название рейтинга \"E\" (\"Everyone\"). По сути то одно и то же, поэтому приведем все игры с рейтингом *K-A* к *E* для дальнейшего упрощения анализа."
   ]
  },
  {
   "cell_type": "markdown",
   "id": "92e3d3a0",
   "metadata": {},
   "source": [
    "### Вывод"
   ]
  },
  {
   "cell_type": "markdown",
   "id": "a85fdf51",
   "metadata": {},
   "source": [
    "* В датафрейме 16715 строк и 11 стролбцов <br>\n",
    "* В наименованиях столбцов ошибки <br>\n",
    "* Встречаются пропущенные значения <br>\n",
    "* Встречаются неявные дубликаты"
   ]
  },
  {
   "cell_type": "markdown",
   "id": "47c29c5f",
   "metadata": {},
   "source": [
    "## Подготовка данных"
   ]
  },
  {
   "cell_type": "markdown",
   "id": "612a1f44",
   "metadata": {},
   "source": [
    "### Замена названий столбцов"
   ]
  },
  {
   "cell_type": "markdown",
   "id": "edff3f95",
   "metadata": {},
   "source": [
    "Приведём названия столбцов в датафрейме в соответствие с хорошим стилем"
   ]
  },
  {
   "cell_type": "code",
   "execution_count": 10,
   "id": "6d00f34b",
   "metadata": {},
   "outputs": [],
   "source": [
    "#rename columns\n",
    "games = games.rename(columns=\n",
    "                     {'Name' : 'name', \n",
    "                      'Platform' : 'platform',\n",
    "                      'Year_of_Release' : 'year_of_release', \n",
    "                      'Genre' : 'genre', \n",
    "                      'Other_sales' : 'other_sales',\n",
    "                      'Critic_Score' : 'critic_score',\n",
    "                      'User_Score' : 'user_score',\n",
    "                      'Rating' : 'rating',\n",
    "                      'NA_sales' : 'na_sales',\n",
    "                      'EU_sales' : 'eu_sales',\n",
    "                      'JP_sales' : 'jp_sales'}) "
   ]
  },
  {
   "cell_type": "markdown",
   "id": "255334a7",
   "metadata": {},
   "source": [
    "### Приведение данных к нужным типам"
   ]
  },
  {
   "cell_type": "markdown",
   "id": "45b0ba1c",
   "metadata": {},
   "source": [
    "Для начала посмотрим, какие виды пропусков в столбце `year_of_release`"
   ]
  },
  {
   "cell_type": "code",
   "execution_count": 11,
   "id": "128f3c8f",
   "metadata": {},
   "outputs": [
    {
     "data": {
      "text/html": [
       "<div>\n",
       "<style scoped>\n",
       "    .dataframe tbody tr th:only-of-type {\n",
       "        vertical-align: middle;\n",
       "    }\n",
       "\n",
       "    .dataframe tbody tr th {\n",
       "        vertical-align: top;\n",
       "    }\n",
       "\n",
       "    .dataframe thead th {\n",
       "        text-align: right;\n",
       "    }\n",
       "</style>\n",
       "<table border=\"1\" class=\"dataframe\">\n",
       "  <thead>\n",
       "    <tr style=\"text-align: right;\">\n",
       "      <th></th>\n",
       "      <th>name</th>\n",
       "      <th>platform</th>\n",
       "      <th>year_of_release</th>\n",
       "      <th>genre</th>\n",
       "      <th>na_sales</th>\n",
       "      <th>eu_sales</th>\n",
       "      <th>jp_sales</th>\n",
       "      <th>other_sales</th>\n",
       "      <th>critic_score</th>\n",
       "      <th>user_score</th>\n",
       "      <th>rating</th>\n",
       "    </tr>\n",
       "  </thead>\n",
       "  <tbody>\n",
       "    <tr>\n",
       "      <th>183</th>\n",
       "      <td>Madden NFL 2004</td>\n",
       "      <td>PS2</td>\n",
       "      <td>NaN</td>\n",
       "      <td>Sports</td>\n",
       "      <td>4.26</td>\n",
       "      <td>0.26</td>\n",
       "      <td>0.01</td>\n",
       "      <td>0.71</td>\n",
       "      <td>94.00</td>\n",
       "      <td>8.5</td>\n",
       "      <td>E</td>\n",
       "    </tr>\n",
       "    <tr>\n",
       "      <th>377</th>\n",
       "      <td>FIFA Soccer 2004</td>\n",
       "      <td>PS2</td>\n",
       "      <td>NaN</td>\n",
       "      <td>Sports</td>\n",
       "      <td>0.59</td>\n",
       "      <td>2.36</td>\n",
       "      <td>0.04</td>\n",
       "      <td>0.51</td>\n",
       "      <td>84.00</td>\n",
       "      <td>6.4</td>\n",
       "      <td>E</td>\n",
       "    </tr>\n",
       "    <tr>\n",
       "      <th>456</th>\n",
       "      <td>LEGO Batman: The Videogame</td>\n",
       "      <td>Wii</td>\n",
       "      <td>NaN</td>\n",
       "      <td>Action</td>\n",
       "      <td>1.80</td>\n",
       "      <td>0.97</td>\n",
       "      <td>0.00</td>\n",
       "      <td>0.29</td>\n",
       "      <td>74.00</td>\n",
       "      <td>7.9</td>\n",
       "      <td>E10+</td>\n",
       "    </tr>\n",
       "    <tr>\n",
       "      <th>475</th>\n",
       "      <td>wwe Smackdown vs. Raw 2006</td>\n",
       "      <td>PS2</td>\n",
       "      <td>NaN</td>\n",
       "      <td>Fighting</td>\n",
       "      <td>1.57</td>\n",
       "      <td>1.02</td>\n",
       "      <td>0.00</td>\n",
       "      <td>0.41</td>\n",
       "      <td>NaN</td>\n",
       "      <td>NaN</td>\n",
       "      <td>NaN</td>\n",
       "    </tr>\n",
       "    <tr>\n",
       "      <th>609</th>\n",
       "      <td>Space Invaders</td>\n",
       "      <td>2600</td>\n",
       "      <td>NaN</td>\n",
       "      <td>Shooter</td>\n",
       "      <td>2.36</td>\n",
       "      <td>0.14</td>\n",
       "      <td>0.00</td>\n",
       "      <td>0.03</td>\n",
       "      <td>NaN</td>\n",
       "      <td>NaN</td>\n",
       "      <td>NaN</td>\n",
       "    </tr>\n",
       "  </tbody>\n",
       "</table>\n",
       "</div>"
      ],
      "text/plain": [
       "                           name platform  year_of_release     genre  na_sales  \\\n",
       "183             Madden NFL 2004      PS2              NaN    Sports      4.26   \n",
       "377            FIFA Soccer 2004      PS2              NaN    Sports      0.59   \n",
       "456  LEGO Batman: The Videogame      Wii              NaN    Action      1.80   \n",
       "475  wwe Smackdown vs. Raw 2006      PS2              NaN  Fighting      1.57   \n",
       "609              Space Invaders     2600              NaN   Shooter      2.36   \n",
       "\n",
       "     eu_sales  jp_sales  other_sales  critic_score user_score rating  \n",
       "183      0.26      0.01         0.71         94.00        8.5      E  \n",
       "377      2.36      0.04         0.51         84.00        6.4      E  \n",
       "456      0.97      0.00         0.29         74.00        7.9   E10+  \n",
       "475      1.02      0.00         0.41           NaN        NaN    NaN  \n",
       "609      0.14      0.00         0.03           NaN        NaN    NaN  "
      ]
     },
     "execution_count": 11,
     "metadata": {},
     "output_type": "execute_result"
    }
   ],
   "source": [
    "#finding strings with missing values in column 'year_of_release'\n",
    "games_with_gaps_in_years = games[games['year_of_release'].isna()]\n",
    "games_with_gaps_in_years.head()"
   ]
  },
  {
   "cell_type": "code",
   "execution_count": 12,
   "id": "e0943bf8",
   "metadata": {},
   "outputs": [
    {
     "data": {
      "text/plain": [
       "array(['PS2', 'Wii', '2600', 'X360', 'GBA', 'PC', 'PS3', 'PS', 'PSP',\n",
       "       'XB', 'GB', 'DS', 'GC', '3DS', 'N64', 'PSV'], dtype=object)"
      ]
     },
     "execution_count": 12,
     "metadata": {},
     "output_type": "execute_result"
    }
   ],
   "source": [
    "#finding names of platforms with missed year of release\n",
    "games_with_gaps_in_years['platform'].unique()"
   ]
  },
  {
   "cell_type": "code",
   "execution_count": 13,
   "id": "9f048f4c",
   "metadata": {},
   "outputs": [
    {
     "data": {
      "text/plain": [
       "array(['Madden NFL 2004', 'FIFA Soccer 2004',\n",
       "       'LEGO Batman: The Videogame', 'wwe Smackdown vs. Raw 2006',\n",
       "       'Space Invaders', 'Rock Band',\n",
       "       \"Frogger's Adventures: Temple of the Frog\",\n",
       "       'LEGO Indiana Jones: The Original Adventures', 'Call of Duty 3',\n",
       "       'Call of Duty: Black Ops', 'Triple Play 99', 'Adventure', 'Combat',\n",
       "       'LEGO Harry Potter: Years 5-7', 'NASCAR Thunder 2003',\n",
       "       'Hitman 2: Silent Assassin', 'Legacy of Kain: Soul Reaver',\n",
       "       'Donkey Kong Land III', 'Air-Sea Battle', 'Suikoden III',\n",
       "       'Wheel of Fortune', 'Yakuza 4', 'Namco Museum', 'Rhythm Heaven',\n",
       "       'The Lord of the Rings: War in the North', 'Madden NFL 07',\n",
       "       'MLB SlugFest 20-03', 'Shaun White Snowboarding',\n",
       "       'PES 2009: Pro Evolution Soccer', 'WarioWare: Twisted!',\n",
       "       'Madden NFL 11', 'Test Drive Unlimited 2',\n",
       "       'The Chronicles of Narnia: The Lion, The Witch and The Wardrobe',\n",
       "       'Monster Hunter 2', 'Metal Gear Solid 2: Substance',\n",
       "       'Advance Wars: Days of Ruin', 'The Golden Compass',\n",
       "       'Madden NFL 06', 'NASCAR: Dirt to Daytona', 'Madden NFL 2002',\n",
       "       'Def Jam: Fight for NY', 'NBA Street Vol. 2', 'Fishing Derby',\n",
       "       'Wet', 'Sonic the Hedgehog', 'Karate', 'Tiger Woods PGA Tour 07',\n",
       "       'Circus Atari',\n",
       "       'The Chronicles of Riddick: Escape from Butcher Bay',\n",
       "       \"Maze Craze: A Game of Cops 'n Robbers\", 'Silent Hill: Homecoming',\n",
       "       'Super Breakout', \"Robert Ludlum's The Bourne Conspiracy\",\n",
       "       'NHL Slapshot', 'TERA', 'NFL GameDay 2003',\n",
       "       'Harvest Moon: Save the Homeland', 'Hangman', 'NBA Live 2003',\n",
       "       \"Cubix Robots for Everyone: Clash 'n' Bash\",\n",
       "       'Dragon Ball Z: Budokai Tenkaichi 2 (JP sales)', 'Tropico 4',\n",
       "       'Tomb Raider (2013)', 'Bejeweled 3', 'Custom Robo',\n",
       "       'Final Fantasy XI', 'Singularity', 'Dragster',\n",
       "       'All-Star Baseball 2005', 'Star Wars Jedi Knight II: Jedi Outcast',\n",
       "       'Slot Machine', 'The Dukes of Hazzard II: Daisy Dukes It Out',\n",
       "       'Harvest Moon: The Tale of Two Towns', 'Shrek the Third',\n",
       "       'Nicktoons: Battle for Volcano Island', 'Haven: Call of the King',\n",
       "       'Unreal Championship 2: The Liandri Conflict', 'Pac-Man Fever',\n",
       "       'The Legend of Zelda: The Minish Cap(weekly JP sales)', 'Indy 500',\n",
       "       'Disgaea 3: Absence of Detention', 'Flag Capture', 'Gun',\n",
       "       'Rock Revolution', 'College Hoops 2K6',\n",
       "       'Jonah Lomu Rugby Challenge', 'Mega Man X Collection',\n",
       "       'BioShock 2', 'Danganronpa: Trigger Happy Havoc', 'Jet X20',\n",
       "       \"Tony Hawk's Downhill Jam\", 'Tribes: Aerial Assault',\n",
       "       'Big Beach Sports 2', 'Yu Yu Hakusho: Dark Tournament',\n",
       "       'Ghostbusters II', 'Breakaway IV', 'Robotech: Battlecry',\n",
       "       'Move Fitness', 'Valkyria Chronicles III: Unrecorded Chronicles',\n",
       "       'DanceDanceRevolution II', 'WRC: FIA World Rally Championship',\n",
       "       'Famista 64', 'Dead Space 3', 'Pet Zombies', 'Star Trek: Legacy',\n",
       "       'Backbreaker', 'Twisted Metal: Small Brawl', 'Otomedius Excellent',\n",
       "       'NBA Starting Five', 'Teen Titans', 'Trauma Team',\n",
       "       \"James Cameron's Dark Angel\", 'Sword of the Samurai',\n",
       "       'Splatterhouse', 'Alone in the Dark: The New Nightmare',\n",
       "       'Vegas Party', 'Jurassic Park: The Game', 'Home Run',\n",
       "       'eJay Clubworld', 'Our House Party!', 'WCW Backstage Assault',\n",
       "       \"Disney's Cinderella: Magical Dreams\", 'Transworld Surf',\n",
       "       'Street Fighter IV', 'Nintendo Puzzle Collection',\n",
       "       'Charm Girls Club: My Fashion Mall', 'Record of Agarest War Zero',\n",
       "       'Rocksmith',\n",
       "       'Super Robot Wars OG Saga: Masou Kishin II - Revelation of Evil God',\n",
       "       'Saru! Get You! Million Monkeys', 'Street Hoops',\n",
       "       'Godzilla: Destroy All Monsters Melee',\n",
       "       'The Daring Game for Girls', 'Major League Baseball 2K6',\n",
       "       'Star Trek: Conquest', 'GiFTPiA', 'Happy Feet Two',\n",
       "       \"Disney's Chicken Little: Ace In Action\",\n",
       "       'Atsumare! Power Pro Kun no DS Koushien',\n",
       "       'My Healthy Cooking Coach', 'Luminous Arc 2 (JP sales)',\n",
       "       'Egg Monster Hero', 'Demon Chaos', 'Samurai Shodown Anthology',\n",
       "       'Action Man-Operation Extreme', 'Super Puzzle Fighter II',\n",
       "       'Charm Girls Club: My Fashion Show', 'Face Racers: Photo Finish',\n",
       "       'Zero: Tsukihami no Kamen', 'The Hidden', 'Get Fit with Mel B',\n",
       "       'Mega Man Battle Network: Operation Shooting Star',\n",
       "       'Smashing Drive', 'Port Royale 3', 'Dream Trigger 3D',\n",
       "       'Dead Island: Riptide', 'Yoostar on MTV', 'Tornado',\n",
       "       \"McFarlane's Evil Prophecy\", 'Drake of the 99 Dragons',\n",
       "       'Build-A-Bear Workshop: Friendship Valley', 'Rayman Arena',\n",
       "       'National Geographic Challenge!', 'Alex Rider: Stormbreaker',\n",
       "       'Chou Soujuu Mecha MG',\n",
       "       'Prinny: Can I Really Be The Hero? (US sales)',\n",
       "       'Combat Elite: WWII Paratroopers', \"Flip's Twisted World\",\n",
       "       'Mobile Ops: The One Year War',\n",
       "       \"Tom Clancy's Rainbow Six: Critical Hour\",\n",
       "       'Jewel Link Chronicles: Mountains of Madness',\n",
       "       'Captain America: Super Soldier', 'Mountain Bike Adrenaline',\n",
       "       'Drill Dozer', 'GRID', 'Tour de France 2011',\n",
       "       'Reader Rabbit 2nd Grade', 'Monster Hunter Frontier Online',\n",
       "       'RollerCoaster Tycoon', 'Battle vs. Chess',\n",
       "       'The History Channel: Great Battles - Medieval',\n",
       "       'Clockwork Empires', 'B.L.U.E.: Legend of Water', 'NHL Hitz Pro',\n",
       "       \"Luxor: Pharaoh's Challenge\", 'Sega Rally 2006',\n",
       "       'Half-Minute Hero 2', 'Housekeeping', 'Major League Baseball 2K8',\n",
       "       'Sabre Wulf', 'Swords', 'Beyond the Labyrinth',\n",
       "       'Bikkuriman Daijiten', 'Majesty 2: The Fantasy Kingdom Sim',\n",
       "       'Fullmetal Alchemist: Brotherhood',\n",
       "       'Samurai Spirits: Tenkaichi Kenkakuden', 'World of Tanks',\n",
       "       'Tom and Jerry in War of the Whiskers', 'Super Duper Sumos',\n",
       "       'The King of Fighters: Maximum Impact - Maniax',\n",
       "       'Combat Wings: The Great Battles of WWII', 'Tube Slider',\n",
       "       'Umineko no Naku Koro ni San: Shinjitsu to Gensou no Yasoukyoku',\n",
       "       'Payout Poker & Casino', 'Wii de Asobu: Metroid Prime',\n",
       "       'Legacy of Ys: Books I & II', 'Saint', 'Steal Princess',\n",
       "       'Mario Tennis', 'Runaway: A Twist of Fate',\n",
       "       \"Yu-Gi-Oh! 5D's Wheelie Breakers (JP sales)\",\n",
       "       \"Cabela's Alaskan Adventure\",\n",
       "       'Writing and Speaking Beautiful Japanese DS', 'Virtua Quest',\n",
       "       \"Shonen Jump's Yu-Gi-Oh! GX Card Almanac\", 'Without Warning',\n",
       "       'PDC World Championship Darts 2008',\n",
       "       'Dinotopia: The Sunstone Odyssey', 'Jet Impulse', 'Dream Dancer',\n",
       "       \"Dance! It's Your Stage\", 'Football Manager 2007',\n",
       "       'Ferrari: The Race Experience', 'Aquaman: Battle for Atlantis',\n",
       "       'Homeworld Remastered Collection', 'Shorts',\n",
       "       'AKB1/48: Idol to Guam de Koishitara...',\n",
       "       'Brothers in Arms: Furious 4', 'Agarest Senki: Re-appearance',\n",
       "       'Freaky Flyers', 'Inversion', 'Hakuouki: Shinsengumi Kitan'],\n",
       "      dtype=object)"
      ]
     },
     "execution_count": 13,
     "metadata": {},
     "output_type": "execute_result"
    }
   ],
   "source": [
    "#finding names of games with missed year of release\n",
    "games_with_gaps_in_years['name'].unique()"
   ]
  },
  {
   "cell_type": "markdown",
   "id": "0be1e195",
   "metadata": {},
   "source": [
    "Пропуски могут быть связаны с проблемами при выгрузке данных (данные просто потерялись), либо в магазине нет данных о годе выпуска игр (об этом не написано на упаковке, на обложке, в инструкции). <br>\n",
    "NaN — тип данных float. Это количественное значение. Мы не можем заменить эти данные на 0 или медиану/среднее арифметическое. Тогда бы это сказалось на рейтинге игры, на динамике продаж. <br>\n",
    "Конечно, существует вариант заменить все пропуски путем поиска даты релиза конкретной игры на конкретную платформу, но это займет слишком много времени. Сейчас пропущенных строк около 300. А что, если их будет 300 000 ? Разве для каждой такой строки рационально гуглить? <br>"
   ]
  },
  {
   "cell_type": "markdown",
   "id": "365b504f",
   "metadata": {},
   "source": [
    "Во всех остальных столбцах типы данных float к integer приводить не буду, т.к. в этих столбцах цифры после запятой значимы."
   ]
  },
  {
   "cell_type": "markdown",
   "id": "3d48984e",
   "metadata": {},
   "source": [
    "В столбце `user_score` хранятся данные с оценкой пользователей. Тип данных - object. Это всё из-за значений 'tbd'. tbd = To be determined. Это значит, что оценки пользователей на эти игры есть, но их недостаточно для того, чтобы выгрузить эту цифру на платформу с рейтингами. Требуется большее количество оценок. Заменить это знаение на какую-то цифру будет неправильно, потому что мы не знаем, какие есть оценки на эти игры. Заменю эти значения на NaNы, т.к. впоследствии мне понадобятся численные расчёты со значениями этого столбца, а тип данных object мне не подойдёт."
   ]
  },
  {
   "cell_type": "code",
   "execution_count": 14,
   "id": "6cac9297",
   "metadata": {},
   "outputs": [],
   "source": [
    "#changing \"tbd\" to NaN\n",
    "games.loc[games['user_score'] == \"tbd\", 'user_score'] = pd.NA\n",
    "#Convert object to float\n",
    "games['user_score'] = pd.to_numeric(games['user_score'],errors = 'coerce')"
   ]
  },
  {
   "cell_type": "markdown",
   "id": "5af6aa2f",
   "metadata": {},
   "source": [
    "Приведем к единому виду неявные дубликаты в столбце `rating`. "
   ]
  },
  {
   "cell_type": "code",
   "execution_count": 15,
   "id": "9e805900",
   "metadata": {},
   "outputs": [],
   "source": [
    "#replacement wrong values (K-A) on 'E'\n",
    "games['rating'] = games['rating'].replace('K-A', 'E')\n",
    "\n",
    "#replacement NA values on \"Not defined\"\n",
    "games['rating'] = games['rating'].fillna('ND')"
   ]
  },
  {
   "cell_type": "markdown",
   "id": "8e97ad90",
   "metadata": {},
   "source": [
    "### Замена пропущенных значений"
   ]
  },
  {
   "cell_type": "markdown",
   "id": "33d085e0",
   "metadata": {},
   "source": [
    "Посмотрим, какие строчки в датафрейме с пропущенными значениями в столбце `name`"
   ]
  },
  {
   "cell_type": "code",
   "execution_count": 16,
   "id": "f5f97307",
   "metadata": {},
   "outputs": [
    {
     "data": {
      "text/html": [
       "<div>\n",
       "<style scoped>\n",
       "    .dataframe tbody tr th:only-of-type {\n",
       "        vertical-align: middle;\n",
       "    }\n",
       "\n",
       "    .dataframe tbody tr th {\n",
       "        vertical-align: top;\n",
       "    }\n",
       "\n",
       "    .dataframe thead th {\n",
       "        text-align: right;\n",
       "    }\n",
       "</style>\n",
       "<table border=\"1\" class=\"dataframe\">\n",
       "  <thead>\n",
       "    <tr style=\"text-align: right;\">\n",
       "      <th></th>\n",
       "      <th>name</th>\n",
       "      <th>platform</th>\n",
       "      <th>year_of_release</th>\n",
       "      <th>genre</th>\n",
       "      <th>na_sales</th>\n",
       "      <th>eu_sales</th>\n",
       "      <th>jp_sales</th>\n",
       "      <th>other_sales</th>\n",
       "      <th>critic_score</th>\n",
       "      <th>user_score</th>\n",
       "      <th>rating</th>\n",
       "    </tr>\n",
       "  </thead>\n",
       "  <tbody>\n",
       "    <tr>\n",
       "      <th>659</th>\n",
       "      <td>NaN</td>\n",
       "      <td>GEN</td>\n",
       "      <td>1,993.00</td>\n",
       "      <td>NaN</td>\n",
       "      <td>1.78</td>\n",
       "      <td>0.53</td>\n",
       "      <td>0.00</td>\n",
       "      <td>0.08</td>\n",
       "      <td>NaN</td>\n",
       "      <td>NaN</td>\n",
       "      <td>ND</td>\n",
       "    </tr>\n",
       "    <tr>\n",
       "      <th>14244</th>\n",
       "      <td>NaN</td>\n",
       "      <td>GEN</td>\n",
       "      <td>1,993.00</td>\n",
       "      <td>NaN</td>\n",
       "      <td>0.00</td>\n",
       "      <td>0.00</td>\n",
       "      <td>0.03</td>\n",
       "      <td>0.00</td>\n",
       "      <td>NaN</td>\n",
       "      <td>NaN</td>\n",
       "      <td>ND</td>\n",
       "    </tr>\n",
       "  </tbody>\n",
       "</table>\n",
       "</div>"
      ],
      "text/plain": [
       "      name platform  year_of_release genre  na_sales  eu_sales  jp_sales  \\\n",
       "659    NaN      GEN         1,993.00   NaN      1.78      0.53      0.00   \n",
       "14244  NaN      GEN         1,993.00   NaN      0.00      0.00      0.03   \n",
       "\n",
       "       other_sales  critic_score  user_score rating  \n",
       "659           0.08           NaN         NaN     ND  \n",
       "14244         0.00           NaN         NaN     ND  "
      ]
     },
     "metadata": {},
     "output_type": "display_data"
    }
   ],
   "source": [
    "#showing missed values in column name\n",
    "display(games[games['name'].isna()]) "
   ]
  },
  {
   "cell_type": "markdown",
   "id": "732a7f56",
   "metadata": {},
   "source": [
    "Судя по всему, по этим играм есть даже какие-то продажи. Прибыль эти игры приносили. Поэтому мы не можем просто удалить строчки с этими данными.  Могу предположить, что это какие-то нелегальные игры. Я заменю NaNы на \"no_name\".<br>\n",
    "Именно для этих игр жанр не определен. Заменю NaNы в столбце `genre` на \"undefined\"."
   ]
  },
  {
   "cell_type": "code",
   "execution_count": 17,
   "id": "6874b337",
   "metadata": {},
   "outputs": [],
   "source": [
    "#filling missed values in name and genre columns\n",
    "games['name'] = games['name'].fillna('no_name')\n",
    "games['genre'] = games['genre'].fillna('undefined')"
   ]
  },
  {
   "cell_type": "markdown",
   "id": "12f2c0ad",
   "metadata": {},
   "source": [
    "Значения в столбцах `critic_score`,\t`user_score` и\t`rating` существенно влияют на рейтинг игр. Мы не можем заменить значения в столбцах `critic_score`,\t`user_score` на 0, среднее арифметическое или медианы, потому что это сильно искажает действительный рейтинг игры. Вдруг медиана или среднее арифметическое намного больше или меньше, чем истинный рейтинг. Тогда мы будем работать с заведомо ложной информацией. Оставим пропущенные значения как есть.<br>\n",
    "Отсутствие данных может быть связано с тем, что эти игры не занесены в платформы с рейтингами (например, такие https://www.metacritic.com/game). Поэтому раз игр нет на этих платформах, некому присваивать им рейтинг. Больше всего пропущенных значений с рейтингами от критиков. Это может быть связано с тем, что эти игры не попадали в поле внимание критиков, это не общеизвестные игры, поэтому критикам незачем было писать о них отзывы. <br>\n",
    "В столбце `rating` пропущенные значения могут быть связаны с тем, что игра выходила до 1994 года (год основания Entertainment Software Rating Board (ESRB) - организации, которая присваивает рейтинг), либо данные при выгрузке утеряны.\n",
    "\n"
   ]
  },
  {
   "cell_type": "markdown",
   "id": "56ece109",
   "metadata": {},
   "source": [
    "### Расчёт продаж по регионам"
   ]
  },
  {
   "cell_type": "markdown",
   "id": "c097b4d3",
   "metadata": {},
   "source": [
    "Посчитаем суммарные продажи по всем регионам и добавим эти значения в отдельный столбец `total_sales_worldwide`"
   ]
  },
  {
   "cell_type": "code",
   "execution_count": 18,
   "id": "20d730b3",
   "metadata": {},
   "outputs": [],
   "source": [
    "#counting total sales from all regions\n",
    "games['total_sales_worldwide']= games['na_sales'] + games['eu_sales'] + games['jp_sales'] + games['other_sales']"
   ]
  },
  {
   "cell_type": "markdown",
   "id": "9c665d81",
   "metadata": {},
   "source": [
    "### Вывод"
   ]
  },
  {
   "cell_type": "markdown",
   "id": "f6634331",
   "metadata": {},
   "source": [
    "- На этапе подготовки данных были переименованы названия столбцов (приведены в соответствие с правилами хорошего стиля).<br>\n",
    "- Были заменены пропуски в тех столбцах, где можно было аргументированно подобрать замену (столбцы `name` , `genre`, `rating`) на фиктивные значения. <br>\n",
    "- В столбце `user_score` значения 'tbd' были заменены на NaNы.<br> \n",
    "- В столбце `rating` были устранены неявные дубликаты (все значения K-A были заменены на E).<br>\n",
    "- Также на этапе подготовки были посчитаны суммарные продажи игр по всем платформам за все годы и эти значения были вынесены в отдельный столбец `total_sales_worldwide`."
   ]
  },
  {
   "cell_type": "markdown",
   "id": "70b496f4",
   "metadata": {},
   "source": [
    "## Анализ данных"
   ]
  },
  {
   "cell_type": "markdown",
   "id": "f0734060",
   "metadata": {},
   "source": [
    "Проверим, сколько игр выпускалось в разные годы."
   ]
  },
  {
   "cell_type": "code",
   "execution_count": 19,
   "id": "cc53d5bf",
   "metadata": {},
   "outputs": [
    {
     "data": {
      "text/plain": [
       "1,980.00       9\n",
       "1,984.00      14\n",
       "1,985.00      14\n",
       "1,988.00      15\n",
       "1,987.00      16\n",
       "1,990.00      16\n",
       "1,983.00      17\n",
       "1,989.00      17\n",
       "1,986.00      21\n",
       "1,982.00      36\n",
       "1,991.00      41\n",
       "1,992.00      43\n",
       "1,981.00      46\n",
       "1,993.00      62\n",
       "1,994.00     121\n",
       "1,995.00     219\n",
       "1,996.00     263\n",
       "1,997.00     289\n",
       "1,999.00     338\n",
       "2,000.00     350\n",
       "1,998.00     379\n",
       "2,001.00     482\n",
       "2,016.00     502\n",
       "2,013.00     544\n",
       "2,014.00     581\n",
       "2,015.00     606\n",
       "2,012.00     653\n",
       "2,004.00     762\n",
       "2,003.00     775\n",
       "2,002.00     829\n",
       "2,005.00     939\n",
       "2,006.00    1006\n",
       "2,011.00    1136\n",
       "2,007.00    1197\n",
       "2,010.00    1255\n",
       "2,009.00    1426\n",
       "2,008.00    1427\n",
       "Name: year_of_release, dtype: int64"
      ]
     },
     "execution_count": 19,
     "metadata": {},
     "output_type": "execute_result"
    }
   ],
   "source": [
    "#select unique values from years_of_release column and counting frequency of occurrence\n",
    "games['year_of_release'].value_counts().sort_values()"
   ]
  },
  {
   "cell_type": "markdown",
   "id": "fd54e422",
   "metadata": {},
   "source": [
    "Видно, из года в год выпуск игр меняется. В какие-то годы выпуск игр растет, а в какие-то падает. Начиная с 1994 года количество выпускаемых игр измеряется уже не в десятках, а в сотнях; а с 2006 года уже в тысячах.<br>\n",
    "Для прогнозирования продаж на 2017 год данные за весь период не важны. Важны данные, близкие к 2017 году. Например, за последние 5 лет, с 2012 по 2016."
   ]
  },
  {
   "cell_type": "markdown",
   "id": "4cd117ec",
   "metadata": {},
   "source": [
    "### Изменения продаж по платформам"
   ]
  },
  {
   "cell_type": "markdown",
   "id": "4bdc4fd2",
   "metadata": {},
   "source": [
    "Посмотрим, как менялись продажи по платформам с годами."
   ]
  },
  {
   "cell_type": "code",
   "execution_count": 20,
   "id": "95f75f3e",
   "metadata": {},
   "outputs": [],
   "source": [
    "#making pivot_table with data of game sales on each platform on each year\n",
    "total_sales_for_each_platform = pd.pivot_table(games,\n",
    "              index=['platform', 'year_of_release'],\n",
    "              aggfunc=['sum', 'mean', 'median', 'count'],\n",
    "              values='total_sales_worldwide')\n",
    "#rename columns\n",
    "total_sales_for_each_platform.columns = ['sum_of_sales', 'mean_of_sales', 'median_of_sales', 'count_of_sales']\n",
    "\n",
    "#update indexes\n",
    "total_sales_for_each_platform.reset_index(inplace=True)"
   ]
  },
  {
   "cell_type": "code",
   "execution_count": 21,
   "id": "e5d771c0",
   "metadata": {},
   "outputs": [
    {
     "data": {
      "image/png": "[encoded data removed]",
      "text/plain": [
       "<Figure size 432x288 with 1 Axes>"
      ]
     },
     "metadata": {
      "needs_background": "light"
     },
     "output_type": "display_data"
    }
   ],
   "source": [
    "sales_df = total_sales_for_each_platform[[x for x in total_sales_for_each_platform.columns if 'sales' in x] + ['year_of_release']]\n",
    "sales_df.groupby('year_of_release').sum().plot()\n",
    "plt.show()"
   ]
  },
  {
   "cell_type": "markdown",
   "id": "8f442a1a",
   "metadata": {},
   "source": [
    "Топ продаж и разработок игр на платформы приходился на 2005- 2010 года."
   ]
  },
  {
   "cell_type": "markdown",
   "id": "99c7e595",
   "metadata": {},
   "source": [
    "### Выявление топ платформ по продажам игр за все годы"
   ]
  },
  {
   "cell_type": "markdown",
   "id": "1729e304",
   "metadata": {},
   "source": [
    "Построим гистограмму по этой сводной таблице."
   ]
  },
  {
   "cell_type": "code",
   "execution_count": 22,
   "id": "1729bf8d",
   "metadata": {},
   "outputs": [
    {
     "data": {
      "image/png": "[encoded data removed]",
      "text/plain": [
       "<Figure size 432x288 with 1 Axes>"
      ]
     },
     "metadata": {
      "needs_background": "light"
     },
     "output_type": "display_data"
    }
   ],
   "source": [
    "(\n",
    "    total_sales_for_each_platform.groupby('platform')['sum_of_sales'].sum().reset_index()\\\n",
    "    .sort_values(by='sum_of_sales', ascending=False)\\\n",
    "    .head(10)\\\n",
    "    .plot.bar(x='platform', y='sum_of_sales', rot=90)\n",
    ")\n",
    "\n",
    "plt.title('Количество продаж игр на каждой из платформ суммарно за все годы')\n",
    "plt.ylabel('количество продаж, млн')\n",
    "plt.show()"
   ]
  },
  {
   "cell_type": "markdown",
   "id": "b8e3ab49",
   "metadata": {},
   "source": [
    "По графику распределения чётко выделяются платформы с наибольшими продажами:\n",
    "* PS2\n",
    "* X360\n",
    "* PS3\n",
    "* Wii\n",
    "* DS\n",
    "* PS"
   ]
  },
  {
   "cell_type": "markdown",
   "id": "a3a6d353",
   "metadata": {},
   "source": [
    "Построим распределение по годам для каждой из платформ с наибольшими суммарными продажами."
   ]
  },
  {
   "cell_type": "code",
   "execution_count": 23,
   "id": "b55e8d14",
   "metadata": {},
   "outputs": [
    {
     "data": {
      "image/png": "[encoded data removed]",
      "text/plain": [
       "<Figure size 432x288 with 6 Axes>"
      ]
     },
     "metadata": {
      "needs_background": "light"
     },
     "output_type": "display_data"
    }
   ],
   "source": [
    "top = ['PS2', 'X360', 'PS3', 'Wii', 'DS', 'PS']\n",
    "\n",
    "i = 1\n",
    "for name in top:\n",
    "    \n",
    "    a = total_sales_for_each_platform.query('platform == @name')\n",
    "    plt.subplot(3, 2, i)  \n",
    "    plt.bar(a['year_of_release'], a['sum_of_sales'])\n",
    "    i+=1\n",
    "    \n",
    "    plt.subplots_adjust(left=0.1,\n",
    "                    bottom=0.02, \n",
    "                    right=2, \n",
    "                    top=3, \n",
    "                    wspace=0.7, \n",
    "                    hspace=1)\n",
    "    plt.title(f'Продажи игр для платформы {name} по годам')\n",
    "    plt.xlabel('год')\n",
    "    plt.ylabel('количество продаж, млн')\n",
    "    \n",
    " \n",
    "plt.show()  \n"
   ]
  },
  {
   "cell_type": "markdown",
   "id": "0ef8d699",
   "metadata": {},
   "source": [
    "* Игры для PS с 2003 года либо больше не выпускаются, либо не продаются. Эти данные не помогут при прогнозировании продаж на 2017 год.<br>\n",
    "* Игры для PS2 резко упали в продаже с 2006 года. С 2012 года вообще не продаются. Эти данные не помогут при прогнозировании продаж на 2017 год.<br>\n",
    "* Игры на PS3 падают в продаже с 2014 года. На момент 2016 года игры все еще продаются, но совсем в небольшом количестве (3,6 млн проданных копий по всему миру). Будем использовать данные по продажам игр на PS3 с 2012 по 2016 годы.\n",
    "* Продажи игр на платформах Wii и X360 с 2011 года падают. В 2016 году для Wii было продано по всему миру 0,18 млн копий, а для X360 1.52 млн копий. Это очень мало. В связи с тем, что у нас нет больше данных по другим платформам, будем работать с тем, что есть. Будем использовать данные о продажах игр на Wii и X360 на с 2012 по 2016 годы для планирования продаж на 2017 год.\n",
    "* Активные продажи игр для платформы DS проходили с 2005 по 2010 года. Эти данные не помогут построить прогноз продаж игр на DS на 2017 год, потому что с 2012 года количество продаж на этой платформе резко сократилось. После 2013 года информации о продажах нет вовсе. Либо платформу перестали выпускать, либо игры больше не выпускались. Эти данные не помогут при планировании продаж игр на 2017 год."
   ]
  },
  {
   "cell_type": "markdown",
   "id": "1fe9282d",
   "metadata": {},
   "source": [
    "### Анализ продаж на платформах за 2014-2016 гг"
   ]
  },
  {
   "cell_type": "markdown",
   "id": "a37056f4",
   "metadata": {},
   "source": [
    "Для целей прогнозирования продаж на следующий год, выберем данные по всем платформам за 2014 - 2016 годы."
   ]
  },
  {
   "cell_type": "code",
   "execution_count": 24,
   "id": "0d720477",
   "metadata": {},
   "outputs": [
    {
     "data": {
      "text/html": [
       "<div>\n",
       "<style scoped>\n",
       "    .dataframe tbody tr th:only-of-type {\n",
       "        vertical-align: middle;\n",
       "    }\n",
       "\n",
       "    .dataframe tbody tr th {\n",
       "        vertical-align: top;\n",
       "    }\n",
       "\n",
       "    .dataframe thead th {\n",
       "        text-align: right;\n",
       "    }\n",
       "</style>\n",
       "<table border=\"1\" class=\"dataframe\">\n",
       "  <thead>\n",
       "    <tr style=\"text-align: right;\">\n",
       "      <th></th>\n",
       "      <th>platform</th>\n",
       "      <th>year_of_release</th>\n",
       "      <th>sum_of_sales</th>\n",
       "      <th>mean_of_sales</th>\n",
       "      <th>median_of_sales</th>\n",
       "      <th>count_of_sales</th>\n",
       "    </tr>\n",
       "  </thead>\n",
       "  <tbody>\n",
       "    <tr>\n",
       "      <th>15</th>\n",
       "      <td>3DS</td>\n",
       "      <td>2,014.00</td>\n",
       "      <td>43.76</td>\n",
       "      <td>0.55</td>\n",
       "      <td>0.09</td>\n",
       "      <td>80</td>\n",
       "    </tr>\n",
       "    <tr>\n",
       "      <th>16</th>\n",
       "      <td>3DS</td>\n",
       "      <td>2,015.00</td>\n",
       "      <td>27.78</td>\n",
       "      <td>0.32</td>\n",
       "      <td>0.09</td>\n",
       "      <td>86</td>\n",
       "    </tr>\n",
       "    <tr>\n",
       "      <th>17</th>\n",
       "      <td>3DS</td>\n",
       "      <td>2,016.00</td>\n",
       "      <td>15.14</td>\n",
       "      <td>0.33</td>\n",
       "      <td>0.08</td>\n",
       "      <td>46</td>\n",
       "    </tr>\n",
       "    <tr>\n",
       "      <th>116</th>\n",
       "      <td>PC</td>\n",
       "      <td>2,014.00</td>\n",
       "      <td>13.28</td>\n",
       "      <td>0.28</td>\n",
       "      <td>0.10</td>\n",
       "      <td>47</td>\n",
       "    </tr>\n",
       "    <tr>\n",
       "      <th>117</th>\n",
       "      <td>PC</td>\n",
       "      <td>2,015.00</td>\n",
       "      <td>8.52</td>\n",
       "      <td>0.17</td>\n",
       "      <td>0.08</td>\n",
       "      <td>50</td>\n",
       "    </tr>\n",
       "    <tr>\n",
       "      <th>118</th>\n",
       "      <td>PC</td>\n",
       "      <td>2,016.00</td>\n",
       "      <td>5.25</td>\n",
       "      <td>0.10</td>\n",
       "      <td>0.04</td>\n",
       "      <td>54</td>\n",
       "    </tr>\n",
       "    <tr>\n",
       "      <th>150</th>\n",
       "      <td>PS3</td>\n",
       "      <td>2,014.00</td>\n",
       "      <td>47.76</td>\n",
       "      <td>0.44</td>\n",
       "      <td>0.16</td>\n",
       "      <td>108</td>\n",
       "    </tr>\n",
       "    <tr>\n",
       "      <th>151</th>\n",
       "      <td>PS3</td>\n",
       "      <td>2,015.00</td>\n",
       "      <td>16.82</td>\n",
       "      <td>0.23</td>\n",
       "      <td>0.05</td>\n",
       "      <td>73</td>\n",
       "    </tr>\n",
       "    <tr>\n",
       "      <th>152</th>\n",
       "      <td>PS3</td>\n",
       "      <td>2,016.00</td>\n",
       "      <td>3.60</td>\n",
       "      <td>0.09</td>\n",
       "      <td>0.07</td>\n",
       "      <td>38</td>\n",
       "    </tr>\n",
       "    <tr>\n",
       "      <th>154</th>\n",
       "      <td>PS4</td>\n",
       "      <td>2,014.00</td>\n",
       "      <td>100.00</td>\n",
       "      <td>1.33</td>\n",
       "      <td>0.60</td>\n",
       "      <td>75</td>\n",
       "    </tr>\n",
       "    <tr>\n",
       "      <th>155</th>\n",
       "      <td>PS4</td>\n",
       "      <td>2,015.00</td>\n",
       "      <td>118.90</td>\n",
       "      <td>0.87</td>\n",
       "      <td>0.18</td>\n",
       "      <td>137</td>\n",
       "    </tr>\n",
       "    <tr>\n",
       "      <th>156</th>\n",
       "      <td>PS4</td>\n",
       "      <td>2,016.00</td>\n",
       "      <td>69.25</td>\n",
       "      <td>0.42</td>\n",
       "      <td>0.08</td>\n",
       "      <td>164</td>\n",
       "    </tr>\n",
       "    <tr>\n",
       "      <th>167</th>\n",
       "      <td>PSP</td>\n",
       "      <td>2,014.00</td>\n",
       "      <td>0.24</td>\n",
       "      <td>0.02</td>\n",
       "      <td>0.01</td>\n",
       "      <td>10</td>\n",
       "    </tr>\n",
       "    <tr>\n",
       "      <th>168</th>\n",
       "      <td>PSP</td>\n",
       "      <td>2,015.00</td>\n",
       "      <td>0.12</td>\n",
       "      <td>0.04</td>\n",
       "      <td>0.02</td>\n",
       "      <td>3</td>\n",
       "    </tr>\n",
       "    <tr>\n",
       "      <th>172</th>\n",
       "      <td>PSV</td>\n",
       "      <td>2,014.00</td>\n",
       "      <td>11.90</td>\n",
       "      <td>0.12</td>\n",
       "      <td>0.07</td>\n",
       "      <td>100</td>\n",
       "    </tr>\n",
       "    <tr>\n",
       "      <th>173</th>\n",
       "      <td>PSV</td>\n",
       "      <td>2,015.00</td>\n",
       "      <td>6.25</td>\n",
       "      <td>0.06</td>\n",
       "      <td>0.03</td>\n",
       "      <td>110</td>\n",
       "    </tr>\n",
       "    <tr>\n",
       "      <th>174</th>\n",
       "      <td>PSV</td>\n",
       "      <td>2,016.00</td>\n",
       "      <td>4.25</td>\n",
       "      <td>0.05</td>\n",
       "      <td>0.03</td>\n",
       "      <td>85</td>\n",
       "    </tr>\n",
       "    <tr>\n",
       "      <th>205</th>\n",
       "      <td>Wii</td>\n",
       "      <td>2,014.00</td>\n",
       "      <td>3.75</td>\n",
       "      <td>0.62</td>\n",
       "      <td>0.37</td>\n",
       "      <td>6</td>\n",
       "    </tr>\n",
       "    <tr>\n",
       "      <th>206</th>\n",
       "      <td>Wii</td>\n",
       "      <td>2,015.00</td>\n",
       "      <td>1.14</td>\n",
       "      <td>0.28</td>\n",
       "      <td>0.09</td>\n",
       "      <td>4</td>\n",
       "    </tr>\n",
       "    <tr>\n",
       "      <th>207</th>\n",
       "      <td>Wii</td>\n",
       "      <td>2,016.00</td>\n",
       "      <td>0.18</td>\n",
       "      <td>0.18</td>\n",
       "      <td>0.18</td>\n",
       "      <td>1</td>\n",
       "    </tr>\n",
       "    <tr>\n",
       "      <th>210</th>\n",
       "      <td>WiiU</td>\n",
       "      <td>2,014.00</td>\n",
       "      <td>22.03</td>\n",
       "      <td>0.71</td>\n",
       "      <td>0.13</td>\n",
       "      <td>31</td>\n",
       "    </tr>\n",
       "    <tr>\n",
       "      <th>211</th>\n",
       "      <td>WiiU</td>\n",
       "      <td>2,015.00</td>\n",
       "      <td>16.35</td>\n",
       "      <td>0.58</td>\n",
       "      <td>0.22</td>\n",
       "      <td>28</td>\n",
       "    </tr>\n",
       "    <tr>\n",
       "      <th>212</th>\n",
       "      <td>WiiU</td>\n",
       "      <td>2,016.00</td>\n",
       "      <td>4.60</td>\n",
       "      <td>0.33</td>\n",
       "      <td>0.21</td>\n",
       "      <td>14</td>\n",
       "    </tr>\n",
       "    <tr>\n",
       "      <th>222</th>\n",
       "      <td>X360</td>\n",
       "      <td>2,014.00</td>\n",
       "      <td>34.74</td>\n",
       "      <td>0.55</td>\n",
       "      <td>0.23</td>\n",
       "      <td>63</td>\n",
       "    </tr>\n",
       "    <tr>\n",
       "      <th>223</th>\n",
       "      <td>X360</td>\n",
       "      <td>2,015.00</td>\n",
       "      <td>11.96</td>\n",
       "      <td>0.34</td>\n",
       "      <td>0.18</td>\n",
       "      <td>35</td>\n",
       "    </tr>\n",
       "    <tr>\n",
       "      <th>224</th>\n",
       "      <td>X360</td>\n",
       "      <td>2,016.00</td>\n",
       "      <td>1.52</td>\n",
       "      <td>0.12</td>\n",
       "      <td>0.10</td>\n",
       "      <td>13</td>\n",
       "    </tr>\n",
       "    <tr>\n",
       "      <th>235</th>\n",
       "      <td>XOne</td>\n",
       "      <td>2,014.00</td>\n",
       "      <td>54.07</td>\n",
       "      <td>0.89</td>\n",
       "      <td>0.44</td>\n",
       "      <td>61</td>\n",
       "    </tr>\n",
       "    <tr>\n",
       "      <th>236</th>\n",
       "      <td>XOne</td>\n",
       "      <td>2,015.00</td>\n",
       "      <td>60.14</td>\n",
       "      <td>0.75</td>\n",
       "      <td>0.24</td>\n",
       "      <td>80</td>\n",
       "    </tr>\n",
       "    <tr>\n",
       "      <th>237</th>\n",
       "      <td>XOne</td>\n",
       "      <td>2,016.00</td>\n",
       "      <td>26.15</td>\n",
       "      <td>0.30</td>\n",
       "      <td>0.06</td>\n",
       "      <td>87</td>\n",
       "    </tr>\n",
       "  </tbody>\n",
       "</table>\n",
       "</div>"
      ],
      "text/plain": [
       "    platform  year_of_release  sum_of_sales  mean_of_sales  median_of_sales  \\\n",
       "15       3DS         2,014.00         43.76           0.55             0.09   \n",
       "16       3DS         2,015.00         27.78           0.32             0.09   \n",
       "17       3DS         2,016.00         15.14           0.33             0.08   \n",
       "116       PC         2,014.00         13.28           0.28             0.10   \n",
       "117       PC         2,015.00          8.52           0.17             0.08   \n",
       "118       PC         2,016.00          5.25           0.10             0.04   \n",
       "150      PS3         2,014.00         47.76           0.44             0.16   \n",
       "151      PS3         2,015.00         16.82           0.23             0.05   \n",
       "152      PS3         2,016.00          3.60           0.09             0.07   \n",
       "154      PS4         2,014.00        100.00           1.33             0.60   \n",
       "155      PS4         2,015.00        118.90           0.87             0.18   \n",
       "156      PS4         2,016.00         69.25           0.42             0.08   \n",
       "167      PSP         2,014.00          0.24           0.02             0.01   \n",
       "168      PSP         2,015.00          0.12           0.04             0.02   \n",
       "172      PSV         2,014.00         11.90           0.12             0.07   \n",
       "173      PSV         2,015.00          6.25           0.06             0.03   \n",
       "174      PSV         2,016.00          4.25           0.05             0.03   \n",
       "205      Wii         2,014.00          3.75           0.62             0.37   \n",
       "206      Wii         2,015.00          1.14           0.28             0.09   \n",
       "207      Wii         2,016.00          0.18           0.18             0.18   \n",
       "210     WiiU         2,014.00         22.03           0.71             0.13   \n",
       "211     WiiU         2,015.00         16.35           0.58             0.22   \n",
       "212     WiiU         2,016.00          4.60           0.33             0.21   \n",
       "222     X360         2,014.00         34.74           0.55             0.23   \n",
       "223     X360         2,015.00         11.96           0.34             0.18   \n",
       "224     X360         2,016.00          1.52           0.12             0.10   \n",
       "235     XOne         2,014.00         54.07           0.89             0.44   \n",
       "236     XOne         2,015.00         60.14           0.75             0.24   \n",
       "237     XOne         2,016.00         26.15           0.30             0.06   \n",
       "\n",
       "     count_of_sales  \n",
       "15               80  \n",
       "16               86  \n",
       "17               46  \n",
       "116              47  \n",
       "117              50  \n",
       "118              54  \n",
       "150             108  \n",
       "151              73  \n",
       "152              38  \n",
       "154              75  \n",
       "155             137  \n",
       "156             164  \n",
       "167              10  \n",
       "168               3  \n",
       "172             100  \n",
       "173             110  \n",
       "174              85  \n",
       "205               6  \n",
       "206               4  \n",
       "207               1  \n",
       "210              31  \n",
       "211              28  \n",
       "212              14  \n",
       "222              63  \n",
       "223              35  \n",
       "224              13  \n",
       "235              61  \n",
       "236              80  \n",
       "237              87  "
      ]
     },
     "execution_count": 24,
     "metadata": {},
     "output_type": "execute_result"
    }
   ],
   "source": [
    "actual_year = 2014\n",
    "sales_2014_2016 = total_sales_for_each_platform.query('year_of_release >= @actual_year')\n",
    "sales_2014_2016"
   ]
  },
  {
   "cell_type": "markdown",
   "id": "dbdc4892",
   "metadata": {},
   "source": [
    "Как объяснялось ранее, данные по продажам игры на DS не будем учитывать (с 2014 года игры на эту платформу не продаются)."
   ]
  },
  {
   "cell_type": "markdown",
   "id": "4d0fbfb8",
   "metadata": {},
   "source": [
    "Найдем распределение продаж на эти платформы. Для этого построим график."
   ]
  },
  {
   "cell_type": "code",
   "execution_count": 25,
   "id": "e68dfa0b",
   "metadata": {},
   "outputs": [
    {
     "data": {
      "image/png": "[encoded data removed]",
      "text/plain": [
       "<Figure size 720x720 with 10 Axes>"
      ]
     },
     "metadata": {
      "needs_background": "light"
     },
     "output_type": "display_data"
    }
   ],
   "source": [
    "top_platforms = sales_2014_2016['platform'].unique()\n",
    "\n",
    "plt.figure(figsize=(10, 10))\n",
    "\n",
    "\n",
    "i = 1\n",
    "for platform in top_platforms:\n",
    "    slice = sales_2014_2016.query('platform == @platform')\n",
    "    plt.subplot(6, 2, i)\n",
    "    plt.plot(slice['year_of_release'], slice['sum_of_sales'], linestyle='-', label=platform)\n",
    "    i+=1\n",
    "    \n",
    "    plt.subplots_adjust(left=0.1,\n",
    "                    bottom=0.2, \n",
    "                    right=1.5, \n",
    "                    top=2.5, \n",
    "                    wspace=0.2, \n",
    "                    hspace=1)\n",
    "    \n",
    "    plt.xlabel('год')\n",
    "    plt.ylabel('количество продаж, млн')\n",
    "    plt.legend()\n",
    "\n",
    "\n",
    "plt.show()"
   ]
  },
  {
   "cell_type": "markdown",
   "id": "c4abffc9",
   "metadata": {},
   "source": [
    "- С 2014 по 2016 год продажи игр на всех платформах падают.\n",
    "- В 2016 году лидирует по продажам игры на платформе PS4. На втором месте продажи игр на платформу XOne. На третьем месте продажи игр на платформу 3DS.\n",
    "- Продажи игр на PC и PS3 c 2014 по 2016 годы далеки от нуля.\n",
    "- Самые низкие показатели по продажам у платформ Wii, X360.\n",
    "- Продажи по всем остальным платформам крайне малы."
   ]
  },
  {
   "cell_type": "markdown",
   "id": "b8c57ce6",
   "metadata": {},
   "source": [
    "Построим график «ящик с усами» по глобальным продажам игр для перспективных платформ: PS4, XOne, 3DS и PC"
   ]
  },
  {
   "cell_type": "code",
   "execution_count": 26,
   "id": "c2f65312",
   "metadata": {},
   "outputs": [],
   "source": [
    "#making array with names of perspective platforms\n",
    "names_of_perspective_platforms = ['PS4', 'XOne', '3DS', 'PC', 'PS3']\n",
    "\n",
    "#selecting perspective platforms\n",
    "perspective_platforms = sales_2014_2016.query('platform == @names_of_perspective_platforms')"
   ]
  },
  {
   "cell_type": "code",
   "execution_count": 27,
   "id": "e1b0d414",
   "metadata": {},
   "outputs": [
    {
     "data": {
      "image/png": "[encoded data removed]",
      "text/plain": [
       "<Figure size 432x288 with 1 Axes>"
      ]
     },
     "metadata": {
      "needs_background": "light"
     },
     "output_type": "display_data"
    }
   ],
   "source": [
    "boxplot = sns.boxplot(x=perspective_platforms['platform'], \n",
    "            y=perspective_platforms['sum_of_sales'], \n",
    "            data=perspective_platforms,\n",
    "            palette=\"Blues\")\n",
    "boxplot.axes.set_title(\"Глобальные продажи за 2014-2016 года\", fontsize=14)\n",
    "boxplot.set_xlabel(\"Платформа\", fontsize=14)\n",
    "boxplot.set_ylabel(\"Сумма продаж\", fontsize=14)\n",
    "plt.show()"
   ]
  },
  {
   "cell_type": "code",
   "execution_count": 28,
   "id": "15bcd140",
   "metadata": {},
   "outputs": [
    {
     "data": {
      "text/html": [
       "<div>\n",
       "<style scoped>\n",
       "    .dataframe tbody tr th:only-of-type {\n",
       "        vertical-align: middle;\n",
       "    }\n",
       "\n",
       "    .dataframe tbody tr th {\n",
       "        vertical-align: top;\n",
       "    }\n",
       "\n",
       "    .dataframe thead th {\n",
       "        text-align: right;\n",
       "    }\n",
       "</style>\n",
       "<table border=\"1\" class=\"dataframe\">\n",
       "  <thead>\n",
       "    <tr style=\"text-align: right;\">\n",
       "      <th></th>\n",
       "      <th>platform</th>\n",
       "      <th>year_of_release</th>\n",
       "      <th>sum_of_sales</th>\n",
       "      <th>mean_of_sales</th>\n",
       "      <th>median_of_sales</th>\n",
       "      <th>count_of_sales</th>\n",
       "    </tr>\n",
       "  </thead>\n",
       "  <tbody>\n",
       "    <tr>\n",
       "      <th>15</th>\n",
       "      <td>3DS</td>\n",
       "      <td>2,014.00</td>\n",
       "      <td>43.76</td>\n",
       "      <td>0.55</td>\n",
       "      <td>0.09</td>\n",
       "      <td>80</td>\n",
       "    </tr>\n",
       "    <tr>\n",
       "      <th>16</th>\n",
       "      <td>3DS</td>\n",
       "      <td>2,015.00</td>\n",
       "      <td>27.78</td>\n",
       "      <td>0.32</td>\n",
       "      <td>0.09</td>\n",
       "      <td>86</td>\n",
       "    </tr>\n",
       "    <tr>\n",
       "      <th>17</th>\n",
       "      <td>3DS</td>\n",
       "      <td>2,016.00</td>\n",
       "      <td>15.14</td>\n",
       "      <td>0.33</td>\n",
       "      <td>0.08</td>\n",
       "      <td>46</td>\n",
       "    </tr>\n",
       "    <tr>\n",
       "      <th>116</th>\n",
       "      <td>PC</td>\n",
       "      <td>2,014.00</td>\n",
       "      <td>13.28</td>\n",
       "      <td>0.28</td>\n",
       "      <td>0.10</td>\n",
       "      <td>47</td>\n",
       "    </tr>\n",
       "    <tr>\n",
       "      <th>117</th>\n",
       "      <td>PC</td>\n",
       "      <td>2,015.00</td>\n",
       "      <td>8.52</td>\n",
       "      <td>0.17</td>\n",
       "      <td>0.08</td>\n",
       "      <td>50</td>\n",
       "    </tr>\n",
       "    <tr>\n",
       "      <th>118</th>\n",
       "      <td>PC</td>\n",
       "      <td>2,016.00</td>\n",
       "      <td>5.25</td>\n",
       "      <td>0.10</td>\n",
       "      <td>0.04</td>\n",
       "      <td>54</td>\n",
       "    </tr>\n",
       "    <tr>\n",
       "      <th>150</th>\n",
       "      <td>PS3</td>\n",
       "      <td>2,014.00</td>\n",
       "      <td>47.76</td>\n",
       "      <td>0.44</td>\n",
       "      <td>0.16</td>\n",
       "      <td>108</td>\n",
       "    </tr>\n",
       "    <tr>\n",
       "      <th>151</th>\n",
       "      <td>PS3</td>\n",
       "      <td>2,015.00</td>\n",
       "      <td>16.82</td>\n",
       "      <td>0.23</td>\n",
       "      <td>0.05</td>\n",
       "      <td>73</td>\n",
       "    </tr>\n",
       "    <tr>\n",
       "      <th>152</th>\n",
       "      <td>PS3</td>\n",
       "      <td>2,016.00</td>\n",
       "      <td>3.60</td>\n",
       "      <td>0.09</td>\n",
       "      <td>0.07</td>\n",
       "      <td>38</td>\n",
       "    </tr>\n",
       "    <tr>\n",
       "      <th>154</th>\n",
       "      <td>PS4</td>\n",
       "      <td>2,014.00</td>\n",
       "      <td>100.00</td>\n",
       "      <td>1.33</td>\n",
       "      <td>0.60</td>\n",
       "      <td>75</td>\n",
       "    </tr>\n",
       "    <tr>\n",
       "      <th>155</th>\n",
       "      <td>PS4</td>\n",
       "      <td>2,015.00</td>\n",
       "      <td>118.90</td>\n",
       "      <td>0.87</td>\n",
       "      <td>0.18</td>\n",
       "      <td>137</td>\n",
       "    </tr>\n",
       "    <tr>\n",
       "      <th>156</th>\n",
       "      <td>PS4</td>\n",
       "      <td>2,016.00</td>\n",
       "      <td>69.25</td>\n",
       "      <td>0.42</td>\n",
       "      <td>0.08</td>\n",
       "      <td>164</td>\n",
       "    </tr>\n",
       "    <tr>\n",
       "      <th>235</th>\n",
       "      <td>XOne</td>\n",
       "      <td>2,014.00</td>\n",
       "      <td>54.07</td>\n",
       "      <td>0.89</td>\n",
       "      <td>0.44</td>\n",
       "      <td>61</td>\n",
       "    </tr>\n",
       "    <tr>\n",
       "      <th>236</th>\n",
       "      <td>XOne</td>\n",
       "      <td>2,015.00</td>\n",
       "      <td>60.14</td>\n",
       "      <td>0.75</td>\n",
       "      <td>0.24</td>\n",
       "      <td>80</td>\n",
       "    </tr>\n",
       "    <tr>\n",
       "      <th>237</th>\n",
       "      <td>XOne</td>\n",
       "      <td>2,016.00</td>\n",
       "      <td>26.15</td>\n",
       "      <td>0.30</td>\n",
       "      <td>0.06</td>\n",
       "      <td>87</td>\n",
       "    </tr>\n",
       "  </tbody>\n",
       "</table>\n",
       "</div>"
      ],
      "text/plain": [
       "    platform  year_of_release  sum_of_sales  mean_of_sales  median_of_sales  \\\n",
       "15       3DS         2,014.00         43.76           0.55             0.09   \n",
       "16       3DS         2,015.00         27.78           0.32             0.09   \n",
       "17       3DS         2,016.00         15.14           0.33             0.08   \n",
       "116       PC         2,014.00         13.28           0.28             0.10   \n",
       "117       PC         2,015.00          8.52           0.17             0.08   \n",
       "118       PC         2,016.00          5.25           0.10             0.04   \n",
       "150      PS3         2,014.00         47.76           0.44             0.16   \n",
       "151      PS3         2,015.00         16.82           0.23             0.05   \n",
       "152      PS3         2,016.00          3.60           0.09             0.07   \n",
       "154      PS4         2,014.00        100.00           1.33             0.60   \n",
       "155      PS4         2,015.00        118.90           0.87             0.18   \n",
       "156      PS4         2,016.00         69.25           0.42             0.08   \n",
       "235     XOne         2,014.00         54.07           0.89             0.44   \n",
       "236     XOne         2,015.00         60.14           0.75             0.24   \n",
       "237     XOne         2,016.00         26.15           0.30             0.06   \n",
       "\n",
       "     count_of_sales  \n",
       "15               80  \n",
       "16               86  \n",
       "17               46  \n",
       "116              47  \n",
       "117              50  \n",
       "118              54  \n",
       "150             108  \n",
       "151              73  \n",
       "152              38  \n",
       "154              75  \n",
       "155             137  \n",
       "156             164  \n",
       "235              61  \n",
       "236              80  \n",
       "237              87  "
      ]
     },
     "execution_count": 28,
     "metadata": {},
     "output_type": "execute_result"
    }
   ],
   "source": [
    "perspective_platforms"
   ]
  },
  {
   "cell_type": "markdown",
   "id": "e2e7abce",
   "metadata": {},
   "source": [
    "Для платформы **3DS**\n",
    "Медианное значение глобальных продаж игр составляет около 44 млн. копий<br>\n",
    "Минимальное значение суммарных продаж около 15, максимальное значение суммарных продаж около 57 млн. копий <br>\n",
    "Межквартильный размах от 29 до 51 млн копий.<br>\n",
    "\n",
    "Для платформы **PS4**\n",
    "Медианное значение глобальных продаж игр составляет около 85 млн. копий<br>\n",
    "Минимальное значение суммарных продаж около 19, максимальное значение суммарных продаж около 60 млн. копий <br>\n",
    "Межквартильный размах от 60 до 107 млн копий.<br>\n",
    "\n",
    "Для платформы **XOne**\n",
    "Медианное значение глобальных продаж игр составляет около 41 млн.<br>\n",
    "Минимальное значение суммарных продаж около 29, максимальное значение суммарных продаж около 118 млн. копий <br>\n",
    "Межквартильный размах от 26 до 59 млн копий.<br>\n",
    "\n",
    "Для платформы **PC**\n",
    "Медианное значение глобальных продаж игр составляет около 13 млн.<br>\n",
    "Минимальное значение суммарных продаж около 5, максимальное значение суммарных продаж около 13 млн. копий <br>\n",
    "Межквартильный размах от 10 до 13 млн копий. <br>\n",
    "Имеется выброс, составляющий около 23 млн. Такие продажи наблюдались в 2012 году.\n",
    "\n",
    "Для платформы платформы **PS3**\n",
    "Межквартильный размах от 8 до 30 млн копий. Медианное значние глобавльных продаж игр составляет около 17 млн копий. Минимальное значение суммы продаж 4 млн копий, максимальное значение суммарных продаж 50 млн копий"
   ]
  },
  {
   "cell_type": "markdown",
   "id": "d8d3cccb",
   "metadata": {},
   "source": [
    "### Анализ взаимосвязи продаж и оценок критиков и пользователей"
   ]
  },
  {
   "cell_type": "markdown",
   "id": "0fcd8392",
   "metadata": {},
   "source": [
    "Посмотрим, как влияют на продажи отзывы пользователей и критиков."
   ]
  },
  {
   "cell_type": "code",
   "execution_count": 29,
   "id": "f05c2451",
   "metadata": {},
   "outputs": [
    {
     "data": {
      "image/png": "[encoded data removed]",
      "text/plain": [
       "<Figure size 720x360 with 1 Axes>"
      ]
     },
     "metadata": {
      "needs_background": "light"
     },
     "output_type": "display_data"
    }
   ],
   "source": [
    "plt.figure(figsize = (10,5))\n",
    "\n",
    "ax = sns.scatterplot(x='critic_score', \n",
    "                y='total_sales_worldwide', \n",
    "                data=games.query('platform == @names_of_perspective_platforms'),\n",
    "                hue='platform', marker=\".\")\n",
    "ax.set(title = 'Взаимосвязь объёма продаж и оценки критиков для топ платформ')\n",
    "ax.set_xlabel(\"Оценка критиков\")\n",
    "ax.set_ylabel(\"Количество глобальных продаж\")\n",
    "plt.show()"
   ]
  },
  {
   "cell_type": "markdown",
   "id": "91038077",
   "metadata": {},
   "source": [
    "По графику не видно вообще корреляции между оценкой критиков и суммами продаж. Поэтому считать коэффициент корреляции Пирсона бессмысленно."
   ]
  },
  {
   "cell_type": "code",
   "execution_count": 30,
   "id": "6807e813",
   "metadata": {},
   "outputs": [
    {
     "data": {
      "image/png": "[encoded data removed]",
      "text/plain": [
       "<Figure size 720x360 with 1 Axes>"
      ]
     },
     "metadata": {
      "needs_background": "light"
     },
     "output_type": "display_data"
    }
   ],
   "source": [
    "plt.figure(figsize = (10,5))\n",
    "\n",
    "ax = sns.scatterplot(x='user_score', \n",
    "                y='total_sales_worldwide', \n",
    "                data=games.query('platform == @names_of_perspective_platforms'),\n",
    "                hue='platform', marker=\".\")\n",
    "ax.set(title = 'Взаимосвязь объёма продаж и оценки пользователей для топ платформ')\n",
    "ax.set_xlabel(\"Оценка критиков\")\n",
    "ax.set_ylabel(\"Количество глобальных продаж\")\n",
    "plt.show()"
   ]
  },
  {
   "cell_type": "markdown",
   "id": "8a55bfe9",
   "metadata": {},
   "source": [
    "Мы не наблюдаем чёткой корреляции между оценкой пользователей и объемами продаж игр на топ платформы"
   ]
  },
  {
   "cell_type": "markdown",
   "id": "fd5973f5",
   "metadata": {},
   "source": [
    "### Распределение игр по жанрам"
   ]
  },
  {
   "cell_type": "markdown",
   "id": "c59a0117",
   "metadata": {},
   "source": [
    "Посмотрим на общее распределение игр по жанрам."
   ]
  },
  {
   "cell_type": "code",
   "execution_count": 31,
   "id": "4d7189c0",
   "metadata": {},
   "outputs": [],
   "source": [
    "platform_genre_sales = games.pivot_table(\n",
    "                        index='platform', \n",
    "                        columns='genre', \n",
    "                        values='total_sales_worldwide', \n",
    "                        aggfunc=sum).fillna(0).applymap(float)\n"
   ]
  },
  {
   "cell_type": "code",
   "execution_count": 32,
   "id": "f6d496e2",
   "metadata": {},
   "outputs": [
    {
     "data": {
      "image/png": "[encoded data removed]",
      "text/plain": [
       "<Figure size 1440x1440 with 2 Axes>"
      ]
     },
     "metadata": {
      "needs_background": "light"
     },
     "output_type": "display_data"
    }
   ],
   "source": [
    "plt.figure(figsize=(20, 20))\n",
    "sns.heatmap(platform_genre_sales, annot=True,  fmt ='.1g', cmap= 'coolwarm', linewidths=3, linecolor='black')\n",
    "plt.show()"
   ]
  },
  {
   "cell_type": "code",
   "execution_count": 33,
   "id": "e41c5d0f",
   "metadata": {},
   "outputs": [
    {
     "data": {
      "image/png": "[encoded data removed]",
      "text/plain": [
       "<Figure size 432x288 with 1 Axes>"
      ]
     },
     "metadata": {
      "needs_background": "light"
     },
     "output_type": "display_data"
    }
   ],
   "source": [
    "sns.barplot(x=\"genre\", y=\"total_sales_worldwide\", data=games, ci=None)\n",
    "plt.title('Распределение игр по жанрам')\n",
    "plt.xlabel('жанр игры')\n",
    "plt.ylabel('количество продаж, млн')\n",
    "plt.xticks(rotation=90)\n",
    "plt.show()"
   ]
  },
  {
   "cell_type": "markdown",
   "id": "1bfd1fe5",
   "metadata": {},
   "source": [
    "* Самые прибыльные жанры игр Platform, Shooter, undefined. Undefined - это данные по двум играм, для которых в исходных данных не было данных о жанре игры.<br>\n",
    "* Самые низкие продажи игр жанра Adventure, Strategy."
   ]
  },
  {
   "cell_type": "markdown",
   "id": "f8c0e7c5",
   "metadata": {},
   "source": [
    "Посмотрим на распределение продаж по перспективным платформам."
   ]
  },
  {
   "cell_type": "code",
   "execution_count": 34,
   "id": "8fdaceca",
   "metadata": {},
   "outputs": [
    {
     "data": {
      "image/png": "[encoded data removed]",
      "text/plain": [
       "<Figure size 432x288 with 1 Axes>"
      ]
     },
     "metadata": {
      "needs_background": "light"
     },
     "output_type": "display_data"
    }
   ],
   "source": [
    "perspective_platforms = games.query('platform == @names_of_perspective_platforms')\n",
    "\n",
    "sns.barplot(x=\"genre\", \n",
    "            y=\"total_sales_worldwide\", \n",
    "            data=perspective_platforms, \n",
    "            ci=None, \n",
    "            hue='platform')\n",
    "\n",
    "\n",
    "plt.title('Распределение игр по жанрам для платформ PS4, XOne, 3DS и PC')\n",
    "plt.xlabel('жанр игры')\n",
    "plt.ylabel('количество продаж, млн')\n",
    "plt.xticks(rotation=90)\n",
    "plt.show()"
   ]
  },
  {
   "cell_type": "markdown",
   "id": "d2a5b082",
   "metadata": {},
   "source": [
    "* Для платформы PS4 самые прибыльные жанры игры Shooter и Sports. Самый неприбыльный жанр игры Puzzle и Strategy<br>\n",
    "* Для платформы 3DS самые прибыльные жанры игры Racing и Platform. Самый неприбыльный жанр игры Adventure и Strategy<br>\n",
    "* Для платформы XOne самый прибыльный жанр игры Shooter. Самый неприбыльный жанр игры Puzzle, Strategy, Simulation, Platform, Adventure.<br>\n",
    "* Для платформы PC самый прибыльный жанр игры Role-Playing и Simulation. Самый неприбыльный жанр игры Platform, Fighting, Puzzle.<br>\n",
    "* Для платформы PS3 cамый прибыльный жанр игры shooter. Cамый неприбыльный жанр игры Strategy."
   ]
  },
  {
   "cell_type": "markdown",
   "id": "ea1eef01",
   "metadata": {},
   "source": [
    "### Вывод"
   ]
  },
  {
   "cell_type": "markdown",
   "id": "0594d62d",
   "metadata": {},
   "source": [
    "- С 1980 по 2016 год количество выпускаемых игр на платформы увеличилось<br>\n",
    "- За все годы больше всего продаж игр на платформы DS, PS, PS2, PS3, Wii, X360<br>\n",
    "- С 2013 по 2016 год самые высокие продажи игр на платформы PS4, XOne, 3DS, PC. Но с 2015 года продажи игр на все платформы падают <br>\n",
    "- Самые большие продажи игр с 2013 по 2016 год на платформе PS4 - медианное значение 85 млн копий<br>\n",
    "- Оценки критиков и пользоватлей никак не влияют на объемы продаж игр <br>\n",
    "- Самыми популярными и продаваемыми жанрами игр являются shooter (для PS4 и XOne), racing (для 3DS) и role-playing (для PC)."
   ]
  },
  {
   "cell_type": "markdown",
   "id": "e21bb748",
   "metadata": {},
   "source": [
    "## Описание портретов пользователей каждого региона"
   ]
  },
  {
   "cell_type": "markdown",
   "id": "233ddfa9",
   "metadata": {},
   "source": [
    "### Нахождение самых популярных платформ"
   ]
  },
  {
   "cell_type": "markdown",
   "id": "2d265464",
   "metadata": {},
   "source": [
    "Определим для пользователя каждого региона (NA, EU, JP) самые популярные платформы (топ-5) за всё время выпуска игр."
   ]
  },
  {
   "cell_type": "code",
   "execution_count": 35,
   "id": "2c7d45a7",
   "metadata": {},
   "outputs": [],
   "source": [
    "popular_platforms_for_regions = games.pivot_table(index='platform', \n",
    "                                      aggfunc = 'sum', \n",
    "                                      values = ['na_sales', 'eu_sales', 'jp_sales'])\n",
    "\n",
    "popular_platforms_for_regions.columns = ['total_sales_eu', 'total_sales_jp', 'total_sales_na']\n",
    "popular_platforms_for_regions.reset_index(inplace=True)\n",
    "\n",
    "popular_platforms_for_regions['ratio_eu'] = (popular_platforms_for_regions['total_sales_eu'] *100 / popular_platforms_for_regions['total_sales_eu'].sum())\n",
    "\n",
    "#finding top 5 platforms for eu region\n",
    "top_platforms_for_eu = popular_platforms_for_regions[['platform', 'total_sales_eu', 'ratio_eu']].sort_values(by='total_sales_eu', ascending = False).head(5)\n",
    "                                             "
   ]
  },
  {
   "cell_type": "code",
   "execution_count": 36,
   "id": "40477d70",
   "metadata": {},
   "outputs": [
    {
     "data": {
      "text/html": [
       "<div>\n",
       "<style scoped>\n",
       "    .dataframe tbody tr th:only-of-type {\n",
       "        vertical-align: middle;\n",
       "    }\n",
       "\n",
       "    .dataframe tbody tr th {\n",
       "        vertical-align: top;\n",
       "    }\n",
       "\n",
       "    .dataframe thead th {\n",
       "        text-align: right;\n",
       "    }\n",
       "</style>\n",
       "<table border=\"1\" class=\"dataframe\">\n",
       "  <thead>\n",
       "    <tr style=\"text-align: right;\">\n",
       "      <th></th>\n",
       "      <th>platform</th>\n",
       "      <th>total_sales_eu</th>\n",
       "      <th>ratio_eu</th>\n",
       "    </tr>\n",
       "  </thead>\n",
       "  <tbody>\n",
       "    <tr>\n",
       "      <th>16</th>\n",
       "      <td>PS2</td>\n",
       "      <td>339.29</td>\n",
       "      <td>13.99</td>\n",
       "    </tr>\n",
       "    <tr>\n",
       "      <th>17</th>\n",
       "      <td>PS3</td>\n",
       "      <td>330.29</td>\n",
       "      <td>13.62</td>\n",
       "    </tr>\n",
       "    <tr>\n",
       "      <th>28</th>\n",
       "      <td>X360</td>\n",
       "      <td>270.76</td>\n",
       "      <td>11.17</td>\n",
       "    </tr>\n",
       "    <tr>\n",
       "      <th>26</th>\n",
       "      <td>Wii</td>\n",
       "      <td>262.21</td>\n",
       "      <td>10.81</td>\n",
       "    </tr>\n",
       "    <tr>\n",
       "      <th>15</th>\n",
       "      <td>PS</td>\n",
       "      <td>213.61</td>\n",
       "      <td>8.81</td>\n",
       "    </tr>\n",
       "  </tbody>\n",
       "</table>\n",
       "</div>"
      ],
      "text/plain": [
       "   platform  total_sales_eu  ratio_eu\n",
       "16      PS2          339.29     13.99\n",
       "17      PS3          330.29     13.62\n",
       "28     X360          270.76     11.17\n",
       "26      Wii          262.21     10.81\n",
       "15       PS          213.61      8.81"
      ]
     },
     "execution_count": 36,
     "metadata": {},
     "output_type": "execute_result"
    }
   ],
   "source": [
    "top_platforms_for_eu"
   ]
  },
  {
   "cell_type": "markdown",
   "id": "1b66ad4c",
   "metadata": {},
   "source": [
    "Построим круговую диаграмму"
   ]
  },
  {
   "cell_type": "code",
   "execution_count": 37,
   "id": "0d9501fa",
   "metadata": {},
   "outputs": [
    {
     "data": {
      "image/png": "[encoded data removed]",
      "text/plain": [
       "<Figure size 432x288 with 1 Axes>"
      ]
     },
     "metadata": {},
     "output_type": "display_data"
    }
   ],
   "source": [
    "colors = sns.color_palette('pastel')\n",
    "plt.title('ТОП-5 платформ для Европейского региона')\n",
    "plt.pie(top_platforms_for_eu['ratio_eu'], \n",
    "        labels = top_platforms_for_eu['platform'],\n",
    "        colors=colors, \n",
    "        autopct='%.0f%%', \n",
    "        shadow = True)\n",
    "\n",
    "plt.show()"
   ]
  },
  {
   "cell_type": "code",
   "execution_count": 38,
   "id": "f4fec3b4",
   "metadata": {},
   "outputs": [
    {
     "data": {
      "text/html": [
       "<div>\n",
       "<style scoped>\n",
       "    .dataframe tbody tr th:only-of-type {\n",
       "        vertical-align: middle;\n",
       "    }\n",
       "\n",
       "    .dataframe tbody tr th {\n",
       "        vertical-align: top;\n",
       "    }\n",
       "\n",
       "    .dataframe thead th {\n",
       "        text-align: right;\n",
       "    }\n",
       "</style>\n",
       "<table border=\"1\" class=\"dataframe\">\n",
       "  <thead>\n",
       "    <tr style=\"text-align: right;\">\n",
       "      <th></th>\n",
       "      <th>platform</th>\n",
       "      <th>total_sales_jp</th>\n",
       "      <th>ratio_jp</th>\n",
       "    </tr>\n",
       "  </thead>\n",
       "  <tbody>\n",
       "    <tr>\n",
       "      <th>4</th>\n",
       "      <td>DS</td>\n",
       "      <td>175.57</td>\n",
       "      <td>13.53</td>\n",
       "    </tr>\n",
       "    <tr>\n",
       "      <th>15</th>\n",
       "      <td>PS</td>\n",
       "      <td>139.82</td>\n",
       "      <td>10.78</td>\n",
       "    </tr>\n",
       "    <tr>\n",
       "      <th>16</th>\n",
       "      <td>PS2</td>\n",
       "      <td>139.20</td>\n",
       "      <td>10.73</td>\n",
       "    </tr>\n",
       "    <tr>\n",
       "      <th>23</th>\n",
       "      <td>SNES</td>\n",
       "      <td>116.55</td>\n",
       "      <td>8.98</td>\n",
       "    </tr>\n",
       "    <tr>\n",
       "      <th>2</th>\n",
       "      <td>3DS</td>\n",
       "      <td>100.67</td>\n",
       "      <td>7.76</td>\n",
       "    </tr>\n",
       "  </tbody>\n",
       "</table>\n",
       "</div>"
      ],
      "text/plain": [
       "   platform  total_sales_jp  ratio_jp\n",
       "4        DS          175.57     13.53\n",
       "15       PS          139.82     10.78\n",
       "16      PS2          139.20     10.73\n",
       "23     SNES          116.55      8.98\n",
       "2       3DS          100.67      7.76"
      ]
     },
     "execution_count": 38,
     "metadata": {},
     "output_type": "execute_result"
    }
   ],
   "source": [
    "popular_platforms_for_regions['ratio_jp'] = (popular_platforms_for_regions['total_sales_jp'] *100 / popular_platforms_for_regions['total_sales_jp'].sum())\n",
    "\n",
    "#finding top 5 platforms for jp region\n",
    "top_platforms_for_jp = popular_platforms_for_regions[['platform', 'total_sales_jp', 'ratio_jp']].sort_values(by='total_sales_jp', ascending = False).head(5)\n",
    "top_platforms_for_jp                                          "
   ]
  },
  {
   "cell_type": "code",
   "execution_count": 39,
   "id": "26fceefe",
   "metadata": {},
   "outputs": [
    {
     "data": {
      "image/png": "[encoded data removed]",
      "text/plain": [
       "<Figure size 432x288 with 1 Axes>"
      ]
     },
     "metadata": {},
     "output_type": "display_data"
    }
   ],
   "source": [
    "colors = sns.color_palette('pastel')\n",
    "plt.title('ТОП-5 платформ для Японии')\n",
    "plt.pie(top_platforms_for_jp['ratio_jp'], \n",
    "        labels = top_platforms_for_jp['platform'],\n",
    "        colors=colors, \n",
    "        autopct='%.0f%%', \n",
    "        shadow = True)\n",
    "\n",
    "plt.show()"
   ]
  },
  {
   "cell_type": "code",
   "execution_count": 40,
   "id": "5c58e944",
   "metadata": {},
   "outputs": [
    {
     "data": {
      "text/html": [
       "<div>\n",
       "<style scoped>\n",
       "    .dataframe tbody tr th:only-of-type {\n",
       "        vertical-align: middle;\n",
       "    }\n",
       "\n",
       "    .dataframe tbody tr th {\n",
       "        vertical-align: top;\n",
       "    }\n",
       "\n",
       "    .dataframe thead th {\n",
       "        text-align: right;\n",
       "    }\n",
       "</style>\n",
       "<table border=\"1\" class=\"dataframe\">\n",
       "  <thead>\n",
       "    <tr style=\"text-align: right;\">\n",
       "      <th></th>\n",
       "      <th>platform</th>\n",
       "      <th>total_sales_na</th>\n",
       "      <th>ratio_na</th>\n",
       "    </tr>\n",
       "  </thead>\n",
       "  <tbody>\n",
       "    <tr>\n",
       "      <th>28</th>\n",
       "      <td>X360</td>\n",
       "      <td>602.47</td>\n",
       "      <td>13.69</td>\n",
       "    </tr>\n",
       "    <tr>\n",
       "      <th>16</th>\n",
       "      <td>PS2</td>\n",
       "      <td>583.84</td>\n",
       "      <td>13.26</td>\n",
       "    </tr>\n",
       "    <tr>\n",
       "      <th>26</th>\n",
       "      <td>Wii</td>\n",
       "      <td>496.90</td>\n",
       "      <td>11.29</td>\n",
       "    </tr>\n",
       "    <tr>\n",
       "      <th>17</th>\n",
       "      <td>PS3</td>\n",
       "      <td>393.49</td>\n",
       "      <td>8.94</td>\n",
       "    </tr>\n",
       "    <tr>\n",
       "      <th>4</th>\n",
       "      <td>DS</td>\n",
       "      <td>382.40</td>\n",
       "      <td>8.69</td>\n",
       "    </tr>\n",
       "  </tbody>\n",
       "</table>\n",
       "</div>"
      ],
      "text/plain": [
       "   platform  total_sales_na  ratio_na\n",
       "28     X360          602.47     13.69\n",
       "16      PS2          583.84     13.26\n",
       "26      Wii          496.90     11.29\n",
       "17      PS3          393.49      8.94\n",
       "4        DS          382.40      8.69"
      ]
     },
     "execution_count": 40,
     "metadata": {},
     "output_type": "execute_result"
    }
   ],
   "source": [
    "popular_platforms_for_regions['ratio_na'] = (popular_platforms_for_regions['total_sales_na'] *100 / popular_platforms_for_regions['total_sales_na'].sum())\n",
    "\n",
    "#finding top 5 platforms for jp region\n",
    "top_platforms_for_na = popular_platforms_for_regions[['platform', 'total_sales_na', 'ratio_na']].sort_values(by='total_sales_na', ascending = False).head(5)\n",
    "top_platforms_for_na     "
   ]
  },
  {
   "cell_type": "code",
   "execution_count": 41,
   "id": "7fc8e27e",
   "metadata": {},
   "outputs": [
    {
     "data": {
      "image/png": "[encoded data removed]",
      "text/plain": [
       "<Figure size 432x288 with 1 Axes>"
      ]
     },
     "metadata": {},
     "output_type": "display_data"
    }
   ],
   "source": [
    "colors = sns.color_palette('pastel')\n",
    "plt.title('ТОП-5 платформ для Северной Америки')\n",
    "plt.pie(top_platforms_for_na['ratio_na'], \n",
    "        labels = top_platforms_for_na['platform'],\n",
    "        colors=colors, \n",
    "        autopct='%.0f%%', \n",
    "        shadow = True)\n",
    "\n",
    "plt.show()"
   ]
  },
  {
   "cell_type": "markdown",
   "id": "6406732f",
   "metadata": {},
   "source": [
    "- Топ-5 популярных (c наибольшими продажами игр) платформ для Европейского региона в порядке убывания PS2, PS3, X360, Wii, PS. <br>\n",
    "- Топ-5 популярных (c наибольшими продажами игр)  платформ для Японии  в порядке убывания DS, PS, PS2, SNES, 3DS. <br>\n",
    "- Топ-5 популярных (c наибольшими продажами игр)  платформ для Северной Америки в порядке убывания X360, PS2, Wii, PS3, DS <br>\n",
    "- Самые высокие доли продаж от общего количества проданных игр для Европейского региона: PS2 (14%), PS3 (13.6%), X360(11%), Wii (10.8%), PS (8.8%) <br>\n",
    "- Самые высокие доли продаж от общего количества проданных игр для Японии: DS (13.5%), PS (10.8%), PS2 (10.7%), SNES (9%), 3DS (7.8%) <br>\n",
    "- Самые высокие доли продаж от общего количества проданных игр для Северной Америки: X360 (13.7%), PS2 (13.3%), Wii (11.3%), PS3 (8.9%), DS (8.7%). <br>\n",
    "Во всех трёх регионах популярной является платформа PS2. Доля продаж игр на платформы PS2 от суммарных продаж за все годы на все остальные платформы для Европы, Японии и Северной Америки составляют соответствено: 14%, 10.7% и 13.3% "
   ]
  },
  {
   "cell_type": "markdown",
   "id": "066c2981",
   "metadata": {},
   "source": [
    "### Нахождение самых популярных жанров игр"
   ]
  },
  {
   "cell_type": "markdown",
   "id": "5008d1c7",
   "metadata": {},
   "source": [
    "Определим для пользователя каждого региона (NA, EU, JP) самые популярные жанры игр (топ-5) за всё время выпуска игр."
   ]
  },
  {
   "cell_type": "code",
   "execution_count": 42,
   "id": "8d8a54d7",
   "metadata": {},
   "outputs": [
    {
     "data": {
      "text/html": [
       "<div>\n",
       "<style scoped>\n",
       "    .dataframe tbody tr th:only-of-type {\n",
       "        vertical-align: middle;\n",
       "    }\n",
       "\n",
       "    .dataframe tbody tr th {\n",
       "        vertical-align: top;\n",
       "    }\n",
       "\n",
       "    .dataframe thead th {\n",
       "        text-align: right;\n",
       "    }\n",
       "</style>\n",
       "<table border=\"1\" class=\"dataframe\">\n",
       "  <thead>\n",
       "    <tr style=\"text-align: right;\">\n",
       "      <th></th>\n",
       "      <th>genre</th>\n",
       "      <th>total_sales_eu</th>\n",
       "      <th>total_sales_jp</th>\n",
       "      <th>total_sales_na</th>\n",
       "    </tr>\n",
       "  </thead>\n",
       "  <tbody>\n",
       "    <tr>\n",
       "      <th>0</th>\n",
       "      <td>Action</td>\n",
       "      <td>519.13</td>\n",
       "      <td>161.43</td>\n",
       "      <td>879.01</td>\n",
       "    </tr>\n",
       "    <tr>\n",
       "      <th>10</th>\n",
       "      <td>Sports</td>\n",
       "      <td>376.79</td>\n",
       "      <td>135.54</td>\n",
       "      <td>684.43</td>\n",
       "    </tr>\n",
       "    <tr>\n",
       "      <th>8</th>\n",
       "      <td>Shooter</td>\n",
       "      <td>317.34</td>\n",
       "      <td>38.76</td>\n",
       "      <td>592.24</td>\n",
       "    </tr>\n",
       "    <tr>\n",
       "      <th>6</th>\n",
       "      <td>Racing</td>\n",
       "      <td>236.51</td>\n",
       "      <td>56.71</td>\n",
       "      <td>359.35</td>\n",
       "    </tr>\n",
       "    <tr>\n",
       "      <th>3</th>\n",
       "      <td>Misc</td>\n",
       "      <td>212.74</td>\n",
       "      <td>108.11</td>\n",
       "      <td>407.27</td>\n",
       "    </tr>\n",
       "  </tbody>\n",
       "</table>\n",
       "</div>"
      ],
      "text/plain": [
       "      genre  total_sales_eu  total_sales_jp  total_sales_na\n",
       "0    Action          519.13          161.43          879.01\n",
       "10   Sports          376.79          135.54          684.43\n",
       "8   Shooter          317.34           38.76          592.24\n",
       "6    Racing          236.51           56.71          359.35\n",
       "3      Misc          212.74          108.11          407.27"
      ]
     },
     "execution_count": 42,
     "metadata": {},
     "output_type": "execute_result"
    }
   ],
   "source": [
    "popular_genres = games.pivot_table(index='genre', \n",
    "                                      aggfunc = 'sum', \n",
    "                                      values = ['na_sales', 'eu_sales', 'jp_sales'])\n",
    "popular_genres.columns = ['total_sales_eu', 'total_sales_jp', 'total_sales_na']\n",
    "popular_genres.reset_index(inplace=True)\n",
    "\n",
    "#finding top 5 platforms for eu region\n",
    "popular_genres_eu = popular_genres.sort_values(by='total_sales_eu', ascending = False).head(5)\n",
    "popular_genres_eu"
   ]
  },
  {
   "cell_type": "code",
   "execution_count": 43,
   "id": "326a5adc",
   "metadata": {},
   "outputs": [
    {
     "data": {
      "image/png": "[encoded data removed]",
      "text/plain": [
       "<Figure size 432x288 with 1 Axes>"
      ]
     },
     "metadata": {},
     "output_type": "display_data"
    }
   ],
   "source": [
    "colors = sns.color_palette(\"pastel\")\n",
    "plt.title('ТОП-5 жанров для Европы')\n",
    "plt.pie(popular_genres_eu['total_sales_eu'], labels =popular_genres_eu['genre'],colors=colors, autopct='%.0f%%', shadow = True)\n",
    "plt.show()"
   ]
  },
  {
   "cell_type": "code",
   "execution_count": 44,
   "id": "11f6e886",
   "metadata": {},
   "outputs": [
    {
     "data": {
      "text/html": [
       "<div>\n",
       "<style scoped>\n",
       "    .dataframe tbody tr th:only-of-type {\n",
       "        vertical-align: middle;\n",
       "    }\n",
       "\n",
       "    .dataframe tbody tr th {\n",
       "        vertical-align: top;\n",
       "    }\n",
       "\n",
       "    .dataframe thead th {\n",
       "        text-align: right;\n",
       "    }\n",
       "</style>\n",
       "<table border=\"1\" class=\"dataframe\">\n",
       "  <thead>\n",
       "    <tr style=\"text-align: right;\">\n",
       "      <th></th>\n",
       "      <th>genre</th>\n",
       "      <th>total_sales_eu</th>\n",
       "      <th>total_sales_jp</th>\n",
       "      <th>total_sales_na</th>\n",
       "    </tr>\n",
       "  </thead>\n",
       "  <tbody>\n",
       "    <tr>\n",
       "      <th>7</th>\n",
       "      <td>Role-Playing</td>\n",
       "      <td>188.71</td>\n",
       "      <td>355.41</td>\n",
       "      <td>330.81</td>\n",
       "    </tr>\n",
       "    <tr>\n",
       "      <th>0</th>\n",
       "      <td>Action</td>\n",
       "      <td>519.13</td>\n",
       "      <td>161.43</td>\n",
       "      <td>879.01</td>\n",
       "    </tr>\n",
       "    <tr>\n",
       "      <th>10</th>\n",
       "      <td>Sports</td>\n",
       "      <td>376.79</td>\n",
       "      <td>135.54</td>\n",
       "      <td>684.43</td>\n",
       "    </tr>\n",
       "    <tr>\n",
       "      <th>4</th>\n",
       "      <td>Platform</td>\n",
       "      <td>200.35</td>\n",
       "      <td>130.83</td>\n",
       "      <td>445.50</td>\n",
       "    </tr>\n",
       "    <tr>\n",
       "      <th>3</th>\n",
       "      <td>Misc</td>\n",
       "      <td>212.74</td>\n",
       "      <td>108.11</td>\n",
       "      <td>407.27</td>\n",
       "    </tr>\n",
       "  </tbody>\n",
       "</table>\n",
       "</div>"
      ],
      "text/plain": [
       "           genre  total_sales_eu  total_sales_jp  total_sales_na\n",
       "7   Role-Playing          188.71          355.41          330.81\n",
       "0         Action          519.13          161.43          879.01\n",
       "10        Sports          376.79          135.54          684.43\n",
       "4       Platform          200.35          130.83          445.50\n",
       "3           Misc          212.74          108.11          407.27"
      ]
     },
     "execution_count": 44,
     "metadata": {},
     "output_type": "execute_result"
    }
   ],
   "source": [
    "#finding top 5 platforms for Japan region\n",
    "popular_genres_jp = popular_genres.sort_values(by='total_sales_jp', ascending = False).head(5)\n",
    "popular_genres_jp "
   ]
  },
  {
   "cell_type": "code",
   "execution_count": 45,
   "id": "8b97d744",
   "metadata": {},
   "outputs": [
    {
     "data": {
      "image/png": "[encoded data removed]",
      "text/plain": [
       "<Figure size 432x288 with 1 Axes>"
      ]
     },
     "metadata": {},
     "output_type": "display_data"
    }
   ],
   "source": [
    "colors = sns.color_palette(\"Paired\")\n",
    "plt.title('ТОП-5 жанров для Японии')\n",
    "plt.pie(popular_genres_jp ['total_sales_jp'], labels = popular_genres_jp ['genre'],colors=colors, autopct='%.0f%%', shadow = True)\n",
    "plt.show()"
   ]
  },
  {
   "cell_type": "code",
   "execution_count": 46,
   "id": "cbf04600",
   "metadata": {},
   "outputs": [
    {
     "data": {
      "text/html": [
       "<div>\n",
       "<style scoped>\n",
       "    .dataframe tbody tr th:only-of-type {\n",
       "        vertical-align: middle;\n",
       "    }\n",
       "\n",
       "    .dataframe tbody tr th {\n",
       "        vertical-align: top;\n",
       "    }\n",
       "\n",
       "    .dataframe thead th {\n",
       "        text-align: right;\n",
       "    }\n",
       "</style>\n",
       "<table border=\"1\" class=\"dataframe\">\n",
       "  <thead>\n",
       "    <tr style=\"text-align: right;\">\n",
       "      <th></th>\n",
       "      <th>genre</th>\n",
       "      <th>total_sales_eu</th>\n",
       "      <th>total_sales_jp</th>\n",
       "      <th>total_sales_na</th>\n",
       "    </tr>\n",
       "  </thead>\n",
       "  <tbody>\n",
       "    <tr>\n",
       "      <th>0</th>\n",
       "      <td>Action</td>\n",
       "      <td>519.13</td>\n",
       "      <td>161.43</td>\n",
       "      <td>879.01</td>\n",
       "    </tr>\n",
       "    <tr>\n",
       "      <th>10</th>\n",
       "      <td>Sports</td>\n",
       "      <td>376.79</td>\n",
       "      <td>135.54</td>\n",
       "      <td>684.43</td>\n",
       "    </tr>\n",
       "    <tr>\n",
       "      <th>8</th>\n",
       "      <td>Shooter</td>\n",
       "      <td>317.34</td>\n",
       "      <td>38.76</td>\n",
       "      <td>592.24</td>\n",
       "    </tr>\n",
       "    <tr>\n",
       "      <th>4</th>\n",
       "      <td>Platform</td>\n",
       "      <td>200.35</td>\n",
       "      <td>130.83</td>\n",
       "      <td>445.50</td>\n",
       "    </tr>\n",
       "    <tr>\n",
       "      <th>3</th>\n",
       "      <td>Misc</td>\n",
       "      <td>212.74</td>\n",
       "      <td>108.11</td>\n",
       "      <td>407.27</td>\n",
       "    </tr>\n",
       "  </tbody>\n",
       "</table>\n",
       "</div>"
      ],
      "text/plain": [
       "       genre  total_sales_eu  total_sales_jp  total_sales_na\n",
       "0     Action          519.13          161.43          879.01\n",
       "10    Sports          376.79          135.54          684.43\n",
       "8    Shooter          317.34           38.76          592.24\n",
       "4   Platform          200.35          130.83          445.50\n",
       "3       Misc          212.74          108.11          407.27"
      ]
     },
     "execution_count": 46,
     "metadata": {},
     "output_type": "execute_result"
    }
   ],
   "source": [
    "#finding top 5 platforms for Northern America region\n",
    "popular_genres_na = popular_genres.sort_values(by='total_sales_na', ascending = False).head(5)\n",
    "popular_genres_na"
   ]
  },
  {
   "cell_type": "code",
   "execution_count": 47,
   "id": "8bf0c1e5",
   "metadata": {},
   "outputs": [
    {
     "data": {
      "image/png": "[encoded data removed]",
      "text/plain": [
       "<Figure size 432x288 with 1 Axes>"
      ]
     },
     "metadata": {},
     "output_type": "display_data"
    }
   ],
   "source": [
    "colors = sns.color_palette(\"bright\")\n",
    "plt.title('ТОП-5 жанров для Северной Америки')\n",
    "plt.pie(popular_genres_na ['total_sales_jp'], labels = popular_genres_na ['genre'],colors=colors, autopct='%.0f%%', shadow = True)\n",
    "plt.show()"
   ]
  },
  {
   "cell_type": "markdown",
   "id": "ad3de8f7",
   "metadata": {},
   "source": [
    "Топ-5 популярных (c наибольшими продажами игр) жанров игр для Европейского региона в порядке убывания Action, Sports, Shooter, Racing, Misc. <br>\n",
    "Топ-5 популярных (c наибольшими продажами игр) жанров игр для Японии в порядке убывания Role-Playing, Action, Sports, Platform, Misc.<br>\n",
    "Топ-5 популярных (c наибольшими продажами игр) жанров игр для Северной Америки в порядке убывания Action, Sports, Shooter, Platform, Misc.<br>\n",
    "Для всех трёх регионов популярны игры жанра Action, Sports, Misc.<br>\n",
    "Разница в популярности жанров может быть объяснена разницей доступности и популярности платформ. Для каждой платформы выпускаются свои игры, поэтому если в Японии больше всего распространены платформа DS, то значит на эту платформу скорее всего выпускалось много игр жанра Role-Playing."
   ]
  },
  {
   "cell_type": "markdown",
   "id": "436a963b",
   "metadata": {},
   "source": [
    "### Влияние рейтинга ESRP на продажи"
   ]
  },
  {
   "cell_type": "markdown",
   "id": "f44b67f4",
   "metadata": {},
   "source": [
    "Посмотрим, влияет ли рейтинг ESRP на продажи в каждом из регионов (NA, EU, JP) "
   ]
  },
  {
   "cell_type": "code",
   "execution_count": 48,
   "id": "762273c2",
   "metadata": {},
   "outputs": [
    {
     "data": {
      "text/html": [
       "<div>\n",
       "<style scoped>\n",
       "    .dataframe tbody tr th:only-of-type {\n",
       "        vertical-align: middle;\n",
       "    }\n",
       "\n",
       "    .dataframe tbody tr th {\n",
       "        vertical-align: top;\n",
       "    }\n",
       "\n",
       "    .dataframe thead th {\n",
       "        text-align: right;\n",
       "    }\n",
       "</style>\n",
       "<table border=\"1\" class=\"dataframe\">\n",
       "  <thead>\n",
       "    <tr style=\"text-align: right;\">\n",
       "      <th></th>\n",
       "      <th>rating</th>\n",
       "      <th>eu_sales</th>\n",
       "      <th>jp_sales</th>\n",
       "      <th>na_sales</th>\n",
       "    </tr>\n",
       "  </thead>\n",
       "  <tbody>\n",
       "    <tr>\n",
       "      <th>0</th>\n",
       "      <td>AO</td>\n",
       "      <td>0.61</td>\n",
       "      <td>0.00</td>\n",
       "      <td>1.26</td>\n",
       "    </tr>\n",
       "    <tr>\n",
       "      <th>1</th>\n",
       "      <td>E</td>\n",
       "      <td>710.52</td>\n",
       "      <td>199.57</td>\n",
       "      <td>1,295.55</td>\n",
       "    </tr>\n",
       "    <tr>\n",
       "      <th>2</th>\n",
       "      <td>E10+</td>\n",
       "      <td>188.52</td>\n",
       "      <td>40.20</td>\n",
       "      <td>353.32</td>\n",
       "    </tr>\n",
       "    <tr>\n",
       "      <th>3</th>\n",
       "      <td>EC</td>\n",
       "      <td>0.11</td>\n",
       "      <td>0.00</td>\n",
       "      <td>1.53</td>\n",
       "    </tr>\n",
       "    <tr>\n",
       "      <th>4</th>\n",
       "      <td>M</td>\n",
       "      <td>483.97</td>\n",
       "      <td>64.24</td>\n",
       "      <td>748.48</td>\n",
       "    </tr>\n",
       "    <tr>\n",
       "      <th>5</th>\n",
       "      <td>ND</td>\n",
       "      <td>613.83</td>\n",
       "      <td>841.96</td>\n",
       "      <td>1,242.46</td>\n",
       "    </tr>\n",
       "    <tr>\n",
       "      <th>6</th>\n",
       "      <td>RP</td>\n",
       "      <td>0.08</td>\n",
       "      <td>0.00</td>\n",
       "      <td>0.00</td>\n",
       "    </tr>\n",
       "    <tr>\n",
       "      <th>7</th>\n",
       "      <td>T</td>\n",
       "      <td>427.03</td>\n",
       "      <td>151.40</td>\n",
       "      <td>759.75</td>\n",
       "    </tr>\n",
       "  </tbody>\n",
       "</table>\n",
       "</div>"
      ],
      "text/plain": [
       "  rating  eu_sales  jp_sales  na_sales\n",
       "0     AO      0.61      0.00      1.26\n",
       "1      E    710.52    199.57  1,295.55\n",
       "2   E10+    188.52     40.20    353.32\n",
       "3     EC      0.11      0.00      1.53\n",
       "4      M    483.97     64.24    748.48\n",
       "5     ND    613.83    841.96  1,242.46\n",
       "6     RP      0.08      0.00      0.00\n",
       "7      T    427.03    151.40    759.75"
      ]
     },
     "execution_count": 48,
     "metadata": {},
     "output_type": "execute_result"
    }
   ],
   "source": [
    "#creating pivot table, groped by names of rating and sales in Europe, Japanese and Northern America regions\n",
    "esrp_sales = games.pivot_table(index='rating', \n",
    "                               aggfunc = 'sum', \n",
    "                               values = ['na_sales', 'eu_sales', 'jp_sales'])\n",
    "esrp_sales.reset_index(inplace=True)\n",
    "esrp_sales.columns = ['rating', 'eu_sales', 'jp_sales', 'na_sales']\n",
    "esrp_sales"
   ]
  },
  {
   "cell_type": "code",
   "execution_count": 49,
   "id": "350ba2c4",
   "metadata": {},
   "outputs": [
    {
     "data": {
      "image/png": "[encoded data removed]",
      "text/plain": [
       "<Figure size 432x288 with 1 Axes>"
      ]
     },
     "metadata": {
      "needs_background": "light"
     },
     "output_type": "display_data"
    }
   ],
   "source": [
    "plt.bar(esrp_sales['rating'], esrp_sales['na_sales'], width = 0.4, label='Northern America', alpha=0.2)\n",
    "plt.bar(esrp_sales['rating'], esrp_sales['eu_sales'], width = 0.4, label='Europe', align = 'edge', alpha=0.6)\n",
    "plt.bar(esrp_sales['rating'], esrp_sales['jp_sales'], width = 0.4, label='Japan', align = 'center', alpha=0.4)\n",
    "\n",
    "plt.title('Продажи игр в зависимости от рейтинга ESRP')\n",
    "plt.xlabel('Количество продаж, млн')\n",
    "plt.ylabel('Рейтинг ESRP')\n",
    "plt.xticks(fontsize=12)\n",
    "plt.legend(loc=\"upper center\", bbox_to_anchor=(0.5, 1.25), ncol=3)\n",
    "plt.show()"
   ]
  },
  {
   "cell_type": "markdown",
   "id": "5ee15461",
   "metadata": {},
   "source": [
    "* В Европе и Северной Америке лидируют по продажам игры с рейтингом «E» («Everyone») — «Для всех».\n",
    "* В Японии лидируют по продажам игры с рейтингом ND - Not Defined.\n",
    "* Меньше всего продаж игр во всех регионах с рейтингом «RP» («Rating Pending») — «Рейтинг ожидается» (видно из вышеприведенной сводной таблицы esrp_sales)."
   ]
  },
  {
   "cell_type": "markdown",
   "id": "28ea60f3",
   "metadata": {},
   "source": [
    "### Вывод"
   ]
  },
  {
   "cell_type": "markdown",
   "id": "e6b69c91",
   "metadata": {},
   "source": [
    "* Портрет пользователя из Европы, который покупает больше всего игр: любит платформу PS2, жанр игры  Action, рейтинг игры «E» («Everyone»)<br>\n",
    "* Портрет пользователя из Японии, который покупает больше всего игр: любит платформу DS, жанр игры  Role-Playing, рейтинг ND, Not Defined. <br>\n",
    "* Портрет пользователя из Северной Америки, который покупает больше всего игр: любит платформу X360, жанр игры  Action, рейтинг игры «E» («Everyone»)"
   ]
  },
  {
   "cell_type": "markdown",
   "id": "09a96e75",
   "metadata": {},
   "source": [
    "## Проверка гипотезы"
   ]
  },
  {
   "cell_type": "markdown",
   "id": "929b2cdb",
   "metadata": {},
   "source": [
    "### Двусторонняя проверка: Средние пользовательские рейтинги платформ Xbox One и PC одинаковые за 2012-2016 годы"
   ]
  },
  {
   "cell_type": "markdown",
   "id": "d4a28adc",
   "metadata": {},
   "source": [
    "<p>Введем основную и альтернативные гипотезы:</p>\n",
    "\n",
    "$\\begin{equation*}\n",
    " \\begin{cases}\n",
    "   H_0 :\\text{Средние пользовательские рейтинги платформ Xbox One и PC одинаковые}\\\\\n",
    "   H_1 :\\text{Средние пользовательские рейтинги платформ Xbox One и PC отличаются}\n",
    " \\end{cases}\n",
    "\\end{equation*}$\n",
    "\n",
    "Уровень значимости: $\\alpha = 0.05$\n",
    "\n",
    "Посчитаем p-value.\n",
    "\n",
    "Если p-value будет меньше выбранного уровня значимости $\\alpha = 0.05$, то нулевую гипотезу о равенстве средних отвергнем. Иначе сделаем вывод, что данные не позволили нам отвергнуть нулевую гипотезу."
   ]
  },
  {
   "cell_type": "code",
   "execution_count": 50,
   "id": "dbb6b8bb",
   "metadata": {},
   "outputs": [],
   "source": [
    "alpha = .05"
   ]
  },
  {
   "cell_type": "markdown",
   "id": "f89116f1",
   "metadata": {},
   "source": [
    "Сделаем срез по данным: выберем платформы XBox и PC, релизы игр на которые проходили с 2014 года"
   ]
  },
  {
   "cell_type": "code",
   "execution_count": 51,
   "id": "579f2065",
   "metadata": {},
   "outputs": [],
   "source": [
    "actual_year = 2014\n",
    "#selecting games for pc\n",
    "pc_games_actual_years = games.query('year_of_release >= @actual_year & platform == \"PC\"')\n",
    "#selecting games for xone\n",
    "xone_games_actual_years = games.query('year_of_release >= @actual_year & platform == \"XOne\"')"
   ]
  },
  {
   "cell_type": "markdown",
   "id": "fb901d9e",
   "metadata": {},
   "source": [
    "Проверим данные на нормальность распределения"
   ]
  },
  {
   "cell_type": "code",
   "execution_count": 52,
   "id": "2ac652f7",
   "metadata": {},
   "outputs": [
    {
     "data": {
      "image/png": "[encoded data removed]",
      "text/plain": [
       "<Figure size 360x360 with 1 Axes>"
      ]
     },
     "metadata": {
      "needs_background": "light"
     },
     "output_type": "display_data"
    }
   ],
   "source": [
    "sns.displot(data = pc_games_actual_years, x = \"user_score\", kde=True)\n",
    "plt.show()"
   ]
  },
  {
   "cell_type": "markdown",
   "id": "4b709c9d",
   "metadata": {},
   "source": [
    "Распределение данных больше похоже на гипергеометрическое распределение."
   ]
  },
  {
   "cell_type": "code",
   "execution_count": 53,
   "id": "460892ae",
   "metadata": {},
   "outputs": [
    {
     "data": {
      "image/png": "[encoded data removed]",
      "text/plain": [
       "<Figure size 360x360 with 1 Axes>"
      ]
     },
     "metadata": {
      "needs_background": "light"
     },
     "output_type": "display_data"
    }
   ],
   "source": [
    "sns.displot(data=xone_games_actual_years, x = \"user_score\",kde=True)\n",
    "plt.show()"
   ]
  },
  {
   "cell_type": "markdown",
   "id": "8388cebd",
   "metadata": {},
   "source": [
    "Распределение данных нельяз назвать нормальным."
   ]
  },
  {
   "cell_type": "markdown",
   "id": "5922bae8",
   "metadata": {},
   "source": [
    "Для проверки гипотез воспользуемся непараметрическим тестом Манна-Уитни"
   ]
  },
  {
   "cell_type": "markdown",
   "id": "5ddabeaa",
   "metadata": {},
   "source": [
    "Перед эти мы удалим все строчки с NaNами "
   ]
  },
  {
   "cell_type": "code",
   "execution_count": 54,
   "id": "e48f1d75",
   "metadata": {},
   "outputs": [
    {
     "name": "stdout",
     "output_type": "stream",
     "text": [
      "p-значение:  0.27752869727762175\n",
      "Не получилось отвергнуть нулевую гипотезу\n"
     ]
    }
   ],
   "source": [
    "#deleting NaNs from data\n",
    "pc_games_actual_years = pc_games_actual_years.dropna(subset=['user_score'])\n",
    "xone_games_actual_years = xone_games_actual_years.dropna(subset=['user_score'])\n",
    "\n",
    "results = st.mannwhitneyu(pc_games_actual_years['user_score'], xone_games_actual_years['user_score'], alternative='two-sided')\n",
    "print('p-значение: ', results.pvalue)\n",
    "\n",
    "if (results.pvalue < alpha):\n",
    "    print(\"Отвергаем нулевую гипотезу\")\n",
    "else:\n",
    "    print(\"Не получилось отвергнуть нулевую гипотезу\")"
   ]
  },
  {
   "cell_type": "markdown",
   "id": "e6cd1adf",
   "metadata": {},
   "source": [
    "Получается, что p-value = 0,28. Мы практически с 30%-ой вероятностью можем утверждать, что для данной конкретной выборки средние пользовательские рейтинги платформ Xbox One и PC одинаковые."
   ]
  },
  {
   "cell_type": "markdown",
   "id": "d048a7e3",
   "metadata": {},
   "source": [
    "### Двусторонняя проверка: Средние пользовательские рейтинги жанра Action и Sports разные"
   ]
  },
  {
   "cell_type": "markdown",
   "id": "dc3e854d",
   "metadata": {},
   "source": [
    "<p>Введем основную и альтернативные гипотезы:</p>\n",
    "\n",
    "$\\begin{equation*}\n",
    " \\begin{cases}\n",
    "   H_0 :\\text{Средние пользовательские рейтинги жанра Action и Sports одинаковые}\\\\\n",
    "   H_1 :\\text{Средние пользовательские рейтинги жанра Action и Sports отличаются}\n",
    " \\end{cases}\n",
    "\\end{equation*}$\n",
    "\n",
    "Уровень значимости: $\\alpha = 0.05$\n",
    "\n",
    "Посчитаем p-value.\n",
    "\n",
    "Если p-value будет меньше выбранного уровня значимости $\\alpha = 0.05$, то нулевую гипотезу о равенстве средних отвергнем. Иначе сделаем вывод, что данные не позволили нам отвергнуть нулевую гипотезу."
   ]
  },
  {
   "cell_type": "markdown",
   "id": "3f94b9d6",
   "metadata": {},
   "source": [
    "Сделаем срез по данным: выберем жанры Action и Sports, релизы игр на которые проходили с 2012 года."
   ]
  },
  {
   "cell_type": "code",
   "execution_count": 55,
   "id": "e2eca377",
   "metadata": {},
   "outputs": [],
   "source": [
    "sports_games_actual_years = games.query('year_of_release >= @actual_year & genre == \"Sports\"')\n",
    "action_games_actual_years = games.query('year_of_release >= @actual_year & genre == \"Action\"')"
   ]
  },
  {
   "cell_type": "markdown",
   "id": "4c1f317a",
   "metadata": {},
   "source": [
    "Проверим данные на нормальность распределения"
   ]
  },
  {
   "cell_type": "code",
   "execution_count": 56,
   "id": "29d39bc8",
   "metadata": {},
   "outputs": [
    {
     "data": {
      "text/plain": [
       "<seaborn.axisgrid.FacetGrid at 0x1d5afd81d30>"
      ]
     },
     "execution_count": 56,
     "metadata": {},
     "output_type": "execute_result"
    },
    {
     "data": {
      "image/png": "[encoded data removed]",
      "text/plain": [
       "<Figure size 360x360 with 1 Axes>"
      ]
     },
     "metadata": {
      "needs_background": "light"
     },
     "output_type": "display_data"
    }
   ],
   "source": [
    "sns.displot(data=sports_games_actual_years, x = \"user_score\",kde=True)"
   ]
  },
  {
   "cell_type": "code",
   "execution_count": 57,
   "id": "6f5b2153",
   "metadata": {},
   "outputs": [
    {
     "data": {
      "text/plain": [
       "<seaborn.axisgrid.FacetGrid at 0x1d5afdadbe0>"
      ]
     },
     "execution_count": 57,
     "metadata": {},
     "output_type": "execute_result"
    },
    {
     "data": {
      "image/png": "[encoded data removed]",
      "text/plain": [
       "<Figure size 360x360 with 1 Axes>"
      ]
     },
     "metadata": {
      "needs_background": "light"
     },
     "output_type": "display_data"
    }
   ],
   "source": [
    "sns.displot(data=action_games_actual_years, x = \"user_score\",kde=True)"
   ]
  },
  {
   "cell_type": "markdown",
   "id": "e629cf52",
   "metadata": {},
   "source": [
    "Данные по оценкам пользователей для обоих жанров не распределены нормально."
   ]
  },
  {
   "cell_type": "markdown",
   "id": "b4593c6a",
   "metadata": {},
   "source": [
    "Для проверки гипотез воспользуемся непараметрическим тестом Манна-Уитни"
   ]
  },
  {
   "cell_type": "code",
   "execution_count": 58,
   "id": "399ee052",
   "metadata": {},
   "outputs": [
    {
     "name": "stdout",
     "output_type": "stream",
     "text": [
      "p-значение:  1.2166879280294303e-16\n",
      "Отвергаем нулевую гипотезу\n"
     ]
    }
   ],
   "source": [
    "sports_games_actual_years = sports_games_actual_years .dropna(subset=['user_score'])\n",
    "action_games_actual_years = action_games_actual_years.dropna(subset=['user_score'])\n",
    "\n",
    "results = st.mannwhitneyu(sports_games_actual_years ['user_score'], \n",
    "                          action_games_actual_years['user_score'], \n",
    "                          alternative='two-sided')\n",
    "print('p-значение: ', results.pvalue)\n",
    "\n",
    "if (results.pvalue < alpha):\n",
    "    print(\"Отвергаем нулевую гипотезу\")\n",
    "else:\n",
    "    print(\"Не получилось отвергнуть нулевую гипотезу\")"
   ]
  },
  {
   "cell_type": "markdown",
   "id": "37dabbb7",
   "metadata": {},
   "source": [
    "Вероятность попасть в выбивающиеся значения близка к нулю. значит мы отвергаем нулевую гипотезу. Вывод: средние пользовательские рейтинги жанра Action и Sports отличаются"
   ]
  },
  {
   "cell_type": "markdown",
   "id": "24153a2c",
   "metadata": {},
   "source": [
    "Посчитаем средние значения пользовательских значений для жанра Sports и Action."
   ]
  },
  {
   "cell_type": "code",
   "execution_count": 59,
   "id": "5221a8d3",
   "metadata": {},
   "outputs": [
    {
     "data": {
      "text/plain": [
       "1.2938471514420877"
      ]
     },
     "execution_count": 59,
     "metadata": {},
     "output_type": "execute_result"
    }
   ],
   "source": [
    "action_games_actual_years['user_score'].mean() / sports_games_actual_years['user_score'].mean()"
   ]
  },
  {
   "cell_type": "markdown",
   "id": "026bc883",
   "metadata": {},
   "source": [
    "Средние пользовательские оценки жанра Action выше, чем жанра Sports в 1,29 раза"
   ]
  },
  {
   "cell_type": "markdown",
   "id": "56f3fbeb",
   "metadata": {},
   "source": [
    "### Вывод"
   ]
  },
  {
   "cell_type": "markdown",
   "id": "ff7aa11b",
   "metadata": {},
   "source": [
    "В результате проверки гипотез было выяснено, что средние пользовательские рейтинги платформ Xbox One и PC одинаковые, а редние пользовательские рейтинги жанра Action и Sports отличаются в сторону Action (то есть пользователи данра Action ставят оценки играм выше)."
   ]
  },
  {
   "cell_type": "markdown",
   "id": "a844d22e",
   "metadata": {},
   "source": [
    "## Общий вывод"
   ]
  },
  {
   "cell_type": "markdown",
   "id": "1bd1d8f5",
   "metadata": {},
   "source": [
    "* В исходных данных представлена информация об играх с годом релиза 1980 по 2016. <br>\n",
    "* Макcимальные продажи всех игр для всех платформ за все годы для Северной Америки 41,4 млн копий, для Европы 29 млн копий, для Японии 10,2 млн копий, для остальных регионов 10,6 млн копий. Больше всего продаж в Северной Америке.<br>\n",
    "* В исходных данных есть пропуски в годах релиза игры. Это сильно мешает анализу. Необходимо сделать перевыгрузку даннаых дата-инженерами для более подробного и качественного анализа.<br>\n",
    "* В исходных данных есть пропуски в стобце международного рейтинга. Эти пропуски сильно влияют на выводы о влиянии рейтинга на продажи игр. Такие пропуски были заменены на фиктивное значение. <br>\n",
    "* С 1980 по 2016 год количество выпускаемых игр увеличивается. На какие-то платформы игры перестают выпускаться.<br>\n",
    "* За все представленные годы больше всего продаж игр на платформы DS, PS, PS2, PS3, Wii, X360.<br>\n",
    "    * Игры на платформе DS с 2005 по 2010 годы находятся на пике продаж.<br>\n",
    "    * Игры на платформе PS с 1996 по 2000 годы находятся на пике продаж.<br>\n",
    "    * Игры на платформе PS2 с 2001 по 2005 годы находятся на пике продаж.<br>\n",
    "    * Игры на платформе PS3 с 2008 по 2013 годы находятся на пике продаж.<br>\n",
    "    * Игры на платформе Wii с 2006 по 2009 годы находятся на пике продаж.<br>\n",
    "    * Игры на платформе X360 с 2007 по 2013 годы находятся на пике продаж.<br>\n",
    "* С 2014 по 2016 годы самые высокие продажи игр на платформы PS4, XOne, 3DS, PC и PS3. С 2015 года продажи игр на все платформы падают. Это возможно связано с каким-то мировым кризисом, либо с высокой мощностью компьютеров. Возможно, новые процессоры и видеокарты с компьютерах с 2015 года настолько мощны, что стали заменять людям платформы. При этом на компьютеры выпускаются онлайн игры, что очень сильно привлекает пользователей. Игры на компьютер дешевле, чем на платформы. Поэтому объем продаж на платформы возможно связан с конкуренцией со стороны компьютеров.<br>\n",
    "* Медианные значения продаж с 2014 по 2016 годы для платформы 3DS 44 млн копий, для плафтормы PS4 85 млн копий, для платформы XOne 41 млн копий, для платформы PC 13 млн копий, для платформы PS3 17 млн копий. <br>\n",
    "* Самые продаваемые игры на платформу PS4.<br>\n",
    "*   Исследование показало, что оценки пользователей и критиков никак не влияют на объемы продаж игр.<br>\n",
    "* За весь период (с 1980 по 2016 годы) самыми прибыльными являются жанры игр Platform и Shooter.\n",
    "    * Для перспективных платформ 3DS самым популярным жанром является racing, \n",
    "    * для плафтормы PC role-playing\n",
    "    * для PS4, PS3 и Xone - shooter.<br>\n",
    "Возможно на такие высокие показатели продаж влияют эксклюзивные игры, которые выходят только для определенной платформы.<br>\n",
    "* За все время продаж игр для Северной Америки, Японии и Европы самые популярны игры жанра Action, Sports, Misc.<br>\n",
    "* Портрет пользователя из Европы, который покупает больше всего игр: любит платформу PS2, жанр игры Action, рейтинг игры «E» («Everyone»)\n",
    "* Портрет пользователя из Японии, который покупает больше всего игр: любит платформу DS, жанр игры Role-Playing, рейтинг игры Not Determined.\n",
    "* Портрет пользователя из Северной Америки, который покупает больше всего игр: любит платформу X360, жанр игры Action, рейтинг игры «E» («Everyone»)<br>\n",
    "* Средние пользовательские рейтинги платформ Xbox One и PC одинаковые, а средние пользовательские рейтинги жанра Action и Sports отличаются в сторону Action (то есть пользователи данра Action ставят оценки играм выше)."
   ]
  },
  {
   "cell_type": "code",
   "execution_count": null,
   "id": "fda88a31",
   "metadata": {},
   "outputs": [],
   "source": []
  }
 ],
 "metadata": {
  "ExecuteTimeLog": [
   {
    "duration": 5148,
    "start_time": "2022-04-03T19:24:30.372Z"
   },
   {
    "duration": 2556,
    "start_time": "2022-04-03T19:24:35.522Z"
   },
   {
    "duration": 1337,
    "start_time": "2022-04-03T19:24:38.080Z"
   },
   {
    "duration": 2,
    "start_time": "2022-04-03T19:24:39.419Z"
   },
   {
    "duration": 2123,
    "start_time": "2022-04-03T19:24:39.423Z"
   },
   {
    "duration": 3,
    "start_time": "2022-04-03T19:24:41.548Z"
   },
   {
    "duration": 5,
    "start_time": "2022-04-03T19:24:41.553Z"
   },
   {
    "duration": 14,
    "start_time": "2022-04-03T19:24:41.560Z"
   },
   {
    "duration": 8,
    "start_time": "2022-04-03T19:24:41.575Z"
   },
   {
    "duration": 25,
    "start_time": "2022-04-03T19:24:41.602Z"
   },
   {
    "duration": 16,
    "start_time": "2022-04-03T19:24:41.628Z"
   },
   {
    "duration": 5,
    "start_time": "2022-04-03T19:24:41.645Z"
   },
   {
    "duration": 5,
    "start_time": "2022-04-03T19:24:41.651Z"
   },
   {
    "duration": 6,
    "start_time": "2022-04-03T19:24:41.658Z"
   },
   {
    "duration": 36,
    "start_time": "2022-04-03T19:24:41.665Z"
   },
   {
    "duration": 14,
    "start_time": "2022-04-03T19:24:41.703Z"
   },
   {
    "duration": 7,
    "start_time": "2022-04-03T19:24:41.718Z"
   },
   {
    "duration": 5,
    "start_time": "2022-04-03T19:24:41.726Z"
   },
   {
    "duration": 12,
    "start_time": "2022-04-03T19:24:41.732Z"
   },
   {
    "duration": 6,
    "start_time": "2022-04-03T19:24:41.745Z"
   },
   {
    "duration": 22,
    "start_time": "2022-04-03T19:24:41.752Z"
   },
   {
    "duration": 27,
    "start_time": "2022-04-03T19:24:41.775Z"
   },
   {
    "duration": 8,
    "start_time": "2022-04-03T19:24:41.803Z"
   },
   {
    "duration": 6,
    "start_time": "2022-04-03T19:24:41.812Z"
   },
   {
    "duration": 29,
    "start_time": "2022-04-03T19:24:41.820Z"
   },
   {
    "duration": 924,
    "start_time": "2022-04-03T19:24:41.850Z"
   },
   {
    "duration": 33,
    "start_time": "2022-04-03T19:24:42.776Z"
   },
   {
    "duration": 19,
    "start_time": "2022-04-03T19:24:42.813Z"
   },
   {
    "duration": 18,
    "start_time": "2022-04-03T19:24:42.834Z"
   },
   {
    "duration": 18,
    "start_time": "2022-04-03T19:24:42.853Z"
   },
   {
    "duration": 42,
    "start_time": "2022-04-03T19:24:42.873Z"
   },
   {
    "duration": 19,
    "start_time": "2022-04-03T19:24:42.916Z"
   },
   {
    "duration": 141,
    "start_time": "2022-04-03T19:24:42.937Z"
   },
   {
    "duration": 257,
    "start_time": "2022-04-03T19:24:43.079Z"
   },
   {
    "duration": 169,
    "start_time": "2022-04-03T19:24:43.337Z"
   },
   {
    "duration": 16,
    "start_time": "2022-04-03T19:24:43.507Z"
   },
   {
    "duration": 260,
    "start_time": "2022-04-03T19:24:43.524Z"
   },
   {
    "duration": 4,
    "start_time": "2022-04-03T19:24:43.786Z"
   },
   {
    "duration": 147,
    "start_time": "2022-04-03T19:24:43.792Z"
   },
   {
    "duration": 10,
    "start_time": "2022-04-03T19:24:43.940Z"
   },
   {
    "duration": 145,
    "start_time": "2022-04-03T19:24:43.952Z"
   },
   {
    "duration": 5,
    "start_time": "2022-04-03T19:24:44.098Z"
   },
   {
    "duration": 139,
    "start_time": "2022-04-03T19:24:44.105Z"
   },
   {
    "duration": 5,
    "start_time": "2022-04-03T19:24:44.245Z"
   },
   {
    "duration": 15,
    "start_time": "2022-04-03T19:24:44.251Z"
   },
   {
    "duration": 7,
    "start_time": "2022-04-03T19:24:44.268Z"
   },
   {
    "duration": 257,
    "start_time": "2022-04-03T19:24:44.276Z"
   },
   {
    "duration": 243,
    "start_time": "2022-04-03T19:24:44.535Z"
   },
   {
    "duration": 6,
    "start_time": "2022-04-03T19:24:44.780Z"
   },
   {
    "duration": 241,
    "start_time": "2022-04-03T19:24:44.788Z"
   },
   {
    "duration": 241,
    "start_time": "2022-04-03T19:24:45.030Z"
   },
   {
    "duration": 5,
    "start_time": "2022-04-03T19:24:45.273Z"
   },
   {
    "duration": 251,
    "start_time": "2022-04-03T19:24:45.280Z"
   },
   {
    "duration": 295,
    "start_time": "2022-04-03T19:24:45.532Z"
   },
   {
    "duration": 6,
    "start_time": "2022-04-03T19:24:45.829Z"
   },
   {
    "duration": 259,
    "start_time": "2022-04-03T19:24:45.837Z"
   },
   {
    "duration": 251,
    "start_time": "2022-04-03T19:24:46.097Z"
   },
   {
    "duration": 6,
    "start_time": "2022-04-03T19:24:46.350Z"
   },
   {
    "duration": 261,
    "start_time": "2022-04-03T19:24:46.357Z"
   },
   {
    "duration": 246,
    "start_time": "2022-04-03T19:24:46.620Z"
   },
   {
    "duration": 22,
    "start_time": "2022-04-03T19:24:46.868Z"
   },
   {
    "duration": 167,
    "start_time": "2022-04-03T19:24:46.900Z"
   },
   {
    "duration": 250,
    "start_time": "2022-04-03T19:24:47.069Z"
   },
   {
    "duration": 24,
    "start_time": "2022-04-03T19:24:47.321Z"
   },
   {
    "duration": 11,
    "start_time": "2022-04-03T19:24:47.347Z"
   },
   {
    "duration": 21,
    "start_time": "2022-04-03T19:24:47.359Z"
   },
   {
    "duration": 24,
    "start_time": "2022-04-03T19:24:47.382Z"
   },
   {
    "duration": 21,
    "start_time": "2022-04-03T19:24:47.408Z"
   },
   {
    "duration": 21,
    "start_time": "2022-04-03T19:24:47.430Z"
   },
   {
    "duration": 18,
    "start_time": "2022-04-03T19:24:47.452Z"
   },
   {
    "duration": 14,
    "start_time": "2022-04-03T19:24:47.472Z"
   },
   {
    "duration": 15,
    "start_time": "2022-04-03T19:24:47.487Z"
   },
   {
    "duration": 28,
    "start_time": "2022-04-03T19:24:47.504Z"
   },
   {
    "duration": 161,
    "start_time": "2022-04-03T19:24:47.533Z"
   },
   {
    "duration": 5,
    "start_time": "2022-04-03T19:24:47.696Z"
   },
   {
    "duration": 12,
    "start_time": "2022-04-03T19:24:47.703Z"
   },
   {
    "duration": 445,
    "start_time": "2022-04-03T19:24:47.716Z"
   },
   {
    "duration": 0,
    "start_time": "2022-04-03T19:24:48.163Z"
   },
   {
    "duration": 0,
    "start_time": "2022-04-03T19:24:48.164Z"
   },
   {
    "duration": 0,
    "start_time": "2022-04-03T19:24:48.165Z"
   },
   {
    "duration": 0,
    "start_time": "2022-04-03T19:24:48.167Z"
   },
   {
    "duration": 0,
    "start_time": "2022-04-03T19:24:48.168Z"
   },
   {
    "duration": 0,
    "start_time": "2022-04-03T19:24:48.169Z"
   },
   {
    "duration": 0,
    "start_time": "2022-04-03T19:24:48.171Z"
   },
   {
    "duration": 302,
    "start_time": "2022-04-03T19:25:16.846Z"
   },
   {
    "duration": 10,
    "start_time": "2022-04-03T19:25:18.982Z"
   },
   {
    "duration": 10,
    "start_time": "2022-04-03T19:25:21.136Z"
   },
   {
    "duration": 331,
    "start_time": "2022-04-03T19:25:21.643Z"
   },
   {
    "duration": 0,
    "start_time": "2022-04-03T19:25:21.975Z"
   },
   {
    "duration": 11,
    "start_time": "2022-04-03T19:25:22.607Z"
   },
   {
    "duration": 5,
    "start_time": "2022-04-03T19:25:24.202Z"
   },
   {
    "duration": 105238,
    "start_time": "2022-04-14T09:46:11.880Z"
   },
   {
    "duration": 105079,
    "start_time": "2022-04-14T09:47:57.121Z"
   },
   {
    "duration": 1181,
    "start_time": "2022-04-14T09:49:42.202Z"
   },
   {
    "duration": 6,
    "start_time": "2022-04-14T09:49:43.392Z"
   },
   {
    "duration": 2420,
    "start_time": "2022-04-14T09:49:43.400Z"
   },
   {
    "duration": 3,
    "start_time": "2022-04-14T09:49:45.822Z"
   },
   {
    "duration": 12,
    "start_time": "2022-04-14T09:49:45.826Z"
   },
   {
    "duration": 19,
    "start_time": "2022-04-14T09:49:45.839Z"
   },
   {
    "duration": 9,
    "start_time": "2022-04-14T09:49:45.860Z"
   },
   {
    "duration": 31,
    "start_time": "2022-04-14T09:49:45.872Z"
   },
   {
    "duration": 26,
    "start_time": "2022-04-14T09:49:45.904Z"
   },
   {
    "duration": 5,
    "start_time": "2022-04-14T09:49:45.932Z"
   },
   {
    "duration": 6,
    "start_time": "2022-04-14T09:49:45.938Z"
   },
   {
    "duration": 8,
    "start_time": "2022-04-14T09:49:45.946Z"
   },
   {
    "duration": 6,
    "start_time": "2022-04-14T09:49:45.955Z"
   },
   {
    "duration": 19,
    "start_time": "2022-04-14T09:49:45.962Z"
   },
   {
    "duration": 34,
    "start_time": "2022-04-14T09:49:45.982Z"
   },
   {
    "duration": 10,
    "start_time": "2022-04-14T09:49:46.018Z"
   },
   {
    "duration": 10,
    "start_time": "2022-04-14T09:49:46.029Z"
   },
   {
    "duration": 4,
    "start_time": "2022-04-14T09:49:46.040Z"
   },
   {
    "duration": 16,
    "start_time": "2022-04-14T09:49:46.045Z"
   },
   {
    "duration": 5,
    "start_time": "2022-04-14T09:49:46.063Z"
   },
   {
    "duration": 6,
    "start_time": "2022-04-14T09:49:46.070Z"
   },
   {
    "duration": 42,
    "start_time": "2022-04-14T09:49:46.077Z"
   },
   {
    "duration": 28,
    "start_time": "2022-04-14T09:49:46.121Z"
   },
   {
    "duration": 1076,
    "start_time": "2022-04-14T09:49:46.151Z"
   },
   {
    "duration": 22,
    "start_time": "2022-04-14T09:49:47.229Z"
   },
   {
    "duration": 20,
    "start_time": "2022-04-14T09:49:47.256Z"
   },
   {
    "duration": 52,
    "start_time": "2022-04-14T09:49:47.278Z"
   },
   {
    "duration": 20,
    "start_time": "2022-04-14T09:49:47.332Z"
   },
   {
    "duration": 21,
    "start_time": "2022-04-14T09:49:47.354Z"
   },
   {
    "duration": 49,
    "start_time": "2022-04-14T09:49:47.377Z"
   },
   {
    "duration": 148,
    "start_time": "2022-04-14T09:49:47.427Z"
   },
   {
    "duration": 315,
    "start_time": "2022-04-14T09:49:47.577Z"
   },
   {
    "duration": 200,
    "start_time": "2022-04-14T09:49:47.894Z"
   },
   {
    "duration": 36,
    "start_time": "2022-04-14T09:49:48.096Z"
   },
   {
    "duration": 308,
    "start_time": "2022-04-14T09:49:48.134Z"
   },
   {
    "duration": 5,
    "start_time": "2022-04-14T09:49:48.444Z"
   },
   {
    "duration": 174,
    "start_time": "2022-04-14T09:49:48.451Z"
   },
   {
    "duration": 11,
    "start_time": "2022-04-14T09:49:48.628Z"
   },
   {
    "duration": 181,
    "start_time": "2022-04-14T09:49:48.641Z"
   },
   {
    "duration": 6,
    "start_time": "2022-04-14T09:49:48.824Z"
   },
   {
    "duration": 156,
    "start_time": "2022-04-14T09:49:48.832Z"
   },
   {
    "duration": 4,
    "start_time": "2022-04-14T09:49:48.990Z"
   },
   {
    "duration": 14,
    "start_time": "2022-04-14T09:49:49.007Z"
   },
   {
    "duration": 7,
    "start_time": "2022-04-14T09:49:49.022Z"
   },
   {
    "duration": 304,
    "start_time": "2022-04-14T09:49:49.031Z"
   },
   {
    "duration": 287,
    "start_time": "2022-04-14T09:49:49.337Z"
   },
   {
    "duration": 6,
    "start_time": "2022-04-14T09:49:49.626Z"
   },
   {
    "duration": 272,
    "start_time": "2022-04-14T09:49:49.634Z"
   },
   {
    "duration": 269,
    "start_time": "2022-04-14T09:49:49.908Z"
   },
   {
    "duration": 8,
    "start_time": "2022-04-14T09:49:50.179Z"
   },
   {
    "duration": 294,
    "start_time": "2022-04-14T09:49:50.189Z"
   },
   {
    "duration": 338,
    "start_time": "2022-04-14T09:49:50.485Z"
   },
   {
    "duration": 7,
    "start_time": "2022-04-14T09:49:50.825Z"
   },
   {
    "duration": 298,
    "start_time": "2022-04-14T09:49:50.834Z"
   },
   {
    "duration": 270,
    "start_time": "2022-04-14T09:49:51.134Z"
   },
   {
    "duration": 12,
    "start_time": "2022-04-14T09:49:51.408Z"
   },
   {
    "duration": 293,
    "start_time": "2022-04-14T09:49:51.422Z"
   },
   {
    "duration": 281,
    "start_time": "2022-04-14T09:49:51.717Z"
   },
   {
    "duration": 36,
    "start_time": "2022-04-14T09:49:52.000Z"
   },
   {
    "duration": 200,
    "start_time": "2022-04-14T09:49:52.038Z"
   },
   {
    "duration": 299,
    "start_time": "2022-04-14T09:49:52.240Z"
   },
   {
    "duration": 28,
    "start_time": "2022-04-14T09:49:52.540Z"
   },
   {
    "duration": 12,
    "start_time": "2022-04-14T09:49:52.570Z"
   },
   {
    "duration": 34,
    "start_time": "2022-04-14T09:49:52.583Z"
   },
   {
    "duration": 13,
    "start_time": "2022-04-14T09:49:52.619Z"
   },
   {
    "duration": 14,
    "start_time": "2022-04-14T09:49:52.634Z"
   },
   {
    "duration": 17,
    "start_time": "2022-04-14T09:49:52.649Z"
   },
   {
    "duration": 17,
    "start_time": "2022-04-14T09:49:52.667Z"
   },
   {
    "duration": 34,
    "start_time": "2022-04-14T09:49:52.686Z"
   },
   {
    "duration": 9,
    "start_time": "2022-04-14T09:49:52.722Z"
   },
   {
    "duration": 21,
    "start_time": "2022-04-14T09:49:52.732Z"
   },
   {
    "duration": 210,
    "start_time": "2022-04-14T09:49:52.755Z"
   },
   {
    "duration": 3,
    "start_time": "2022-04-14T09:49:52.967Z"
   },
   {
    "duration": 11,
    "start_time": "2022-04-14T09:49:52.972Z"
   },
   {
    "duration": 472,
    "start_time": "2022-04-14T09:49:52.985Z"
   },
   {
    "duration": 0,
    "start_time": "2022-04-14T09:49:53.459Z"
   },
   {
    "duration": 0,
    "start_time": "2022-04-14T09:49:53.460Z"
   },
   {
    "duration": 0,
    "start_time": "2022-04-14T09:49:53.462Z"
   },
   {
    "duration": 0,
    "start_time": "2022-04-14T09:49:53.463Z"
   },
   {
    "duration": 0,
    "start_time": "2022-04-14T09:49:53.464Z"
   },
   {
    "duration": 0,
    "start_time": "2022-04-14T09:49:53.465Z"
   },
   {
    "duration": 0,
    "start_time": "2022-04-14T09:49:53.466Z"
   },
   {
    "duration": 348,
    "start_time": "2022-04-14T09:59:52.520Z"
   },
   {
    "duration": 456,
    "start_time": "2022-04-14T09:59:56.802Z"
   },
   {
    "duration": 316,
    "start_time": "2022-04-14T10:01:31.236Z"
   },
   {
    "duration": 0,
    "start_time": "2022-04-14T10:01:31.553Z"
   },
   {
    "duration": 0,
    "start_time": "2022-04-14T10:01:31.555Z"
   },
   {
    "duration": 0,
    "start_time": "2022-04-14T10:01:31.556Z"
   },
   {
    "duration": 0,
    "start_time": "2022-04-14T10:01:31.557Z"
   },
   {
    "duration": 0,
    "start_time": "2022-04-14T10:01:31.558Z"
   },
   {
    "duration": 0,
    "start_time": "2022-04-14T10:01:31.560Z"
   },
   {
    "duration": 11,
    "start_time": "2022-04-14T10:01:58.078Z"
   },
   {
    "duration": 10,
    "start_time": "2022-04-14T10:01:58.091Z"
   },
   {
    "duration": 301,
    "start_time": "2022-04-14T10:01:58.102Z"
   },
   {
    "duration": 0,
    "start_time": "2022-04-14T10:01:58.410Z"
   },
   {
    "duration": 0,
    "start_time": "2022-04-14T10:01:58.412Z"
   },
   {
    "duration": 0,
    "start_time": "2022-04-14T10:01:58.414Z"
   },
   {
    "duration": 330,
    "start_time": "2022-04-14T10:05:30.084Z"
   },
   {
    "duration": 11,
    "start_time": "2022-04-14T10:05:34.930Z"
   },
   {
    "duration": 5,
    "start_time": "2022-04-14T10:05:37.411Z"
   },
   {
    "duration": 106151,
    "start_time": "2022-04-14T10:06:41.106Z"
   },
   {
    "duration": 105148,
    "start_time": "2022-04-14T10:08:27.259Z"
   },
   {
    "duration": 1145,
    "start_time": "2022-04-14T10:10:12.409Z"
   },
   {
    "duration": 3,
    "start_time": "2022-04-14T10:10:13.556Z"
   },
   {
    "duration": 1896,
    "start_time": "2022-04-14T10:10:13.560Z"
   },
   {
    "duration": 4,
    "start_time": "2022-04-14T10:10:15.459Z"
   },
   {
    "duration": 7,
    "start_time": "2022-04-14T10:10:15.465Z"
   },
   {
    "duration": 33,
    "start_time": "2022-04-14T10:10:15.474Z"
   },
   {
    "duration": 9,
    "start_time": "2022-04-14T10:10:15.509Z"
   },
   {
    "duration": 28,
    "start_time": "2022-04-14T10:10:15.521Z"
   },
   {
    "duration": 15,
    "start_time": "2022-04-14T10:10:15.551Z"
   },
   {
    "duration": 5,
    "start_time": "2022-04-14T10:10:15.568Z"
   },
   {
    "duration": 34,
    "start_time": "2022-04-14T10:10:15.575Z"
   },
   {
    "duration": 7,
    "start_time": "2022-04-14T10:10:15.610Z"
   },
   {
    "duration": 5,
    "start_time": "2022-04-14T10:10:15.619Z"
   },
   {
    "duration": 15,
    "start_time": "2022-04-14T10:10:15.626Z"
   },
   {
    "duration": 4,
    "start_time": "2022-04-14T10:10:15.643Z"
   },
   {
    "duration": 6,
    "start_time": "2022-04-14T10:10:15.649Z"
   },
   {
    "duration": 10,
    "start_time": "2022-04-14T10:10:15.657Z"
   },
   {
    "duration": 41,
    "start_time": "2022-04-14T10:10:15.668Z"
   },
   {
    "duration": 19,
    "start_time": "2022-04-14T10:10:15.711Z"
   },
   {
    "duration": 6,
    "start_time": "2022-04-14T10:10:15.731Z"
   },
   {
    "duration": 7,
    "start_time": "2022-04-14T10:10:15.739Z"
   },
   {
    "duration": 8,
    "start_time": "2022-04-14T10:10:15.748Z"
   },
   {
    "duration": 62,
    "start_time": "2022-04-14T10:10:15.758Z"
   },
   {
    "duration": 1069,
    "start_time": "2022-04-14T10:10:15.822Z"
   },
   {
    "duration": 28,
    "start_time": "2022-04-14T10:10:16.893Z"
   },
   {
    "duration": 20,
    "start_time": "2022-04-14T10:10:16.926Z"
   },
   {
    "duration": 21,
    "start_time": "2022-04-14T10:10:16.947Z"
   },
   {
    "duration": 50,
    "start_time": "2022-04-14T10:10:16.969Z"
   },
   {
    "duration": 21,
    "start_time": "2022-04-14T10:10:17.021Z"
   },
   {
    "duration": 21,
    "start_time": "2022-04-14T10:10:17.044Z"
   },
   {
    "duration": 170,
    "start_time": "2022-04-14T10:10:17.067Z"
   },
   {
    "duration": 312,
    "start_time": "2022-04-14T10:10:17.239Z"
   },
   {
    "duration": 199,
    "start_time": "2022-04-14T10:10:17.553Z"
   },
   {
    "duration": 17,
    "start_time": "2022-04-14T10:10:17.754Z"
   },
   {
    "duration": 298,
    "start_time": "2022-04-14T10:10:17.773Z"
   },
   {
    "duration": 5,
    "start_time": "2022-04-14T10:10:18.073Z"
   },
   {
    "duration": 166,
    "start_time": "2022-04-14T10:10:18.080Z"
   },
   {
    "duration": 10,
    "start_time": "2022-04-14T10:10:18.248Z"
   },
   {
    "duration": 171,
    "start_time": "2022-04-14T10:10:18.260Z"
   },
   {
    "duration": 5,
    "start_time": "2022-04-14T10:10:18.433Z"
   },
   {
    "duration": 159,
    "start_time": "2022-04-14T10:10:18.440Z"
   },
   {
    "duration": 9,
    "start_time": "2022-04-14T10:10:18.601Z"
   },
   {
    "duration": 6,
    "start_time": "2022-04-14T10:10:18.612Z"
   },
   {
    "duration": 7,
    "start_time": "2022-04-14T10:10:18.620Z"
   },
   {
    "duration": 312,
    "start_time": "2022-04-14T10:10:18.629Z"
   },
   {
    "duration": 289,
    "start_time": "2022-04-14T10:10:18.942Z"
   },
   {
    "duration": 6,
    "start_time": "2022-04-14T10:10:19.233Z"
   },
   {
    "duration": 278,
    "start_time": "2022-04-14T10:10:19.241Z"
   },
   {
    "duration": 275,
    "start_time": "2022-04-14T10:10:19.521Z"
   },
   {
    "duration": 12,
    "start_time": "2022-04-14T10:10:19.798Z"
   },
   {
    "duration": 289,
    "start_time": "2022-04-14T10:10:19.811Z"
   },
   {
    "duration": 359,
    "start_time": "2022-04-14T10:10:20.102Z"
   },
   {
    "duration": 7,
    "start_time": "2022-04-14T10:10:20.463Z"
   },
   {
    "duration": 319,
    "start_time": "2022-04-14T10:10:20.471Z"
   },
   {
    "duration": 286,
    "start_time": "2022-04-14T10:10:20.792Z"
   },
   {
    "duration": 6,
    "start_time": "2022-04-14T10:10:21.080Z"
   },
   {
    "duration": 288,
    "start_time": "2022-04-14T10:10:21.088Z"
   },
   {
    "duration": 278,
    "start_time": "2022-04-14T10:10:21.377Z"
   },
   {
    "duration": 26,
    "start_time": "2022-04-14T10:10:21.657Z"
   },
   {
    "duration": 205,
    "start_time": "2022-04-14T10:10:21.685Z"
   },
   {
    "duration": 311,
    "start_time": "2022-04-14T10:10:21.892Z"
   },
   {
    "duration": 31,
    "start_time": "2022-04-14T10:10:22.205Z"
   },
   {
    "duration": 13,
    "start_time": "2022-04-14T10:10:22.237Z"
   },
   {
    "duration": 12,
    "start_time": "2022-04-14T10:10:22.252Z"
   },
   {
    "duration": 44,
    "start_time": "2022-04-14T10:10:22.266Z"
   },
   {
    "duration": 14,
    "start_time": "2022-04-14T10:10:22.312Z"
   },
   {
    "duration": 15,
    "start_time": "2022-04-14T10:10:22.328Z"
   },
   {
    "duration": 24,
    "start_time": "2022-04-14T10:10:22.345Z"
   },
   {
    "duration": 38,
    "start_time": "2022-04-14T10:10:22.371Z"
   },
   {
    "duration": 16,
    "start_time": "2022-04-14T10:10:22.410Z"
   },
   {
    "duration": 29,
    "start_time": "2022-04-14T10:10:22.428Z"
   },
   {
    "duration": 185,
    "start_time": "2022-04-14T10:10:22.459Z"
   },
   {
    "duration": 2,
    "start_time": "2022-04-14T10:10:22.646Z"
   },
   {
    "duration": 14,
    "start_time": "2022-04-14T10:10:22.650Z"
   },
   {
    "duration": 484,
    "start_time": "2022-04-14T10:10:22.665Z"
   },
   {
    "duration": 0,
    "start_time": "2022-04-14T10:10:23.151Z"
   },
   {
    "duration": 0,
    "start_time": "2022-04-14T10:10:23.152Z"
   },
   {
    "duration": 0,
    "start_time": "2022-04-14T10:10:23.153Z"
   },
   {
    "duration": 0,
    "start_time": "2022-04-14T10:10:23.154Z"
   },
   {
    "duration": 0,
    "start_time": "2022-04-14T10:10:23.155Z"
   },
   {
    "duration": 0,
    "start_time": "2022-04-14T10:10:23.157Z"
   },
   {
    "duration": 0,
    "start_time": "2022-04-14T10:10:23.158Z"
   },
   {
    "duration": 146,
    "start_time": "2022-04-16T15:40:44.542Z"
   },
   {
    "duration": 1957,
    "start_time": "2022-04-16T15:42:30.904Z"
   },
   {
    "duration": 4,
    "start_time": "2022-04-16T15:42:32.864Z"
   },
   {
    "duration": 2419,
    "start_time": "2022-04-16T15:42:32.870Z"
   },
   {
    "duration": 5,
    "start_time": "2022-04-16T15:42:35.292Z"
   },
   {
    "duration": 10,
    "start_time": "2022-04-16T15:42:35.299Z"
   },
   {
    "duration": 20,
    "start_time": "2022-04-16T15:42:35.324Z"
   },
   {
    "duration": 12,
    "start_time": "2022-04-16T15:42:35.346Z"
   },
   {
    "duration": 68,
    "start_time": "2022-04-16T15:42:35.360Z"
   },
   {
    "duration": 21,
    "start_time": "2022-04-16T15:42:35.430Z"
   },
   {
    "duration": 7,
    "start_time": "2022-04-16T15:42:35.455Z"
   },
   {
    "duration": 14,
    "start_time": "2022-04-16T15:42:35.463Z"
   },
   {
    "duration": 9,
    "start_time": "2022-04-16T15:42:35.480Z"
   },
   {
    "duration": 37,
    "start_time": "2022-04-16T15:42:35.491Z"
   },
   {
    "duration": 28,
    "start_time": "2022-04-16T15:42:35.530Z"
   },
   {
    "duration": 9,
    "start_time": "2022-04-16T15:42:35.560Z"
   },
   {
    "duration": 12,
    "start_time": "2022-04-16T15:42:35.571Z"
   },
   {
    "duration": 39,
    "start_time": "2022-04-16T15:42:35.585Z"
   },
   {
    "duration": 5,
    "start_time": "2022-04-16T15:42:35.627Z"
   },
   {
    "duration": 24,
    "start_time": "2022-04-16T15:42:35.634Z"
   },
   {
    "duration": 8,
    "start_time": "2022-04-16T15:42:35.660Z"
   },
   {
    "duration": 17,
    "start_time": "2022-04-16T15:42:35.670Z"
   },
   {
    "duration": 10,
    "start_time": "2022-04-16T15:42:35.690Z"
   },
   {
    "duration": 42,
    "start_time": "2022-04-16T15:42:35.726Z"
   },
   {
    "duration": 1713,
    "start_time": "2022-04-16T15:42:35.771Z"
   },
   {
    "duration": 41,
    "start_time": "2022-04-16T15:42:37.487Z"
   },
   {
    "duration": 28,
    "start_time": "2022-04-16T15:42:37.531Z"
   },
   {
    "duration": 28,
    "start_time": "2022-04-16T15:42:37.563Z"
   },
   {
    "duration": 29,
    "start_time": "2022-04-16T15:42:37.625Z"
   },
   {
    "duration": 28,
    "start_time": "2022-04-16T15:42:37.657Z"
   },
   {
    "duration": 58,
    "start_time": "2022-04-16T15:42:37.687Z"
   },
   {
    "duration": 235,
    "start_time": "2022-04-16T15:42:37.747Z"
   },
   {
    "duration": 420,
    "start_time": "2022-04-16T15:42:37.984Z"
   },
   {
    "duration": 305,
    "start_time": "2022-04-16T15:42:38.406Z"
   },
   {
    "duration": 33,
    "start_time": "2022-04-16T15:42:38.713Z"
   },
   {
    "duration": 456,
    "start_time": "2022-04-16T15:42:38.748Z"
   },
   {
    "duration": 6,
    "start_time": "2022-04-16T15:42:39.206Z"
   },
   {
    "duration": 361,
    "start_time": "2022-04-16T15:42:39.224Z"
   },
   {
    "duration": 14,
    "start_time": "2022-04-16T15:42:39.588Z"
   },
   {
    "duration": 253,
    "start_time": "2022-04-16T15:42:39.605Z"
   },
   {
    "duration": 8,
    "start_time": "2022-04-16T15:42:39.861Z"
   },
   {
    "duration": 262,
    "start_time": "2022-04-16T15:42:39.872Z"
   },
   {
    "duration": 9,
    "start_time": "2022-04-16T15:42:40.137Z"
   },
   {
    "duration": 27,
    "start_time": "2022-04-16T15:42:40.148Z"
   },
   {
    "duration": 13,
    "start_time": "2022-04-16T15:42:40.177Z"
   },
   {
    "duration": 454,
    "start_time": "2022-04-16T15:42:40.192Z"
   },
   {
    "duration": 429,
    "start_time": "2022-04-16T15:42:40.648Z"
   },
   {
    "duration": 9,
    "start_time": "2022-04-16T15:42:41.079Z"
   },
   {
    "duration": 426,
    "start_time": "2022-04-16T15:42:41.090Z"
   },
   {
    "duration": 424,
    "start_time": "2022-04-16T15:42:41.518Z"
   },
   {
    "duration": 9,
    "start_time": "2022-04-16T15:42:41.944Z"
   },
   {
    "duration": 467,
    "start_time": "2022-04-16T15:42:41.955Z"
   },
   {
    "duration": 508,
    "start_time": "2022-04-16T15:42:42.425Z"
   },
   {
    "duration": 8,
    "start_time": "2022-04-16T15:42:42.936Z"
   },
   {
    "duration": 465,
    "start_time": "2022-04-16T15:42:42.946Z"
   },
   {
    "duration": 433,
    "start_time": "2022-04-16T15:42:43.413Z"
   },
   {
    "duration": 9,
    "start_time": "2022-04-16T15:42:43.848Z"
   },
   {
    "duration": 437,
    "start_time": "2022-04-16T15:42:43.859Z"
   },
   {
    "duration": 438,
    "start_time": "2022-04-16T15:42:44.298Z"
   },
   {
    "duration": 36,
    "start_time": "2022-04-16T15:42:44.738Z"
   },
   {
    "duration": 316,
    "start_time": "2022-04-16T15:42:44.777Z"
   },
   {
    "duration": 487,
    "start_time": "2022-04-16T15:42:45.095Z"
   },
   {
    "duration": 53,
    "start_time": "2022-04-16T15:42:45.584Z"
   },
   {
    "duration": 17,
    "start_time": "2022-04-16T15:42:45.639Z"
   },
   {
    "duration": 16,
    "start_time": "2022-04-16T15:42:45.659Z"
   },
   {
    "duration": 49,
    "start_time": "2022-04-16T15:42:45.677Z"
   },
   {
    "duration": 20,
    "start_time": "2022-04-16T15:42:45.728Z"
   },
   {
    "duration": 21,
    "start_time": "2022-04-16T15:42:45.750Z"
   },
   {
    "duration": 53,
    "start_time": "2022-04-16T15:42:45.773Z"
   },
   {
    "duration": 15,
    "start_time": "2022-04-16T15:42:45.828Z"
   },
   {
    "duration": 14,
    "start_time": "2022-04-16T15:42:45.845Z"
   },
   {
    "duration": 26,
    "start_time": "2022-04-16T15:42:45.861Z"
   },
   {
    "duration": 294,
    "start_time": "2022-04-16T15:42:45.925Z"
   },
   {
    "duration": 3,
    "start_time": "2022-04-16T15:42:46.222Z"
   },
   {
    "duration": 15,
    "start_time": "2022-04-16T15:42:46.228Z"
   },
   {
    "duration": 727,
    "start_time": "2022-04-16T15:42:46.245Z"
   },
   {
    "duration": 0,
    "start_time": "2022-04-16T15:42:46.976Z"
   },
   {
    "duration": 0,
    "start_time": "2022-04-16T15:42:46.978Z"
   },
   {
    "duration": 0,
    "start_time": "2022-04-16T15:42:46.980Z"
   },
   {
    "duration": 0,
    "start_time": "2022-04-16T15:42:46.982Z"
   },
   {
    "duration": 0,
    "start_time": "2022-04-16T15:42:46.984Z"
   },
   {
    "duration": 0,
    "start_time": "2022-04-16T15:42:46.986Z"
   },
   {
    "duration": 0,
    "start_time": "2022-04-16T15:42:46.988Z"
   },
   {
    "duration": 7,
    "start_time": "2022-04-16T15:57:10.855Z"
   },
   {
    "duration": 8,
    "start_time": "2022-04-16T15:57:18.187Z"
   },
   {
    "duration": 15,
    "start_time": "2022-04-16T16:02:23.688Z"
   },
   {
    "duration": 1975,
    "start_time": "2022-04-16T16:02:43.390Z"
   },
   {
    "duration": 5,
    "start_time": "2022-04-16T16:02:45.368Z"
   },
   {
    "duration": 2978,
    "start_time": "2022-04-16T16:02:45.376Z"
   },
   {
    "duration": 6,
    "start_time": "2022-04-16T16:02:48.358Z"
   },
   {
    "duration": 8,
    "start_time": "2022-04-16T16:02:48.367Z"
   },
   {
    "duration": 50,
    "start_time": "2022-04-16T16:02:48.378Z"
   },
   {
    "duration": 13,
    "start_time": "2022-04-16T16:02:48.431Z"
   },
   {
    "duration": 41,
    "start_time": "2022-04-16T16:02:48.446Z"
   },
   {
    "duration": 50,
    "start_time": "2022-04-16T16:02:48.489Z"
   },
   {
    "duration": 7,
    "start_time": "2022-04-16T16:02:48.543Z"
   },
   {
    "duration": 9,
    "start_time": "2022-04-16T16:02:48.553Z"
   },
   {
    "duration": 10,
    "start_time": "2022-04-16T16:02:48.564Z"
   },
   {
    "duration": 8,
    "start_time": "2022-04-16T16:02:48.577Z"
   },
   {
    "duration": 26,
    "start_time": "2022-04-16T16:02:48.626Z"
   },
   {
    "duration": 9,
    "start_time": "2022-04-16T16:02:48.655Z"
   },
   {
    "duration": 10,
    "start_time": "2022-04-16T16:02:48.666Z"
   },
   {
    "duration": 14,
    "start_time": "2022-04-16T16:02:48.679Z"
   },
   {
    "duration": 6,
    "start_time": "2022-04-16T16:02:48.725Z"
   },
   {
    "duration": 8,
    "start_time": "2022-04-16T16:02:48.734Z"
   },
   {
    "duration": 25,
    "start_time": "2022-04-16T16:02:48.745Z"
   },
   {
    "duration": 8,
    "start_time": "2022-04-16T16:02:48.773Z"
   },
   {
    "duration": 42,
    "start_time": "2022-04-16T16:02:48.783Z"
   },
   {
    "duration": 10,
    "start_time": "2022-04-16T16:02:48.827Z"
   },
   {
    "duration": 50,
    "start_time": "2022-04-16T16:02:48.839Z"
   },
   {
    "duration": 1788,
    "start_time": "2022-04-16T16:02:48.891Z"
   },
   {
    "duration": 45,
    "start_time": "2022-04-16T16:02:50.681Z"
   },
   {
    "duration": 34,
    "start_time": "2022-04-16T16:02:50.728Z"
   },
   {
    "duration": 56,
    "start_time": "2022-04-16T16:02:50.770Z"
   },
   {
    "duration": 30,
    "start_time": "2022-04-16T16:02:50.829Z"
   },
   {
    "duration": 30,
    "start_time": "2022-04-16T16:02:50.862Z"
   },
   {
    "duration": 32,
    "start_time": "2022-04-16T16:02:50.925Z"
   },
   {
    "duration": 237,
    "start_time": "2022-04-16T16:02:50.960Z"
   },
   {
    "duration": 427,
    "start_time": "2022-04-16T16:02:51.200Z"
   },
   {
    "duration": 313,
    "start_time": "2022-04-16T16:02:51.629Z"
   },
   {
    "duration": 27,
    "start_time": "2022-04-16T16:02:51.945Z"
   },
   {
    "duration": 464,
    "start_time": "2022-04-16T16:02:51.974Z"
   },
   {
    "duration": 7,
    "start_time": "2022-04-16T16:02:52.440Z"
   },
   {
    "duration": 259,
    "start_time": "2022-04-16T16:02:52.450Z"
   },
   {
    "duration": 24,
    "start_time": "2022-04-16T16:02:52.712Z"
   },
   {
    "duration": 254,
    "start_time": "2022-04-16T16:02:52.739Z"
   },
   {
    "duration": 8,
    "start_time": "2022-04-16T16:02:52.995Z"
   },
   {
    "duration": 246,
    "start_time": "2022-04-16T16:02:53.024Z"
   },
   {
    "duration": 8,
    "start_time": "2022-04-16T16:02:53.273Z"
   },
   {
    "duration": 23,
    "start_time": "2022-04-16T16:02:53.284Z"
   },
   {
    "duration": 9,
    "start_time": "2022-04-16T16:02:53.324Z"
   },
   {
    "duration": 456,
    "start_time": "2022-04-16T16:02:53.336Z"
   },
   {
    "duration": 437,
    "start_time": "2022-04-16T16:02:53.794Z"
   },
   {
    "duration": 9,
    "start_time": "2022-04-16T16:02:54.233Z"
   },
   {
    "duration": 417,
    "start_time": "2022-04-16T16:02:54.244Z"
   },
   {
    "duration": 512,
    "start_time": "2022-04-16T16:02:54.664Z"
   },
   {
    "duration": 9,
    "start_time": "2022-04-16T16:02:55.178Z"
   },
   {
    "duration": 432,
    "start_time": "2022-04-16T16:02:55.189Z"
   },
   {
    "duration": 609,
    "start_time": "2022-04-16T16:02:55.623Z"
   },
   {
    "duration": 8,
    "start_time": "2022-04-16T16:02:56.234Z"
   },
   {
    "duration": 450,
    "start_time": "2022-04-16T16:02:56.245Z"
   },
   {
    "duration": 522,
    "start_time": "2022-04-16T16:02:56.697Z"
   },
   {
    "duration": 9,
    "start_time": "2022-04-16T16:02:57.225Z"
   },
   {
    "duration": 428,
    "start_time": "2022-04-16T16:02:57.237Z"
   },
   {
    "duration": 430,
    "start_time": "2022-04-16T16:02:57.668Z"
   },
   {
    "duration": 45,
    "start_time": "2022-04-16T16:02:58.100Z"
   },
   {
    "duration": 402,
    "start_time": "2022-04-16T16:02:58.147Z"
   },
   {
    "duration": 475,
    "start_time": "2022-04-16T16:02:58.551Z"
   },
   {
    "duration": 40,
    "start_time": "2022-04-16T16:02:59.029Z"
   },
   {
    "duration": 18,
    "start_time": "2022-04-16T16:02:59.071Z"
   },
   {
    "duration": 44,
    "start_time": "2022-04-16T16:02:59.091Z"
   },
   {
    "duration": 26,
    "start_time": "2022-04-16T16:02:59.138Z"
   },
   {
    "duration": 20,
    "start_time": "2022-04-16T16:02:59.166Z"
   },
   {
    "duration": 58,
    "start_time": "2022-04-16T16:02:59.188Z"
   },
   {
    "duration": 32,
    "start_time": "2022-04-16T16:02:59.249Z"
   },
   {
    "duration": 13,
    "start_time": "2022-04-16T16:02:59.284Z"
   },
   {
    "duration": 32,
    "start_time": "2022-04-16T16:02:59.300Z"
   },
   {
    "duration": 34,
    "start_time": "2022-04-16T16:02:59.334Z"
   },
   {
    "duration": 318,
    "start_time": "2022-04-16T16:02:59.370Z"
   },
   {
    "duration": 4,
    "start_time": "2022-04-16T16:02:59.690Z"
   },
   {
    "duration": 33,
    "start_time": "2022-04-16T16:02:59.696Z"
   },
   {
    "duration": 631,
    "start_time": "2022-04-16T16:02:59.732Z"
   },
   {
    "duration": 0,
    "start_time": "2022-04-16T16:03:00.366Z"
   },
   {
    "duration": 0,
    "start_time": "2022-04-16T16:03:00.368Z"
   },
   {
    "duration": 0,
    "start_time": "2022-04-16T16:03:00.369Z"
   },
   {
    "duration": 0,
    "start_time": "2022-04-16T16:03:00.371Z"
   },
   {
    "duration": 0,
    "start_time": "2022-04-16T16:03:00.373Z"
   },
   {
    "duration": 0,
    "start_time": "2022-04-16T16:03:00.374Z"
   },
   {
    "duration": 0,
    "start_time": "2022-04-16T16:03:00.376Z"
   },
   {
    "duration": 1847,
    "start_time": "2022-04-16T16:11:45.857Z"
   },
   {
    "duration": 1858,
    "start_time": "2022-04-16T16:12:22.794Z"
   },
   {
    "duration": 1640,
    "start_time": "2022-04-16T16:13:40.992Z"
   },
   {
    "duration": 1813,
    "start_time": "2022-04-16T16:16:21.327Z"
   },
   {
    "duration": 13,
    "start_time": "2022-04-16T16:16:35.077Z"
   },
   {
    "duration": 1734,
    "start_time": "2022-04-16T16:16:40.073Z"
   },
   {
    "duration": 45,
    "start_time": "2022-04-16T16:17:43.077Z"
   },
   {
    "duration": 563,
    "start_time": "2022-04-16T16:17:51.851Z"
   },
   {
    "duration": 64,
    "start_time": "2022-04-16T16:18:24.004Z"
   },
   {
    "duration": 300,
    "start_time": "2022-04-16T16:20:03.833Z"
   },
   {
    "duration": 920,
    "start_time": "2022-04-16T16:20:52.284Z"
   },
   {
    "duration": 292,
    "start_time": "2022-04-16T16:21:01.912Z"
   },
   {
    "duration": 69,
    "start_time": "2022-04-16T16:25:41.805Z"
   },
   {
    "duration": 66,
    "start_time": "2022-04-16T16:25:49.735Z"
   },
   {
    "duration": 66,
    "start_time": "2022-04-16T16:25:56.056Z"
   },
   {
    "duration": 1759,
    "start_time": "2022-04-16T16:26:06.415Z"
   },
   {
    "duration": 1755,
    "start_time": "2022-04-16T16:27:05.765Z"
   },
   {
    "duration": 67,
    "start_time": "2022-04-16T16:29:15.011Z"
   },
   {
    "duration": 279,
    "start_time": "2022-04-16T16:29:42.745Z"
   },
   {
    "duration": 1888,
    "start_time": "2022-04-16T16:30:17.159Z"
   },
   {
    "duration": 30,
    "start_time": "2022-04-16T16:37:22.370Z"
   },
   {
    "duration": 30,
    "start_time": "2022-04-16T16:38:18.877Z"
   },
   {
    "duration": 26,
    "start_time": "2022-04-16T16:38:23.972Z"
   },
   {
    "duration": 430,
    "start_time": "2022-04-16T16:38:28.805Z"
   },
   {
    "duration": 5,
    "start_time": "2022-04-16T16:45:20.894Z"
   },
   {
    "duration": 368,
    "start_time": "2022-04-16T16:45:28.053Z"
   },
   {
    "duration": 143,
    "start_time": "2022-04-16T16:56:02.562Z"
   },
   {
    "duration": 124,
    "start_time": "2022-04-16T16:56:16.040Z"
   },
   {
    "duration": 135,
    "start_time": "2022-04-16T16:56:43.709Z"
   },
   {
    "duration": 308,
    "start_time": "2022-04-16T17:06:58.856Z"
   },
   {
    "duration": 346,
    "start_time": "2022-04-16T17:08:12.035Z"
   },
   {
    "duration": 356,
    "start_time": "2022-04-16T17:08:20.529Z"
   },
   {
    "duration": 324,
    "start_time": "2022-04-16T17:08:33.154Z"
   },
   {
    "duration": 318,
    "start_time": "2022-04-16T17:08:47.485Z"
   },
   {
    "duration": 288,
    "start_time": "2022-04-16T17:08:59.188Z"
   },
   {
    "duration": 13,
    "start_time": "2022-04-16T17:15:59.598Z"
   },
   {
    "duration": 18,
    "start_time": "2022-04-16T17:16:06.611Z"
   },
   {
    "duration": 33,
    "start_time": "2022-04-16T17:16:12.739Z"
   },
   {
    "duration": 6,
    "start_time": "2022-04-16T17:16:38.974Z"
   },
   {
    "duration": 39,
    "start_time": "2022-04-16T17:16:42.688Z"
   },
   {
    "duration": 282,
    "start_time": "2022-04-16T17:17:03.151Z"
   },
   {
    "duration": 286,
    "start_time": "2022-04-16T17:26:18.398Z"
   },
   {
    "duration": 23,
    "start_time": "2022-04-16T17:26:53.307Z"
   },
   {
    "duration": 53,
    "start_time": "2022-04-16T17:27:02.449Z"
   },
   {
    "duration": 30,
    "start_time": "2022-04-16T17:39:30.250Z"
   },
   {
    "duration": 205,
    "start_time": "2022-04-16T17:39:42.425Z"
   },
   {
    "duration": 24,
    "start_time": "2022-04-16T17:43:36.899Z"
   },
   {
    "duration": 44,
    "start_time": "2022-04-16T17:43:54.308Z"
   },
   {
    "duration": 18,
    "start_time": "2022-04-16T17:43:55.656Z"
   },
   {
    "duration": 13,
    "start_time": "2022-04-16T17:46:09.248Z"
   },
   {
    "duration": 341,
    "start_time": "2022-04-16T17:46:19.158Z"
   },
   {
    "duration": 12,
    "start_time": "2022-04-16T17:46:54.949Z"
   },
   {
    "duration": 7,
    "start_time": "2022-04-16T17:47:01.208Z"
   },
   {
    "duration": 128,
    "start_time": "2022-04-16T17:47:01.946Z"
   },
   {
    "duration": 145,
    "start_time": "2022-04-16T17:47:45.637Z"
   },
   {
    "duration": 7,
    "start_time": "2022-04-16T17:48:56.589Z"
   },
   {
    "duration": 135,
    "start_time": "2022-04-16T17:49:06.310Z"
   },
   {
    "duration": 6,
    "start_time": "2022-04-16T17:49:15.832Z"
   },
   {
    "duration": 16,
    "start_time": "2022-04-16T17:49:18.942Z"
   },
   {
    "duration": 16,
    "start_time": "2022-04-16T17:49:23.804Z"
   },
   {
    "duration": 17,
    "start_time": "2022-04-16T17:49:35.592Z"
   },
   {
    "duration": 19,
    "start_time": "2022-04-16T17:49:51.579Z"
   },
   {
    "duration": 2097,
    "start_time": "2022-04-16T17:50:18.689Z"
   },
   {
    "duration": 2048,
    "start_time": "2022-04-16T17:50:22.368Z"
   },
   {
    "duration": 16,
    "start_time": "2022-04-16T17:51:33.161Z"
   },
   {
    "duration": 5,
    "start_time": "2022-04-16T17:51:42.539Z"
   },
   {
    "duration": 136,
    "start_time": "2022-04-16T17:51:52.808Z"
   },
   {
    "duration": 26,
    "start_time": "2022-04-16T17:52:47.338Z"
   },
   {
    "duration": 17,
    "start_time": "2022-04-16T17:52:56.612Z"
   },
   {
    "duration": 7,
    "start_time": "2022-04-16T17:53:52.587Z"
   },
   {
    "duration": 129,
    "start_time": "2022-04-16T17:55:20.495Z"
   },
   {
    "duration": 155,
    "start_time": "2022-04-16T17:56:27.688Z"
   },
   {
    "duration": 166,
    "start_time": "2022-04-16T17:57:03.456Z"
   },
   {
    "duration": 177,
    "start_time": "2022-04-16T17:57:21.178Z"
   },
   {
    "duration": 181,
    "start_time": "2022-04-16T17:57:25.625Z"
   },
   {
    "duration": 7,
    "start_time": "2022-04-16T17:57:50.086Z"
   },
   {
    "duration": 19,
    "start_time": "2022-04-16T17:58:02.873Z"
   },
   {
    "duration": 20,
    "start_time": "2022-04-16T17:58:19.785Z"
   },
   {
    "duration": 175,
    "start_time": "2022-04-16T17:59:34.289Z"
   },
   {
    "duration": 183,
    "start_time": "2022-04-16T18:00:00.260Z"
   },
   {
    "duration": 326,
    "start_time": "2022-04-16T18:00:22.038Z"
   },
   {
    "duration": 189,
    "start_time": "2022-04-16T18:00:34.422Z"
   },
   {
    "duration": 172,
    "start_time": "2022-04-16T18:01:17.946Z"
   },
   {
    "duration": 21,
    "start_time": "2022-04-16T18:01:50.258Z"
   },
   {
    "duration": 165,
    "start_time": "2022-04-16T18:02:35.388Z"
   },
   {
    "duration": 192,
    "start_time": "2022-04-16T18:04:51.926Z"
   },
   {
    "duration": 20,
    "start_time": "2022-04-16T18:04:57.679Z"
   },
   {
    "duration": 2191,
    "start_time": "2022-04-16T18:04:58.368Z"
   },
   {
    "duration": 29,
    "start_time": "2022-04-16T18:05:15.766Z"
   },
   {
    "duration": 228,
    "start_time": "2022-04-16T18:05:22.287Z"
   },
   {
    "duration": 169,
    "start_time": "2022-04-16T18:05:38.528Z"
   },
   {
    "duration": 170,
    "start_time": "2022-04-16T18:05:54.665Z"
   },
   {
    "duration": 5,
    "start_time": "2022-04-16T18:06:13.978Z"
   },
   {
    "duration": 168,
    "start_time": "2022-04-16T18:06:40.386Z"
   },
   {
    "duration": 5,
    "start_time": "2022-04-16T18:06:50.088Z"
   },
   {
    "duration": 15,
    "start_time": "2022-04-16T18:06:54.690Z"
   },
   {
    "duration": 171,
    "start_time": "2022-04-16T18:07:13.197Z"
   },
   {
    "duration": 170,
    "start_time": "2022-04-16T18:07:18.138Z"
   },
   {
    "duration": 15,
    "start_time": "2022-04-16T18:08:02.904Z"
   },
   {
    "duration": 175,
    "start_time": "2022-04-16T18:10:55.661Z"
   },
   {
    "duration": 28,
    "start_time": "2022-04-16T18:14:20.210Z"
   },
   {
    "duration": 300,
    "start_time": "2022-04-16T18:14:21.170Z"
   },
   {
    "duration": 306,
    "start_time": "2022-04-16T18:15:11.698Z"
   },
   {
    "duration": 449,
    "start_time": "2022-04-16T18:15:19.544Z"
   },
   {
    "duration": 226,
    "start_time": "2022-04-16T18:15:36.090Z"
   },
   {
    "duration": 304,
    "start_time": "2022-04-16T18:15:44.153Z"
   },
   {
    "duration": 301,
    "start_time": "2022-04-16T18:15:54.102Z"
   },
   {
    "duration": 311,
    "start_time": "2022-04-16T18:16:04.364Z"
   },
   {
    "duration": 297,
    "start_time": "2022-04-16T18:16:12.853Z"
   },
   {
    "duration": 6,
    "start_time": "2022-04-16T18:18:25.331Z"
   },
   {
    "duration": 1588,
    "start_time": "2022-04-16T18:18:46.171Z"
   },
   {
    "duration": 4,
    "start_time": "2022-04-16T18:18:47.761Z"
   },
   {
    "duration": 2191,
    "start_time": "2022-04-16T18:18:47.767Z"
   },
   {
    "duration": 6,
    "start_time": "2022-04-16T18:18:49.961Z"
   },
   {
    "duration": 8,
    "start_time": "2022-04-16T18:18:49.969Z"
   },
   {
    "duration": 46,
    "start_time": "2022-04-16T18:18:49.979Z"
   },
   {
    "duration": 13,
    "start_time": "2022-04-16T18:18:50.028Z"
   },
   {
    "duration": 53,
    "start_time": "2022-04-16T18:18:50.043Z"
   },
   {
    "duration": 39,
    "start_time": "2022-04-16T18:18:50.098Z"
   },
   {
    "duration": 7,
    "start_time": "2022-04-16T18:18:50.141Z"
   },
   {
    "duration": 10,
    "start_time": "2022-04-16T18:18:50.150Z"
   },
   {
    "duration": 13,
    "start_time": "2022-04-16T18:18:50.163Z"
   },
   {
    "duration": 10,
    "start_time": "2022-04-16T18:18:50.178Z"
   },
   {
    "duration": 55,
    "start_time": "2022-04-16T18:18:50.191Z"
   },
   {
    "duration": 11,
    "start_time": "2022-04-16T18:18:50.248Z"
   },
   {
    "duration": 13,
    "start_time": "2022-04-16T18:18:50.261Z"
   },
   {
    "duration": 17,
    "start_time": "2022-04-16T18:18:50.276Z"
   },
   {
    "duration": 31,
    "start_time": "2022-04-16T18:18:50.295Z"
   },
   {
    "duration": 6,
    "start_time": "2022-04-16T18:18:50.328Z"
   },
   {
    "duration": 31,
    "start_time": "2022-04-16T18:18:50.336Z"
   },
   {
    "duration": 9,
    "start_time": "2022-04-16T18:18:50.369Z"
   },
   {
    "duration": 14,
    "start_time": "2022-04-16T18:18:50.380Z"
   },
   {
    "duration": 36,
    "start_time": "2022-04-16T18:18:50.396Z"
   },
   {
    "duration": 69,
    "start_time": "2022-04-16T18:18:50.434Z"
   },
   {
    "duration": 415,
    "start_time": "2022-04-16T18:18:50.524Z"
   },
   {
    "duration": 1655,
    "start_time": "2022-04-16T18:18:50.941Z"
   },
   {
    "duration": 133,
    "start_time": "2022-04-16T18:18:52.599Z"
   },
   {
    "duration": 29,
    "start_time": "2022-04-16T18:18:52.739Z"
   },
   {
    "duration": 60,
    "start_time": "2022-04-16T18:18:52.770Z"
   },
   {
    "duration": 32,
    "start_time": "2022-04-16T18:18:52.833Z"
   },
   {
    "duration": 60,
    "start_time": "2022-04-16T18:18:52.868Z"
   },
   {
    "duration": 32,
    "start_time": "2022-04-16T18:18:52.931Z"
   },
   {
    "duration": 246,
    "start_time": "2022-04-16T18:18:52.966Z"
   },
   {
    "duration": 340,
    "start_time": "2022-04-16T18:18:53.214Z"
   },
   {
    "duration": 311,
    "start_time": "2022-04-16T18:18:53.557Z"
   },
   {
    "duration": 27,
    "start_time": "2022-04-16T18:18:53.871Z"
   },
   {
    "duration": 17,
    "start_time": "2022-04-16T18:18:53.908Z"
   },
   {
    "duration": 177,
    "start_time": "2022-04-16T18:18:53.928Z"
   },
   {
    "duration": 0,
    "start_time": "2022-04-16T18:18:54.108Z"
   },
   {
    "duration": 0,
    "start_time": "2022-04-16T18:18:54.110Z"
   },
   {
    "duration": 0,
    "start_time": "2022-04-16T18:18:54.112Z"
   },
   {
    "duration": 0,
    "start_time": "2022-04-16T18:18:54.113Z"
   },
   {
    "duration": 0,
    "start_time": "2022-04-16T18:18:54.128Z"
   },
   {
    "duration": 1,
    "start_time": "2022-04-16T18:18:54.130Z"
   },
   {
    "duration": 0,
    "start_time": "2022-04-16T18:18:54.133Z"
   },
   {
    "duration": 0,
    "start_time": "2022-04-16T18:18:54.135Z"
   },
   {
    "duration": 0,
    "start_time": "2022-04-16T18:18:54.137Z"
   },
   {
    "duration": 0,
    "start_time": "2022-04-16T18:18:54.140Z"
   },
   {
    "duration": 0,
    "start_time": "2022-04-16T18:18:54.142Z"
   },
   {
    "duration": 0,
    "start_time": "2022-04-16T18:18:54.144Z"
   },
   {
    "duration": 0,
    "start_time": "2022-04-16T18:18:54.146Z"
   },
   {
    "duration": 0,
    "start_time": "2022-04-16T18:18:54.148Z"
   },
   {
    "duration": 0,
    "start_time": "2022-04-16T18:18:54.151Z"
   },
   {
    "duration": 0,
    "start_time": "2022-04-16T18:18:54.153Z"
   },
   {
    "duration": 0,
    "start_time": "2022-04-16T18:18:54.155Z"
   },
   {
    "duration": 0,
    "start_time": "2022-04-16T18:18:54.157Z"
   },
   {
    "duration": 0,
    "start_time": "2022-04-16T18:18:54.159Z"
   },
   {
    "duration": 0,
    "start_time": "2022-04-16T18:18:54.161Z"
   },
   {
    "duration": 0,
    "start_time": "2022-04-16T18:18:54.163Z"
   },
   {
    "duration": 0,
    "start_time": "2022-04-16T18:18:54.225Z"
   },
   {
    "duration": 0,
    "start_time": "2022-04-16T18:18:54.227Z"
   },
   {
    "duration": 0,
    "start_time": "2022-04-16T18:18:54.229Z"
   },
   {
    "duration": 0,
    "start_time": "2022-04-16T18:18:54.231Z"
   },
   {
    "duration": 0,
    "start_time": "2022-04-16T18:18:54.234Z"
   },
   {
    "duration": 0,
    "start_time": "2022-04-16T18:18:54.236Z"
   },
   {
    "duration": 0,
    "start_time": "2022-04-16T18:18:54.238Z"
   },
   {
    "duration": 0,
    "start_time": "2022-04-16T18:18:54.240Z"
   },
   {
    "duration": 0,
    "start_time": "2022-04-16T18:18:54.242Z"
   },
   {
    "duration": 0,
    "start_time": "2022-04-16T18:18:54.244Z"
   },
   {
    "duration": 0,
    "start_time": "2022-04-16T18:18:54.246Z"
   },
   {
    "duration": 0,
    "start_time": "2022-04-16T18:18:54.248Z"
   },
   {
    "duration": 0,
    "start_time": "2022-04-16T18:18:54.251Z"
   },
   {
    "duration": 0,
    "start_time": "2022-04-16T18:18:54.253Z"
   },
   {
    "duration": 0,
    "start_time": "2022-04-16T18:18:54.255Z"
   },
   {
    "duration": 0,
    "start_time": "2022-04-16T18:18:54.257Z"
   },
   {
    "duration": 0,
    "start_time": "2022-04-16T18:18:54.259Z"
   },
   {
    "duration": 0,
    "start_time": "2022-04-16T18:18:54.261Z"
   },
   {
    "duration": 1,
    "start_time": "2022-04-16T18:18:54.324Z"
   },
   {
    "duration": 0,
    "start_time": "2022-04-16T18:18:54.326Z"
   },
   {
    "duration": 0,
    "start_time": "2022-04-16T18:18:54.329Z"
   },
   {
    "duration": 0,
    "start_time": "2022-04-16T18:18:54.331Z"
   },
   {
    "duration": 0,
    "start_time": "2022-04-16T18:18:54.333Z"
   },
   {
    "duration": 0,
    "start_time": "2022-04-16T18:18:54.336Z"
   },
   {
    "duration": 0,
    "start_time": "2022-04-16T18:18:54.338Z"
   },
   {
    "duration": 0,
    "start_time": "2022-04-16T18:18:54.340Z"
   },
   {
    "duration": 0,
    "start_time": "2022-04-16T18:18:54.343Z"
   },
   {
    "duration": 0,
    "start_time": "2022-04-16T18:18:54.344Z"
   },
   {
    "duration": 0,
    "start_time": "2022-04-16T18:18:54.346Z"
   },
   {
    "duration": 0,
    "start_time": "2022-04-16T18:18:54.349Z"
   },
   {
    "duration": 0,
    "start_time": "2022-04-16T18:18:54.351Z"
   },
   {
    "duration": 0,
    "start_time": "2022-04-16T18:18:54.353Z"
   },
   {
    "duration": 0,
    "start_time": "2022-04-16T18:18:54.356Z"
   },
   {
    "duration": 19,
    "start_time": "2022-04-16T18:20:18.704Z"
   },
   {
    "duration": 12,
    "start_time": "2022-04-16T18:20:20.834Z"
   },
   {
    "duration": 436,
    "start_time": "2022-04-16T18:21:06.534Z"
   },
   {
    "duration": 6,
    "start_time": "2022-04-16T18:21:16.740Z"
   },
   {
    "duration": 242,
    "start_time": "2022-04-16T18:21:18.585Z"
   },
   {
    "duration": 225,
    "start_time": "2022-04-16T18:21:24.285Z"
   },
   {
    "duration": 237,
    "start_time": "2022-04-16T18:21:33.646Z"
   },
   {
    "duration": 7,
    "start_time": "2022-04-16T18:21:35.475Z"
   },
   {
    "duration": 227,
    "start_time": "2022-04-16T18:21:36.035Z"
   },
   {
    "duration": 7,
    "start_time": "2022-04-16T18:21:36.419Z"
   },
   {
    "duration": 7,
    "start_time": "2022-04-16T18:21:37.619Z"
   },
   {
    "duration": 9,
    "start_time": "2022-04-16T18:21:38.205Z"
   },
   {
    "duration": 428,
    "start_time": "2022-04-16T18:21:38.687Z"
   },
   {
    "duration": 411,
    "start_time": "2022-04-16T18:21:39.291Z"
   },
   {
    "duration": 9,
    "start_time": "2022-04-16T18:21:39.931Z"
   },
   {
    "duration": 497,
    "start_time": "2022-04-16T18:21:40.346Z"
   },
   {
    "duration": 405,
    "start_time": "2022-04-16T18:21:40.987Z"
   },
   {
    "duration": 10,
    "start_time": "2022-04-16T18:21:41.636Z"
   },
   {
    "duration": 423,
    "start_time": "2022-04-16T18:21:42.135Z"
   },
   {
    "duration": 407,
    "start_time": "2022-04-16T18:21:42.820Z"
   },
   {
    "duration": 9,
    "start_time": "2022-04-16T18:21:43.541Z"
   },
   {
    "duration": 426,
    "start_time": "2022-04-16T18:21:44.011Z"
   },
   {
    "duration": 412,
    "start_time": "2022-04-16T18:21:44.697Z"
   },
   {
    "duration": 9,
    "start_time": "2022-04-16T18:21:45.460Z"
   },
   {
    "duration": 514,
    "start_time": "2022-04-16T18:21:45.894Z"
   },
   {
    "duration": 423,
    "start_time": "2022-04-16T18:21:46.579Z"
   },
   {
    "duration": 38,
    "start_time": "2022-04-16T18:21:47.245Z"
   },
   {
    "duration": 453,
    "start_time": "2022-04-16T18:21:48.172Z"
   },
   {
    "duration": 785,
    "start_time": "2022-04-16T18:21:48.869Z"
   },
   {
    "duration": 148,
    "start_time": "2022-04-16T18:21:50.753Z"
   },
   {
    "duration": 18,
    "start_time": "2022-04-16T18:21:51.458Z"
   },
   {
    "duration": 168,
    "start_time": "2022-04-16T18:21:51.904Z"
   },
   {
    "duration": 16,
    "start_time": "2022-04-16T18:21:52.121Z"
   },
   {
    "duration": 20,
    "start_time": "2022-04-16T18:21:52.357Z"
   },
   {
    "duration": 163,
    "start_time": "2022-04-16T18:21:53.381Z"
   },
   {
    "duration": 18,
    "start_time": "2022-04-16T18:21:53.932Z"
   },
   {
    "duration": 22,
    "start_time": "2022-04-16T18:21:54.204Z"
   },
   {
    "duration": 171,
    "start_time": "2022-04-16T18:21:54.424Z"
   },
   {
    "duration": 28,
    "start_time": "2022-04-16T18:21:55.291Z"
   },
   {
    "duration": 175,
    "start_time": "2022-04-16T18:21:55.514Z"
   },
   {
    "duration": 15,
    "start_time": "2022-04-16T18:21:55.759Z"
   },
   {
    "duration": 170,
    "start_time": "2022-04-16T18:21:56.012Z"
   },
   {
    "duration": 15,
    "start_time": "2022-04-16T18:21:56.251Z"
   },
   {
    "duration": 171,
    "start_time": "2022-04-16T18:21:56.491Z"
   },
   {
    "duration": 26,
    "start_time": "2022-04-16T18:21:57.515Z"
   },
   {
    "duration": 312,
    "start_time": "2022-04-16T18:21:57.816Z"
   },
   {
    "duration": 315,
    "start_time": "2022-04-16T18:27:20.525Z"
   },
   {
    "duration": 284,
    "start_time": "2022-04-16T18:27:33.211Z"
   },
   {
    "duration": 419,
    "start_time": "2022-04-16T18:27:38.764Z"
   },
   {
    "duration": 255,
    "start_time": "2022-04-16T18:27:45.861Z"
   },
   {
    "duration": 402,
    "start_time": "2022-04-16T18:28:20.941Z"
   },
   {
    "duration": 278,
    "start_time": "2022-04-16T18:39:56.698Z"
   },
   {
    "duration": 291,
    "start_time": "2022-04-16T18:40:03.843Z"
   },
   {
    "duration": 290,
    "start_time": "2022-04-16T18:40:09.003Z"
   },
   {
    "duration": 300,
    "start_time": "2022-04-16T18:40:13.320Z"
   },
   {
    "duration": 289,
    "start_time": "2022-04-16T18:40:18.396Z"
   },
   {
    "duration": 329,
    "start_time": "2022-04-16T18:40:21.921Z"
   },
   {
    "duration": 310,
    "start_time": "2022-04-16T18:40:32.906Z"
   },
   {
    "duration": 295,
    "start_time": "2022-04-16T18:40:42.059Z"
   },
   {
    "duration": 284,
    "start_time": "2022-04-16T18:40:49.238Z"
   },
   {
    "duration": 283,
    "start_time": "2022-04-16T18:40:54.904Z"
   },
   {
    "duration": 407,
    "start_time": "2022-04-16T18:40:58.860Z"
   },
   {
    "duration": 12,
    "start_time": "2022-04-16T18:52:54.074Z"
   },
   {
    "duration": 4,
    "start_time": "2022-04-16T18:53:01.294Z"
   },
   {
    "duration": 14,
    "start_time": "2022-04-16T18:53:02.404Z"
   },
   {
    "duration": 13,
    "start_time": "2022-04-16T18:53:30.594Z"
   },
   {
    "duration": 12,
    "start_time": "2022-04-16T18:53:37.129Z"
   },
   {
    "duration": 11,
    "start_time": "2022-04-16T18:53:39.513Z"
   },
   {
    "duration": 4,
    "start_time": "2022-04-16T18:54:42.196Z"
   },
   {
    "duration": 13,
    "start_time": "2022-04-16T18:54:43.380Z"
   },
   {
    "duration": 11,
    "start_time": "2022-04-16T18:54:44.850Z"
   },
   {
    "duration": 36,
    "start_time": "2022-04-16T18:55:06.327Z"
   },
   {
    "duration": 443,
    "start_time": "2022-04-16T18:55:22.730Z"
   },
   {
    "duration": 5,
    "start_time": "2022-04-16T18:55:41.033Z"
   },
   {
    "duration": 450,
    "start_time": "2022-04-16T18:55:45.992Z"
   },
   {
    "duration": 15,
    "start_time": "2022-04-16T18:55:54.233Z"
   },
   {
    "duration": 139,
    "start_time": "2022-04-16T19:01:59.640Z"
   },
   {
    "duration": 5,
    "start_time": "2022-04-16T19:02:09.467Z"
   },
   {
    "duration": 14,
    "start_time": "2022-04-16T19:02:12.750Z"
   },
   {
    "duration": 426,
    "start_time": "2022-04-16T19:02:17.969Z"
   },
   {
    "duration": 451,
    "start_time": "2022-04-16T19:02:25.811Z"
   },
   {
    "duration": 15,
    "start_time": "2022-04-16T19:02:31.891Z"
   },
   {
    "duration": 9,
    "start_time": "2022-04-16T19:02:49.427Z"
   },
   {
    "duration": 27,
    "start_time": "2022-04-16T19:07:54.553Z"
   },
   {
    "duration": 162,
    "start_time": "2022-04-16T19:09:05.264Z"
   },
   {
    "duration": 4,
    "start_time": "2022-04-16T19:11:03.272Z"
   },
   {
    "duration": 13,
    "start_time": "2022-04-16T19:11:43.888Z"
   },
   {
    "duration": 193,
    "start_time": "2022-04-16T19:11:52.608Z"
   },
   {
    "duration": 1705,
    "start_time": "2022-04-16T19:14:58.039Z"
   },
   {
    "duration": 3192,
    "start_time": "2022-04-16T19:17:19.761Z"
   },
   {
    "duration": 3243,
    "start_time": "2022-04-16T19:17:39.992Z"
   },
   {
    "duration": 3124,
    "start_time": "2022-04-16T19:17:52.633Z"
   },
   {
    "duration": 3789,
    "start_time": "2022-04-16T19:19:51.139Z"
   },
   {
    "duration": 6,
    "start_time": "2022-04-16T19:21:23.193Z"
   },
   {
    "duration": 3390,
    "start_time": "2022-04-16T19:21:39.994Z"
   },
   {
    "duration": 3161,
    "start_time": "2022-04-16T19:22:12.558Z"
   },
   {
    "duration": 3125,
    "start_time": "2022-04-16T19:22:54.659Z"
   },
   {
    "duration": 27,
    "start_time": "2022-04-16T19:24:19.426Z"
   },
   {
    "duration": 13,
    "start_time": "2022-04-16T19:24:23.200Z"
   },
   {
    "duration": 13,
    "start_time": "2022-04-16T19:24:45.079Z"
   },
   {
    "duration": 3529,
    "start_time": "2022-04-16T19:25:20.119Z"
   },
   {
    "duration": 3544,
    "start_time": "2022-04-16T19:25:39.556Z"
   },
   {
    "duration": 4,
    "start_time": "2022-04-16T19:29:14.179Z"
   },
   {
    "duration": 525,
    "start_time": "2022-04-16T19:29:17.669Z"
   },
   {
    "duration": 1581,
    "start_time": "2022-04-16T19:29:48.389Z"
   },
   {
    "duration": 4,
    "start_time": "2022-04-16T19:29:49.973Z"
   },
   {
    "duration": 2146,
    "start_time": "2022-04-16T19:29:49.979Z"
   },
   {
    "duration": 5,
    "start_time": "2022-04-16T19:29:52.128Z"
   },
   {
    "duration": 12,
    "start_time": "2022-04-16T19:29:52.135Z"
   },
   {
    "duration": 27,
    "start_time": "2022-04-16T19:29:52.149Z"
   },
   {
    "duration": 13,
    "start_time": "2022-04-16T19:29:52.178Z"
   },
   {
    "duration": 67,
    "start_time": "2022-04-16T19:29:52.193Z"
   },
   {
    "duration": 24,
    "start_time": "2022-04-16T19:29:52.263Z"
   },
   {
    "duration": 7,
    "start_time": "2022-04-16T19:29:52.291Z"
   },
   {
    "duration": 7,
    "start_time": "2022-04-16T19:29:52.326Z"
   },
   {
    "duration": 10,
    "start_time": "2022-04-16T19:29:52.335Z"
   },
   {
    "duration": 9,
    "start_time": "2022-04-16T19:29:52.348Z"
   },
   {
    "duration": 25,
    "start_time": "2022-04-16T19:29:52.359Z"
   },
   {
    "duration": 42,
    "start_time": "2022-04-16T19:29:52.386Z"
   },
   {
    "duration": 14,
    "start_time": "2022-04-16T19:29:52.431Z"
   },
   {
    "duration": 15,
    "start_time": "2022-04-16T19:29:52.448Z"
   },
   {
    "duration": 8,
    "start_time": "2022-04-16T19:29:52.465Z"
   },
   {
    "duration": 11,
    "start_time": "2022-04-16T19:29:52.475Z"
   },
   {
    "duration": 54,
    "start_time": "2022-04-16T19:29:52.488Z"
   },
   {
    "duration": 8,
    "start_time": "2022-04-16T19:29:52.544Z"
   },
   {
    "duration": 25,
    "start_time": "2022-04-16T19:29:52.554Z"
   },
   {
    "duration": 11,
    "start_time": "2022-04-16T19:29:52.581Z"
   },
   {
    "duration": 87,
    "start_time": "2022-04-16T19:29:52.594Z"
   },
   {
    "duration": 314,
    "start_time": "2022-04-16T19:29:52.683Z"
   },
   {
    "duration": 1677,
    "start_time": "2022-04-16T19:29:52.999Z"
   },
   {
    "duration": 142,
    "start_time": "2022-04-16T19:29:54.678Z"
   },
   {
    "duration": 28,
    "start_time": "2022-04-16T19:29:54.829Z"
   },
   {
    "duration": 30,
    "start_time": "2022-04-16T19:29:54.859Z"
   },
   {
    "duration": 57,
    "start_time": "2022-04-16T19:29:54.891Z"
   },
   {
    "duration": 30,
    "start_time": "2022-04-16T19:29:54.950Z"
   },
   {
    "duration": 60,
    "start_time": "2022-04-16T19:29:54.982Z"
   },
   {
    "duration": 228,
    "start_time": "2022-04-16T19:29:55.044Z"
   },
   {
    "duration": 344,
    "start_time": "2022-04-16T19:29:55.274Z"
   },
   {
    "duration": 320,
    "start_time": "2022-04-16T19:29:55.623Z"
   },
   {
    "duration": 28,
    "start_time": "2022-04-16T19:29:55.946Z"
   },
   {
    "duration": 4,
    "start_time": "2022-04-16T19:29:55.977Z"
   },
   {
    "duration": 483,
    "start_time": "2022-04-16T19:29:55.983Z"
   },
   {
    "duration": 7,
    "start_time": "2022-04-16T19:29:56.468Z"
   },
   {
    "duration": 271,
    "start_time": "2022-04-16T19:29:56.477Z"
   },
   {
    "duration": 18,
    "start_time": "2022-04-16T19:29:56.752Z"
   },
   {
    "duration": 262,
    "start_time": "2022-04-16T19:29:56.772Z"
   },
   {
    "duration": 8,
    "start_time": "2022-04-16T19:29:57.036Z"
   },
   {
    "duration": 256,
    "start_time": "2022-04-16T19:29:57.046Z"
   },
   {
    "duration": 7,
    "start_time": "2022-04-16T19:29:57.305Z"
   },
   {
    "duration": 8,
    "start_time": "2022-04-16T19:29:57.325Z"
   },
   {
    "duration": 11,
    "start_time": "2022-04-16T19:29:57.335Z"
   },
   {
    "duration": 471,
    "start_time": "2022-04-16T19:29:57.348Z"
   },
   {
    "duration": 432,
    "start_time": "2022-04-16T19:29:57.825Z"
   },
   {
    "duration": 10,
    "start_time": "2022-04-16T19:29:58.259Z"
   },
   {
    "duration": 420,
    "start_time": "2022-04-16T19:29:58.271Z"
   },
   {
    "duration": 416,
    "start_time": "2022-04-16T19:29:58.694Z"
   },
   {
    "duration": 18,
    "start_time": "2022-04-16T19:29:59.112Z"
   },
   {
    "duration": 534,
    "start_time": "2022-04-16T19:29:59.132Z"
   },
   {
    "duration": 410,
    "start_time": "2022-04-16T19:29:59.668Z"
   },
   {
    "duration": 9,
    "start_time": "2022-04-16T19:30:00.080Z"
   },
   {
    "duration": 456,
    "start_time": "2022-04-16T19:30:00.092Z"
   },
   {
    "duration": 449,
    "start_time": "2022-04-16T19:30:00.550Z"
   },
   {
    "duration": 9,
    "start_time": "2022-04-16T19:30:01.001Z"
   },
   {
    "duration": 430,
    "start_time": "2022-04-16T19:30:01.012Z"
   },
   {
    "duration": 434,
    "start_time": "2022-04-16T19:30:01.444Z"
   },
   {
    "duration": 44,
    "start_time": "2022-04-16T19:30:01.880Z"
   },
   {
    "duration": 167,
    "start_time": "2022-04-16T19:30:01.927Z"
   },
   {
    "duration": 3789,
    "start_time": "2022-04-16T19:30:02.096Z"
   },
   {
    "duration": 380,
    "start_time": "2022-04-16T19:30:05.887Z"
   },
   {
    "duration": 483,
    "start_time": "2022-04-16T19:30:06.270Z"
   },
   {
    "duration": 42,
    "start_time": "2022-04-16T19:30:06.755Z"
   },
   {
    "duration": 41,
    "start_time": "2022-04-16T19:30:06.799Z"
   },
   {
    "duration": 192,
    "start_time": "2022-04-16T19:30:06.843Z"
   },
   {
    "duration": 17,
    "start_time": "2022-04-16T19:30:07.038Z"
   },
   {
    "duration": 28,
    "start_time": "2022-04-16T19:30:07.058Z"
   },
   {
    "duration": 194,
    "start_time": "2022-04-16T19:30:07.088Z"
   },
   {
    "duration": 18,
    "start_time": "2022-04-16T19:30:07.284Z"
   },
   {
    "duration": 39,
    "start_time": "2022-04-16T19:30:07.304Z"
   },
   {
    "duration": 183,
    "start_time": "2022-04-16T19:30:07.346Z"
   },
   {
    "duration": 27,
    "start_time": "2022-04-16T19:30:07.532Z"
   },
   {
    "duration": 193,
    "start_time": "2022-04-16T19:30:07.561Z"
   },
   {
    "duration": 14,
    "start_time": "2022-04-16T19:30:07.757Z"
   },
   {
    "duration": 191,
    "start_time": "2022-04-16T19:30:07.773Z"
   },
   {
    "duration": 14,
    "start_time": "2022-04-16T19:30:07.966Z"
   },
   {
    "duration": 217,
    "start_time": "2022-04-16T19:30:07.982Z"
   },
   {
    "duration": 36,
    "start_time": "2022-04-16T19:30:08.207Z"
   },
   {
    "duration": 306,
    "start_time": "2022-04-16T19:30:08.245Z"
   },
   {
    "duration": 3,
    "start_time": "2022-04-16T19:30:08.554Z"
   },
   {
    "duration": 16,
    "start_time": "2022-04-16T19:30:08.559Z"
   },
   {
    "duration": 429,
    "start_time": "2022-04-16T19:30:08.576Z"
   },
   {
    "duration": 425,
    "start_time": "2022-04-16T19:30:09.008Z"
   },
   {
    "duration": 14,
    "start_time": "2022-04-16T19:30:09.436Z"
   },
   {
    "duration": 15,
    "start_time": "2022-04-16T19:30:09.452Z"
   },
   {
    "duration": 416,
    "start_time": "2022-04-16T19:30:09.469Z"
   },
   {
    "duration": 555,
    "start_time": "2022-04-16T19:30:09.887Z"
   },
   {
    "duration": 17,
    "start_time": "2022-04-16T19:30:10.445Z"
   },
   {
    "duration": 12,
    "start_time": "2022-04-16T19:30:10.464Z"
   }
  ],
  "kernelspec": {
   "display_name": "Python 3 (ipykernel)",
   "language": "python",
   "name": "python3"
  },
  "language_info": {
   "codemirror_mode": {
    "name": "ipython",
    "version": 3
   },
   "file_extension": ".py",
   "mimetype": "text/x-python",
   "name": "python",
   "nbconvert_exporter": "python",
   "pygments_lexer": "ipython3",
   "version": "3.9.7"
  },
  "toc": {
   "base_numbering": 1,
   "nav_menu": {},
   "number_sections": true,
   "sideBar": true,
   "skip_h1_title": true,
   "title_cell": "Table of Contents",
   "title_sidebar": "Contents",
   "toc_cell": false,
   "toc_position": {
    "height": "calc(100% - 180px)",
    "left": "10px",
    "top": "150px",
    "width": "212.594px"
   },
   "toc_section_display": true,
   "toc_window_display": true
  }
 },
 "nbformat": 4,
 "nbformat_minor": 5
}
